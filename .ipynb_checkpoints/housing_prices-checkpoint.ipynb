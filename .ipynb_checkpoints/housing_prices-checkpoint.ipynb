{
 "cells": [
  {
   "cell_type": "code",
   "execution_count": 1,
   "id": "d53c89db-d914-4874-8fb8-aaeb2da41f0b",
   "metadata": {},
   "outputs": [],
   "source": [
    "import pandas as pd\n",
    "import numpy as np\n",
    "from tqdm.notebook import tqdm as log_progress\n",
    "from ipywidgets import widgets # for buttons and dropdown menus\n",
    "from IPython.display import display, clear_output # for buttons and dropdown menus\n",
    "import seaborn as sns\n",
    "import matplotlib\n",
    "import matplotlib.pyplot as plt\n",
    "from scalecast import GridGenerator\n",
    "from scalecast.Forecaster import Forecaster\n",
    "from scalecast.Forecaster import _determine_best_by_"
   ]
  },
  {
   "cell_type": "code",
   "execution_count": 2,
   "id": "22483f62-afa6-44e0-b920-a0a6b02d153e",
   "metadata": {},
   "outputs": [],
   "source": [
    "models = ('knn','svr','elasticnet','mlp','lightgbm','xgboost','prophet','silverkite')\n",
    "sns.set(rc={'figure.figsize':(12,8)})"
   ]
  },
  {
   "cell_type": "code",
   "execution_count": 3,
   "id": "d1dd0084-b61a-4819-b949-2d0620a56bd3",
   "metadata": {},
   "outputs": [],
   "source": [
    "GridGenerator.get_example_grids()"
   ]
  },
  {
   "cell_type": "code",
   "execution_count": 4,
   "id": "1d32d6f7-93d3-4d3a-9587-80c6911577e4",
   "metadata": {},
   "outputs": [],
   "source": [
    "def find_integration(f):\n",
    "    \"\"\" uses augmented dickey fuller to guess that series is stationary at 0, 1, or 2 differences\n",
    "    \"\"\"\n",
    "    if f.adf_test():\n",
    "        return 0\n",
    "    f.diff()\n",
    "    if f.adf_test():\n",
    "        f.undiff()\n",
    "        return 1\n",
    "    f.undiff()\n",
    "    f.diff(2):\n",
    "        f.undiff()\n",
    "        return 2\n",
    "\n",
    "def results_vis(f_dict,plot_type='forecast'):\n",
    "    \"\"\" visualize the forecast results\n",
    "        leverages Jupyter widgets\n",
    "    \"\"\"\n",
    "    def display_user_selections(ts_selection,mo_selection,lv_selection,me_selection):\n",
    "        matplotlib.use('nbAgg')\n",
    "        %matplotlib inline\n",
    "        sns.set(rc={'figure.figsize':(16,8)})\n",
    "        selected_data = f_dict[ts_selection]\n",
    "        if plot_type == 'forecast':\n",
    "            print(ts_selection)\n",
    "            selected_data.plot(models=f'top_{mo_selection}',order_by=me_selection,level=lv_selection,\n",
    "                               print_attr=['TestSetRMSE','TestSetR2','LevelTestSetRMSE','TestSetMAPE','LevelTestSetR2','LevelTestSetMAPE','Scaler','HyperParams','Xvars','models','Integration'])\n",
    "        elif plot_type == 'test':\n",
    "            print(ts_selection)\n",
    "            selected_data.plot_test_set(models=f'top_{mo_selection}',order_by=me_selection,include_train=52,level=lv_selection)\n",
    "\n",
    "    def on_button_clicked(b):\n",
    "        mo_selection = mo_dd.value\n",
    "        ts_selection = ts_dd.value\n",
    "        lv_selection = lv_dd.value\n",
    "        me_selection = me_dd.value\n",
    "        with output:\n",
    "            clear_output()\n",
    "            display_user_selections(ts_selection,mo_selection,lv_selection,me_selection)\n",
    "    \n",
    "    all_models = models + ('weighted','avg')\n",
    "    ts_dd = widgets.Dropdown(options=f_dict.keys(), description = 'Time Series:')\n",
    "    mo_dd = widgets.Dropdown(options=range(1,len(all_models)+1), description = 'No. Models')\n",
    "    lv_dd = widgets.Dropdown(options=[True,False],description='View Level')\n",
    "    me_dd = widgets.Dropdown(options=sorted([e for e in _determine_best_by_ if e is not None]),description='Order By')\n",
    "\n",
    "    # never changes\n",
    "    button = widgets.Button(description=\"Select Time Series\")\n",
    "    output = widgets.Output()\n",
    "\n",
    "    display(ts_dd,mo_dd,lv_dd,me_dd)\n",
    "    display(button, output)\n",
    "    \n",
    "    button.on_click(on_button_clicked)"
   ]
  },
  {
   "cell_type": "code",
   "execution_count": 5,
   "id": "b76fe985-f759-47e6-9899-e7fd10c848e2",
   "metadata": {},
   "outputs": [],
   "source": [
    "df = pd.read_csv('Zip_zhvi_uc_sfrcondo_tier_0.33_0.67_sm_sa_mon.csv',dtype={'RegionName':str}).set_index('RegionName')"
   ]
  },
  {
   "cell_type": "code",
   "execution_count": 6,
   "id": "75f902ab-80ee-4c31-b1ec-3abd74c8c9a8",
   "metadata": {},
   "outputs": [
    {
     "data": {
      "text/html": [
       "<div>\n",
       "<style scoped>\n",
       "    .dataframe tbody tr th:only-of-type {\n",
       "        vertical-align: middle;\n",
       "    }\n",
       "\n",
       "    .dataframe tbody tr th {\n",
       "        vertical-align: top;\n",
       "    }\n",
       "\n",
       "    .dataframe thead th {\n",
       "        text-align: right;\n",
       "    }\n",
       "</style>\n",
       "<table border=\"1\" class=\"dataframe\">\n",
       "  <thead>\n",
       "    <tr style=\"text-align: right;\">\n",
       "      <th></th>\n",
       "      <th>RegionID</th>\n",
       "      <th>SizeRank</th>\n",
       "      <th>RegionType</th>\n",
       "      <th>StateName</th>\n",
       "      <th>State</th>\n",
       "      <th>City</th>\n",
       "      <th>Metro</th>\n",
       "      <th>CountyName</th>\n",
       "      <th>1996-01-31</th>\n",
       "      <th>1996-02-29</th>\n",
       "      <th>...</th>\n",
       "      <th>2020-08-31</th>\n",
       "      <th>2020-09-30</th>\n",
       "      <th>2020-10-31</th>\n",
       "      <th>2020-11-30</th>\n",
       "      <th>2020-12-31</th>\n",
       "      <th>2021-01-31</th>\n",
       "      <th>2021-02-28</th>\n",
       "      <th>2021-03-31</th>\n",
       "      <th>2021-04-30</th>\n",
       "      <th>2021-05-31</th>\n",
       "    </tr>\n",
       "    <tr>\n",
       "      <th>RegionName</th>\n",
       "      <th></th>\n",
       "      <th></th>\n",
       "      <th></th>\n",
       "      <th></th>\n",
       "      <th></th>\n",
       "      <th></th>\n",
       "      <th></th>\n",
       "      <th></th>\n",
       "      <th></th>\n",
       "      <th></th>\n",
       "      <th></th>\n",
       "      <th></th>\n",
       "      <th></th>\n",
       "      <th></th>\n",
       "      <th></th>\n",
       "      <th></th>\n",
       "      <th></th>\n",
       "      <th></th>\n",
       "      <th></th>\n",
       "      <th></th>\n",
       "      <th></th>\n",
       "    </tr>\n",
       "  </thead>\n",
       "  <tbody>\n",
       "    <tr>\n",
       "      <th>10025</th>\n",
       "      <td>61639</td>\n",
       "      <td>0</td>\n",
       "      <td>Zip</td>\n",
       "      <td>NY</td>\n",
       "      <td>NY</td>\n",
       "      <td>New York</td>\n",
       "      <td>New York-Newark-Jersey City</td>\n",
       "      <td>New York County</td>\n",
       "      <td>190326.0</td>\n",
       "      <td>189141.0</td>\n",
       "      <td>...</td>\n",
       "      <td>1005641.0</td>\n",
       "      <td>1012842.0</td>\n",
       "      <td>1014076.0</td>\n",
       "      <td>1015660.0</td>\n",
       "      <td>1027308.0</td>\n",
       "      <td>1028815.0</td>\n",
       "      <td>1040011.0</td>\n",
       "      <td>1053436.0</td>\n",
       "      <td>1071606.0</td>\n",
       "      <td>1089141.0</td>\n",
       "    </tr>\n",
       "    <tr>\n",
       "      <th>60657</th>\n",
       "      <td>84654</td>\n",
       "      <td>1</td>\n",
       "      <td>Zip</td>\n",
       "      <td>IL</td>\n",
       "      <td>IL</td>\n",
       "      <td>Chicago</td>\n",
       "      <td>Chicago-Naperville-Elgin</td>\n",
       "      <td>Cook County</td>\n",
       "      <td>265417.0</td>\n",
       "      <td>264722.0</td>\n",
       "      <td>...</td>\n",
       "      <td>498313.0</td>\n",
       "      <td>501107.0</td>\n",
       "      <td>503788.0</td>\n",
       "      <td>506264.0</td>\n",
       "      <td>508612.0</td>\n",
       "      <td>510663.0</td>\n",
       "      <td>512798.0</td>\n",
       "      <td>514068.0</td>\n",
       "      <td>515876.0</td>\n",
       "      <td>517752.0</td>\n",
       "    </tr>\n",
       "    <tr>\n",
       "      <th>10023</th>\n",
       "      <td>61637</td>\n",
       "      <td>2</td>\n",
       "      <td>Zip</td>\n",
       "      <td>NY</td>\n",
       "      <td>NY</td>\n",
       "      <td>New York</td>\n",
       "      <td>New York-Newark-Jersey City</td>\n",
       "      <td>New York County</td>\n",
       "      <td>264983.0</td>\n",
       "      <td>265039.0</td>\n",
       "      <td>...</td>\n",
       "      <td>1107935.0</td>\n",
       "      <td>1117926.0</td>\n",
       "      <td>1118244.0</td>\n",
       "      <td>1113869.0</td>\n",
       "      <td>1105069.0</td>\n",
       "      <td>1096776.0</td>\n",
       "      <td>1097381.0</td>\n",
       "      <td>1096338.0</td>\n",
       "      <td>1100727.0</td>\n",
       "      <td>1104368.0</td>\n",
       "    </tr>\n",
       "    <tr>\n",
       "      <th>77494</th>\n",
       "      <td>91982</td>\n",
       "      <td>3</td>\n",
       "      <td>Zip</td>\n",
       "      <td>TX</td>\n",
       "      <td>TX</td>\n",
       "      <td>Katy</td>\n",
       "      <td>Houston-The Woodlands-Sugar Land</td>\n",
       "      <td>Harris County</td>\n",
       "      <td>202246.0</td>\n",
       "      <td>202496.0</td>\n",
       "      <td>...</td>\n",
       "      <td>343597.0</td>\n",
       "      <td>345154.0</td>\n",
       "      <td>347658.0</td>\n",
       "      <td>350766.0</td>\n",
       "      <td>355204.0</td>\n",
       "      <td>359560.0</td>\n",
       "      <td>364683.0</td>\n",
       "      <td>370188.0</td>\n",
       "      <td>376591.0</td>\n",
       "      <td>383493.0</td>\n",
       "    </tr>\n",
       "    <tr>\n",
       "      <th>60614</th>\n",
       "      <td>84616</td>\n",
       "      <td>4</td>\n",
       "      <td>Zip</td>\n",
       "      <td>IL</td>\n",
       "      <td>IL</td>\n",
       "      <td>Chicago</td>\n",
       "      <td>Chicago-Naperville-Elgin</td>\n",
       "      <td>Cook County</td>\n",
       "      <td>358228.0</td>\n",
       "      <td>357217.0</td>\n",
       "      <td>...</td>\n",
       "      <td>639022.0</td>\n",
       "      <td>641924.0</td>\n",
       "      <td>644626.0</td>\n",
       "      <td>647452.0</td>\n",
       "      <td>650068.0</td>\n",
       "      <td>652220.0</td>\n",
       "      <td>654997.0</td>\n",
       "      <td>656960.0</td>\n",
       "      <td>659558.0</td>\n",
       "      <td>661174.0</td>\n",
       "    </tr>\n",
       "  </tbody>\n",
       "</table>\n",
       "<p>5 rows × 313 columns</p>\n",
       "</div>"
      ],
      "text/plain": [
       "            RegionID  SizeRank RegionType StateName State      City  \\\n",
       "RegionName                                                            \n",
       "10025          61639         0        Zip        NY    NY  New York   \n",
       "60657          84654         1        Zip        IL    IL   Chicago   \n",
       "10023          61637         2        Zip        NY    NY  New York   \n",
       "77494          91982         3        Zip        TX    TX      Katy   \n",
       "60614          84616         4        Zip        IL    IL   Chicago   \n",
       "\n",
       "                                       Metro       CountyName  1996-01-31  \\\n",
       "RegionName                                                                  \n",
       "10025            New York-Newark-Jersey City  New York County    190326.0   \n",
       "60657               Chicago-Naperville-Elgin      Cook County    265417.0   \n",
       "10023            New York-Newark-Jersey City  New York County    264983.0   \n",
       "77494       Houston-The Woodlands-Sugar Land    Harris County    202246.0   \n",
       "60614               Chicago-Naperville-Elgin      Cook County    358228.0   \n",
       "\n",
       "            1996-02-29  ...  2020-08-31  2020-09-30  2020-10-31  2020-11-30  \\\n",
       "RegionName              ...                                                   \n",
       "10025         189141.0  ...   1005641.0   1012842.0   1014076.0   1015660.0   \n",
       "60657         264722.0  ...    498313.0    501107.0    503788.0    506264.0   \n",
       "10023         265039.0  ...   1107935.0   1117926.0   1118244.0   1113869.0   \n",
       "77494         202496.0  ...    343597.0    345154.0    347658.0    350766.0   \n",
       "60614         357217.0  ...    639022.0    641924.0    644626.0    647452.0   \n",
       "\n",
       "            2020-12-31  2021-01-31  2021-02-28  2021-03-31  2021-04-30  \\\n",
       "RegionName                                                               \n",
       "10025        1027308.0   1028815.0   1040011.0   1053436.0   1071606.0   \n",
       "60657         508612.0    510663.0    512798.0    514068.0    515876.0   \n",
       "10023        1105069.0   1096776.0   1097381.0   1096338.0   1100727.0   \n",
       "77494         355204.0    359560.0    364683.0    370188.0    376591.0   \n",
       "60614         650068.0    652220.0    654997.0    656960.0    659558.0   \n",
       "\n",
       "            2021-05-31  \n",
       "RegionName              \n",
       "10025        1089141.0  \n",
       "60657         517752.0  \n",
       "10023        1104368.0  \n",
       "77494         383493.0  \n",
       "60614         661174.0  \n",
       "\n",
       "[5 rows x 313 columns]"
      ]
     },
     "execution_count": 6,
     "metadata": {},
     "output_type": "execute_result"
    }
   ],
   "source": [
    "df.head()"
   ]
  },
  {
   "cell_type": "code",
   "execution_count": 7,
   "id": "e66d6ece-2e7c-4cb5-879d-1f8f9e8ef5be",
   "metadata": {},
   "outputs": [
    {
     "data": {
      "text/plain": [
       "['84009', '84095', '34746', '32303', '30328']"
      ]
     },
     "execution_count": 7,
     "metadata": {},
     "output_type": "execute_result"
    }
   ],
   "source": [
    "zips = open('./zips.txt','r').read().split('\\n')\n",
    "zips"
   ]
  },
  {
   "cell_type": "code",
   "execution_count": 8,
   "id": "4709d570-b19d-447e-a537-49f68b71f4d8",
   "metadata": {},
   "outputs": [],
   "source": [
    "preds = {}\n",
    "for z in zips:\n",
    "    data_load = df.loc[z].transpose()\n",
    "    f = Forecaster(y=data_load.values[8:],current_dates=data_load.index[8:],name=z)\n",
    "    preds[str(z)] = f"
   ]
  },
  {
   "cell_type": "code",
   "execution_count": 9,
   "id": "9c7defc0-6e07-4b63-86b9-4cd60c6fe628",
   "metadata": {},
   "outputs": [
    {
     "data": {
      "image/png": "[encoded data removed]",
      "text/plain": [
       "<Figure size 864x576 with 1 Axes>"
      ]
     },
     "metadata": {},
     "output_type": "display_data"
    }
   ],
   "source": [
    "f.plot_acf(diffy=2)\n",
    "plt.show()"
   ]
  },
  {
   "cell_type": "code",
   "execution_count": 10,
   "id": "8d8f525b-c3df-49aa-88e5-f7c0fe8c1f93",
   "metadata": {},
   "outputs": [
    {
     "data": {
      "image/png": "[encoded data removed]",
      "text/plain": [
       "<Figure size 864x576 with 1 Axes>"
      ]
     },
     "metadata": {},
     "output_type": "display_data"
    }
   ],
   "source": [
    "f.plot_pacf(diffy=2)\n",
    "plt.show()"
   ]
  },
  {
   "cell_type": "code",
   "execution_count": 11,
   "id": "02c7350e-bb98-465d-a8fa-b98a158ceb02",
   "metadata": {},
   "outputs": [
    {
     "data": {
      "image/png": "[encoded data removed]",
      "text/plain": [
       "<Figure size 864x576 with 4 Axes>"
      ]
     },
     "metadata": {},
     "output_type": "display_data"
    }
   ],
   "source": [
    "f.seasonal_decompose(diffy=2).plot()\n",
    "plt.show()"
   ]
  },
  {
   "cell_type": "code",
   "execution_count": 12,
   "id": "6fea796f-3499-4498-b555-1f273cfe3529",
   "metadata": {},
   "outputs": [
    {
     "data": {
      "application/vnd.jupyter.widget-view+json": {
       "model_id": "66e50d1462da4119827c3af640f65287",
       "version_major": 2,
       "version_minor": 0
      },
      "text/plain": [
       "  0%|          | 0/5 [00:00<?, ?it/s]"
      ]
     },
     "metadata": {},
     "output_type": "display_data"
    },
    {
     "name": "stdout",
     "output_type": "stream",
     "text": [
      "84009\n",
      "series appears to be stationary\n"
     ]
    },
    {
     "data": {
      "application/vnd.jupyter.widget-view+json": {
       "model_id": "96aea5397ab749b09a9fe82aa4f708d1",
       "version_major": 2,
       "version_minor": 0
      },
      "text/plain": [
       "  0%|          | 0/6 [00:00<?, ?it/s]"
      ]
     },
     "metadata": {},
     "output_type": "display_data"
    },
    {
     "name": "stdout",
     "output_type": "stream",
     "text": [
      "84095\n",
      "series appears to be stationary\n"
     ]
    },
    {
     "data": {
      "application/vnd.jupyter.widget-view+json": {
       "model_id": "328dd74d1c6d48a28233e782649aef9a",
       "version_major": 2,
       "version_minor": 0
      },
      "text/plain": [
       "  0%|          | 0/6 [00:00<?, ?it/s]"
      ]
     },
     "metadata": {},
     "output_type": "display_data"
    },
    {
     "name": "stdout",
     "output_type": "stream",
     "text": [
      "34746\n",
      "series appears to be stationary\n"
     ]
    },
    {
     "data": {
      "application/vnd.jupyter.widget-view+json": {
       "model_id": "94d62453884d4c738c2c1225d05184f2",
       "version_major": 2,
       "version_minor": 0
      },
      "text/plain": [
       "  0%|          | 0/6 [00:00<?, ?it/s]"
      ]
     },
     "metadata": {},
     "output_type": "display_data"
    },
    {
     "name": "stdout",
     "output_type": "stream",
     "text": [
      "32303\n",
      "series appears to be stationary\n"
     ]
    },
    {
     "data": {
      "application/vnd.jupyter.widget-view+json": {
       "model_id": "42953da56dd44c12b1d71309dc240d6e",
       "version_major": 2,
       "version_minor": 0
      },
      "text/plain": [
       "  0%|          | 0/6 [00:00<?, ?it/s]"
      ]
     },
     "metadata": {},
     "output_type": "display_data"
    },
    {
     "name": "stdout",
     "output_type": "stream",
     "text": [
      "30328\n",
      "series appears to be stationary\n"
     ]
    },
    {
     "data": {
      "application/vnd.jupyter.widget-view+json": {
       "model_id": "1d21b32557114048842479e9f7c70dc4",
       "version_major": 2,
       "version_minor": 0
      },
      "text/plain": [
       "  0%|          | 0/6 [00:00<?, ?it/s]"
      ]
     },
     "metadata": {},
     "output_type": "display_data"
    }
   ],
   "source": [
    "for k, f in log_progress(preds.items()):\n",
    "    print(k)\n",
    "    i = find_integration(f)\n",
    "    f.generate_future_dates(12)\n",
    "    f.set_test_length(9)\n",
    "    f.set_validation_length(6)\n",
    "    f.add_ar_terms(3)\n",
    "    f.add_AR_terms((4,3))\n",
    "    f.add_AR_terms((2,12))\n",
    "    f.diff(i)\n",
    "    f.adf_test(quiet=False)\n",
    "    f.add_seasonal_regressors('quarter',raw=False,dummy=True)\n",
    "    f.add_seasonal_regressors('month',raw=False,dummy=True)\n",
    "    f.add_seasonal_regressors('year')\n",
    "    f.add_covid19_regressor(called='COVID19',end='2021-12-01')\n",
    "    f.add_other_regressor(called='2008_recession',start='2007-10-01',end='2009-06-30')\n",
    "    f.add_time_trend(called='t')\n",
    "    f.add_combo_regressors('t','COVID19',sep='_')\n",
    "    f.add_poly_terms('t_COVID19')\n",
    "    \n",
    "    for m in log_progress(models):\n",
    "        f.set_estimator(m)\n",
    "        f.tune()\n",
    "        f.auto_forecast()\n",
    "        \n",
    "    f.set_estimator('combo')\n",
    "    f.manual_forecast(how='simple',models='top_3',call_me='avg')\n",
    "    f.manual_forecast(how='weighted',models='top_3',call_me='weighted')"
   ]
  },
  {
   "cell_type": "code",
   "execution_count": 13,
   "id": "909ca61c-33ea-44c9-b207-0e40c8ec46ec",
   "metadata": {},
   "outputs": [],
   "source": [
    "model_summaries = pd.DataFrame()\n",
    "for k, f in preds.items():\n",
    "    df = f.export(dfs='model_summaries',determine_best_by='LevelTestSetMAPE')\n",
    "    df['Name'] = k\n",
    "    model_summaries = pd.concat([model_summaries,df],ignore_index=True)\n",
    "    \n",
    "model_summaries.to_csv('model_summaries.csv',index=False)"
   ]
  },
  {
   "cell_type": "code",
   "execution_count": 14,
   "id": "f700173c-361f-4888-8edb-dd1e738434d3",
   "metadata": {},
   "outputs": [
    {
     "data": {
      "application/vnd.jupyter.widget-view+json": {
       "model_id": "8ce3227edcc74c16a265523f403b9a97",
       "version_major": 2,
       "version_minor": 0
      },
      "text/plain": [
       "Dropdown(description='Time Series:', options=('84009', '84095', '34746', '32303', '30328'), value='84009')"
      ]
     },
     "metadata": {},
     "output_type": "display_data"
    },
    {
     "data": {
      "application/vnd.jupyter.widget-view+json": {
       "model_id": "706ca7c141804ea9a64adcdc1bfaaf57",
       "version_major": 2,
       "version_minor": 0
      },
      "text/plain": [
       "Dropdown(description='No. Models', options=(1, 2, 3, 4, 5, 6, 7, 8), value=1)"
      ]
     },
     "metadata": {},
     "output_type": "display_data"
    },
    {
     "data": {
      "application/vnd.jupyter.widget-view+json": {
       "model_id": "3af9f0e1972e44b1a1bbc8a08a5be267",
       "version_major": 2,
       "version_minor": 0
      },
      "text/plain": [
       "Dropdown(description='View Level', options=(True, False), value=True)"
      ]
     },
     "metadata": {},
     "output_type": "display_data"
    },
    {
     "data": {
      "application/vnd.jupyter.widget-view+json": {
       "model_id": "f9aac31c789b4d4cb00d1114c1db3ea9",
       "version_major": 2,
       "version_minor": 0
      },
      "text/plain": [
       "Dropdown(description='Order By', options=('InSampleMAE', 'InSampleMAPE', 'InSampleR2', 'InSampleRMSE', 'LevelT…"
      ]
     },
     "metadata": {},
     "output_type": "display_data"
    },
    {
     "data": {
      "application/vnd.jupyter.widget-view+json": {
       "model_id": "e1558687d0bf4a55904a5b697e997a3d",
       "version_major": 2,
       "version_minor": 0
      },
      "text/plain": [
       "Button(description='Select Time Series', style=ButtonStyle())"
      ]
     },
     "metadata": {},
     "output_type": "display_data"
    },
    {
     "data": {
      "application/vnd.jupyter.widget-view+json": {
       "model_id": "5442a2b4c89e43c09c20f3ec5a7616eb",
       "version_major": 2,
       "version_minor": 0
      },
      "text/plain": [
       "Output()"
      ]
     },
     "metadata": {},
     "output_type": "display_data"
    }
   ],
   "source": [
    "results_vis(preds,'test')"
   ]
  },
  {
   "cell_type": "code",
   "execution_count": 16,
   "id": "538660d7-7719-4388-a384-64338cf72432",
   "metadata": {},
   "outputs": [
    {
     "data": {
      "application/vnd.jupyter.widget-view+json": {
       "model_id": "e5482778ddcf4f36ae10de0d7d5239d4",
       "version_major": 2,
       "version_minor": 0
      },
      "text/plain": [
       "Dropdown(description='Time Series:', options=('84009', '84095', '34746', '32303', '30328'), value='84009')"
      ]
     },
     "metadata": {},
     "output_type": "display_data"
    },
    {
     "data": {
      "application/vnd.jupyter.widget-view+json": {
       "model_id": "e5fbc8dccb164c1685ea140a61095ef8",
       "version_major": 2,
       "version_minor": 0
      },
      "text/plain": [
       "Dropdown(description='No. Models', options=(1, 2, 3, 4, 5, 6, 7, 8), value=1)"
      ]
     },
     "metadata": {},
     "output_type": "display_data"
    },
    {
     "data": {
      "application/vnd.jupyter.widget-view+json": {
       "model_id": "72f1f5ff81784b229bf5ed542760ed47",
       "version_major": 2,
       "version_minor": 0
      },
      "text/plain": [
       "Dropdown(description='View Level', options=(True, False), value=True)"
      ]
     },
     "metadata": {},
     "output_type": "display_data"
    },
    {
     "data": {
      "application/vnd.jupyter.widget-view+json": {
       "model_id": "cec529892f744b7ba79d9402681919d1",
       "version_major": 2,
       "version_minor": 0
      },
      "text/plain": [
       "Dropdown(description='Order By', options=('InSampleMAE', 'InSampleMAPE', 'InSampleR2', 'InSampleRMSE', 'LevelT…"
      ]
     },
     "metadata": {},
     "output_type": "display_data"
    },
    {
     "data": {
      "application/vnd.jupyter.widget-view+json": {
       "model_id": "007dc42692184608a82c60f3bfdffd14",
       "version_major": 2,
       "version_minor": 0
      },
      "text/plain": [
       "Button(description='Select Time Series', style=ButtonStyle())"
      ]
     },
     "metadata": {},
     "output_type": "display_data"
    },
    {
     "data": {
      "application/vnd.jupyter.widget-view+json": {
       "model_id": "9b97b8ed8a95459bb5bc58ddb59a8a9b",
       "version_major": 2,
       "version_minor": 0
      },
      "text/plain": [
       "Output()"
      ]
     },
     "metadata": {},
     "output_type": "display_data"
    }
   ],
   "source": [
    "results_vis(preds,'forecast')"
   ]
  },
  {
   "cell_type": "code",
   "execution_count": null,
   "id": "07877186-a4da-4687-9130-143e4fb7ec25",
   "metadata": {},
   "outputs": [],
   "source": []
  }
 ],
 "metadata": {
  "kernelspec": {
   "display_name": "Python 3",
   "language": "python",
   "name": "python3"
  },
  "language_info": {
   "codemirror_mode": {
    "name": "ipython",
    "version": 3
   },
   "file_extension": ".py",
   "mimetype": "text/x-python",
   "name": "python",
   "nbconvert_exporter": "python",
   "pygments_lexer": "ipython3",
   "version": "3.8.5"
  },
  "widgets": {
   "application/vnd.jupyter.widget-state+json": {
    "state": {
     "007dc42692184608a82c60f3bfdffd14": {
      "model_module": "@jupyter-widgets/controls",
      "model_module_version": "1.5.0",
      "model_name": "ButtonModel",
      "state": {
       "description": "Select Time Series",
       "layout": "IPY_MODEL_c1a1436549604168860612aee0a77725",
       "style": "IPY_MODEL_096c606b47a5404baec8b13f0cbebc82"
      }
     },
     "018171739bb845deb3020528c5318544": {
      "model_module": "@jupyter-widgets/controls",
      "model_module_version": "1.5.0",
      "model_name": "DescriptionStyleModel",
      "state": {
       "description_width": ""
      }
     },
     "07e98fe2b7fc49e5b8968bbcacf08ddc": {
      "model_module": "@jupyter-widgets/controls",
      "model_module_version": "1.5.0",
      "model_name": "FloatProgressModel",
      "state": {
       "bar_style": "success",
       "layout": "IPY_MODEL_cc215da8dd6643be87fca3f634edb92d",
       "max": 6,
       "style": "IPY_MODEL_c84ef2a432a84ed1b1b57cde4642ce97",
       "value": 6
      }
     },
     "096c606b47a5404baec8b13f0cbebc82": {
      "model_module": "@jupyter-widgets/controls",
      "model_module_version": "1.5.0",
      "model_name": "ButtonStyleModel",
      "state": {}
     },
     "0a53d3b325cd421dbc9fcf058c3e3313": {
      "model_module": "@jupyter-widgets/controls",
      "model_module_version": "1.5.0",
      "model_name": "HTMLModel",
      "state": {
       "layout": "IPY_MODEL_6eac920744af4dd5861ce0513a0ef100",
       "style": "IPY_MODEL_018171739bb845deb3020528c5318544",
       "value": "100%"
      }
     },
     "0e64977a4a6943df861f4e345cc314ae": {
      "model_module": "@jupyter-widgets/controls",
      "model_module_version": "1.5.0",
      "model_name": "ProgressStyleModel",
      "state": {
       "description_width": ""
      }
     },
     "1217318a25714867bc2a0f01e2fe1308": {
      "model_module": "@jupyter-widgets/base",
      "model_module_version": "1.2.0",
      "model_name": "LayoutModel",
      "state": {}
     },
     "14e54bafad3c40f7a39fdd6ce7ff7c7b": {
      "model_module": "@jupyter-widgets/controls",
      "model_module_version": "1.5.0",
      "model_name": "ProgressStyleModel",
      "state": {
       "description_width": ""
      }
     },
     "1790314bd90c486fab8d7ce7164ef484": {
      "model_module": "@jupyter-widgets/base",
      "model_module_version": "1.2.0",
      "model_name": "LayoutModel",
      "state": {}
     },
     "19ed353d76374e5a9826404c88455bd3": {
      "model_module": "@jupyter-widgets/base",
      "model_module_version": "1.2.0",
      "model_name": "LayoutModel",
      "state": {}
     },
     "1c89d0ed169241b7a99aee282f103b0e": {
      "model_module": "@jupyter-widgets/controls",
      "model_module_version": "1.5.0",
      "model_name": "DescriptionStyleModel",
      "state": {
       "description_width": ""
      }
     },
     "1d21b32557114048842479e9f7c70dc4": {
      "model_module": "@jupyter-widgets/controls",
      "model_module_version": "1.5.0",
      "model_name": "HBoxModel",
      "state": {
       "children": [
        "IPY_MODEL_0a53d3b325cd421dbc9fcf058c3e3313",
        "IPY_MODEL_61196ce5aada4bcf987f7ec1be93073a",
        "IPY_MODEL_79a275bfa3dc44c3b5c085dfae9eed47"
       ],
       "layout": "IPY_MODEL_e30d2fbfaecd485dadce88a61e9de927"
      }
     },
     "1ec660bcf65e4529921a94b30aac0d5e": {
      "model_module": "@jupyter-widgets/controls",
      "model_module_version": "1.5.0",
      "model_name": "DescriptionStyleModel",
      "state": {
       "description_width": ""
      }
     },
     "250136b7a3e146a5b43fbe39073367f9": {
      "model_module": "@jupyter-widgets/controls",
      "model_module_version": "1.5.0",
      "model_name": "HTMLModel",
      "state": {
       "layout": "IPY_MODEL_1790314bd90c486fab8d7ce7164ef484",
       "style": "IPY_MODEL_e3104c798f7d419ea5bc9099838cf1d0",
       "value": " 6/6 [01:55&lt;00:00, 27.41s/it]"
      }
     },
     "2605c1716233423bb8fe4d967ce8b0a0": {
      "model_module": "@jupyter-widgets/controls",
      "model_module_version": "1.5.0",
      "model_name": "DescriptionStyleModel",
      "state": {
       "description_width": ""
      }
     },
     "26552a092da34c86a2a85508602b8592": {
      "model_module": "@jupyter-widgets/base",
      "model_module_version": "1.2.0",
      "model_name": "LayoutModel",
      "state": {}
     },
     "2b70a07f0ee74deabd992132627bc23b": {
      "model_module": "@jupyter-widgets/base",
      "model_module_version": "1.2.0",
      "model_name": "LayoutModel",
      "state": {}
     },
     "2d85a41f3fa54c9fb329411beb9b9c53": {
      "model_module": "@jupyter-widgets/controls",
      "model_module_version": "1.5.0",
      "model_name": "ProgressStyleModel",
      "state": {
       "description_width": ""
      }
     },
     "2f3276344e3447f7b1f9b4b6ca06eb1c": {
      "model_module": "@jupyter-widgets/base",
      "model_module_version": "1.2.0",
      "model_name": "LayoutModel",
      "state": {}
     },
     "2f41dd5e09ed4cfc8e6e66e2ad8a0469": {
      "model_module": "@jupyter-widgets/controls",
      "model_module_version": "1.5.0",
      "model_name": "DescriptionStyleModel",
      "state": {
       "description_width": ""
      }
     },
     "30a16be6f5de4371b7cb6c821e47e6fa": {
      "model_module": "@jupyter-widgets/controls",
      "model_module_version": "1.5.0",
      "model_name": "HTMLModel",
      "state": {
       "layout": "IPY_MODEL_e840d1846ff249128912ff4c74837aed",
       "style": "IPY_MODEL_f656160f546d494f99acf3bd75f43cca",
       "value": "100%"
      }
     },
     "320618e084214fb7b5ed91ec24914cdd": {
      "model_module": "@jupyter-widgets/base",
      "model_module_version": "1.2.0",
      "model_name": "LayoutModel",
      "state": {}
     },
     "328dd74d1c6d48a28233e782649aef9a": {
      "model_module": "@jupyter-widgets/controls",
      "model_module_version": "1.5.0",
      "model_name": "HBoxModel",
      "state": {
       "children": [
        "IPY_MODEL_30a16be6f5de4371b7cb6c821e47e6fa",
        "IPY_MODEL_c555ec8adf4848538834137218a3293d",
        "IPY_MODEL_8390b28cdfce4302a4ec1c673857d9df"
       ],
       "layout": "IPY_MODEL_fa0b1ef05b564a63a850959af8f85814"
      }
     },
     "349de90c694443579b9e61e4a69307cb": {
      "model_module": "@jupyter-widgets/controls",
      "model_module_version": "1.5.0",
      "model_name": "HTMLModel",
      "state": {
       "layout": "IPY_MODEL_26552a092da34c86a2a85508602b8592",
       "style": "IPY_MODEL_cc22d2d72c0c4aa7a2262489a27f1282",
       "value": "100%"
      }
     },
     "37d6e6e799644dc593df44c900e63116": {
      "model_module": "@jupyter-widgets/base",
      "model_module_version": "1.2.0",
      "model_name": "LayoutModel",
      "state": {}
     },
     "38191848a8f3468bb29c5de29cfe1fd0": {
      "model_module": "@jupyter-widgets/base",
      "model_module_version": "1.2.0",
      "model_name": "LayoutModel",
      "state": {}
     },
     "3acb22574bd34cf0a11e04bd0191ae9f": {
      "model_module": "@jupyter-widgets/controls",
      "model_module_version": "1.5.0",
      "model_name": "HTMLModel",
      "state": {
       "layout": "IPY_MODEL_88044e3ed5134931bbe0c273c466e84a",
       "style": "IPY_MODEL_1ec660bcf65e4529921a94b30aac0d5e",
       "value": "100%"
      }
     },
     "3af9f0e1972e44b1a1bbc8a08a5be267": {
      "model_module": "@jupyter-widgets/controls",
      "model_module_version": "1.5.0",
      "model_name": "DropdownModel",
      "state": {
       "_options_labels": [
        "True",
        "False"
       ],
       "description": "View Level",
       "index": 0,
       "layout": "IPY_MODEL_ad65c88d92654dae80a0f42000cf498c",
       "style": "IPY_MODEL_91b0d533ad91434bbf5ccdc77e238e07"
      }
     },
     "42953da56dd44c12b1d71309dc240d6e": {
      "model_module": "@jupyter-widgets/controls",
      "model_module_version": "1.5.0",
      "model_name": "HBoxModel",
      "state": {
       "children": [
        "IPY_MODEL_349de90c694443579b9e61e4a69307cb",
        "IPY_MODEL_f2dbca47a8124d0580c03e108a28b0c8",
        "IPY_MODEL_a989b47fe8c345839595b29edb1f7921"
       ],
       "layout": "IPY_MODEL_fb0382a234ad4f5581ad7cf204735a9f"
      }
     },
     "4d8b17e13ce74d8caacc84ea8e250602": {
      "model_module": "@jupyter-widgets/base",
      "model_module_version": "1.2.0",
      "model_name": "LayoutModel",
      "state": {}
     },
     "5370f9bf9e074eddacabee1ea1ad4700": {
      "model_module": "@jupyter-widgets/controls",
      "model_module_version": "1.5.0",
      "model_name": "DescriptionStyleModel",
      "state": {
       "description_width": ""
      }
     },
     "5442a2b4c89e43c09c20f3ec5a7616eb": {
      "model_module": "@jupyter-widgets/output",
      "model_module_version": "1.0.0",
      "model_name": "OutputModel",
      "state": {
       "layout": "IPY_MODEL_e381daa70baa4229ae5bdd6a11bb6be5",
       "outputs": [
        {
         "name": "stdout",
         "output_type": "stream",
         "text": "32303\n"
        },
        {
         "data": {
          "image/png": "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\n",
          "text/plain": "<Figure size 1152x576 with 1 Axes>"
         },
         "metadata": {},
         "output_type": "display_data"
        }
       ]
      }
     },
     "550afb6ae5994eef90b5b9405c095123": {
      "model_module": "@jupyter-widgets/controls",
      "model_module_version": "1.5.0",
      "model_name": "HTMLModel",
      "state": {
       "layout": "IPY_MODEL_923947762f6d4837a5e25ce5dc2e1ecf",
       "style": "IPY_MODEL_eaf8ce9e15064fe1b60c1787bd678ab7",
       "value": " 5/5 [09:27&lt;00:00, 113.60s/it]"
      }
     },
     "56f93abbfccd40daa9013e3c97248df3": {
      "model_module": "@jupyter-widgets/controls",
      "model_module_version": "1.5.0",
      "model_name": "HTMLModel",
      "state": {
       "layout": "IPY_MODEL_cd6ff924ecd3483b89a3030a18265f50",
       "style": "IPY_MODEL_beb132420f7f4bcf87c3fc5c3b4923a5",
       "value": " 6/6 [01:52&lt;00:00, 26.47s/it]"
      }
     },
     "5daac369171c40ae815de30b58f2e8ba": {
      "model_module": "@jupyter-widgets/controls",
      "model_module_version": "1.5.0",
      "model_name": "DescriptionStyleModel",
      "state": {
       "description_width": ""
      }
     },
     "61196ce5aada4bcf987f7ec1be93073a": {
      "model_module": "@jupyter-widgets/controls",
      "model_module_version": "1.5.0",
      "model_name": "FloatProgressModel",
      "state": {
       "bar_style": "success",
       "layout": "IPY_MODEL_4d8b17e13ce74d8caacc84ea8e250602",
       "max": 6,
       "style": "IPY_MODEL_f9069cd79c8642f9822a592bb50d01af",
       "value": 6
      }
     },
     "64f1a2ae86724d8684ae8992d12af655": {
      "model_module": "@jupyter-widgets/base",
      "model_module_version": "1.2.0",
      "model_name": "LayoutModel",
      "state": {}
     },
     "66e50d1462da4119827c3af640f65287": {
      "model_module": "@jupyter-widgets/controls",
      "model_module_version": "1.5.0",
      "model_name": "HBoxModel",
      "state": {
       "children": [
        "IPY_MODEL_3acb22574bd34cf0a11e04bd0191ae9f",
        "IPY_MODEL_766e9b6b4aae45a9817604281137f6f0",
        "IPY_MODEL_550afb6ae5994eef90b5b9405c095123"
       ],
       "layout": "IPY_MODEL_1217318a25714867bc2a0f01e2fe1308"
      }
     },
     "6eac920744af4dd5861ce0513a0ef100": {
      "model_module": "@jupyter-widgets/base",
      "model_module_version": "1.2.0",
      "model_name": "LayoutModel",
      "state": {}
     },
     "6f250787a5fa4f909d5c551c47377416": {
      "model_module": "@jupyter-widgets/base",
      "model_module_version": "1.2.0",
      "model_name": "LayoutModel",
      "state": {}
     },
     "6fbe457c31fd4a8c9926b2b4522e661d": {
      "model_module": "@jupyter-widgets/base",
      "model_module_version": "1.2.0",
      "model_name": "LayoutModel",
      "state": {}
     },
     "70503bf3bbf742b78a8fb9c42248c0e5": {
      "model_module": "@jupyter-widgets/controls",
      "model_module_version": "1.5.0",
      "model_name": "ButtonStyleModel",
      "state": {}
     },
     "706ca7c141804ea9a64adcdc1bfaaf57": {
      "model_module": "@jupyter-widgets/controls",
      "model_module_version": "1.5.0",
      "model_name": "DropdownModel",
      "state": {
       "_options_labels": [
        "1",
        "2",
        "3",
        "4",
        "5",
        "6",
        "7",
        "8"
       ],
       "description": "No. Models",
       "index": 3,
       "layout": "IPY_MODEL_83e53b8996a24155aaa0ed991abbecca",
       "style": "IPY_MODEL_1c89d0ed169241b7a99aee282f103b0e"
      }
     },
     "72f1f5ff81784b229bf5ed542760ed47": {
      "model_module": "@jupyter-widgets/controls",
      "model_module_version": "1.5.0",
      "model_name": "DropdownModel",
      "state": {
       "_options_labels": [
        "True",
        "False"
       ],
       "description": "View Level",
       "index": 0,
       "layout": "IPY_MODEL_7688fd1ed0db4d9e8526bdf5fd347087",
       "style": "IPY_MODEL_d06c0b795c2c49dba9599b6ee6c95373"
      }
     },
     "74a70bf0d66d48ad967c31d97a3bb59d": {
      "model_module": "@jupyter-widgets/controls",
      "model_module_version": "1.5.0",
      "model_name": "DescriptionStyleModel",
      "state": {
       "description_width": ""
      }
     },
     "766e9b6b4aae45a9817604281137f6f0": {
      "model_module": "@jupyter-widgets/controls",
      "model_module_version": "1.5.0",
      "model_name": "FloatProgressModel",
      "state": {
       "bar_style": "success",
       "layout": "IPY_MODEL_38191848a8f3468bb29c5de29cfe1fd0",
       "max": 5,
       "style": "IPY_MODEL_2d85a41f3fa54c9fb329411beb9b9c53",
       "value": 5
      }
     },
     "7688fd1ed0db4d9e8526bdf5fd347087": {
      "model_module": "@jupyter-widgets/base",
      "model_module_version": "1.2.0",
      "model_name": "LayoutModel",
      "state": {}
     },
     "79a275bfa3dc44c3b5c085dfae9eed47": {
      "model_module": "@jupyter-widgets/controls",
      "model_module_version": "1.5.0",
      "model_name": "HTMLModel",
      "state": {
       "layout": "IPY_MODEL_aa4bae25090f4c8e98cc3e5f17c3dc13",
       "style": "IPY_MODEL_5370f9bf9e074eddacabee1ea1ad4700",
       "value": " 6/6 [01:54&lt;00:00, 26.93s/it]"
      }
     },
     "8390b28cdfce4302a4ec1c673857d9df": {
      "model_module": "@jupyter-widgets/controls",
      "model_module_version": "1.5.0",
      "model_name": "HTMLModel",
      "state": {
       "layout": "IPY_MODEL_6fbe457c31fd4a8c9926b2b4522e661d",
       "style": "IPY_MODEL_f0d795c1354e499ca907e60a980b5d4a",
       "value": " 6/6 [01:51&lt;00:00, 26.33s/it]"
      }
     },
     "83e53b8996a24155aaa0ed991abbecca": {
      "model_module": "@jupyter-widgets/base",
      "model_module_version": "1.2.0",
      "model_name": "LayoutModel",
      "state": {}
     },
     "85f42c9dc7e24ec894d9574a62682877": {
      "model_module": "@jupyter-widgets/controls",
      "model_module_version": "1.5.0",
      "model_name": "FloatProgressModel",
      "state": {
       "bar_style": "success",
       "layout": "IPY_MODEL_6f250787a5fa4f909d5c551c47377416",
       "max": 6,
       "style": "IPY_MODEL_0e64977a4a6943df861f4e345cc314ae",
       "value": 6
      }
     },
     "869a7f4ae4f74894a47e61957b1e6408": {
      "model_module": "@jupyter-widgets/controls",
      "model_module_version": "1.5.0",
      "model_name": "DescriptionStyleModel",
      "state": {
       "description_width": ""
      }
     },
     "88044e3ed5134931bbe0c273c466e84a": {
      "model_module": "@jupyter-widgets/base",
      "model_module_version": "1.2.0",
      "model_name": "LayoutModel",
      "state": {}
     },
     "8ce3227edcc74c16a265523f403b9a97": {
      "model_module": "@jupyter-widgets/controls",
      "model_module_version": "1.5.0",
      "model_name": "DropdownModel",
      "state": {
       "_options_labels": [
        "84009",
        "84095",
        "34746",
        "32303",
        "30328"
       ],
       "description": "Time Series:",
       "index": 3,
       "layout": "IPY_MODEL_ffbaac242e7a4be0a45e21bc72d1cc2c",
       "style": "IPY_MODEL_5daac369171c40ae815de30b58f2e8ba"
      }
     },
     "91b0d533ad91434bbf5ccdc77e238e07": {
      "model_module": "@jupyter-widgets/controls",
      "model_module_version": "1.5.0",
      "model_name": "DescriptionStyleModel",
      "state": {
       "description_width": ""
      }
     },
     "923947762f6d4837a5e25ce5dc2e1ecf": {
      "model_module": "@jupyter-widgets/base",
      "model_module_version": "1.2.0",
      "model_name": "LayoutModel",
      "state": {}
     },
     "935d443a0000405eb2b72f80ef15b2a9": {
      "model_module": "@jupyter-widgets/controls",
      "model_module_version": "1.5.0",
      "model_name": "HTMLModel",
      "state": {
       "layout": "IPY_MODEL_9d4c752659dc42f9a700def35900dfd9",
       "style": "IPY_MODEL_b98f6f796d3244e4837b95f12f5dec1f",
       "value": "100%"
      }
     },
     "94d62453884d4c738c2c1225d05184f2": {
      "model_module": "@jupyter-widgets/controls",
      "model_module_version": "1.5.0",
      "model_name": "HBoxModel",
      "state": {
       "children": [
        "IPY_MODEL_935d443a0000405eb2b72f80ef15b2a9",
        "IPY_MODEL_85f42c9dc7e24ec894d9574a62682877",
        "IPY_MODEL_56f93abbfccd40daa9013e3c97248df3"
       ],
       "layout": "IPY_MODEL_2b70a07f0ee74deabd992132627bc23b"
      }
     },
     "96aea5397ab749b09a9fe82aa4f708d1": {
      "model_module": "@jupyter-widgets/controls",
      "model_module_version": "1.5.0",
      "model_name": "HBoxModel",
      "state": {
       "children": [
        "IPY_MODEL_a27300268da140a88c5a49c78e1049f4",
        "IPY_MODEL_07e98fe2b7fc49e5b8968bbcacf08ddc",
        "IPY_MODEL_250136b7a3e146a5b43fbe39073367f9"
       ],
       "layout": "IPY_MODEL_9b643104083d413d84c1c8285b8a80ac"
      }
     },
     "9b643104083d413d84c1c8285b8a80ac": {
      "model_module": "@jupyter-widgets/base",
      "model_module_version": "1.2.0",
      "model_name": "LayoutModel",
      "state": {}
     },
     "9b97b8ed8a95459bb5bc58ddb59a8a9b": {
      "model_module": "@jupyter-widgets/output",
      "model_module_version": "1.0.0",
      "model_name": "OutputModel",
      "state": {
       "layout": "IPY_MODEL_cdbe8845d0ea40b9a82a2c0c625c63dd",
       "outputs": [
        {
         "name": "stdout",
         "output_type": "stream",
         "text": "30328\nknn TestSetRMSE: 1086.8914334004926\nknn TestSetR2: -2.6187552091078827\nknn LevelTestSetRMSE: 13724.720101995204\nknn TestSetMAPE: 3.1841071841828157\nknn LevelTestSetR2: -0.14765204481071525\nknn LevelTestSetMAPE: 0.020703371447140597\nknn Scaler: minmax\nknn HyperParams: {'n_neighbors': 2, 'weights': 'distance'}\nknn Xvars: ['AR1', 'AR2', 'AR3', 'AR6', 'AR9', 'AR12', 'AR24', 'quarter_1', 'quarter_2', 'quarter_3', 'quarter_4', 'month_1', 'month_10', 'month_11', 'month_12', 'month_2', 'month_3', 'month_4', 'month_5', 'month_6', 'month_7', 'month_8', 'month_9', 'year', 'COVID19', '2008_recession', 't', 't_COVID19', 't_COVID19^2']\nknn Integration: 2\n"
        },
        {
         "data": {
          "image/png": "iVBORw0KGgoAAAANSUhEUgAAA8cAAAHwCAYAAACL7x1mAAAAOXRFWHRTb2Z0d2FyZQBNYXRwbG90bGliIHZlcnNpb24zLjQuMiwgaHR0cHM6Ly9tYXRwbG90bGliLm9yZy8rg+JYAAAACXBIWXMAAAsTAAALEwEAmpwYAAB8zUlEQVR4nOzdd3hUdd7+8fckM+khjVRqKNKbBBALiEoNoQmKILgWLGtbV9lFxFVcEeXHKvooPuquuytWUAiKISgqIILSS+gltPTey5Tz+8Nns8sqApLkJJn7dV1elzmZydwnHwJz55zzPRbDMAxERERERERE3JiH2QFEREREREREzKZyLCIiIiIiIm5P5VhERERERETcnsqxiIiIiIiIuD2VYxEREREREXF7KsciIiIiIiLi9qxmBxAREWlKOnXqxGWXXYaHx79//9y9e3fmzZtnYqqf9+qrr9K5c2duuOGGn3zuP/fDYrFQUVFBQEAATz/9ND169Kj1LJ06dWLz5s3YbDbuv/9+3nnnnVp/DRERkV+iciwiIlLL/vnPfxIaGmp2jPP64Ycf6NChwzk//9/78be//Y1nn32Wjz76qM4yFRUVsXfv3jr7+iIiIueiciwiIlJPtm3bxoIFC6ioqMBms/G73/2OQYMGsXz5cj7++OOao7NLlixh2bJlfPDBB7hcLoKDg3nyySdp3749ZWVlPPvss+zYsQNPT09uuOEGHnnkEU6cOMEzzzxDeXk52dnZdO7cmUWLFuHt7c0rr7zCl19+ic1mIyQkhPnz5/Pll1+SkpLCggUL8PT0ZOjQob+Y3eFwkJGRQVBQUM22119/nS+++AKXy0WLFi146qmniIyM5IsvvuD111/HYrHg6enJH/7wB/r168e0adOYOnUqI0aMAPjJxwCPP/44lZWVjB07luXLl/Paa6/9JHtERETdDEhERNyayrGIiEgtu+222846rfrtt9/Gw8ODhx56iNdff51evXpx5MgRbr31Vj7++GMAjh49ytdff01AQABbtmwhMTGR9957D19fXzZu3MiDDz5IUlISr7zyClVVVSQlJeF0OrnjjjvYsmUL69atY9y4cYwdOxa73c6ECRNYt24dPXv25J///CebN2/Gy8uLt99+mz179jB16lSSk5OZOnXqOYvxbbfdhsViIT8/H29vb4YMGcL8+fMBSExM5PDhwyxbtgyr1cpHH33EnDlzeOutt1iwYAELFy6kd+/ebNy4kR9++IF+/fpd0Pdu/vz5JCQksHLlSjIyMn42+8+dBi4iInKpVI5FRERq2c+dVr1+/Xpat25Nr169AOjYsSOXX345W7ZswWKx0KlTJwICAgBYt24dJ0+eZPLkyTXPLyoqorCwkE2bNvH444/j6emJp6cn7777LgD9+vXju+++46233uLEiRNkZ2dTXl5OZGQknTt3Zvz48QwaNIhBgwYxcODAi9qP/fv3M2PGDPr06UNYWBgA33zzDXv37uXGG28EwOVyUVFRAUB8fDwPPPAAgwcP5qqrrmLGjBm/6vt4KdlFREQulsqxiIhIPXC5XD/ZZhgGDocDm82Gn5/fWY8dO3YsM2fOrPk4OzuboKAgrFYrFoul5rEZGRn4+Pgwd+5cnE4nI0eO5NprryUjIwPDMPDw8ODdd99l7969bN68meeee44BAwYwZ86cC87etWtXHn/8cebMmUOvXr1o2bIlLpeLu+66iylTpgBQXV1NUVERAI888ggTJ05k48aNLF++nDfffJPly5fX7PO/2O32X3zd2sguIiJyoXQrJxERkXrQq1cvUlNT2bNnDwBHjhxh69at9O/f/yePveqqq/j888/Jzs4G4IMPPuC2224DYODAgaxYsQKXy0V1dTUPPfQQW7duZePGjdx///2MGjUKi8XC7t27cTqdHDx4kNGjR9O+fXvuuecefvOb33Do0CEAPD09cTgcF5R/9OjR9O7dm+eeew6Aq6++mo8//pjS0lIAXn75Zf7whz/gcDi47rrrKC8v55ZbbuGpp57i2LFjOBwOQkNDSUlJAeDUqVM1Of6T1WrF6XRiGMYvZhcREaltOnIsIiJSD0JDQ3n55Zf585//TGVlJRaLhfnz5xMbG8vOnTvPeuw111zDjBkzuOOOO7BYLAQEBPDqq69isVh44IEHmDdvHmPHjsXpdDJq1CiGDRtGTk4O999/P0FBQfj6+tKvXz9OnTrFpEmTGDlyJDfeeCN+fn74+PjUHHkdMmQIL7zwAna7nfHjx593H5588knGjBnDt99+y6RJk8jKyuKmm27CYrEQHR3N888/j9VqZfbs2Tz22GM1R7mfe+45vLy8uO+++5g1axbr16+nXbt2xMXF/eQ1wsPD6dq1KyNHjuSDDz44Z3YREZHaZjH+8/wmERERERERETek06pFRERERETE7akci4iIiIiIiNtTORYRERERERG3p3IsIiIiIiIibk/lWERERERERNyebuX0MwoKynC5zFvEOywsgLy8UtNeX+qX5u1eNG/3onm7F83bvWje7kXzbho8PCyEhPif8/Mqxz/D5TJMLcf/yiDuQ/N2L5q3e9G83Yvm7V40b/eieTd9Oq1aRERERERE3J7KsYiIiIiIiLg9lWMRERERERFxe7rm+AI4nQ4KCnJwOKrr5fWysz1wuVz18lq1xcPDE1/fAAICgrBYLGbHERERERERuSgqxxegoCAHHx8//P2j6qX4Wa0eOByNpxwbhoHT6aCkpJCCghxCQyPMjiQiIiIiInJRdFr1BXA4qvH3b6YjoudgsViwWm0EB4dRXV1pdhwREREREZGLpnJ8gVSMz89i8QC0xL2IiIiIiDQ+KsciIiIiIiLi9lSOm7iNGzfw4Yfv/qrn7tixjQceuLuWE4mIiIiIiDQ8WpCriTt06IDZEURERERERBo8leOL9N3eDDbuyaiTr311z2iu6hF93sc5HA7+8pfnOX78GPn5+bRu3YbnnltAYuInJCZ+gqenJ1deeQ0jR45m5crlAERFRZOZ+WPuO++8B4CJExP4n/95g2bNmjF//p/JyckmNzeH3r37MGfOM2e95ocfvsvq1Z/j4WGhS5du/OEPT9Ty3ouIiIiIiJhHp1U3Qikpe7Babbzxxt/56KMVVFVVsmzZh6xY8TFvvfUO//jHBxw6dJCqqirGjp3A2LETiI8fc86vt2nTRjp2vIw33vg7H364gpSUvRw6dLDm8w6Hg3ff/Qd/+9sS/va3d/Hw8CAnJ7s+dlVERERERKRe6MjxRbqqx4Ud3a1LvXtfTrNmQXzyyVJOnTrBmTOnqa6u5qqrriEgIACAl19eDMB3320479cbOnQE+/ensHTp+5w4kUpRUREVFeU1n7darXTv3pO77prONdcMZsKESYSH617GIiIiIiLSdOjIcSO0ceN6nnnmSXx8fBg1agy9evUhICDwrMfk5uZQUlJy1rb/vh2Vw+EA4OOPP2Tx4lcIDg5h4sSbiY2NxTDOviXT/Pl/4bHHZmEYBo8++hA7d26vgz0TERERERExh8pxI7Rt2xauu+4G4uPHEBYWxu7dO3E6nXz//SbKy8txOBw8/fQTHDy4H09PT5xOJwBBQcGkph4HYP/+FPLycgHYuvUHxoyZwLBhIwELR44cxuVy1bxeQUEBU6dOpF27Dtx117306zeAY8eO1Pt+i4iIiIiI1BWdVt0IJSSMZ+7cJ/jmm7XYbF5069adkpJiJky4iXvvvR2Xy2Dw4CH06zcAm83GvHlPExoaytChI1i//mtuvXUSnTp1pmPHTgDcdNMUFi6cz4cfLsHPz5/u3XuSkZFOixYtAQgJCWHs2AnMmDEdb28fIiOjGDUqwcxvgYiIiIiISK2yGP99/qyQl1eKy/Xvb0tm5kmiotrU2+tbrR44HK7zP7ABqu/vVVMQHh5ITk7J+R8oTYLm7V40b/eiebsXzdu9aN4XxjtjGfagy3H5tTc7ys/y8LAQFhZw7s/XYxYRERERERFpgjwqTtAs5U68cr80O8qvpnIsIiIiIiIil8Qn4yMAqsPjTU7y66kci4iIiIiIyK9nGHinf0B1yCBcvq3MTvOrqRyLiIiIiIjIr2Yt2oK14jiVMbeYHeWSqByLiIiIiIjIr+aT8SGGhy/VEWPMjnJJVI5FRERERETk13FV4Z35CVURozGsgWanuSQqxyIiIiIiIvKreOWswcNRSGV04z6lGlSOG6UdO7bxwAN3mx1DRERERETcnE/aP3F6RWEPvdbsKJdM5VhEREREREQumkf5cbzy1lLZ8jbwsJod55I1/j2oZ97p7+OT/m6dfO3KmFupiplyUc9ZuvQDNmz4hqqqSvr06cvu3bsoLCzgd7+bycCBVzFv3tP4+wdw6NABcnKyuf32GcTHN+4L5UVERERExHy+Z94GiweVLW43O0qt0JHjRuzzzz9l/fqv+X//72W8vX2w2x288cbfefDB3/PWW6/XPC47O4vFi//KCy+8xGuvvWxiYhERERERaRKcFfikL6E6PAGXT4zZaWqFjhxfpKqYKRd9dLcupKYeY8GCecyd+xy+vr4ADBgwEIB27dpTUlJc89j+/QdgsVho1649xcVFpuQVEREREZGmwzvzEzzsBVS0mmF2lFqjI8eNlJ+fP/PmLeC1116hoqICAC8vLwAsFguGYdQ81svLu2a7iIiIiIjIJTEMfE+/hcO/C/aQq81OU2tUjhupyMgorr56MH36XM5f//q/ZscRERERERE3YS3agq1kJxWt7oImdABOp1U3cvff/zDTpt1MZWWl2VFERERERMQN+J14GZcthMoGcLlpbbIY/3n+rQCQl1eKy/Xvb0tm5kmiotrU2+tbrR44HK56e73aVN/fq6YgPDyQnJwSs2NIPdG83Yvm7V40b/eiebsXzfvfPMuOELIpjvLYxyjv8KTZcS6Kh4eFsLCAc3++HrOIiIiIiIhII+Z78n/Aw4uK1veaHaXW1elp1dOnTycvLw+r9ceXeeaZZ/jLX/7yk229evXis88+4/XXX8dut/Ob3/yGqVOnArBp0ybmz59PVVUVI0eO5JFHHgHgwIEDzJkzh9LSUuLi4pg7dy5Wq5X09HRmzpxJXl4esbGxLFy4EH9//7rcTRERERERkSbPUpWNT8YHVEZPxfAKNztOrauzcmwYBsePH2fdunU1RfjntgFkZWXx0ksvsXz5cry8vJg8eTIDBgygZcuWzJ49myVLlhAdHc0999zD+vXrGTx4MDNnzuTZZ5+ld+/ezJ49m6VLlzJlyhTmzp3LlClTiI+P57XXXmPx4sXMnDmzVvZHqz3/MsNwAfoeiYiIiIg0Rb6n/xdc1VS0ecDsKHWizk6rPn78OBaLhRkzZjBmzBjefffdn90GPx4dvuKKKwgODsbPz4/hw4eTnJzMnj17aNOmDa1atcJqtZKQkEBycjJpaWlUVlbSu3dvACZMmEBycjJ2u52tW7cyfPjws7ZfKqvVi7KyYnR59s8zDAOHw05hYS5eXj5mxxERERERkVpmsRfie/otqiMScPp3MDtOnaizI8fFxcUMHDiQp59+msrKSqZPn05RUdFPtsXGxpKdnU14+L8Py0dERLBnz56f3Z6VlfWT7eHh4WRlZVFQUEBAQEDNUel/bb9Y/32RdnCwD6dPnyYn58xFfy13YbV6EhISQvPmzfHw0KXsFys8PNDsCFKPNG/3onm7F83bvWje7sXt5733RXAU4d13LuEhTfN7UWfluE+fPvTp0wcAPz8/Jk6cSHp6OgsWLDhr2/r16wkNDf3J8y0Wy88eqf012y/Wf69WDRAYGE5gPf0ZaMyr4eXllZkdodFpzPOWi6d5uxfN271o3u5F83Yv7j5vi72Q0AMvYY9IoNjRHhrp98K01aq3bdvG5s2baz42DIODBw/+ZJvVaiUyMpLc3Nya7dnZ2URERFzw9pycHCIiIggNDaW0tBSn03nWdhEREREREfl1fE+9joejiLJ2fzQ7Sp2qs3JcUlLCggULqKqqorS0lBUrVjBgwICfbBs6dChXXnklmzdvJj8/n4qKCr744gsGDRpEr169SE1N5eTJkzidTlatWsWgQYNo0aIF3t7ebN++HYDExEQGDRqEzWYjLi6OpKSks7aLiIiIiIjIxbPYC/E9tZiqiAScgT3NjlOn6uy06iFDhrB7927GjRuHy+ViypQp3Hbbbdjt9rO2/evU60ceeYTp06djt9uZOHEiPXv++I1//vnnefDBB6mqqmLw4MGMGDECgIULFzJnzhzKysro2rUr06dPB+Cpp55i1qxZvP7660RHR/Piiy/W1S6KiIiIiIg0ab5n/oqHo4jy2D+YHaXOWQwtwfwTP3fNcX1y92sa3I3m7V40b/eiebsXzdu9aN7uxW3n7Swn7Nvu2Jv1ofjyT8xOc8lMu+ZYREREREREGi+ftHfwsOdSEfuo2VHqhcqxiIiIiIiInM1lx+/k/2APvgJ7yJVmp6kXKsciIiIiIiJyFu/MpXhWnqa8rXscNQaVYxEREREREflPLjt+qQtxBPSguvkws9PUmzpbrVpEREREREQaH5/0JVjLj1HU+yOwWMyOU2905FhERERERER+5CzD79h87MEDqW4+wuw09UpHjkVERERERAQAv5OL8azOorjXu2511Bh05FhEREREREQAS3UevicWURUejyN4gNlx6p3KsYiIiIiIiOB34iUszjLKOjxldhRTqByLiIiIiIi4OUtVNr6n36IqehLOgM5mxzGFyrGIiIiIiIib8zuxCFxVlMf+wewoplE5FhERERERcWOWqix8z/yNquibcfp3NDuOaVSORURERERE3JjfiUVgVFPWzn2PGoPKsYiIiIiIiNvyqEz7v6PGk3H5tTc7jqlUjkVERERERNyU37HnwHBR1m6W2VFMp3IsIiIiIiLihjxLD+CT/h4Vre7G5dvG7DimUzkWERERERFxQ/5HnsawBlIe+6jZURoElWMRERERERE3YyvYhHfuasrbPoLhFWZ2nAZB5VhERERERMSduOwEHHwMp3cMFa3vNTtNg2E1O4CIiIiIiIjUH7+TL2MtTaGo1wfg6Wd2nAZDR45FRERERETchGfZYfyOPU9l5HiqI+LNjtOgqByLiIiIiIi4A8NF4P4HMTz9KO30/8xO0+DotGoRERERERE34JP2T2yFmynu9jqGd4TZcRocHTkWERERERFp4izVOfgfeYrqkKupip5idpwGSeVYRERERESkiQs4PAeLs4zSzi+BxWJ2nAZJ5VhERERERKQJs+V/i0/GB5S3fRhnQCez4zRYKsciIiIiIiJNlKU6j8D99+P0aUN57GNmx2nQtCCXiIiIiIhIU+Sy02zPbXhUplMY97nuaXweKsciIiIiIiJNUMDhx/Eq2EBxt//FETzA7DgNnk6rFhERERERaWJsBd/he/pNyts8RFWMVqe+EDpyLCIiIiIi0sQ4ArpQ0vVVKmOmmh2l0VA5FhERERERaWIMWyiVLaabHaNR0WnVIiIiIiIiTYBhGPx11X5SjueZHaVRUjkWERERERFpAk5nl7IpJZOCkiqzozRKKsciIiIiIiJNwPZDOVgs0Ktjc7OjNEoqxyIiIiIiIk3AjsM5dGoVTDM/L7OjNEoqxyIiIiIiIo1cRl4ZabllXH5ZuNlRGi2VYxERERERkUZux+EcAJXjS6ByLCIiIiIi0sjtOJxDbHQzQpv5mB2l0VI5FhERERERacTyiytJzSihbycdNb4UKsciIiIiIiKN2HadUl0rVI5FREREREQasS37s2gZ7k9UqJ/ZURo1lWMREREREZFGKjO/nGPpxVzZPdrsKI2eyrGIiIiIiEgjtSklE4sFBnSNNDtKo1en5Xj69OnEx8czduxYxo4dy+7du/nss88YNWoUQ4cO5b333qt57KZNm0hISGDYsGG89NJLNdsPHDjAjTfeyPDhw3niiSdwOBwApKenM3XqVEaMGMF9991HWVkZAMXFxdx9992MHDmSqVOnkpOTU5e7KCIiIiIiYgqXYbA5JZNubUMJCfQ2O06jV2fl2DAMjh8/zsqVK2v+i4qK4qWXXuL9999n5cqVfPTRRxw9epTKykpmz57N4sWLSUpKIiUlhfXr1wMwc+ZMnnzySdasWYNhGCxduhSAuXPnMmXKFJKTk+nevTuLFy8GYNGiRcTFxbF69WomTZrEvHnz6moXRURERERETHPkdCF5xZVc2T3K7ChNQp2V4+PHj2OxWJgxYwZjxozh3XffZdOmTVxxxRUEBwfj5+fH8OHDSU5OZs+ePbRp04ZWrVphtVpJSEggOTmZtLQ0Kisr6d27NwATJkwgOTkZu93O1q1bGT58+FnbAdatW0dCQgIAo0ePZsOGDdjt9rraTREREREREVN8l5KJt5cnfbRKda2w1tUXLi4uZuDAgTz99NNUVlYyffp0Ro4cSXj4vwcXERHBnj17yM7O/sn2rKysn2wPDw8nKyuLgoICAgICsFqtZ20HznqO1WolICCA/Px8IiMv/Bz8sLCAS9r32hAeHmh2BKlHmrd70bzdi+btXjRv96J5u5eGNu/KagfbD+VwTa8WtIwJNjtOk1Bn5bhPnz706dMHAD8/PyZOnMj8+fO59957z3qcxWLBMIyfPP/XbD8XD4+LO0Cel1eKy/XT16gv4eGB5OSUmPb6Ur80b/eiebsXzdu9aN7uRfN2Lw1x3t/uTqeiykHfjmENLltD5eFh+cUDoXV2WvW2bdvYvHlzzceGYdCiRQtyc3NrtmVnZxMREUFkZOQFbc/JySEiIoLQ0FBKS0txOp1nbYcfjzr/6zkOh4PS0lKCg4PrajdFRERERETq3Tc702jR3J/LWgWbHaXJqLNyXFJSwoIFC6iqqqK0tJQVK1bw//7f/2Pz5s3k5+dTUVHBF198waBBg+jVqxepqamcPHkSp9PJqlWrGDRoEC1atMDb25vt27cDkJiYyKBBg7DZbMTFxZGUlHTWdoDBgweTmJgIQFJSEnFxcdhstrraTRERERERkXqVmlHMicwSru3T4hfPoJWLU2enVQ8ZMoTdu3czbtw4XC4XU6ZMoW/fvjzyyCNMnz4du93OxIkT6dmzJwDPP/88Dz74IFVVVQwePJgRI0YAsHDhQubMmUNZWRldu3Zl+vTpADz11FPMmjWL119/nejoaF588UUAHn74YWbNmkV8fDyBgYEsXLiwrnZRRERERESk3n2zIw1vmycDu2mV6tpkMX7uAl43p2uOpT5p3u5F83Yvmrd70bzdi+btXhrSvMsq7Tz66ncM7B7FbSM6mx2nUTHtmmMRERERERGpXd/tzaTa4WJInxZmR2lyVI5FREREREQaAcMw+GZnGu1bNKN1ZMO6tVRToHIsIiIiIiLSCBw4WUBWfrmOGtcRlWMREREREZFG4JudaQT42ujXOcLsKE2SyrGIiIiIiEgDV1BSxc7DuVzdMxqb1dPsOE2SyrGIiIiIiEgDt2F3Oi7D4NreMWZHabJUjkVERERERBowh9PFht3pdI8NJSLEz+w4TZbKsYiIiIiISAP21fYzFJRUcUNcS7OjNGkqxyIiIiIiIg1UblEFK749Tu8OzenRLszsOE2ayrGIiIiIiEgDZBgG731xGIApQztisVhMTtS0qRyLiIiIiIg0QDsO57D7WB7jrm5H8yBfs+M0eSrHIiIiIiIiDUxFlYP3vjxMq4gAhvbTtcb1QeVYRERERESkgVm+4ThFpdXcNqIznh6qbfVB32UREREREZEGJDWjmK+3n+G6y1vSLqaZ2XHchsqxiIiIiIhIA+F0ufjn6oMEBXgxflA7s+O4FZVjERERERGRBuKz705wKruUKTdchp+P1ew4bkXlWEREREREpAHYeSSHT787wZXdo+jbKdzsOG5H5VhERERERMRkGXllvPXZftpEBTJ9eCfd09gEKsciIiIiIiImKq908D+f7MVm9eDBCT3wsnmaHcktqRyLiIiIiIiYxGUY/HXVfnIKK/jtuO6ENvMxO5LbUjkWERERERExyacbU9l1NJfJ13ekU+sQs+O4NZVjERERERERE2w5kMWn353gqh5RXHd5C7PjuD2tDS4iIiIiIlKPDMMg6fuTLF9/nA4tgrQAVwOhciwiIiIiIlJPHE4X/1h9kE0pmfTvEsEdo7pgs2oBroZA5VhERERERKQeOF0u3vx0H9sO5TDu6lgSrmqrI8YNiMqxiIiIiIhIHXO5DP666gDbDuUw+boODOvf2uxI8l9UjkVEREREROpQXlEl7689zM4juUy8tr2KcQOlciwiIiIiIlIHKqsdJH1/kjVbTgNw83UdGK5i3GCpHIuIiIiIiFyiiioHeUWVhAX54G3z5Lu9GSzfcJyismqu6BrJjYPbExbkY3ZM+QUqxyIiIiIiIr9Sem4ZX+84w3cpmVRVOwHwtnlSZXfSPqYZD0zoQfsWQSanlAuhciwiIiIiInIRMvPL2ZSSwc7DuaTllmH1tNC/SyTdY0PJL6kir6iSTq2D6dc5QqtRNyIqxyIiIiIiIhfAMAw27E7n/bVHcDoNLmsVxC3Xd2RA10ia+XuZHU8ukcqxiIiIiIjIeVRVO/ln8kG+359Ft7Yh3Dm6K8EB3mbHklqkciwiIiIiIvILcgsrmP/edk5nlzJhUDtGDWyDh06XbnJUjkVERERERM4hNaOY11bspbzSwcMTe9GzfZjZkaSOqByLiIiIiIj8jG0Hs/nrqv0EN/Nh9rRetAwPMDuS1CGVYxERERERkf9gGAarNp9kxYbjdGgRxFMzBmKvrDY7ltQxlWMRERERERHAZRjsOpLL6h9OciytmIHdIvnNyM4EB3qTo3Lc5Kkci4iIiIiIW7I7nOw8ksuR00VkFZaTllNGQUkVzYN8mD6iE4N7xeg+xW5E5VhERERERJo8l2FwKquEzLxyisuqycgvZ+uBbMqrHPh6exIR7EeHFkH07RRO307heHp4mB1Z6pnKsYiIiIiINDnH04tJzy2juLya9NwyUo7nUVxur/m8l82DPh3DuaZnNJ3bhOjWTKJyLCIiIiIiTYfT5eLjdcdYs+V0zbYAXxvdY0Pp0T6MNpGBBAd44ett1SnTchaVYxERERERafQMwyC7oIJ/Jh/k4KlCrr+8JUP7taSZvxc+Xqo9cn76UyIiIiIiIg2Kw+ki6fuT7DiUQ3CgN+FBvlQ5nGTml1NYUkWnVsHEdY7AYrFw6HQBR88UcTq7lMpqJzarB3fGd+GqHtFm74Y0MvVSjl944QUKCgp4/vnnefXVV/nkk09o1qwZADfddBNTp07lwIEDzJkzh9LSUuLi4pg7dy5Wq5X09HRmzpxJXl4esbGxLFy4EH9/f4qLi3nsscc4ffo0oaGhLFq0iPDwcKqrq3niiSdISUnBx8eHhQsX0r59+/rYTRERERERuURpuWX8ddV+TmaW0KFlEAUlVRw+XYiXzZOoUD9aRway40gu36VkAuDpYaFtdCBXdY+mZYQ/XdqEEBHiZ/JeSGNU5+V48+bNrFixgmuvvRaAlJQUXnzxRfr06XPW42bOnMmzzz5L7969mT17NkuXLmXKlCnMnTuXKVOmEB8fz2uvvcbixYuZOXMmixYtIi4ujjfffJPExETmzZvHokWLWLJkCb6+vqxevZqtW7cya9Ysli1bVte7KSIiIiIil6CiysFnm06wdttpfLys3D++O307RfzsY+0OF4dOFeDhYaF9iyC8bZ71nFaaojpdn7ywsJCXXnqJe++9t2ZbSkoKb731FgkJCTzzzDNUVVWRlpZGZWUlvXv3BmDChAkkJydjt9vZunUrw4cPP2s7wLp160hISABg9OjRbNiwAbvdzrp16xgzZgwA/fr1o6CggPT09LrcTRERERER+ZVcLoP1u9J4/I3NJP9wigFdI/nzXQPOWYwBbFYPurcLo2vbUBVjqTV1euT4T3/6E4888ggZGRkAlJWV0aVLF/74xz/SokULZs2axeLFi7n22msJDw+veV54eDhZWVkUFBQQEBCA1Wo9aztAdnZ2zXOsVisBAQHk5+eftf1fz8nMzCQmJuaCc4eFBVzyvl+q8PBAsyNIPdK83Yvm7V40b/eiebsXzfvSGIbB3mO5/HVlCqnpxXRpG8rT47rTsVWI2dF+lubd9NVZOV62bBnR0dEMHDiQ5cuXA+Dv789bb71V85g77riD2bNnM3jw4J8832KxYBjGz24/F49z3Kj7XNvPJS+vFJfrp69dX8LDA8nJKTHt9aV+ad7uRfN2L5q3e9G83Yvm/esYhsGRM0VsO5TNriO55BZVEtbMm3vHdqPf/y2w1RC/r5p30+DhYfnFA6F1Vo6TkpLIyclh7NixFBUVUV5ezuOPP07fvn2ZOHEi8OMPh9VqJTIyktzc3Jrn5uTkEBERQWhoKKWlpTidTjw9PWu2A0RERJCbm0tUVBQOh4PS0lKCg4OJiIggJyeHNm3anPW1RERERETEHOWVDr7ZeYZv92SQXVCB1dODrm1DiB/YhoHdovDSqdHSANRZOf773/9e8//Lly9ny5YtzJw5k5EjRzJgwABatmzJe++9x9ChQ2nRogXe3t5s376dvn37kpiYyKBBg7DZbMTFxZGUlERCQkLNdoDBgweTmJjIvffeS1JSEnFxcdhsNgYPHszKlSuJi4tj27ZteHt7X9Qp1SIiIiIiUnsKSqp4ceku0nLKuKxVMAlXtqVvp3Dde1ganHr9ExkaGsozzzzDfffdh91u5/LLL+f2228HYOHChcyZM4eysjK6du3K9OnTAXjqqaeYNWsWr7/+OtHR0bz44osAPPzww8yaNYv4+HgCAwNZuHAhANOmTeNPf/oT8fHxeHl5sWDBgvrcRRERERER+T9ZBeX85cNdlFTYeWxyb7q2DTU7ksg5WYyfu7DXzemaY6lPmrd70bzdi+btXjRv96J5n19GXhkvvL8Tl8vgkZt6ERvdzOxIv5rm3TSYds2xiIiIiIi4p5zCChZ+uAsMg1lTLyemub/ZkUTOq07vcywiIiIiIu4lv7iS//fBTqrtTh6d3EfFWBoNlWMREREREakVdoeTVz7ZQ1mlnd/f3JtWEec+hVWkoVE5FhERERGRWvHBV0c5lVXKjIRujfoaY3FPKsciIiIiInLJftifxbqdaYwY0JreHZqbHUfkoqkci4iIiIjIJTmWVsQ/kg/SoUUQEwa1MzuOyK+i1apFRERERORX23Igi7+uOkBooDf3ju2G1VPH36RxUjkWEREREZGLZhgGSd+f5JP1x+nYMogHJvQg0M/L7Fgiv5rKsYiIiIiIXBTDMPh4/TFWf3+KAV0juWNUF2xWHTGWxk3lWERERERELpjT5eLDtUf5ascZru3TgluHXYaHxWJ2LJFLpnIsIiIiIiIXJCU1j4++OkpabhnD+7fipiEdsKgYSxOhciwiIiIiIudUWe1g5+FcNu7N4MDJAsKDfbh/fHcuvyxcxViaFJVjERERERH5CcMwSP7hFCu/S6Xa7iKsmQ83DenA9X1b6vpiaZJUjkVERERE5CxV1U7+vvoAWw5k06djc4b3b02HlkG6tliaNJVjERERERGpUV5pZ8EHOzmdVcrEa9szckBrnT4tbkHlWEREREREgB9Xon595T7Scsp4cGJPendobnYkkXqjiwVERERERASAj746yr7UfKYN76RiLG5H5VhERERERNiwO521288wrF8rBvWKMTuOSL1TORYRERERcXPFZdV89PURurQJ4aYhHcyOI2IKlWMRERERETe3fMNxqu0ubh12GR4eWnxL3JPKsYiIiIiIGzuZWcK3u9O5vm9LosP8zY4jYhqVYxERERERN2UYBh98dQR/XxtjrmprdhwRU6kci4iIiIi4qW/3ZHD4dCETBrXDz8dmdhwRU6kci4iIiIi4oaz8ct5fe5gubUIY1FurU4uoHIuIiIiIuBmH08Wbn+3D5unBnfFd8LBoES4RlWMRERERETezcmMqqRkl3DaiM6HNfMyOI9IgqByLiIiIiLiRjXsy+HzzSa7pGU1c5wiz44g0GCrHIiIiIiJuYs+xXP6x+iBd24YwbXgns+OINCgqxyIiIiIibuDImUIWJ6bQKiKA+8f3wOqpKiDyn6xmBxARERERkbq1/VA2b362n9BAb353Uy98vVUDRP6bfipERERERJqo4rJqvt2TzvL1x2kX04wHJ/akmZ+X2bFEGiSVYxERERGRJuJUVgmpGcWcyi7lyOkizuSUAnD5ZeHMSOiKt83T5IQiDZfKsYiIiIhII1dR5eDdLw6zeV8mAD5ensRGN2PCoHZ0aRtCu+hmWHQvY5FfpHIsIiIiItKIHUsr4o1P95FXXEnClW25qmc0zYN88FAZFrkoKsciIiIiIo1URl4ZCz/aRaCvjcen9qVDyyCzI4k0WirHIiIiIiKNULXdyeuJKdg8PZg19XJCm/mYHUmkUdPNzUREREREGqH3vjzMmZwyZiR0VTEWqQUqxyIiIiIijcx3ezP4dk8Go69sQ492YWbHEWkSVI5FRERERBqRtJxSlqw5ROfWwYy9OtbsOCJNhsqxiIiIiEgjUVntYHFiCj7eVu4e0w1PD72dF6kt+mkSEREREWkk3vviMJn55dwzphvBAd5mxxFpUlSORUREREQagcOnC/kuJZP4gW3o0ibE7DgiTY7KsYiIiIhIA+dyGby/9jChzbyJH9jW7DgiTZLKsYiIiIhIA7dxbwanskqZeG17vG2eZscRaZLqvBy/8MILzJo1C4ADBw5w4403Mnz4cJ544gkcDgcA6enpTJ06lREjRnDfffdRVlYGQHFxMXfffTcjR45k6tSp5OTkAFBdXc3MmTMZOXIk48eP59ixYwAYhsELL7zAiBEjGDVqFNu3b6/r3RMRERERqVMVVQ6Wrz9GhxZBDOgSaXYckSarTsvx5s2bWbFiRc3HM2fO5Mknn2TNmjUYhsHSpUsBmDt3LlOmTCE5OZnu3buzePFiABYtWkRcXByrV69m0qRJzJs3D4AlS5bg6+vL6tWrmT17dk35XrNmDceOHSMpKYnXXnuNWbNm1RRwEREREZHGxDAMdh3NZf672ykut3PLDR2xWCxmxxJpsuqsHBcWFvLSSy9x7733ApCWlkZlZSW9e/cGYMKECSQnJ2O329m6dSvDhw8/azvAunXrSEhIAGD06NFs2LABu93OunXrGDNmDAD9+vWjoKCA9PR01q9fz6hRo/Dw8CA2NpaYmBh27txZV7soIiIiInLJXC6D7IJyHE5XzcfbD+Xw3LvbeeXjPVTbXdw/vjux0c1MTirStFnr6gv/6U9/4pFHHiEjIwOA7OxswsPDaz4fHh5OVlYWBQUFBAQEYLVaz9r+38+xWq0EBASQn5//s18rMzOT7OxsIiIifrJdRERERKQhcLpcZOaVk5lfQVZBOUfPFHH4dCHlVQ5sVg/aRAVSVFpFTmElzYN8mD68E1f3jMbqqaWCROpanZTjZcuWER0dzcCBA1m+fDnw42kh/81isZxz+7l4nONG5x4eHj/7tc71+F8SFhZw0c+pbeHhgWZHkHqkebsXzdu9aN7uRfN2Lxc6b6fLYM33J9i6P4t9x/OoqPr3ZX/RYf5c3bsFHVoGkZ5bxsET+USFBXDnmB5c0T0KT5XiBkM/301fnZTjpKQkcnJyGDt2LEVFRZSXl2OxWMjNza15TE5ODhEREYSGhlJaWorT6cTT07NmO0BERAS5ublERUXhcDgoLS0lODiYiIgIcnJyaNOmzVlfKzIysmbRrv/cfrHy8kpxuX5atOtLeHggOTklpr2+1C/N271o3u5F83Yvmrd7udB5l5RX8+an+9h3ooDIUD8GdImgY8tgosL8iAzxw8/nP96Od2zOmIFtaj7Mzy+ri+jyK+jnu2nw8LD84oHQOvlV1N///ndWrVrFypUreeihh7juuuuYP38+3t7eNStIJyYmMmjQIGw2G3FxcSQlJZ21HWDw4MEkJiYCPxbuuLg4bDYbgwcPZuXKlQBs27YNb29vYmJiGDRoEJ999hlOp5OTJ09y4sQJevToURe7KCIiIiLyi05mlvDMP7Zy6HQRvxnZmfl3X8H0EZ0Z2D2K2OhmZxdjETHdBf1ElpaWEhAQwK5duzhx4gTx8fHYbLaLfrGFCxcyZ84cysrK6Nq1K9OnTwfgqaeeYtasWbz++utER0fz4osvAvDwww8za9Ys4uPjCQwMZOHChQBMmzaNP/3pT8THx+Pl5cWCBQsAGDFiBHv27KlZrGvevHn4+PhcdE4RERERkUuRW1TBi0t34WX1YPa0y2kbpcW0RBo6i/FzF+r+h5dffplTp07x6KOPMnHiRDp06ECrVq1qbqvUFOm0aqlPmrd70bzdi+btXjRv9/JL866sdvDckh3kFVcyZ3pfosP86zmd1Db9fDcNl3xa9fr163n22Wf54osviI+P55133uHgwYO1GlJEREREpClwGQZ/XXWAtNxS7hvXTcVYpBG5oGuOfX192bRpE1dccQUA1dXVdRpKRERERKQxWvltKjsO53DzdR3pHhtmdhwRuQjnLcchISE8/fTTpKSkcOWVV7Jw4cJftQK0iIiIiEhTtuVAFp9tOsHVPaIZGtfS7DgicpHOW45feOEFIiIieOONN/D19cVisfDCCy/URzYRERERkUbhZGYJb39+gA4tgpg2vBMWi8XsSCJykc5bjps3b86ECRPIz8/H6XQyZcoUmjdvXh/ZREREREQavH2p+fzlo10E+Nm4f0IPbNY6uVuqiNSx8/7krlu3jsmTJzN37lzy8vIYNWoUa9eurY9sIiIiIiINlssw+PS7VF78aBdB/l48NrkPQf5eZscSkV/pvOX41VdfZenSpTRr1oyIiAjef/99XnnllfrIJiIiIiLSIBWXVfPysj0kfpvKFd0imTM9jqhQP7NjicglsJ7vAS6X66wFuLp06aJrKERERETEbaVmFPO/n+6joLiSacM7cW3vGL0/FmkCzluOfX19SU9Pr/mB37ZtG97e3nUeTERERESkIXG6XCR9f4pPN6YSGuTD47f2JTa6mdmxRKSWnLccP/roo9xxxx3k5ORw8803c+LECf7nf/6nPrKJiIiIiDQIOYUVvPHpPo6nF9O/SwS/m9KXyrIqs2OJSC06bzm+/PLLWbp0KTt37sTlctGrVy9CQ0PrI5uIiIiIiOlchsH/rtxHVn45947tRv8ukQT6eakcizQx5y3H+/btA6i5fVNGRgYZGRl069atbpOJiIiIiDQA3+/LJDWjmDvju9C/S6TZcUSkjpy3HD/44IM1/2+328nJyaF79+58/PHHdRpMRERERMRsldUOPl53jNjoQAZ2jzI7jojUofOW46+//vqsj3ft2qViLCIiIiJuIen7UxSWVvPbcT3w0IrUIk3aee9z/N969+5dc6q1iIiIiEhTdSanlDVbTjGgayQdWgaZHUdE6tgFX3MMYBgGKSkpVFZW1mkoEREREREzlVbY+Z9P9uDnY+Xm6zqYHUdE6sFFXXNssVgIDQ3l6aefrstMIiIiIiKmcbpc/O/KFApKqvjjlMsJDvA2O5KI1IOLvuZYRERERKSpcrpcLFlzmP0nCrh9VGfat9Dp1CLu4pzl+Nlnn/3FJ86ZM6fWw4iIiIiImKW4vJo3Vu7jwMkC4ge24ZqeMWZHEpF6dM5yHBwcXI8xRERERETMcyytiP9duY+ismrujO/CVT2izY4kIvXsnOX4gQceOOeTysvL6ySMiIiIiEh9crpcrNp0ks++O0FIoDeP33o5sdHNzI4lIiY47zXHa9eu5ZVXXqG8vBzDMHC5XBQWFrJz5876yCciItJgnMkpZVNKJvnFlRSWVGG1ehAS4E1YkA+9OjSnbVQgFt0HVaTRqKp2smjZbg6dLuSKbpHcOrQTfj7nfXssIk3UeX/6FyxYwO9+9zs++OADZsyYwdq1a/H396+PbCIiIg1Cld3JZ9+dYM2WU1gsENrMh+AAbyqrnew/WUBhaRWffneCiBBfendoTvsWQbSPaUZ4eKDZ0UXkHFwugzc+3cfh04U6jVpEgAsox76+vowaNYoDBw7g7e3N008/zY033lgf2UREREzlchls3pfJyo2p5BZVcnWPaCYNaU+gn9dZjyutsLPjcA4/7M/i6x1pfLH1NADX9G7BxEGxP3m8iJjLMAzeW3uYXUdzmTr0MhVjEQEuoBx7eXlRXV1N69atOXDgAAMGDKC6uro+somIiNQbwzAoKKkiM7+cgpIqCkqq2JSSSWZ+Oa0jA/jDqD50bhPys88N8LUxqFcMg3rF4HC6OJ1dys4jOST/cIpdh7OZPrwzfTuF1/Meici5fLMzjW92pDGif2uu79vS7Dgi0kCcsxz/9re/5dZbb+X666/n7rvv5vnnn2fy5Mls375dK1mLiEiT4HC62H4ohw270zmeUUxVtfOsz7cM9+f+8d25/LLwC76W2OrpQWx0M2KjmzH8ynYsXLKN11bsZebk3nRpG1oXuyEiF6Gs0s6KDcfp2jaEiUPamx1HRBqQc5bjuLg4/vznPwMwevRoAgICWLx4MVu3bmX06NH1FlBERKQubDuYzbtfHKK43E54sA9X94gmJsyPqFA/QoN8CPb3xtvL85Jeo210M2bdejlz/76Vv35+gGfu7I+/j62W9kBEfo3PN5+kvNLBTUM64KEF9ETkP5yzHN9xxx3ccccdbN26lY8++oihQ4cyfPhwpk6dSlhYWH1mFBERqVXrd6XxzppDtI0K5M7RXekWG1pnb5K9bZ7cPaYr897ZzjvJh7h3bDetaC1ikryiStZuO8PA7lG0jtSCeSJytvNec9yvXz/69etHYWEhK1eu5I9//CMBAQG888479ZFPRESk1hiGweofTvHxumP0aBfGb8d3x9t2aUeHL0TbqGaMuyaWT9Yfp3tsKNf0iqnz1xSRn0r89jgA469pZ3ISEWmILvhGbl5eXvj5+eHv709BQUFdZhIREal1TpeLD9Ye4esdaQzoGsmd8V2wenrU2+uPHNCG/ScKWPLFYWLC/WkfE1Rvry0icDr7x/uUD+/fmrAgH7PjiEgDdN53Bdu3b+fxxx9nyJAhbNq0iQcffJDPPvusPrKJiIjUispqB69+spevd6QxYkBrZiR0rddiDODhYeG+cd0JDvDi1eV7KSipqtfXF3F3H687hq+3lVED25gdRUQaqHMeOX7zzTdZvnw5FRUVTJo0iVWrVhEerttQiIhI45KRV8biFSmk55UxbdhlDLncvNu2BPjaeOjGnsxbsp1Xl+/lD7f0ueRFv0Tk/A6cLGDv8TwmDWlPgK8WxRORn3fOcrxx40YeeeQRbrjhBjw99Q+3iIg0PtsOZvN20gGsnh78/ubedGsAt1JqGRHAXaO7sjhxL3/5aBe/m9QTP61gLVJnXIbBsm+OEtrMmxt0T2MR+QXnLMdacEtERBqrU1klfLzuGCmp+bSLacZvx3UntFnDucawb6dw7hvbnTc+3ceC93dy3/juhAf54uGhVaxFatu2g9mcyCzhzvgu2Kw64CMi53bBC3KJiIg0dHlFlaz49jibUzLx87Fy05AOXN+3JTZr/V5ffCHiOkfgZfPktRV7efyN7/H0sBDWzIce7cO4olsk7aKb6ZZPIpeoqKyaD746QsvwAAZ2izI7jog0cCrHIiLS6BWXV5P8wynWbjsDwIgBrRk1sA3+Dfx05Z7tw3j69n4cOlVIXnElaTllrN+Vzlfbz9A2KpD7x/fQqroiv5LLZfDGyhTKKx38/qbeOjNDRM5L5VhERBqt/OJKkrecYsOudOwOF1d2j2LcNe0aVaGMDvMnOsy/5uPySjtbDmSzbN1R/vzONh6Y0IMOLXTbJ5GLlbjxOAdPFXLHqC60iggwO46INAIqxyIi0uhkFZSz+vuTfLc3E8OAgd0iGTWwzVkls7Hy87FxbZ8WXNYqmFc+3sOC93dw37ju9OmoO0aIXKhvd6ezatNJrukZzdU9o82OIyKNhMqxiIg0eHaHk5NZpew/kc++1HyOphXh6eHB4N4xjOjfmubBvmZHrHUxzf2Zc1scLy3dxZuf7ueJ6X1pGa6jXyK/xDAMVm06wYpvU+kWG8rUoZeZHUlEGhGVYxERMZ1hGJSU28kurCCnsILcwgqKy+2UlFeTmV9OWk4ZTpeBBWgTFUjClW0Z0qcFQQHeZkevUwG+Nh6Y0JNn/rGVVz/Zy5O/iWvw11GLmKWs0s7Sr4/y7Z4MBnaL5PZRXbB6NrzF+ESk4VI5FhGRelVld7LtYDZpOWVkF1aQXVBBTlEFVdXOsx7n620l0M9G8yAfRgxoTduoZnRqHUyAr3uVw5BAb+4f34MX3t/BGyv38dDEnnrDL/IfHE4X3+xI49PvUimvdDDqijZMGNwOD632LiIXSeVYRETqRVFZNRt2pfHltjOUVtixenoQHuxDeLAvnVsHEx7iS3iwLxHBvjQP8sHLpvuR/kuHlkFMG96Jf6w+yOuJKdw7tpvu1yoCnMku5W+fH+BkVgld24Zw05AOtI4MNDuWiDRSKsciIlJnHE4X2w5ms2lfJvtTC3AZBj3bhzFyQGs6tgrWkZ2LMKhXDHaHi/e+PMwrH+/hgQk98fZSQRb35HC6WP39ST797gT+PlZ+O647fTuF697gInJJVI5FRKTW2R1Ovt2TwervT5FXXElYMx9GXtGagd2iiGne+FeUNsv1fVviZfPgH6sP8uLSXTw8sRd+PvqnXNzL6exS/vb5fk5lldK/SwRTh15GoJ+X2bFEpAnQv6giIlKrdh3N5f0vD5NbVEn7Fs24ddhl9GgfpqPEteSanjH4eFl589N9/L8Pd/Lozb3d7jpscT+GYXA8vZjv9mbw7Z4M/H2s3D++O307RZgdTUSakDotxy+//DJr1qzBYrEwceJEbr/9dh5//HG2b9+Or++Pt9144IEHGDp0KJs2bWL+/PlUVVUxcuRIHnnkEQAOHDjAnDlzKC0tJS4ujrlz52K1WklPT2fmzJnk5eURGxvLwoUL8ff3p7i4mMcee4zTp08TGhrKokWLCA/XvSFFROpaXlEl7689zM4jucQ09+fRyb3p2iZEpznWgX6dI/CyevDaihReeH8Hj93cu8mv3C3uqaCkik0pGXy3N5PM/HK8rB5c1SOKidd20C+FRKTW1dlyl1u2bOH777/n008/5ZNPPmHJkiUcP36clJQU3n33XVauXMnKlSsZOnQolZWVzJ49m8WLF5OUlERKSgrr168HYObMmTz55JOsWbMGwzBYunQpAHPnzmXKlCkkJyfTvXt3Fi9eDMCiRYuIi4tj9erVTJo0iXnz5tXVLoqICD9e+5f0/Ume+Ov37DuRz6Rr2/P07f3o1jZUxbgO9erQnEcm9SS3sJL57+0gr6jS7EgitaaiysGbn+3jsde+45P1xwn0s/GbkZ156cGr+c3ILirGIlIn6qwc9+/fn3feeQer1UpeXh5OpxNvb2/S09N58sknSUhI4JVXXsHlcrFnzx7atGlDq1atsFqtJCQkkJycTFpaGpWVlfTu3RuACRMmkJycjN1uZ+vWrQwfPvys7QDr1q0jISEBgNGjR7Nhwwbsdntd7aaIiFtLzShm7t+38vG6Y3SPDWPeXVcw8oo2utVQPenSNpRHJ/empNzO8+9tJyu/3OxIIpcsLbeMP/9zGz/sz2L4gNbMv+cKHr+1L4N6xeDrrSsCRaTu1OnfMDabjVdeeYW3336bESNG4HQ6ueKKK3jmmWfw8/Pjnnvu4eOPP8bPz++sU58jIiLIysoiOzv7rO3h4eFkZWVRUFBAQEAAVqv1rO3AWc+xWq0EBASQn59PZGTkBecOCwuojd2/JOHhug2BO9G83UtTmLfd4eSDLw7xyTdHCQn05sk7B9C/a5TZsRqkup53eHggEc0D+NObm3lx2W5efWwIfj46qmaWpvDzbaZvd6bxytKd+HhZmXfvVfTo0NzsSL9I83YvmnfTV+e/fnvooYeYMWMG9957L5s3b+a1116r+dy0adNITExkxIgRP3mexWLBMIyL2n4uHh4XdwQjL68Ul+unr1FfwsMDyckpMe31pX5p3u6lKcy7oKSKxSv2ciy9mKt7RDP5+g74+dga/X7VhfqadzNvTx6Y0IP5727n9WW7mD6ic52/pvxUU/j5NovD6WLpN0dZu+0MHVoEcd+47oQEejfo76fm7V4076bBw8PyiwdC66wcHzt2jOrqarp06YKvry/Dhg0jKSmJ4ODgmtOhDcPAarUSGRlJbm5uzXOzs7OJiIj4yfacnBwiIiIIDQ2ltLQUp9OJp6dnzXb48ahzbm4uUVFROBwOSktLCQ4OrqvdFBFxK8fSinh1xV4qq5z8dlx34jprpdiGokOLIIb3a03yllP07RxBt7ahZkcSuSAFJVW8npjC0bQibohryU1DOujSDBExRZ39zXPmzBnmzJlDdXU11dXVfPXVV/Tr14/nnnuOoqIi7HY7H330EUOHDqVXr16kpqZy8uRJnE4nq1atYtCgQbRo0QJvb2+2b98OQGJiIoMGDcJmsxEXF0dSUtJZ2wEGDx5MYmIiAElJScTFxWGz6fQyEZFLtedYHi+8vwMvqwdPTOurYtwAjbsmlqhQP/6RdJCKKofZcUTO68DJAub+fQuns0u5Z0w3ptxwmYqxiJimzo4cDx48mN27dzNu3Dg8PT0ZNmwYDzzwACEhIdxyyy04HA6GDRvG6NGjAXj++ed58MEHqaqqYvDgwTWnWi9cuJA5c+ZQVlZG165dmT59OgBPPfUUs2bN4vXXXyc6OpoXX3wRgIcffphZs2YRHx9PYGAgCxcurKtdFBFxG3uO5fHq8j20aB7Ao5N1X92GysvmyR3xXZi/ZDvL1h1j+vBOZkcS+VlFpVUkbznFF1tPExXqx8wpPWjR3N/sWCLi5izGz13A6+Z0zbHUJ83bvTTGeasY/3pmzfujr4+wZstpHpvcm646vbreNMaf7/ricLpIzy3jTE4pR88U8V1KJg6ni6u6R3PLDR0b5SrUmrd70bybBtOuORYRkcbv6JkiFq/YS0xzfxXjRmT8Ne3YdTSPvycd5Jk7+zfK4iFNR2pGMW9+uo+sggoArJ4eXNE1kviBbYgM9TM5nYjIv+lfSxER+VlpuWW8/PFuQgK9+f1NKsaNiZfNkztGdeb5d3fw8fpjTBum06ul/rlcBknfn2TlxlSCAry4M74LsdHNiAz1xfMi7yQiIlIfVI5FROQnsgvKefGjXVg9Pfj9zb1p5u9ldiS5SB1bBjO0Xyu+2HqauE4RdGkTYnYkcSO5RRX89bP9HD5TRP8uEUwb3gl/3X9bRBo4/dpORETOciytiGff2U613ckjN/UiPNjX7EjyK40f1I6IEF/+nnSAymqtXi31Y9vBbJ56eyunsku5a3QX7hnTTcVYRBoFlWMREamx9WA2Cz7YiZ+3lSemx9E6MtDsSHIJvG2e3DGqC3lFlXyy7rjZccQNZOSV8can+4gO8+PpO/pzZfdoLBaL2bFERC6ITqsWERGKSqv44KsjbDmQTfuYZjw4sSfN/HQqdVNwWatgbohrxZfbTtO3UziddXq11KGPvj6Kl82Dh27sqcsxRKTR0ZFjERE3Zne4+HLraZ546wd2HM5h3DWx/GHK5SrGTcyEwT+eXv23zw9QUaXTq6Vu7D2ex55jeSRcGatiLCKNko4ci4i4IYfTxff7sli5MZW84kq6tAnh1mGXER3mb3Y0qQPeNk9mjO7Kc+9u5/21h7kzvqvZkaSJcThdfPjVESJCfLkhrqXZcUREfhWVYxERN1JQUsU3O8+wYVc6xeV22kQG8puRnekWG2p2NKlj7VsEET+wLas2naB3h+b07RRhdiRpQpZ9c4yMvHIevLEHVk+dmCgijZPKsYiIG8jKL2f1D6fYlJKB02nQq0Nzhlzegm6xoXhosRy3Meaqtuw9nsc/kw/RLiaIkEBvsyNJE/DV9jN8ue00Q+Na0adjuNlxRER+NZVjEZEmrKLKwaffpfLl1jN4eFi4pmcMwwe0JkK3Z3JLVk8P7k7oytx/bOXNT/fx2C298fTQUT759XYfzeX9tYfp3aE5N1/Xwew4IiKXROVYRKQJcrpc/LA/i0/WH6egpIpBvWIYf00sQQE6UujuosP8mTasE3/7/AArN55gwqB2ZkeSRupUVgn/u3IfrSMCuWdMNzw8dBaKiDRuKsciIk1IeaWDTSkZrNlymrziSlpHBPDbcd1p3yLI7GjSgFzVI5pDpwr5fNMJOrUK1jXnctHyiytZtGw3/r5WHprYE28vT7MjiYhcMpVjEZFGzmUYHDhZwHd7Mth+OAe7w0WHFkFMGdqRXh2a65pi+VlTh13G8Yxi3k46wLN3DcDXW28J5MJUVDl45eM9VFY7efzWvrp2XUSaDP1LKCLSQNkdTgpKq2nmZ8PH699/XRuGQWFpNRl5ZRw8VcimlAzyi6vw87ZydY9oruoRTbuYZiYml8bA2+bJHaO6MO+dbXy8/hjThnUyO5I0AnaHi8WJKZzJKeN3k3rSKiLA7EgiIrVG5VhEpIEwDIPDpwtZvyud4+nF5BRVYBg/fi7A14aPlyfVDheV1Q6q7S4ALBboFhvKTUM60Kdjc2xWndooF65dTDOuj2vJ2m1nuKJrJB1bBpsdSRowl8vgrc/2sS81n9tHdaZ7uzCzI4mI1CqVYxERkxmGwY7DOSRuTCUtpwx/Hytd2oZyRbdIwpr5UFxeTV5RJVV2J942T7xsnoQH+xIT5kfLiAAC/bzM3gVpxCYMasfOwzn8Y/VBnr69n37BIj/LMAzeWXOQbYdymHxdB67pGWN2JBGRWqdyLCJiouyCct778gh7j+fRork/t4/sTP+ukXjbVFCkfvh4WZk+ojMvLd3NomV7uH98D/x89PZAzrZ+VzobdmcQP7ANw/q3NjuOiEid0L9+IiIm2Xkkhzc+3YfFYmHy9R25vm8L3XNWTNGjXRh3xnfhH6sPMv+97TwyqRehzXzMjiUNRHpuGR9+dYRusaGM162/RKQJ07swERETfLMzjVeX7yUmzJ95dw1gWL9WKsZiqqt6RPO7m3qRX1zJM//Yyp5jeWZHkgbA7nDx5qf78LJ5cmd8F61+LyJNmt6JiYjUo7yiCt7+/ABL1hyiR7sw/jjlch2hkwajW9tQZk+LI9Dfi0XLdvPel4epsjvNjiUmWvHtcU5ll3JHfBeCA3TLJhFp2nRatYhILTAMg8z8co6cKeJYWhEZ+eVYPSzYrJ74+1hp5u+FyzD4dk8GDoeLkQNaM2FwOx0tlganRXN//nRbHMu+Ocba7Wf4fl8mV/eMZsjlLYkI9jU7ntSjrPxyvtx6mqt7RtO7Q3Oz44iI1DmVYxGRX8nucJKaUUJKaj7bD2WTkVcOgL+PlZbhAbhcBiXl1WTml1FUWk21w8XVvWIYfUVrIkL8TE4vcm42qydThl5G/y6RfLHtNF9uPcMXW07Ts30Y1/dtSdfYUJ1e6wY+2XAcq6cHN+o6YxFxEyrHIiIX4FRWCRt2p5OVX47TZVBZ7eRMTikOp4HFAp1bh3B935Z0axtKRIgvlv8qDoZh4HAaxEQHkZNTYtJeiFycDi2D6NAyiIKSKtbtTGP9rjReXLqb4AAverYPo1f75vRoH4bV89efAZFbWMHRtCK6twsjwNdWi+nlUhxLL2LbwWzGXNWWIJ1OLSJuQuVYROQc8osr2X44h+/3ZZGaUYzN6kGriACsHhb8fKzc0LcVHVsG0bFV8Hnf1FssFmxWHWmTxikk0Jvxg9ox+sq2bD+czfZDOWw5kM2G3RkEBXhx3eUtubZ3zEXdc3vzvky+2n6G4+nFAAT42rj5ug5c2T3qJ79ckvplGAbLvj5KM38vRgzQbZtExH2oHIuI/JcDJwv4dGMqh04XAtAyPIBbbujIld2j8PfRkS1xXzarB1d0jeKKrlE4nC72n8hn7bYzrNhwnOQfTjFpSHsG9Yo57ynXq78/ybJ1x2gZ7s/Ea9vTJiqQld+m8rfPD7D1YDYPTOhxSUej5dJsPZjN4TNFTB/eCR8vvVUUEfehv/FERACny8WBEwUkbznF/hMFNUfK+nWOICpU1weL/Derpwc92zenZ/vmnMkp5f0vD/NO8iG+T8nktpGdiQ7z/9nnffpdKonfptK/SwR3je5aU4K7tAlh7bYzfPjVEd7/8jDThnfSEWQTFJVWsWTNIWKjm3FNr2iz44iI1CuVYxFxS3aHk1PZpaTllHEis4Tth7IpKbcT6Gdj8vUdGdInBpvV0+yYIo1Cy/AAZt7Sh417Mlj6zVGeensLo69sy6gr2tSU36NpRazcmMq+1Hyu7B7FHaO64OHx7/LrYbEwrF8risqqWP39KVqEB3B935Zm7ZJbMgyDf6w+SLXDxV2ju2g1fRFxOyrHIuI2KqocbNybwd7jeRw+VUi1wwWAl+3HI2BXdI2kR7swbFa9IRS5WBaLhWt6xdCzQ3M+WHuYxG9T2bA7nZAAb+xOF6eySgnwtXHTkA4M69/qnKde3zioPRm55Xyw9ghRoX50iw2t5z1xXxv3ZrD7WB6Tr+94ziP/IiJNmcqxiDR51XYnX+9II+n7k5RW2IkK9WNQrxg6tQ6hVYQ/zYN9dVsakVoS5O/FvWO7M7BbLut3pWN3OPEyPJl0bXuuu7wl3l6/fEaGh4eFGQldmf/udl5bsZdZUy+ndWRgPaV3X2eyS3l/7RE6tQrmhjgdsRcR96RyLCJNlsPp4tvd6Xy26QSFpdV0axvC+EHtaRfTzOxoIk1erw7N6dWh+a96rq+3ld9N6sW8JdtZtGw3T0yLIyzIp5YTyr8Ul1fzyid78PHy5O4x3fTLQhFxWyrHItKoOZwu0nPLyC+uwmIBiwVyCis5k1NKyvF88oor6dAyiHvGdKNT6xCz44rIBQpt5sMjN/Vi/rs7eGnZbuZM76uVk+uA3eHiteV7KSqrZtbUywkJ1D2NRcR96V8ZEWl07A4X3+/L5JudaZzOLsXpMn7yGH8fK22iApk2vBM92oVq1VuRRqhleAD3j+/OXz7cxbJ1x5g2rJPZkZoUu8PFm5/t48iZIu4d243YaJ1VIyLuTeVYRBqNjLwyth3KYd3ONApKqmgVEcCw/q1oHRFIeLAvAC7DIKyZD8EBXirEIk1A17ahDO3Xii+2nibusnC6tNUCXbWhstrBq8v3sv9EAZOv60D/LpFmRxIRMZ3KsYiYJqewgt1Hc8ktqqSgpAq7w4XLMPCyedIuuhmx0YEUlVVz5EwRB08WkJZbBvx4P9TbR3WmW1sdERZxB+MHtWP3sTzeTjrIM3f2x9dbb18uRXmlg798tIuTmSXcGd+Fq3rofsYiIqByLCImyC+uZNWmE3y7JwOny8Bm9SA00BsvmyceHhbKKuxsO5hd83gvmwftY4IY3DuGyy8LJ7SZFuYRcSfeNk/ujO/C/He38+4Xh7hrdFf9YuxXsjuc/M8neziVVcL947vT57JwsyOJiDQYKsciUm+KyqpJ2nySb3amYRgGg3vHMKJ/a8KCfH7yRre4rJoTmcU08/eiZXgAVk/de1jEnXVoEcTYq2JJ3JhKeLAv465pZ3akRsflMnjj0/0cOl3I3QldVYxFRP6LyrGI1LnSCjvJP5xi7fbTOBwGV/aIYsyVbWn+f9cJ/5xm/l70bP/rbgMjIk1TwlVtySmq4NPvThDWzIdresWYHanRMAyDd9YcYsfhHG65oSNXdIsyO5KISIOjciwidabK7mTND6dYs/UUlVVO+neNZOzVsUSF+pkdTUQaIYvFwm0jOlNYWs0/kw8RHuxL5za6RduFWPHtcTbsTid+YBuGxrUyO46ISIOk8xRFpE4cTSvi6be3kLgxlc6tQ5h7R3/uGdNNxVhELonV04PfjutORIgvb362j5LyarMjNXhrt51m1aaTDOoVw4RBOh1dRORcVI5FpFbZHS6WrTvK/He343AazLylDw/e2JOWEQFmRxORJsLX28q9Y7tRWmHn70kHMYyf3utcfvTD/iw+WHuEPh2bM234ZVrITETkF+i0ahGpNSczS/jr5/tJyyljUK9obr6uo265IiJ1onVkIJOGdOCDtUdYtu4YPduFERbkQ4CvDe//W/ne3aWk5vHXVfu5rFUw947thqeHjomIiPwSvWsVkUtWUFJF8g+n+HrHGQL8bPxuUk8tpiUide6Gvi05fKqQ5B9OkfzDqbM+5+ttJaa5H63CAxjarxXRYf4mpTTH8fRiXlueQkxzfx68sSc2q6fZkUREGjyVYxH5VUor7Bw+Xcjuo7ls3peJywVX9ojipiEdCPC1mR1PRNyAxWLhvvHdySmsIK+oktyiSsorHVTZnZSUV5OWU8bmfVnsPJrLE7f2/cUV8puSY+lFLFq6m0A/G4/c1As/H73dExG5EHX6t+XLL7/MmjVrsFgsTJw4kdtvv51NmzYxf/58qqqqGDlyJI888ggABw4cYM6cOZSWlhIXF8fcuXOxWq2kp6czc+ZM8vLyiI2NZeHChfj7+1NcXMxjjz3G6dOnCQ0NZdGiRYSHh1NdXc0TTzxBSkoKPj4+LFy4kPbt29flboq4hbTcMnYczuF0dilnskvJzC8HwGb14OqeMYwc0JpwN3njKSINh4fFQmSIH5EhP7/Y35mcUp5/dwd/Wbqbx2+9nGZ+XvWcsH7tO5HPq5/sJcjfi0cn9yY4wNvsSCIijUadXXyyZcsWvv/+ez799FM++eQTlixZwsGDB5k9ezaLFy8mKSmJlJQU1q9fD8DMmTN58sknWbNmDYZhsHTpUgDmzp3LlClTSE5Opnv37ixevBiARYsWERcXx+rVq5k0aRLz5s0DYMmSJfj6+rJ69Wpmz57NrFmz6moXRZo8wzD4bm8Gz76zjSf/+gMrNhznVGYJMc39mTCoHY/fejmv/m4Q04d3UjEWkQapZXgAD0/qSX5xJS8v243d4TQ7Up3ZdjCbl5ftJjzYl8dvvVx/L4uIXKQ6K8f9+/fnnXfewWq1kpeXh9PppLi4mDZt2tCqVSusVisJCQkkJyeTlpZGZWUlvXv3BmDChAkkJydjt9vZunUrw4cPP2s7wLp160hISABg9OjRbNiwAbvdzrp16xgzZgwA/fr1o6CggPT09LraTZEmq6i0ipeW7eZvnx+gqtrJ5Os6sOjBq3n+3oE8MKEHo69sS8eWwdisWuBFRBq2ji2DuTuhG6kZJaz+r2uTm4oNu9N5fWUKbaOa8cepfQjSEWMRkYtWp6dV22w2XnnlFd5++21GjBhBdnY24eHhNZ+PiIggKyvrJ9vDw8PJysqioKCAgIAArFbrWduBs55jtVoJCAggPz//Z79WZmYmMTExF5w7LMz8W86EhweaHUHqUUOb9w8pGbyydBeVVQ7undCTUVe21e0/alFDm7fULc27YRgRHsie1Hw+33ySUVe3J7p53SzQVd/zdrkMPv76CEtWH+TyzhE8Pr0fPrpLQL3Rz7d70bybvjr/2/Ohhx5ixowZ3HvvvZw4ceInn7dYLD97f8Jf2n4uHue4RcG5tp9LXl4pLpd590wMDw8kJ6fEtNeX+tWQ5l1V7eTDr4+wflc6rSMDuPuWPsQ09yc3t9TsaE1GQ5q31D3Nu2EZd1Vbtu7P5JWPdvDIpF61/ku/+p53blEFf086yIGTBQzoGsmd8V0oKa5Af+Lqh36+3Yvm3TR4eFh+8UBonZXjY8eOUV1dTZcuXfD19WXYsGEkJyfj6fnvWwlkZ2cTERFBZGQkubm5NdtzcnKIiIggNDSU0tJSnE4nnp6eNdvhx6POubm5REVF4XA4KC0tJTg4mIiICHJycmjTps1ZX0tEfllGXhmvfLKX7PxyRg5ozfhB7bB66pRpEWk6QgK9GXdNOz786gjbD+UQ17lxvj+wO1ys25XGig3HMYDbRnRiUK8YneEjInKJ6uyd75kzZ5gzZw7V1dVUV1fz1VdfMXnyZFJTUzl58iROp5NVq1YxaNAgWrRogbe3N9u3bwcgMTGRQYMGYbPZiIuLIykp6aztAIMHDyYxMRGApKQk4uLisNlsDB48mJUrVwKwbds2vL29L+qUahF3dPBkAfPe2U5FpZ3HbunDpCEdVIxFpEm6vm8LWkcEsOSLQxSWVpkd56I4nC6+3ZPO7De/54O1R4iNbsYzd/RncO8WKsYiIrXAYvzcucu15JVXXqk5Wjxs2DAefPBBNm/eXHMrp8GDB/P4449jsVg4ePAgc+bMoaysjK5duzJ//ny8vLxIS0tj1qxZ5OXlER0dzYsvvkhQUBCFhYXMmjWL06dPExgYyMKFC2nZsiVVVVX86U9/IiUlBS8vL5599lm6det2Ubl1WrXUJzPnXW138uW20yR+m0pEiC+/m9RLq5vWMf18uxfNu2FKzy3jmX9upX1MEI/e3BsPj9oplnU179IKO+t3pfHV9jMUllbTNiqQGwe3p2vbEJViE+nn271o3k3D+U6rrtNy3FipHEt9MmPedoeTzfuyWLkxlYKSKnp3aM5do7vg52Or1xzuSD/f7kXzbri+3Z3O31cfZPygdiRc2bZWvmZtztvucPLD/my2HMziwIkCnC6Dbm1DGNqvNT3ahaoUNwD6+XYvmnfTYNo1xyLS8GQVlLN+Vzob92RQWmGnXUwz7k7oSqfWIWZHExGpV1f3jGb/yQJWfptKaKA3V3aPahCF0+ly8d3ezJpfXjYP8mFYv1YM7BZFywjz76YhItKUqRyLNHFOl4tdR/JYt/MM+04U4GGx0Kdjc67t00Kn5ImI27JYLEwf3onCkir+9vkB9p3IZ9qwTviadBskwzDYfiiH5RuOk5lfTruYZtwZ34UubfT3tIhIfVE5Fmmi8osr2bA7nQ270yksrf6/VVpjuaZnDCGB3mbHExExna+3lZm39GHV5hOs3JjKzsO5tIkKpG1UID3ah9GldcgvXo+cVVBOSdmPZ+FcynXLh04V8OHXRzmZWUJMc38emNCDPh2bqxSLiNQzlWORJsbucLH6+5Os2nwSp9NF93ZhTBseQ8/2YXhe5D2/RUSaOg8PC2OuiqVbbCjfp2RxIrOYb3am8cXW0wQFeNGnQ3P8fW1YPT0I8LUR2swbq6cH63amsetILgYQHOBF/y6RjLgqliBvzwsutUVl1Sz9+gib92UR1sybO+O7MLBbVK0tECYiIhdH5VikCTl6poi/JR0gK7+c/l0imDC4PRFafVpE5LzaxwTRPiYI+HEl/93H8vh+XyY/HMii2u7C+V8Ldfr7WBl9ZVuim/ux9UA2X20/wxdbTxMZ4svA7lEM798ab5vnz76Wy2Wwblcan6w/TrXdyegr2xI/sM05Hy8iIvVD5VikCTAMg693pPHhV0cICfTm9zf1onu7MLNjiYg0Sl42T/p1jqBf54iabS6XQUmFnfziSkrK7XRqFYy3149l9oquUZRV2jmcXsLaH06S+G0qm/dlcdfoLjWF2zAMCkurOZFRzGebTnAis4QubUK4ddhlRIf5m7KfIiJyNpVjkUbO4XTxz+SDfLc3k57tw7g7oatuySQiUss8PCwE+XsR5O/1s5/397ExbEAb+rQL5cDJAt7+fD/PLdlOVKgfdoeLiioHZZUOAIL8vbhnTDf6d4nQdcUiIg2IyrFII+ZyGbz12X62HsxmzFVtGXN1LB56oyUiYqoubUKYe8cAPtuUSl5RJTarB95eVlo096dVRABtowLx0inUIiINjsqxSCNlGAbvrDnI1oPZTBrSnpED2pgdSURE/o+fj5Wbr+todgwREbkIWrpWpJH6eP0xNuzOYPSVbVSMRUREREQukcqxSCO043AOq78/xbW9Yxh/TTuz44iIiIiINHoqxyKNTE5hBW9/foDY6ECmDL1Mi7mIiIiIiNQClWORRsThdPG/K1MwgHvHdsfqqR9hEREREZHaoHfWIo2EYRj8M/kgqRkl3DGqC+HBvmZHEhERERFpMlSORRqJzzad4Lu9mYy9Opa+ncLNjiMiIiIi0qSoHIs0AptSMkj8NpUru0cx5qq2ZscREREREWlyVI5FGriTmSX8Y/VBOrcO5jcjO2sBLhERERGROqByLNKAVVQ5eH1lCoF+Xtw3TgtwiYiIiIjUFb3TFmmgDMPgnTWHyCms4J4x3Qj08zI7koiIiIhIk6VyLNJAfbH1ND/sz2Lc1bFc1irY7DgiIiIiIk2a1ewAInI2wzBYvuE4n28+yeWXhRM/sK3ZkUREREREmjyVY5EGxOX68V7G3+7JYFCvGKYNvwwPDy3AJSIiIiJS11SORRoIl2Hwj+SDbNyTQcKVbRl3TaxWphYRERERqScqxyINgGEYfLj2CBv3ZDDmqraMu6ad2ZFERERERNyKFuQSMZnTZfDhV0dZu/0Mw/q1YuzVsWZHEhERERFxOzpyLGKiqmon8/+xhR/2ZXJD35bcfF0HnUotIiIiImIClWMRk5SUV/PiR7s5nV3ClBs6ckNcK7MjiYiIiIi4LZVjERPYHS5eXb6XtNwy5twxgLbh/mZHEhERERFxa7rmWKSeGYbBP1Yf5MiZIu4a3YV+XaPMjiQiIiIi4vZUjkXq2eebT7J5Xybjromlf5dIs+OIiIiIiAgqxyL16mhaESu+Pc4VXSNJuLKt2XFEREREROT/qByL1JMqu5O/rdpPaKAP04Z30qrUIiIiIiINiMqxSD35ZN0xsgoquCO+C77eWgtPRERERKQhUTkWqQf7TuSzdvsZru/bki5tQsyOIyIiIiIi/0XlWKSO5RVV8sbKfUSH+TFxcHuz44iIiIiIyM9QORapQ3aHk9dW7MXpcvHAhB54e3maHUlERERERH6GyrFIHTEMgyVrDnMis4S7RnclOszf7EgiIiIiInIOKscidWTdrnQ27s0g4cq29OkYbnYcERERERH5BSrHInXgaFoR7395mJ7twxh7TazZcURERERE5DxUjkVqWWFpFa+t2EtYMx9mJHTFQ/czFhERERFp8FSORWpRWaWdRct2U1Hl4IEbe+DvYzM7koiIiIiIXACVY5FaUl7p4MWPdpGeW8b943vQMjzA7EgiIiIiInKBVI5FakFltYOXlu7iVFYpvx3Xgx7twsyOJCIiIiIiF0HlWOQSOZwuFiemcDyjmHvHdqN3x+ZmRxIRERERkYtUp+X41VdfJT4+nvj4eBYsWADA448/zrBhwxg7dixjx47lyy+/BGDTpk0kJCQwbNgwXnrppZqvceDAAW688UaGDx/OE088gcPhACA9PZ2pU6cyYsQI7rvvPsrKygAoLi7m7rvvZuTIkUydOpWcnJy63EVxc4Zh8E7yIVKO5zN9eCf6doowO5KIiIiIiPwKdVaON23axMaNG1mxYgWJiYns27ePL7/8kpSUFN59911WrlzJypUrGTp0KJWVlcyePZvFixeTlJRESkoK69evB2DmzJk8+eSTrFmzBsMwWLp0KQBz585lypQpJCcn0717dxYvXgzAokWLiIuLY/Xq1UyaNIl58+bV1S6KkPhtas29jAf3bmF2HBERERER+ZXqrByHh4cza9YsvLy8sNlstG/fnvT0dNLT03nyySdJSEjglVdeweVysWfPHtq0aUOrVq2wWq0kJCSQnJxMWloalZWV9O7dG4AJEyaQnJyM3W5n69atDB8+/KztAOvWrSMhIQGA0aNHs2HDBux2e13tprixlRtT+WzTCa7uGc043ctYRERERKRRs9bVF+7YsWPN/584cYKkpCTef/99tmzZwjPPPIOfnx/33HMPH3/8MX5+foSHh9c8PiIigqysLLKzs8/aHh4eTlZWFgUFBQQEBGC1Ws/aDpz1HKvVSkBAAPn5+URGRl5w9rAw81cZDg8PNDuCnINhGLy35iArN6Zyfb9WPHhTHzw9Lu1expq3e9G83Yvm7V40b/eiebsXzbvpq7Ny/C9Hjhzhnnvu4Y9//CPt2rXjtddeq/nctGnTSExMZMSIET95nsViwTCMi9p+Lh4eF3eAPC+vFJfrp69RX8LDA8nJKTHt9eXcDMNg+YbjfL75JNf0jOaW6zqQn1d6SV9T83Yvmrd70bzdi+btXjRv96J5Nw0eHpZfPBBapwtybd++nd/85jc8+uijjB8/nkOHDrFmzZqazxuGgdVqJTIyktzc3Jrt2dnZRERE/GR7Tk4OERERhIaGUlpaitPpPGs7/HjU+V/PcTgclJaWEhwcXJe7KW7CMAyWrTvG55tPMrh3DLeN7IzHL/xSRkREREREGo86K8cZGRncf//9LFy4kPj4eODHcvHcc89RVFSE3W7no48+YujQofTq1YvU1FROnjyJ0+lk1apVDBo0iBYtWuDt7c327dsBSExMZNCgQdhsNuLi4khKSjprO8DgwYNJTEwEICkpibi4OGw2W13tprgJl2Hw0ddHSf7hFEP6tGDa8E4qxiIiIiIiTYjF+LlzlGvBs88+yyeffELr1q1rtk2ePBmXy8V7772Hw+Fg2LBhPPbYYwBs3ryZ+fPnU1VVxeDBg3n88cexWCwcPHiQOXPmUFZWRteuXZk/fz5eXl6kpaUxa9Ys8vLyiI6O5sUXXyQoKIjCwkJmzZrF6dOnCQwMZOHChbRs2fKisuu0avlPldUO/rrqADsO53B935ZMuaHjL57Gf7E0b/eiebsXzdu9aN7uRfN2L5p303C+06rrrBw3ZirH8i+5hRW88ske0nLLuPm6jgyNa1mrxRg0b3ejebsXzdu9aN7uRfN2L5p303C+clznC3KJNFaHThXw2ooUXC6DR27qRffYMLMjiYiIiIhIHVE5FvkZ3+xM4/0vDxMR4stDN/YkMtTP7EgiIiIiIlKHVI5F/oPD6eKDtUf4ZmcaPduHcXdCN/x89GMiIiIiItLU6V2/yP8pKa9m8YoUDp0uZOSA1tw4uD0eHlqRWkRERETEHagciwBFpVUs+GAnOYWVzBjdlYHdo8yOJCIiIiIi9UjlWNxeYWkV/++DneQVV/Lozb3o1DrE7EgiIiIiIlLPVI7FrRWWVrHg/Z0UlFTxyCQVYxERERERd6VyLG6roOTHU6kLS6t45KZeXNYq2OxIIiIiIiJiEpVjcUsFJVUseH8HhWXV/P6mXnRsGWx2JBERERERMZHKsbid9NwyFi3bTWmFnUdv6k2HlkFmRxIREREREZOpHItbSUnN4/XEfdisHjw2uQ/tYpqZHUlERERERBoAlWNxG9/sOMN7Xx4hprk/D0/sSViQj9mRRERERESkgVA5libP6XLx4VdH+Wr7GXq1D+PuMd3w9dYffRERERER+Tc1BGnSyisd/O+nKaQcz2dYv1bcNKQDHh4Ws2OJiIiIiEgDo3IsTVZOYQWvfLyHzPxybhvRicG9W5gdSUREREREGiiVY2mSjqUX8crHe3A6DX5/Uy+6tA01O5KIiIiIiDRgKsfS5JzOLuWlj3YT4Gvjdzf1IirUz+xIIiIiIiLSwKkcS5OSVVDOXz7ahbeXJzNv6aMVqUVERERE5IJ4mB1ApLZk5pfzlw934XIZPHpzbxVjERERERG5YDpyLE3C5n2ZvJN8CJvVg0du6kVMc3+zI4mIiIiISCOiciyNWlW1k/fWHmbjngwuaxnE3WO6EdpMR4xFREREROTiqBxLo5WWU8rrK/eRkVvG6CvbMvbqtnh66EoBERERERG5eCrH0ug4XS6+2p7G8vXH8PG28vvJvemmWzWJiIiIiMglUDmWRiU1o5h/Jh/kVFYpPduHcfvIzgQFeJsdS0REREREGjmVY2kUnC4Xn313gs82nSDI34vfjutO307hWCwWs6OJiIiIiEgToHIsDV5uYQVvfrafo2lFXNk9iik3XIafj/7oioiIiIhI7VHDkAZt34l8/jcxBZdhcPeYrlzRNcrsSCIiIiIi0gSpHEuDZBgGa7acZtm6o8SE+fPAjT2IDPEzO5aIiIiIiDRRKsfS4BSXVfP3pAPsPpZH307h3BnfBR8v/VEVEREREZG6o8YhDYbd4WLLgSyWfXOU8iont1zfkRviWmrRLRERERERqXMqx1JvnC4XeUWVZOZXkJVfTmZBOYYBAb42nC4X3+3NpLismtaRATx2S1dahgeYHVlERERERNyEyrHUqfJKB5tSMti4J4O03DKcLqPmc77eVjw9LJRV2DGAHu3CGNqvJd3ahuposYiIiIiI1CuVY6lVLsPgVFYJR04XceRMIXuP51NldxIb3Yzh/VsTGepLVKgfkaF+BPrasFgsuFwGdqcLb5un2fFFRERERMRNqRzLJXMZBvtS89l+KJtdR/MoLqsGIKyZD/27RHBtnxbERjc75/M9PCx4e6gYi4iIiIiIeVSO5Vcrr7SzYXcG3+w8Q05hJT5envRoF0bvDs3p1DqY0GY+ZkcUERERERG5ICrHctGKyqr5cutpvt5xhspqJ5e1DGLCoPZcflk4NquH2fFEREREREQumsqxXBCXYXDwZAEbdqez43AOTqdBvy4RjBzQhjZRgWbHExERERERuSQqx3JOuUUV7Dycy8FTBRw+XUhZpQN/HyvX9m7BdX1bEhXqZ3ZEERERERGRWqFyLGeprHawOSWT71IyOZ5eDEB4sA99OobTLTaUyy9rjs2qxbNERERERKRpUTkW4MfFtVZtOsn63elUVDloFRHAxGvbE9cpnIgQHSEWEREREZGmTeVYOHAin78lHaCgpIq4ThEMjWtF+xbNsFgsZkcTERERERGpFyrHbqyiysGKDcdZu/0MkaF+PDEtjnYx574fsYiIiIiISFOlcuyGDMPgh/1ZfPT1UYrLqrnu8hZMGtIBb5uuJRYREREREfekcuxGDMNg97E8Vm5M5WRmCW2jAnloYk9io3W0WERERERE3FudluNXX32V1atXAzB48GD+8Ic/sGnTJubPn09VVRUjR47kkUceAeDAgQPMmTOH0tJS4uLimDt3LlarlfT0dGbOnEleXh6xsbEsXLgQf39/iouLeeyxxzh9+jShoaEsWrSI8PBwqqureeKJJ0hJScHHx4eFCxfSvn37utzNBq+gpIqtB7LYlJLJqexSwoN9uH1UZ67qHo2Hh64rFhERERER8airL7xp0yY2btzIihUrSExMZN++faxatYrZs2ezePFikpKSSElJYf369QDMnDmTJ598kjVr1mAYBkuXLgVg7ty5TJkyheTkZLp3787ixYsBWLRoEXFxcaxevZpJkyYxb948AJYsWYKvry+rV69m9uzZzJo1q652sUErKa/mm51pvPDeDh577Ts+/PooWOD2kZ2ZN+MKrukZo2IsIiIiIiLyf+qsHIeHhzNr1iy8vLyw2Wy0b9+eEydO0KZNG1q1aoXVaiUhIYHk5GTS0tKorKykd+/eAEyYMIHk5GTsdjtbt25l+PDhZ20HWLduHQkJCQCMHj2aDRs2YLfbWbduHWPGjAGgX79+FBQUkJ6eXle72aC4DIP9J/JZvGIvv3/1O5asOURxeTVjr45l3owBPH17f67pFYPVs87GLiIiIiIi0ijV2WnVHTt2rPn/EydOkJSUxLRp0wgPD6/ZHhERQVZWFtnZ2WdtDw8PJysri4KCAgICArBarWdtB856jtVqJSAggPz8/J/9WpmZmcTExFxw9rCwgF+307UoPDzwgh5nGAap6cV8uyuNjbvTyMwrJ9DPRsI17bgurhVto3VLpsbgQuctTYPm7V40b/eiebsXzdu9aN5NX50vyHXkyBHuuece/vjHP2K1WklNTT3r8xaLBcMwfvK8X9p+Lh4eP39E9FzbzyUvrxSX66evXV/CwwPJySn5xcecySlly4Fsth7IIqugAg+LhS5tQ0gY2Ja4zuHYrD+uPJ2bW1ofkeUSXMi8penQvN2L5u1eNG/3onm7F827afDwsPzigdA6Lcfbt2/noYceYvbs2cTHx7NlyxZyc3NrPp+dnU1ERASRkZFnbc/JySEiIoLQ0FBKS0txOp14enrWbIcfjzrn5uYSFRWFw+GgtLSU4OBgIiIiyMnJoU2bNmd9raag2u7ku5RMvt2dzonMEiwW6Nw6hOEDWtP3snAC/bzMjigiIiIiItIo1dnFpxkZGdx///0sXLiQ+Ph4AHr16kVqaionT57E6XSyatUqBg0aRIsWLfD29mb79u0AJCYmMmjQIGw2G3FxcSQlJZ21HX5c/ToxMRGApKQk4uLisNlsDB48mJUrVwKwbds2vL29L+qU6obs6x1pLFlzCIfTxeTrO/LiA1cz85Y+XNu7hYqxiIiIiIjIJbAYP3fuci149tln+eSTT2jdunXNtsmTJ9O2bduaWzkNHjyYxx9/HIvFwsGDB5kzZw5lZWV07dqV+fPn4+XlRVpaGrNmzSIvL4/o6GhefPFFgoKCKCwsZNasWZw+fZrAwEAWLlxIy5Ytqaqq4k9/+hMpKSl4eXnx7LPP0q1bt4vK3lBPq66sdlBQUkVUqJ+uI25CdJqOe9G83Yvm7V40b/eiebsXzbtpON9p1XVWjhuzhlqOpWnSvN2L5u1eNG/3onm7F83bvWjeTcP5yrHu6SMiIiIiIiJuT+VYRERERERE3J7KsYiIiIiIiLg9lWMRERERERFxeyrHIiIiIiIi4vZUjkVERERERMTtqRyLiIiIiIiI21M5FhEREREREbenciwiIiIiIiJuT+VYRERERERE3J7KsYiIiIiIiLg9lWMRERERERFxeyrHIiIiIiIi4vZUjkVERERERMTtqRyLiIiIiIiI21M5FhEREREREbdnNTtAQ+ThYTE7QoPIIPVH83Yvmrd70bzdi+btXjRv96J5N37nm6HFMAyjnrKIiIiIiIiINEg6rVpERERERETcnsqxiIiIiIiIuD2VYxEREREREXF7KsciIiIiIiLi9lSORURERERExO2pHIuIiIiIiIjbUzkWERERERERt6dyLCIiIiIiIm5P5VhERERERETcnsqxiIiIiIiIuD2V43pSWlrK6NGjOXPmDADLly9n1KhRJCQk8Oyzz+JwOADYs2cPN954IwkJCdxzzz3k5OQAUF1dzbPPPsu4ceOIj49n48aNpu2LnN+rr75KfHw88fHxLFiwAIBNmzaRkJDAsGHDeOmll2oee+DAAW688UaGDx/OE088UfNnIT09nalTpzJixAjuu+8+ysrKTNkXOb/amPe/7N+/n+7du9drfrk4tTHvM2fOMHXqVMaOHcu0adNIS0szZV/k/C5m3v/yxz/+keXLl9d8vH37dm688UbGjh3Lbbfdpnk3YLUx7+zsbO6++27GjRvH5MmTa977ScNzMfNeu3YtY8eOZcyYMfz2t7+lqKgI0Pu1JseQOrdr1y5j9OjRRrdu3YzTp08bx44dM6655hojKyvLMAzDeOqpp4y3337bcLlcxuDBg43NmzcbhmEYn3/+uXHPPfcYhmEYr732mvH73//ecLlcxuHDh42rr77acLlcpu2TnNt3331n3HzzzUZVVZVRXV1tTJ8+3fjss8+MwYMHG6dOnTLsdrtxxx13GOvWrTMMwzDi4+ONnTt3GoZhGI8//rjx3nvvGYZhGHfffbexatUqwzAM49VXXzUWLFhgyv7IL6uteRuGYZSXlxs333yzcdlll5mxK3IBamvejz32WM3/v/POO8ajjz5qyv7IL7vYeWdmZhr33HOP0bNnT+OTTz6p+TpDhgwxDhw4YBiGYSxbtsy49957Tdkf+WW1Ne/bbrvNeP/99w3DMIz333/fePjhh83YHTmPi5l3SUmJcdVVVxmZmZmGYRjGokWLjD//+c+GYej9WlOjI8f1YOnSpTz11FNEREQAcOjQIXr37l3z8ZAhQ1i7di0FBQVUVlZyxRVX1GzfuHEj1dXVrF69mhkzZmCxWOjYsSN///vfMQzDtH2ScwsPD2fWrFl4eXlhs9lo3749J06coE2bNrRq1Qqr1UpCQgLJycmkpaVRWVlJ7969AZgwYQLJycnY7Xa2bt3K8OHDz9ouDU9tzPtfnn/+eX7zm9+YsyNyQWpr3i6Xi9LSUgAqKirw8fExa5fkF1zMvAE+++wzrr/+ekaOHFnzNaqrq3n44Yfp3LkzAJ06dSIjI8OU/ZFfVhvzzs/P5+DBg0yePBmAG2+8kd/97ndm7I6cx8XM22638/TTTxMZGQn8++dY79eaHpXjejBv3jzi4uJqPu7cuTO7d+8mIyMDp9NJcnIyubm5hISE4OfnV3PK9Oeff47dbqegoICTJ0+ydetWJkyYwM0330xubi4eHhpfQ9SxY8eaN8MnTpwgKSkJi8VCeHh4zWMiIiLIysoiOzv7rO3h4eFkZWVRUFBAQEAAVqv1rO3S8NTGvAG++uorKisrGTFiRL3ml4tTW/N++OGH+cc//sE111zD22+/zYwZM+p1P+TCXMy8Ae666y4mTZp01tfw8vJi7NixwI+/FHn11Ve54YYb6mcH5KLUxrxPnz5NTEwMzz33HGPGjOGhhx7CZrPV2z7IhbuYeYeEhNT83FZWVvLmm29yww036P1aE6R2ZYLY2FgeffRR7rvvPqZOnUqnTp2w2WxYLBZeeeUV3njjDcaNG0dJSQnBwcHYbDacTieZmZl88sknzJ07l8cee4ySkhKzd0V+wZEjR7jjjjv44x//SOvWrX/yeYvF8rNH/39puzRclzLvnJwcXn/9dZ588sn6iCq14FLmDT9eo/jMM8/w7bffMnfuXB544AGdDdSAXci8z6e6uprHHnsMh8PBPffcUxcxpZZcyrwdDgf79+/nyiuv5NNPP+X6669n1qxZdRlXLtHFzLukpIQZM2bQuXNnxo8fr/drTZDKsQmqqqro2bMniYmJfPjhh8TExNCqVSsArFYrS5YsITExkfHjx+NyuQgODqZ58+bEx8djsVjo3LkzUVFRpKammrwnci7bt2/nN7/5DY8++ijjx48nMjKS3Nzcms9nZ2cTERHxk+05OTlEREQQGhpKaWkpTqfzrO3SMF3qvNetW0dhYWHNAk0AY8eOrTntVhqWS513fn4+x48frzkKMXz4cHJycigoKKj3fZHzu9B5/5KysjLuuusuHA4Hr7/+uo4kNmCXOu/w8HD8/f0ZMmQIAKNHj2bPnj11nlt+nYuZd3Z2NlOmTKFz587MmzcPQO/XmiCVYxOUl5dz2223UVpaSnV1NUuWLGHUqFEAzJ49u+Yv0bfffpsRI0bg4eHBkCFDSEpKAn48ZScjI4PY2FjT9kHOLSMjg/vvv5+FCxcSHx8PQK9evUhNTeXkyZM4nU5W/f/27iYk6rWN4/h3mqOjOCAVGGGUC5mZJpfVKhyLJIwgDYIgiGgViUGSMZUlWGKGSEG0SIIIWvRKE2cVQgYVRLXolWpREUogtCpN0xnP4nDkPByfnseDzYTz/exmuP9wXVyb+zf3/Wd+/53q6mrKy8sJhUI8efIEgJs3b1JdXU1BQQErV66cmvlf3+vXMxvz3rp1K319faRSKVKpFACpVIpwOJyzvjS92Zj3/PnzCYVCPH78GPhzc1ZSUsKCBQty1pemN5N5/0hLSwvLli3j9OnTFBYWZqN0/QuzMe+lS5eyaNEi7t69C8CdO3dYsWJFVurXzMxk3ul0mt27d1NXV8fhw4enTofdr809gUnvcWXNunXruHjxIkuWLOHq1atcuHCBiYkJNm3aRFNTE/DnXzm1tbXx7ds3otEoHR0dhMNhvn79Snt7Oy9fvgRg//79U79K6tdy/Phxrl+//h9Xc7Zt20ZFRQWdnZ2MjY2RSCQ4ePAggUCA169f09rayvDwMPF4nM7OTgoLCxkcHCSZTPL582cWL15MT08PpaWlOexM05mtef9dNBrlzZs32W5F/4fZmvezZ884duwYo6OjlJSUcPToUeLxeA4703RmOu+/JJNJVq9ezZYtW3j16hUNDQ1UVlZOvZdYVlZGb29v1vvRj83GvAHevXtHW1vb1PuoJ06coKKiItvt6H+Yybz7+vpoamoiGo1Ora2qqqKjo8P92hxjOJYkSZIk5T2vVUuSJEmS8p7hWJIkSZKU9wzHkiRJkqS8ZziWJEmSJOU9w7EkSZIkKe/9lusCJEnS7BkYGKC2tpZIJAJAJpOhoKCAHTt2UF9f/8Nnz5w5QywWY/369VmoVJKkX4vhWJKkOaaoqIhUKjX1eXBwkJ07d1JcXMyGDRv+63MPHz6ksrIyGyVKkvTLMRxLkjTHlZeXs3fvXs6fP08kEqG9vZ2RkRGGhoaIxWKcOnWKa9eu8eLFC06ePEkwGCSRSNDd3c2jR49Ip9PE43FaW1sJh8O5bkeSpJ/Cd44lScoDsViMt2/fcuXKFerr67l8+TK3b99mYGCA/v5+tm/fTlVVFQcOHKC2tpZz584RDAa5ceMGt27doqysjO7u7ly3IUnST+PJsSRJeSAQCFBUVERLSwv379+nt7eXDx8+MDQ0xMjIyD/W9/f38+XLFx48eADA+Pg4CxcuzHbZkiRljeFYkqQ88Pz5cyKRCM3NzaTTaerq6qipqeHTp09MTk7+Y30mk+HQoUMkEgkAhoeHGRsby3bZkiRljdeqJUma496/f8/Zs2fZtWsX9+7do7GxkY0bNxIIBHj69CnpdBqAYDDIxMQEAGvWrOHSpUt8//6dTCbDkSNH6OnpyWUbkiT9VJ4cS5I0x4yOjrJ582YA5s2bRygUorm5mZqaGvbt20djYyOlpaUUFxezatUqPn78CMDatWvp6upifHycPXv20NXVRUNDA+l0muXLl5NMJnPZliRJP1Vgcrq7VJIkSZIk5RGvVUuSJEmS8p7hWJIkSZKU9wzHkiRJkqS8ZziWJEmSJOU9w7EkSZIkKe8ZjiVJkiRJec9wLEmSJEnKe38AKzuHHqaEQkMAAAAASUVORK5CYII=\n",
          "text/plain": "<Figure size 1152x576 with 1 Axes>"
         },
         "metadata": {},
         "output_type": "display_data"
        }
       ]
      }
     },
     "9d4c752659dc42f9a700def35900dfd9": {
      "model_module": "@jupyter-widgets/base",
      "model_module_version": "1.2.0",
      "model_name": "LayoutModel",
      "state": {}
     },
     "a27300268da140a88c5a49c78e1049f4": {
      "model_module": "@jupyter-widgets/controls",
      "model_module_version": "1.5.0",
      "model_name": "HTMLModel",
      "state": {
       "layout": "IPY_MODEL_e3a5d99eb6cc42028ee0d81427036151",
       "style": "IPY_MODEL_2f41dd5e09ed4cfc8e6e66e2ad8a0469",
       "value": "100%"
      }
     },
     "a989b47fe8c345839595b29edb1f7921": {
      "model_module": "@jupyter-widgets/controls",
      "model_module_version": "1.5.0",
      "model_name": "HTMLModel",
      "state": {
       "layout": "IPY_MODEL_b7d4b2418b8b4876977c883eda83abd2",
       "style": "IPY_MODEL_c0a727f2a72f4981b83d56571b446526",
       "value": " 6/6 [01:54&lt;00:00, 26.42s/it]"
      }
     },
     "aa4bae25090f4c8e98cc3e5f17c3dc13": {
      "model_module": "@jupyter-widgets/base",
      "model_module_version": "1.2.0",
      "model_name": "LayoutModel",
      "state": {}
     },
     "ad65c88d92654dae80a0f42000cf498c": {
      "model_module": "@jupyter-widgets/base",
      "model_module_version": "1.2.0",
      "model_name": "LayoutModel",
      "state": {}
     },
     "b7d4b2418b8b4876977c883eda83abd2": {
      "model_module": "@jupyter-widgets/base",
      "model_module_version": "1.2.0",
      "model_name": "LayoutModel",
      "state": {}
     },
     "b98f6f796d3244e4837b95f12f5dec1f": {
      "model_module": "@jupyter-widgets/controls",
      "model_module_version": "1.5.0",
      "model_name": "DescriptionStyleModel",
      "state": {
       "description_width": ""
      }
     },
     "beb132420f7f4bcf87c3fc5c3b4923a5": {
      "model_module": "@jupyter-widgets/controls",
      "model_module_version": "1.5.0",
      "model_name": "DescriptionStyleModel",
      "state": {
       "description_width": ""
      }
     },
     "c0a727f2a72f4981b83d56571b446526": {
      "model_module": "@jupyter-widgets/controls",
      "model_module_version": "1.5.0",
      "model_name": "DescriptionStyleModel",
      "state": {
       "description_width": ""
      }
     },
     "c1a1436549604168860612aee0a77725": {
      "model_module": "@jupyter-widgets/base",
      "model_module_version": "1.2.0",
      "model_name": "LayoutModel",
      "state": {}
     },
     "c287ac2599cf45c5ae71e01c6a880858": {
      "model_module": "@jupyter-widgets/controls",
      "model_module_version": "1.5.0",
      "model_name": "ProgressStyleModel",
      "state": {
       "description_width": ""
      }
     },
     "c555ec8adf4848538834137218a3293d": {
      "model_module": "@jupyter-widgets/controls",
      "model_module_version": "1.5.0",
      "model_name": "FloatProgressModel",
      "state": {
       "bar_style": "success",
       "layout": "IPY_MODEL_19ed353d76374e5a9826404c88455bd3",
       "max": 6,
       "style": "IPY_MODEL_14e54bafad3c40f7a39fdd6ce7ff7c7b",
       "value": 6
      }
     },
     "c84ef2a432a84ed1b1b57cde4642ce97": {
      "model_module": "@jupyter-widgets/controls",
      "model_module_version": "1.5.0",
      "model_name": "ProgressStyleModel",
      "state": {
       "description_width": ""
      }
     },
     "cc215da8dd6643be87fca3f634edb92d": {
      "model_module": "@jupyter-widgets/base",
      "model_module_version": "1.2.0",
      "model_name": "LayoutModel",
      "state": {}
     },
     "cc22d2d72c0c4aa7a2262489a27f1282": {
      "model_module": "@jupyter-widgets/controls",
      "model_module_version": "1.5.0",
      "model_name": "DescriptionStyleModel",
      "state": {
       "description_width": ""
      }
     },
     "cd6ff924ecd3483b89a3030a18265f50": {
      "model_module": "@jupyter-widgets/base",
      "model_module_version": "1.2.0",
      "model_name": "LayoutModel",
      "state": {}
     },
     "cdbe8845d0ea40b9a82a2c0c625c63dd": {
      "model_module": "@jupyter-widgets/base",
      "model_module_version": "1.2.0",
      "model_name": "LayoutModel",
      "state": {}
     },
     "cec529892f744b7ba79d9402681919d1": {
      "model_module": "@jupyter-widgets/controls",
      "model_module_version": "1.5.0",
      "model_name": "DropdownModel",
      "state": {
       "_options_labels": [
        "InSampleMAE",
        "InSampleMAPE",
        "InSampleR2",
        "InSampleRMSE",
        "LevelTestSetMAE",
        "LevelTestSetMAPE",
        "LevelTestSetR2",
        "LevelTestSetRMSE",
        "TestSetMAE",
        "TestSetMAPE",
        "TestSetR2",
        "TestSetRMSE",
        "ValidationMetricValue"
       ],
       "description": "Order By",
       "index": 5,
       "layout": "IPY_MODEL_37d6e6e799644dc593df44c900e63116",
       "style": "IPY_MODEL_74a70bf0d66d48ad967c31d97a3bb59d"
      }
     },
     "d06c0b795c2c49dba9599b6ee6c95373": {
      "model_module": "@jupyter-widgets/controls",
      "model_module_version": "1.5.0",
      "model_name": "DescriptionStyleModel",
      "state": {
       "description_width": ""
      }
     },
     "d138276e2173491ba6f1d355d2c4263d": {
      "model_module": "@jupyter-widgets/base",
      "model_module_version": "1.2.0",
      "model_name": "LayoutModel",
      "state": {}
     },
     "d8f57cc0a8a14f70a3a7e9c09e336c20": {
      "model_module": "@jupyter-widgets/controls",
      "model_module_version": "1.5.0",
      "model_name": "DescriptionStyleModel",
      "state": {
       "description_width": ""
      }
     },
     "e090f985d1ee4b64af4f575e20c7cc51": {
      "model_module": "@jupyter-widgets/base",
      "model_module_version": "1.2.0",
      "model_name": "LayoutModel",
      "state": {}
     },
     "e1558687d0bf4a55904a5b697e997a3d": {
      "model_module": "@jupyter-widgets/controls",
      "model_module_version": "1.5.0",
      "model_name": "ButtonModel",
      "state": {
       "description": "Select Time Series",
       "layout": "IPY_MODEL_320618e084214fb7b5ed91ec24914cdd",
       "style": "IPY_MODEL_70503bf3bbf742b78a8fb9c42248c0e5"
      }
     },
     "e30d2fbfaecd485dadce88a61e9de927": {
      "model_module": "@jupyter-widgets/base",
      "model_module_version": "1.2.0",
      "model_name": "LayoutModel",
      "state": {}
     },
     "e3104c798f7d419ea5bc9099838cf1d0": {
      "model_module": "@jupyter-widgets/controls",
      "model_module_version": "1.5.0",
      "model_name": "DescriptionStyleModel",
      "state": {
       "description_width": ""
      }
     },
     "e381daa70baa4229ae5bdd6a11bb6be5": {
      "model_module": "@jupyter-widgets/base",
      "model_module_version": "1.2.0",
      "model_name": "LayoutModel",
      "state": {}
     },
     "e3a5d99eb6cc42028ee0d81427036151": {
      "model_module": "@jupyter-widgets/base",
      "model_module_version": "1.2.0",
      "model_name": "LayoutModel",
      "state": {}
     },
     "e5482778ddcf4f36ae10de0d7d5239d4": {
      "model_module": "@jupyter-widgets/controls",
      "model_module_version": "1.5.0",
      "model_name": "DropdownModel",
      "state": {
       "_options_labels": [
        "84009",
        "84095",
        "34746",
        "32303",
        "30328"
       ],
       "description": "Time Series:",
       "index": 4,
       "layout": "IPY_MODEL_64f1a2ae86724d8684ae8992d12af655",
       "style": "IPY_MODEL_d8f57cc0a8a14f70a3a7e9c09e336c20"
      }
     },
     "e5fbc8dccb164c1685ea140a61095ef8": {
      "model_module": "@jupyter-widgets/controls",
      "model_module_version": "1.5.0",
      "model_name": "DropdownModel",
      "state": {
       "_options_labels": [
        "1",
        "2",
        "3",
        "4",
        "5",
        "6",
        "7",
        "8"
       ],
       "description": "No. Models",
       "index": 0,
       "layout": "IPY_MODEL_2f3276344e3447f7b1f9b4b6ca06eb1c",
       "style": "IPY_MODEL_2605c1716233423bb8fe4d967ce8b0a0"
      }
     },
     "e840d1846ff249128912ff4c74837aed": {
      "model_module": "@jupyter-widgets/base",
      "model_module_version": "1.2.0",
      "model_name": "LayoutModel",
      "state": {}
     },
     "eaf8ce9e15064fe1b60c1787bd678ab7": {
      "model_module": "@jupyter-widgets/controls",
      "model_module_version": "1.5.0",
      "model_name": "DescriptionStyleModel",
      "state": {
       "description_width": ""
      }
     },
     "f0d795c1354e499ca907e60a980b5d4a": {
      "model_module": "@jupyter-widgets/controls",
      "model_module_version": "1.5.0",
      "model_name": "DescriptionStyleModel",
      "state": {
       "description_width": ""
      }
     },
     "f2dbca47a8124d0580c03e108a28b0c8": {
      "model_module": "@jupyter-widgets/controls",
      "model_module_version": "1.5.0",
      "model_name": "FloatProgressModel",
      "state": {
       "bar_style": "success",
       "layout": "IPY_MODEL_e090f985d1ee4b64af4f575e20c7cc51",
       "max": 6,
       "style": "IPY_MODEL_c287ac2599cf45c5ae71e01c6a880858",
       "value": 6
      }
     },
     "f656160f546d494f99acf3bd75f43cca": {
      "model_module": "@jupyter-widgets/controls",
      "model_module_version": "1.5.0",
      "model_name": "DescriptionStyleModel",
      "state": {
       "description_width": ""
      }
     },
     "f9069cd79c8642f9822a592bb50d01af": {
      "model_module": "@jupyter-widgets/controls",
      "model_module_version": "1.5.0",
      "model_name": "ProgressStyleModel",
      "state": {
       "description_width": ""
      }
     },
     "f9aac31c789b4d4cb00d1114c1db3ea9": {
      "model_module": "@jupyter-widgets/controls",
      "model_module_version": "1.5.0",
      "model_name": "DropdownModel",
      "state": {
       "_options_labels": [
        "InSampleMAE",
        "InSampleMAPE",
        "InSampleR2",
        "InSampleRMSE",
        "LevelTestSetMAE",
        "LevelTestSetMAPE",
        "LevelTestSetR2",
        "LevelTestSetRMSE",
        "TestSetMAE",
        "TestSetMAPE",
        "TestSetR2",
        "TestSetRMSE",
        "ValidationMetricValue"
       ],
       "description": "Order By",
       "index": 5,
       "layout": "IPY_MODEL_d138276e2173491ba6f1d355d2c4263d",
       "style": "IPY_MODEL_869a7f4ae4f74894a47e61957b1e6408"
      }
     },
     "fa0b1ef05b564a63a850959af8f85814": {
      "model_module": "@jupyter-widgets/base",
      "model_module_version": "1.2.0",
      "model_name": "LayoutModel",
      "state": {}
     },
     "fb0382a234ad4f5581ad7cf204735a9f": {
      "model_module": "@jupyter-widgets/base",
      "model_module_version": "1.2.0",
      "model_name": "LayoutModel",
      "state": {}
     },
     "ffbaac242e7a4be0a45e21bc72d1cc2c": {
      "model_module": "@jupyter-widgets/base",
      "model_module_version": "1.2.0",
      "model_name": "LayoutModel",
      "state": {}
     }
    },
    "version_major": 2,
    "version_minor": 0
   }
  }
 },
 "nbformat": 4,
 "nbformat_minor": 5
}
