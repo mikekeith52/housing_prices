{
 "cells": [
  {
   "cell_type": "markdown",
   "id": "27dda849-25df-41dd-a6e6-44e72e1d1157",
   "metadata": {},
   "source": [
    "# Predict Housing Prices\n",
    "- pass your own list of zip codes to predict future housing prices\n",
    "- data from: https://www.zillow.com/research/data/ (download new data for more recent results)"
   ]
  },
  {
   "cell_type": "code",
   "execution_count": 1,
   "id": "d53c89db-d914-4874-8fb8-aaeb2da41f0b",
   "metadata": {},
   "outputs": [],
   "source": [
    "import pandas as pd\n",
    "import numpy as np\n",
    "from tqdm.notebook import tqdm as log_progress\n",
    "from ipywidgets import widgets\n",
    "from IPython.display import display, clear_output\n",
    "import seaborn as sns\n",
    "import matplotlib\n",
    "import matplotlib.pyplot as plt\n",
    "from scalecast import GridGenerator\n",
    "from scalecast.Forecaster import Forecaster\n",
    "from scalecast.notebook import tune_test_forecast, results_vis"
   ]
  },
  {
   "cell_type": "code",
   "execution_count": 2,
   "id": "22483f62-afa6-44e0-b920-a0a6b02d153e",
   "metadata": {},
   "outputs": [],
   "source": [
    "# add more/different models to this tuple\n",
    "models = (\"knn\", \"svr\", \"elasticnet\", \"mlp\", \"gbt\", \"prophet\")\n",
    "sns.set(rc={\"figure.figsize\": (12, 8)})"
   ]
  },
  {
   "cell_type": "code",
   "execution_count": 3,
   "id": "d1dd0084-b61a-4819-b949-2d0620a56bd3",
   "metadata": {},
   "outputs": [],
   "source": [
    "GridGenerator.get_example_grids()  # use overwrite=True to overwrite an existing Grids file"
   ]
  },
  {
   "cell_type": "code",
   "execution_count": 4,
   "id": "b76fe985-f759-47e6-9899-e7fd10c848e2",
   "metadata": {},
   "outputs": [],
   "source": [
    "df = pd.read_csv(\n",
    "    \"Metro_zhvi_uc_sfrcondo_tier_0.33_0.67_sm_sa_month.csv\", dtype={\"RegionName\": str}\n",
    ").set_index(\"RegionName\")"
   ]
  },
  {
   "cell_type": "code",
   "execution_count": 5,
   "id": "75f902ab-80ee-4c31-b1ec-3abd74c8c9a8",
   "metadata": {},
   "outputs": [
    {
     "data": {
      "text/html": [
       "<div>\n",
       "<style scoped>\n",
       "    .dataframe tbody tr th:only-of-type {\n",
       "        vertical-align: middle;\n",
       "    }\n",
       "\n",
       "    .dataframe tbody tr th {\n",
       "        vertical-align: top;\n",
       "    }\n",
       "\n",
       "    .dataframe thead th {\n",
       "        text-align: right;\n",
       "    }\n",
       "</style>\n",
       "<table border=\"1\" class=\"dataframe\">\n",
       "  <thead>\n",
       "    <tr style=\"text-align: right;\">\n",
       "      <th></th>\n",
       "      <th>RegionID</th>\n",
       "      <th>SizeRank</th>\n",
       "      <th>RegionType</th>\n",
       "      <th>StateName</th>\n",
       "      <th>2000-01-31</th>\n",
       "      <th>2000-02-29</th>\n",
       "      <th>2000-03-31</th>\n",
       "      <th>2000-04-30</th>\n",
       "      <th>2000-05-31</th>\n",
       "      <th>2000-06-30</th>\n",
       "      <th>...</th>\n",
       "      <th>2021-03-31</th>\n",
       "      <th>2021-04-30</th>\n",
       "      <th>2021-05-31</th>\n",
       "      <th>2021-06-30</th>\n",
       "      <th>2021-07-31</th>\n",
       "      <th>2021-08-31</th>\n",
       "      <th>2021-09-30</th>\n",
       "      <th>2021-10-31</th>\n",
       "      <th>2021-11-30</th>\n",
       "      <th>2021-12-31</th>\n",
       "    </tr>\n",
       "    <tr>\n",
       "      <th>RegionName</th>\n",
       "      <th></th>\n",
       "      <th></th>\n",
       "      <th></th>\n",
       "      <th></th>\n",
       "      <th></th>\n",
       "      <th></th>\n",
       "      <th></th>\n",
       "      <th></th>\n",
       "      <th></th>\n",
       "      <th></th>\n",
       "      <th></th>\n",
       "      <th></th>\n",
       "      <th></th>\n",
       "      <th></th>\n",
       "      <th></th>\n",
       "      <th></th>\n",
       "      <th></th>\n",
       "      <th></th>\n",
       "      <th></th>\n",
       "      <th></th>\n",
       "      <th></th>\n",
       "    </tr>\n",
       "  </thead>\n",
       "  <tbody>\n",
       "    <tr>\n",
       "      <th>United States</th>\n",
       "      <td>102001</td>\n",
       "      <td>0</td>\n",
       "      <td>Country</td>\n",
       "      <td>NaN</td>\n",
       "      <td>127090.0</td>\n",
       "      <td>127434.0</td>\n",
       "      <td>127795.0</td>\n",
       "      <td>128532.0</td>\n",
       "      <td>129274.0</td>\n",
       "      <td>130015.0</td>\n",
       "      <td>...</td>\n",
       "      <td>278389.0</td>\n",
       "      <td>282245.0</td>\n",
       "      <td>286948.0</td>\n",
       "      <td>292471.0</td>\n",
       "      <td>298349.0</td>\n",
       "      <td>303739.0</td>\n",
       "      <td>308359.0</td>\n",
       "      <td>312452.0</td>\n",
       "      <td>316333.0</td>\n",
       "      <td>320662.0</td>\n",
       "    </tr>\n",
       "    <tr>\n",
       "      <th>New York, NY</th>\n",
       "      <td>394913</td>\n",
       "      <td>1</td>\n",
       "      <td>Msa</td>\n",
       "      <td>NY</td>\n",
       "      <td>223496.0</td>\n",
       "      <td>224831.0</td>\n",
       "      <td>226033.0</td>\n",
       "      <td>228398.0</td>\n",
       "      <td>230600.0</td>\n",
       "      <td>232945.0</td>\n",
       "      <td>...</td>\n",
       "      <td>523812.0</td>\n",
       "      <td>528535.0</td>\n",
       "      <td>534026.0</td>\n",
       "      <td>541165.0</td>\n",
       "      <td>549066.0</td>\n",
       "      <td>556634.0</td>\n",
       "      <td>562515.0</td>\n",
       "      <td>567048.0</td>\n",
       "      <td>570588.0</td>\n",
       "      <td>573813.0</td>\n",
       "    </tr>\n",
       "    <tr>\n",
       "      <th>Los Angeles-Long Beach-Anaheim, CA</th>\n",
       "      <td>753899</td>\n",
       "      <td>2</td>\n",
       "      <td>Msa</td>\n",
       "      <td>CA</td>\n",
       "      <td>231337.0</td>\n",
       "      <td>232142.0</td>\n",
       "      <td>233376.0</td>\n",
       "      <td>235722.0</td>\n",
       "      <td>238237.0</td>\n",
       "      <td>240612.0</td>\n",
       "      <td>...</td>\n",
       "      <td>757038.0</td>\n",
       "      <td>768091.0</td>\n",
       "      <td>783767.0</td>\n",
       "      <td>803587.0</td>\n",
       "      <td>824502.0</td>\n",
       "      <td>837956.0</td>\n",
       "      <td>847074.0</td>\n",
       "      <td>851836.0</td>\n",
       "      <td>859045.0</td>\n",
       "      <td>868350.0</td>\n",
       "    </tr>\n",
       "    <tr>\n",
       "      <th>Chicago, IL</th>\n",
       "      <td>394463</td>\n",
       "      <td>3</td>\n",
       "      <td>Msa</td>\n",
       "      <td>IL</td>\n",
       "      <td>168878.0</td>\n",
       "      <td>169276.0</td>\n",
       "      <td>169792.0</td>\n",
       "      <td>170824.0</td>\n",
       "      <td>171917.0</td>\n",
       "      <td>173001.0</td>\n",
       "      <td>...</td>\n",
       "      <td>260755.0</td>\n",
       "      <td>263775.0</td>\n",
       "      <td>266508.0</td>\n",
       "      <td>270301.0</td>\n",
       "      <td>274437.0</td>\n",
       "      <td>278525.0</td>\n",
       "      <td>281576.0</td>\n",
       "      <td>284217.0</td>\n",
       "      <td>286894.0</td>\n",
       "      <td>289595.0</td>\n",
       "    </tr>\n",
       "    <tr>\n",
       "      <th>Dallas-Fort Worth, TX</th>\n",
       "      <td>394514</td>\n",
       "      <td>4</td>\n",
       "      <td>Msa</td>\n",
       "      <td>TX</td>\n",
       "      <td>130599.0</td>\n",
       "      <td>130703.0</td>\n",
       "      <td>130790.0</td>\n",
       "      <td>131002.0</td>\n",
       "      <td>131225.0</td>\n",
       "      <td>131411.0</td>\n",
       "      <td>...</td>\n",
       "      <td>285247.0</td>\n",
       "      <td>290780.0</td>\n",
       "      <td>297205.0</td>\n",
       "      <td>304541.0</td>\n",
       "      <td>312359.0</td>\n",
       "      <td>320271.0</td>\n",
       "      <td>327472.0</td>\n",
       "      <td>333559.0</td>\n",
       "      <td>339033.0</td>\n",
       "      <td>344919.0</td>\n",
       "    </tr>\n",
       "  </tbody>\n",
       "</table>\n",
       "<p>5 rows × 268 columns</p>\n",
       "</div>"
      ],
      "text/plain": [
       "                                    RegionID  SizeRank RegionType StateName  \\\n",
       "RegionName                                                                    \n",
       "United States                         102001         0    Country       NaN   \n",
       "New York, NY                          394913         1        Msa        NY   \n",
       "Los Angeles-Long Beach-Anaheim, CA    753899         2        Msa        CA   \n",
       "Chicago, IL                           394463         3        Msa        IL   \n",
       "Dallas-Fort Worth, TX                 394514         4        Msa        TX   \n",
       "\n",
       "                                    2000-01-31  2000-02-29  2000-03-31  \\\n",
       "RegionName                                                               \n",
       "United States                         127090.0    127434.0    127795.0   \n",
       "New York, NY                          223496.0    224831.0    226033.0   \n",
       "Los Angeles-Long Beach-Anaheim, CA    231337.0    232142.0    233376.0   \n",
       "Chicago, IL                           168878.0    169276.0    169792.0   \n",
       "Dallas-Fort Worth, TX                 130599.0    130703.0    130790.0   \n",
       "\n",
       "                                    2000-04-30  2000-05-31  2000-06-30  ...  \\\n",
       "RegionName                                                              ...   \n",
       "United States                         128532.0    129274.0    130015.0  ...   \n",
       "New York, NY                          228398.0    230600.0    232945.0  ...   \n",
       "Los Angeles-Long Beach-Anaheim, CA    235722.0    238237.0    240612.0  ...   \n",
       "Chicago, IL                           170824.0    171917.0    173001.0  ...   \n",
       "Dallas-Fort Worth, TX                 131002.0    131225.0    131411.0  ...   \n",
       "\n",
       "                                    2021-03-31  2021-04-30  2021-05-31  \\\n",
       "RegionName                                                               \n",
       "United States                         278389.0    282245.0    286948.0   \n",
       "New York, NY                          523812.0    528535.0    534026.0   \n",
       "Los Angeles-Long Beach-Anaheim, CA    757038.0    768091.0    783767.0   \n",
       "Chicago, IL                           260755.0    263775.0    266508.0   \n",
       "Dallas-Fort Worth, TX                 285247.0    290780.0    297205.0   \n",
       "\n",
       "                                    2021-06-30  2021-07-31  2021-08-31  \\\n",
       "RegionName                                                               \n",
       "United States                         292471.0    298349.0    303739.0   \n",
       "New York, NY                          541165.0    549066.0    556634.0   \n",
       "Los Angeles-Long Beach-Anaheim, CA    803587.0    824502.0    837956.0   \n",
       "Chicago, IL                           270301.0    274437.0    278525.0   \n",
       "Dallas-Fort Worth, TX                 304541.0    312359.0    320271.0   \n",
       "\n",
       "                                    2021-09-30  2021-10-31  2021-11-30  \\\n",
       "RegionName                                                               \n",
       "United States                         308359.0    312452.0    316333.0   \n",
       "New York, NY                          562515.0    567048.0    570588.0   \n",
       "Los Angeles-Long Beach-Anaheim, CA    847074.0    851836.0    859045.0   \n",
       "Chicago, IL                           281576.0    284217.0    286894.0   \n",
       "Dallas-Fort Worth, TX                 327472.0    333559.0    339033.0   \n",
       "\n",
       "                                    2021-12-31  \n",
       "RegionName                                      \n",
       "United States                         320662.0  \n",
       "New York, NY                          573813.0  \n",
       "Los Angeles-Long Beach-Anaheim, CA    868350.0  \n",
       "Chicago, IL                           289595.0  \n",
       "Dallas-Fort Worth, TX                 344919.0  \n",
       "\n",
       "[5 rows x 268 columns]"
      ]
     },
     "execution_count": 5,
     "metadata": {},
     "output_type": "execute_result"
    }
   ],
   "source": [
    "df.head()"
   ]
  },
  {
   "cell_type": "markdown",
   "id": "6f278d75-92dc-4341-880c-c0f0a751f36e",
   "metadata": {},
   "source": [
    "## Select Zip Codes"
   ]
  },
  {
   "cell_type": "code",
   "execution_count": 6,
   "id": "e66d6ece-2e7c-4cb5-879d-1f8f9e8ef5be",
   "metadata": {},
   "outputs": [
    {
     "data": {
      "text/plain": [
       "['New York, NY',\n",
       " 'Salt Lake City, UT',\n",
       " 'Orlando, FL',\n",
       " 'Los Angeles-Long Beach-Anaheim, CA',\n",
       " 'Seattle, WA']"
      ]
     },
     "execution_count": 6,
     "metadata": {},
     "output_type": "execute_result"
    }
   ],
   "source": [
    "# overwrite these regions with a list of your own - make sure there are enough observations\n",
    "regions = [\n",
    "    \"New York, NY\",\n",
    "    \"Salt Lake City, UT\",\n",
    "    \"Orlando, FL\",\n",
    "    \"Los Angeles-Long Beach-Anaheim, CA\",\n",
    "    \"Seattle, WA\",\n",
    "]\n",
    "regions"
   ]
  },
  {
   "cell_type": "code",
   "execution_count": 7,
   "id": "95ec814e-4d1e-4659-82b2-0c2135edff57",
   "metadata": {},
   "outputs": [],
   "source": [
    "assert len([r for r in regions if r in df.index.to_list()]) == len(\n",
    "    regions\n",
    "), \"the following region names are invalid: {}\".format(\n",
    "    [r for r in regions if r not in df.index.to_list()]\n",
    ")"
   ]
  },
  {
   "cell_type": "code",
   "execution_count": 8,
   "id": "4709d570-b19d-447e-a537-49f68b71f4d8",
   "metadata": {},
   "outputs": [],
   "source": [
    "# loads sliced dataframe into forecaster objects stored in a dict\n",
    "preds = {}\n",
    "for r in regions:\n",
    "    data_load = df.loc[r].transpose()\n",
    "    f = Forecaster(y=data_load.values[8:],current_dates=data_load.index[8:],name=r)\n",
    "    f.set_test_length(12)\n",
    "    preds[r] = f"
   ]
  },
  {
   "cell_type": "markdown",
   "id": "0c45804b-3218-4a83-8ad5-f46d08d6d0f1",
   "metadata": {},
   "source": [
    "## EDA\n",
    "- last series only\n",
    "- use only training set to avoid leakage"
   ]
  },
  {
   "cell_type": "code",
   "execution_count": 9,
   "id": "9c7defc0-6e07-4b63-86b9-4cd60c6fe628",
   "metadata": {},
   "outputs": [
    {
     "data": {
      "image/png": "[encoded data removed]",
      "text/plain": [
       "<Figure size 864x576 with 1 Axes>"
      ]
     },
     "metadata": {},
     "output_type": "display_data"
    }
   ],
   "source": [
    "f.plot_acf(diffy=2,train_only=True)\n",
    "plt.show()"
   ]
  },
  {
   "cell_type": "code",
   "execution_count": 10,
   "id": "8d8f525b-c3df-49aa-88e5-f7c0fe8c1f93",
   "metadata": {},
   "outputs": [
    {
     "data": {
      "image/png": "[encoded data removed]",
      "text/plain": [
       "<Figure size 864x576 with 1 Axes>"
      ]
     },
     "metadata": {},
     "output_type": "display_data"
    }
   ],
   "source": [
    "f.plot_pacf(diffy=2,train_only=True)\n",
    "plt.show()"
   ]
  },
  {
   "cell_type": "code",
   "execution_count": 11,
   "id": "02c7350e-bb98-465d-a8fa-b98a158ceb02",
   "metadata": {},
   "outputs": [
    {
     "data": {
      "image/png": "[encoded data removed]",
      "text/plain": [
       "<Figure size 864x576 with 4 Axes>"
      ]
     },
     "metadata": {},
     "output_type": "display_data"
    }
   ],
   "source": [
    "f.seasonal_decompose(diffy=2,train_only=True).plot()\n",
    "plt.show()"
   ]
  },
  {
   "cell_type": "markdown",
   "id": "0b264a1b-57ba-4744-9ca9-a513e6d72619",
   "metadata": {},
   "source": [
    "## Predict future values\n",
    "- using second differenced data for stationarity"
   ]
  },
  {
   "cell_type": "code",
   "execution_count": 12,
   "id": "6fea796f-3499-4498-b555-1f273cfe3529",
   "metadata": {},
   "outputs": [
    {
     "data": {
      "application/vnd.jupyter.widget-view+json": {
       "model_id": "02896eca9e9d4dc59297becf13ce56e6",
       "version_major": 2,
       "version_minor": 0
      },
      "text/plain": [
       "  0%|          | 0/5 [00:00<?, ?it/s]"
      ]
     },
     "metadata": {},
     "output_type": "display_data"
    },
    {
     "name": "stdout",
     "output_type": "stream",
     "text": [
      "forcasting with 6 models for New York, NY\n"
     ]
    },
    {
     "data": {
      "application/vnd.jupyter.widget-view+json": {
       "model_id": "bf23b72573d54ce5a3acad2c117762c3",
       "version_major": 2,
       "version_minor": 0
      },
      "text/plain": [
       "  0%|          | 0/6 [00:00<?, ?it/s]"
      ]
     },
     "metadata": {},
     "output_type": "display_data"
    },
    {
     "name": "stdout",
     "output_type": "stream",
     "text": [
      "forcasting with 6 models for Salt Lake City, UT\n"
     ]
    },
    {
     "data": {
      "application/vnd.jupyter.widget-view+json": {
       "model_id": "3a8bc63c5bbc419a93d8593f9b5656b7",
       "version_major": 2,
       "version_minor": 0
      },
      "text/plain": [
       "  0%|          | 0/6 [00:00<?, ?it/s]"
      ]
     },
     "metadata": {},
     "output_type": "display_data"
    },
    {
     "name": "stdout",
     "output_type": "stream",
     "text": [
      "forcasting with 6 models for Orlando, FL\n"
     ]
    },
    {
     "data": {
      "application/vnd.jupyter.widget-view+json": {
       "model_id": "41f74ae778c64a479941a063527a28d4",
       "version_major": 2,
       "version_minor": 0
      },
      "text/plain": [
       "  0%|          | 0/6 [00:00<?, ?it/s]"
      ]
     },
     "metadata": {},
     "output_type": "display_data"
    },
    {
     "name": "stdout",
     "output_type": "stream",
     "text": [
      "forcasting with 6 models for Los Angeles-Long Beach-Anaheim, CA\n"
     ]
    },
    {
     "data": {
      "application/vnd.jupyter.widget-view+json": {
       "model_id": "516c4261678d4d0d97ce9854575fcd4c",
       "version_major": 2,
       "version_minor": 0
      },
      "text/plain": [
       "  0%|          | 0/6 [00:00<?, ?it/s]"
      ]
     },
     "metadata": {},
     "output_type": "display_data"
    },
    {
     "name": "stdout",
     "output_type": "stream",
     "text": [
      "forcasting with 6 models for Seattle, WA\n"
     ]
    },
    {
     "data": {
      "application/vnd.jupyter.widget-view+json": {
       "model_id": "38798e79cde84079913907d64e9e17da",
       "version_major": 2,
       "version_minor": 0
      },
      "text/plain": [
       "  0%|          | 0/6 [00:00<?, ?it/s]"
      ]
     },
     "metadata": {},
     "output_type": "display_data"
    }
   ],
   "source": [
    "# full forecast process\n",
    "for k, f in log_progress(preds.items()):\n",
    "    print(f'forcasting with {len(models)} models for {k}')\n",
    "    f.generate_future_dates(12)\n",
    "    f.set_validation_length(6)\n",
    "    f.add_ar_terms(3)\n",
    "    f.add_AR_terms((4,3))\n",
    "    f.add_AR_terms((2,12))\n",
    "    f.integrate()\n",
    "    f.add_seasonal_regressors('month','quarter',raw=False,dummy=True)\n",
    "    f.add_seasonal_regressors('year')\n",
    "    f.add_other_regressor(called='2008_recession',start='2007-10-01',end='2009-06-30')\n",
    "    f.add_time_trend(called='t')\n",
    "    f.add_poly_terms('t',pwr=3)\n",
    "    \n",
    "    tune_test_forecast(f,models)\n",
    "        \n",
    "    f.set_estimator('combo')\n",
    "    # top based on performance of each model in tuning process\n",
    "    f.manual_forecast(how='simple',models='top_3',call_me='avg')\n",
    "    f.manual_forecast(how='weighted',models='top_5',call_me='weighted')"
   ]
  },
  {
   "cell_type": "markdown",
   "id": "9b713b4b-6b66-43fb-8fb9-fac0ed52f8a5",
   "metadata": {},
   "source": [
    "## Write out model stats"
   ]
  },
  {
   "cell_type": "code",
   "execution_count": 13,
   "id": "909ca61c-33ea-44c9-b207-0e40c8ec46ec",
   "metadata": {},
   "outputs": [],
   "source": [
    "# writes model summaries to a csv file\n",
    "model_summaries = pd.DataFrame()\n",
    "for k, f in preds.items():\n",
    "    df = f.export(dfs='model_summaries',determine_best_by='LevelTestSetMAPE')\n",
    "    df['Name'] = k\n",
    "    model_summaries = pd.concat([model_summaries,df],ignore_index=True)\n",
    "    \n",
    "model_summaries.to_csv('model_summaries.csv',index=False)"
   ]
  },
  {
   "cell_type": "markdown",
   "id": "f7db0ae5-5c00-43c9-9179-f6c44eda0113",
   "metadata": {},
   "source": [
    "## Visualize results"
   ]
  },
  {
   "cell_type": "code",
   "execution_count": 16,
   "id": "538660d7-7719-4388-a384-64338cf72432",
   "metadata": {},
   "outputs": [
    {
     "data": {
      "application/vnd.jupyter.widget-view+json": {
       "model_id": "040940a582034dd386727cc1c6659871",
       "version_major": 2,
       "version_minor": 0
      },
      "text/plain": [
       "Dropdown(description='Time Series:', options=('New York, NY', 'Salt Lake City, UT', 'Orlando, FL', 'Los Angele…"
      ]
     },
     "metadata": {},
     "output_type": "display_data"
    },
    {
     "data": {
      "application/vnd.jupyter.widget-view+json": {
       "model_id": "d9c6062b669440189ef5ff3964a5171a",
       "version_major": 2,
       "version_minor": 0
      },
      "text/plain": [
       "Dropdown(description='No. Models', options=(1, 2, 3, 4, 5, 6, 7, 8), value=1)"
      ]
     },
     "metadata": {},
     "output_type": "display_data"
    },
    {
     "data": {
      "application/vnd.jupyter.widget-view+json": {
       "model_id": "469a6fe4c652459b9aa152e0bd95ae6b",
       "version_major": 2,
       "version_minor": 0
      },
      "text/plain": [
       "Dropdown(description='View Level', options=(True, False), value=True)"
      ]
     },
     "metadata": {},
     "output_type": "display_data"
    },
    {
     "data": {
      "application/vnd.jupyter.widget-view+json": {
       "model_id": "d7f8d97a0f8d46078e66a5cc633e9048",
       "version_major": 2,
       "version_minor": 0
      },
      "text/plain": [
       "Dropdown(description='View Confidence Intervals', options=(True, False), value=True)"
      ]
     },
     "metadata": {},
     "output_type": "display_data"
    },
    {
     "data": {
      "application/vnd.jupyter.widget-view+json": {
       "model_id": "613c287149f94f8e85b141cfbedd36e0",
       "version_major": 2,
       "version_minor": 0
      },
      "text/plain": [
       "Dropdown(description='Order By', options=('InSampleMAE', 'InSampleMAPE', 'InSampleR2', 'InSampleRMSE', 'LevelT…"
      ]
     },
     "metadata": {},
     "output_type": "display_data"
    },
    {
     "data": {
      "application/vnd.jupyter.widget-view+json": {
       "model_id": "ef1abcff2bcd427d86befef85660bb20",
       "version_major": 2,
       "version_minor": 0
      },
      "text/plain": [
       "Button(description='Select Time Series', style=ButtonStyle())"
      ]
     },
     "metadata": {},
     "output_type": "display_data"
    },
    {
     "data": {
      "application/vnd.jupyter.widget-view+json": {
       "model_id": "ea0ef6f51d854dccb8efd02e0bdf508c",
       "version_major": 2,
       "version_minor": 0
      },
      "text/plain": [
       "Output()"
      ]
     },
     "metadata": {},
     "output_type": "display_data"
    }
   ],
   "source": [
    "results_vis(preds,'forecast',print_attr=['Integration'])"
   ]
  },
  {
   "cell_type": "code",
   "execution_count": 15,
   "id": "f700173c-361f-4888-8edb-dd1e738434d3",
   "metadata": {},
   "outputs": [
    {
     "data": {
      "application/vnd.jupyter.widget-view+json": {
       "model_id": "ef9c1ab9950c4b9c81b93667d77d4186",
       "version_major": 2,
       "version_minor": 0
      },
      "text/plain": [
       "Dropdown(description='Time Series:', options=('New York, NY', 'Salt Lake City, UT', 'Orlando, FL', 'Los Angele…"
      ]
     },
     "metadata": {},
     "output_type": "display_data"
    },
    {
     "data": {
      "application/vnd.jupyter.widget-view+json": {
       "model_id": "05e907b9f592496095867898e5274ddd",
       "version_major": 2,
       "version_minor": 0
      },
      "text/plain": [
       "Dropdown(description='No. Models', options=(1, 2, 3, 4, 5, 6, 7, 8), value=1)"
      ]
     },
     "metadata": {},
     "output_type": "display_data"
    },
    {
     "data": {
      "application/vnd.jupyter.widget-view+json": {
       "model_id": "3ae6b0318b8446b8a76b18a055661380",
       "version_major": 2,
       "version_minor": 0
      },
      "text/plain": [
       "Dropdown(description='View Level', options=(True, False), value=True)"
      ]
     },
     "metadata": {},
     "output_type": "display_data"
    },
    {
     "data": {
      "application/vnd.jupyter.widget-view+json": {
       "model_id": "2b2add599e854032b788d0a4ac7ebafe",
       "version_major": 2,
       "version_minor": 0
      },
      "text/plain": [
       "Dropdown(description='View Confidence Intervals', options=(True, False), value=True)"
      ]
     },
     "metadata": {},
     "output_type": "display_data"
    },
    {
     "data": {
      "application/vnd.jupyter.widget-view+json": {
       "model_id": "a9740c434ef84070a63935e3de5ca188",
       "version_major": 2,
       "version_minor": 0
      },
      "text/plain": [
       "Dropdown(description='Order By', options=('InSampleMAE', 'InSampleMAPE', 'InSampleR2', 'InSampleRMSE', 'LevelT…"
      ]
     },
     "metadata": {},
     "output_type": "display_data"
    },
    {
     "data": {
      "application/vnd.jupyter.widget-view+json": {
       "model_id": "7b8aee353b19407eac5de3c3fed66a77",
       "version_major": 2,
       "version_minor": 0
      },
      "text/plain": [
       "Button(description='Select Time Series', style=ButtonStyle())"
      ]
     },
     "metadata": {},
     "output_type": "display_data"
    },
    {
     "data": {
      "application/vnd.jupyter.widget-view+json": {
       "model_id": "49ca6835de7a4532a473d12ba5b0b6bd",
       "version_major": 2,
       "version_minor": 0
      },
      "text/plain": [
       "Output()"
      ]
     },
     "metadata": {},
     "output_type": "display_data"
    }
   ],
   "source": [
    "results_vis(preds,'test')"
   ]
  },
  {
   "cell_type": "code",
   "execution_count": null,
   "id": "07877186-a4da-4687-9130-143e4fb7ec25",
   "metadata": {},
   "outputs": [],
   "source": []
  }
 ],
 "metadata": {
  "kernelspec": {
   "display_name": "Python 3",
   "language": "python",
   "name": "python3"
  },
  "language_info": {
   "codemirror_mode": {
    "name": "ipython",
    "version": 3
   },
   "file_extension": ".py",
   "mimetype": "text/x-python",
   "name": "python",
   "nbconvert_exporter": "python",
   "pygments_lexer": "ipython3",
   "version": "3.8.8"
  },
  "widgets": {
   "application/vnd.jupyter.widget-state+json": {
    "state": {
     "0263c33b2d324ea6af8c4d72a259a0af": {
      "model_module": "@jupyter-widgets/controls",
      "model_module_version": "1.5.0",
      "model_name": "DescriptionStyleModel",
      "state": {
       "description_width": ""
      }
     },
     "02896eca9e9d4dc59297becf13ce56e6": {
      "model_module": "@jupyter-widgets/controls",
      "model_module_version": "1.5.0",
      "model_name": "HBoxModel",
      "state": {
       "children": [
        "IPY_MODEL_f4d07900790b45cfb10060860cc63a26",
        "IPY_MODEL_f227aa15360c4fb294187d3b85526026",
        "IPY_MODEL_4495f248b22e4f17a4840b3548c9a6fc"
       ],
       "layout": "IPY_MODEL_5cf0fdbe2a774eac984677f5fef2d1fd"
      }
     },
     "040196e0024349289147034fc57b0ce5": {
      "model_module": "@jupyter-widgets/base",
      "model_module_version": "1.2.0",
      "model_name": "LayoutModel",
      "state": {}
     },
     "040940a582034dd386727cc1c6659871": {
      "model_module": "@jupyter-widgets/controls",
      "model_module_version": "1.5.0",
      "model_name": "DropdownModel",
      "state": {
       "_options_labels": [
        "New York, NY",
        "Salt Lake City, UT",
        "Orlando, FL",
        "Los Angeles-Long Beach-Anaheim, CA",
        "Seattle, WA"
       ],
       "description": "Time Series:",
       "index": 4,
       "layout": "IPY_MODEL_7ae3985db5964f7e8fdd2aa2db8fc3ea",
       "style": "IPY_MODEL_7bc6c08afa434507882cbde9b0d7f382"
      }
     },
     "04b2e8535d59452f9dc2243f2e6644bc": {
      "model_module": "@jupyter-widgets/controls",
      "model_module_version": "1.5.0",
      "model_name": "HTMLModel",
      "state": {
       "layout": "IPY_MODEL_8e92f6e69c194340bc517b619e7b1646",
       "style": "IPY_MODEL_f4fc2774e4274a5da0f9bdb86d737c60",
       "value": " 6/6 [00:21&lt;00:00,  5.32s/it]"
      }
     },
     "05e907b9f592496095867898e5274ddd": {
      "model_module": "@jupyter-widgets/controls",
      "model_module_version": "1.5.0",
      "model_name": "DropdownModel",
      "state": {
       "_options_labels": [
        "1",
        "2",
        "3",
        "4",
        "5",
        "6",
        "7",
        "8"
       ],
       "description": "No. Models",
       "index": 0,
       "layout": "IPY_MODEL_2a282b826449495eb9ad03b53e15cb2e",
       "style": "IPY_MODEL_ba6adf6b6b424d87abbe7b099301f7f8"
      }
     },
     "0a1b977e45fd48d38f797a01b4cd1024": {
      "model_module": "@jupyter-widgets/controls",
      "model_module_version": "1.5.0",
      "model_name": "HTMLModel",
      "state": {
       "layout": "IPY_MODEL_1695133c8512458c8de976fdfaec34c0",
       "style": "IPY_MODEL_3bf42c4a361f421281f5fe821035db02",
       "value": "100%"
      }
     },
     "0cc30a621e214db0aa9e2b2fe3db67a6": {
      "model_module": "@jupyter-widgets/base",
      "model_module_version": "1.2.0",
      "model_name": "LayoutModel",
      "state": {}
     },
     "0e0b2ca241f84c2bb67c32afbb16a80d": {
      "model_module": "@jupyter-widgets/base",
      "model_module_version": "1.2.0",
      "model_name": "LayoutModel",
      "state": {}
     },
     "1695133c8512458c8de976fdfaec34c0": {
      "model_module": "@jupyter-widgets/base",
      "model_module_version": "1.2.0",
      "model_name": "LayoutModel",
      "state": {}
     },
     "17c301e0bfc04d6193317607c681d2ce": {
      "model_module": "@jupyter-widgets/controls",
      "model_module_version": "1.5.0",
      "model_name": "HTMLModel",
      "state": {
       "layout": "IPY_MODEL_84b3fc2fb74a4678b88e759e2e38f0e5",
       "style": "IPY_MODEL_30c9c79230614b02a6951010c6bcca6d",
       "value": " 6/6 [00:20&lt;00:00,  4.99s/it]"
      }
     },
     "191004bb005c407495f7f74f8942f99f": {
      "model_module": "@jupyter-widgets/base",
      "model_module_version": "1.2.0",
      "model_name": "LayoutModel",
      "state": {}
     },
     "1ab11fba52b34d6c8854010544de613b": {
      "model_module": "@jupyter-widgets/base",
      "model_module_version": "1.2.0",
      "model_name": "LayoutModel",
      "state": {}
     },
     "1c9b0eb1983d4e73b9210b50c77cdea4": {
      "model_module": "@jupyter-widgets/controls",
      "model_module_version": "1.5.0",
      "model_name": "DescriptionStyleModel",
      "state": {
       "description_width": ""
      }
     },
     "21e822af0d5449be8500fd3bc84c10fb": {
      "model_module": "@jupyter-widgets/controls",
      "model_module_version": "1.5.0",
      "model_name": "ProgressStyleModel",
      "state": {
       "description_width": ""
      }
     },
     "22d29ec32e29418c903fa19cd869e6c7": {
      "model_module": "@jupyter-widgets/base",
      "model_module_version": "1.2.0",
      "model_name": "LayoutModel",
      "state": {}
     },
     "250be6cdaabd4b71b20ea1fb18a5b216": {
      "model_module": "@jupyter-widgets/base",
      "model_module_version": "1.2.0",
      "model_name": "LayoutModel",
      "state": {}
     },
     "29cb436c9dc74cff8fdc7ff479d64477": {
      "model_module": "@jupyter-widgets/controls",
      "model_module_version": "1.5.0",
      "model_name": "DescriptionStyleModel",
      "state": {
       "description_width": ""
      }
     },
     "2a282b826449495eb9ad03b53e15cb2e": {
      "model_module": "@jupyter-widgets/base",
      "model_module_version": "1.2.0",
      "model_name": "LayoutModel",
      "state": {}
     },
     "2b2add599e854032b788d0a4ac7ebafe": {
      "model_module": "@jupyter-widgets/controls",
      "model_module_version": "1.5.0",
      "model_name": "DropdownModel",
      "state": {
       "_options_labels": [
        "True",
        "False"
       ],
       "description": "View Confidence Intervals",
       "index": 0,
       "layout": "IPY_MODEL_a6893af7ed0f4a798fb92ea633c9d2aa",
       "style": "IPY_MODEL_8355bc8531bb4db1b5b7b23fd351956d"
      }
     },
     "30c9c79230614b02a6951010c6bcca6d": {
      "model_module": "@jupyter-widgets/controls",
      "model_module_version": "1.5.0",
      "model_name": "DescriptionStyleModel",
      "state": {
       "description_width": ""
      }
     },
     "30ce189168124beb8d32b9d52447d163": {
      "model_module": "@jupyter-widgets/base",
      "model_module_version": "1.2.0",
      "model_name": "LayoutModel",
      "state": {}
     },
     "30f87f9261494305b83b09679d26f858": {
      "model_module": "@jupyter-widgets/controls",
      "model_module_version": "1.5.0",
      "model_name": "DropdownModel",
      "state": {
       "_options_labels": [
        "True",
        "False"
       ],
       "description": "View Confidence Intervals",
       "index": 1,
       "layout": "IPY_MODEL_e3cd13646ab04870b6589451d8f97c72",
       "style": "IPY_MODEL_6b602a3a934f49218afac3827b033d25"
      }
     },
     "32bd18cec55e4034b5bc83061f7c4fbe": {
      "model_module": "@jupyter-widgets/controls",
      "model_module_version": "1.5.0",
      "model_name": "ButtonModel",
      "state": {
       "description": "Select Time Series",
       "layout": "IPY_MODEL_33ab763457b24b409b456fac0b2dae8e",
       "style": "IPY_MODEL_7e6340916c8445a8b9ba2f8e243936ce"
      }
     },
     "32e42730e5f24689b24f3966f8392c62": {
      "model_module": "@jupyter-widgets/controls",
      "model_module_version": "1.5.0",
      "model_name": "DropdownModel",
      "state": {
       "_options_labels": [
        "InSampleMAE",
        "InSampleMAPE",
        "InSampleR2",
        "InSampleRMSE",
        "LevelTestSetMAE",
        "LevelTestSetMAPE",
        "LevelTestSetR2",
        "LevelTestSetRMSE",
        "TestSetMAE",
        "TestSetMAPE",
        "TestSetR2",
        "TestSetRMSE",
        "ValidationMetricValue"
       ],
       "description": "Order By",
       "index": 5,
       "layout": "IPY_MODEL_3be6429e434b4ae8a672f485389508af",
       "style": "IPY_MODEL_58bb289e5e284c499173b659bf754bfc"
      }
     },
     "33ab763457b24b409b456fac0b2dae8e": {
      "model_module": "@jupyter-widgets/base",
      "model_module_version": "1.2.0",
      "model_name": "LayoutModel",
      "state": {}
     },
     "357fb617545946bda830a1bd18747591": {
      "model_module": "@jupyter-widgets/base",
      "model_module_version": "1.2.0",
      "model_name": "LayoutModel",
      "state": {}
     },
     "35833e6646bf42c3b2e270cfb6110243": {
      "model_module": "@jupyter-widgets/controls",
      "model_module_version": "1.5.0",
      "model_name": "DescriptionStyleModel",
      "state": {
       "description_width": ""
      }
     },
     "38798e79cde84079913907d64e9e17da": {
      "model_module": "@jupyter-widgets/controls",
      "model_module_version": "1.5.0",
      "model_name": "HBoxModel",
      "state": {
       "children": [
        "IPY_MODEL_0a1b977e45fd48d38f797a01b4cd1024",
        "IPY_MODEL_ac0f7e0b9d18476a88ff3d702c67876a",
        "IPY_MODEL_cf23a51b1d074840a7fa3e49d74f610b"
       ],
       "layout": "IPY_MODEL_71770f58e0cb427db1eebf20222132c2"
      }
     },
     "3a8bc63c5bbc419a93d8593f9b5656b7": {
      "model_module": "@jupyter-widgets/controls",
      "model_module_version": "1.5.0",
      "model_name": "HBoxModel",
      "state": {
       "children": [
        "IPY_MODEL_5f4d566dc0094d84b4c2313b0d6b84c1",
        "IPY_MODEL_8ed41a9314104091a5c7af55b58d5d5a",
        "IPY_MODEL_04b2e8535d59452f9dc2243f2e6644bc"
       ],
       "layout": "IPY_MODEL_0cc30a621e214db0aa9e2b2fe3db67a6"
      }
     },
     "3ae6b0318b8446b8a76b18a055661380": {
      "model_module": "@jupyter-widgets/controls",
      "model_module_version": "1.5.0",
      "model_name": "DropdownModel",
      "state": {
       "_options_labels": [
        "True",
        "False"
       ],
       "description": "View Level",
       "index": 0,
       "layout": "IPY_MODEL_419e7b733db54a4fa178b411ab2195a2",
       "style": "IPY_MODEL_29cb436c9dc74cff8fdc7ff479d64477"
      }
     },
     "3be6429e434b4ae8a672f485389508af": {
      "model_module": "@jupyter-widgets/base",
      "model_module_version": "1.2.0",
      "model_name": "LayoutModel",
      "state": {}
     },
     "3bf42c4a361f421281f5fe821035db02": {
      "model_module": "@jupyter-widgets/controls",
      "model_module_version": "1.5.0",
      "model_name": "DescriptionStyleModel",
      "state": {
       "description_width": ""
      }
     },
     "419e7b733db54a4fa178b411ab2195a2": {
      "model_module": "@jupyter-widgets/base",
      "model_module_version": "1.2.0",
      "model_name": "LayoutModel",
      "state": {}
     },
     "41f74ae778c64a479941a063527a28d4": {
      "model_module": "@jupyter-widgets/controls",
      "model_module_version": "1.5.0",
      "model_name": "HBoxModel",
      "state": {
       "children": [
        "IPY_MODEL_9d517b58f0c14b44993a913429135da4",
        "IPY_MODEL_5fa07544f4a047f4a963a55e1e47f37e",
        "IPY_MODEL_17c301e0bfc04d6193317607c681d2ce"
       ],
       "layout": "IPY_MODEL_250be6cdaabd4b71b20ea1fb18a5b216"
      }
     },
     "4202951a3f544c40bf5099080fca37c5": {
      "model_module": "@jupyter-widgets/controls",
      "model_module_version": "1.5.0",
      "model_name": "ProgressStyleModel",
      "state": {
       "description_width": ""
      }
     },
     "43b6f277082748628e9fc11f015c3a3f": {
      "model_module": "@jupyter-widgets/base",
      "model_module_version": "1.2.0",
      "model_name": "LayoutModel",
      "state": {}
     },
     "4495f248b22e4f17a4840b3548c9a6fc": {
      "model_module": "@jupyter-widgets/controls",
      "model_module_version": "1.5.0",
      "model_name": "HTMLModel",
      "state": {
       "layout": "IPY_MODEL_b3cd945648774a07aa66143e3ec9fa46",
       "style": "IPY_MODEL_af861b1ec46f4b6a824ba6b0ff51f4cc",
       "value": " 5/5 [01:45&lt;00:00, 21.05s/it]"
      }
     },
     "469a6fe4c652459b9aa152e0bd95ae6b": {
      "model_module": "@jupyter-widgets/controls",
      "model_module_version": "1.5.0",
      "model_name": "DropdownModel",
      "state": {
       "_options_labels": [
        "True",
        "False"
       ],
       "description": "View Level",
       "index": 0,
       "layout": "IPY_MODEL_357fb617545946bda830a1bd18747591",
       "style": "IPY_MODEL_1c9b0eb1983d4e73b9210b50c77cdea4"
      }
     },
     "490241b38397425e993862fb2c8aec58": {
      "model_module": "@jupyter-widgets/controls",
      "model_module_version": "1.5.0",
      "model_name": "DescriptionStyleModel",
      "state": {
       "description_width": ""
      }
     },
     "4997996f339b487fb0f111d25f24457a": {
      "model_module": "@jupyter-widgets/base",
      "model_module_version": "1.2.0",
      "model_name": "LayoutModel",
      "state": {}
     },
     "49ab27ad624643d6b5f7026794100c17": {
      "model_module": "@jupyter-widgets/output",
      "model_module_version": "1.0.0",
      "model_name": "OutputModel",
      "state": {
       "layout": "IPY_MODEL_704967d110724e4d8405a3d47b36b755",
       "outputs": [
        {
         "name": "stdout",
         "output_type": "stream",
         "text": "New York, NY\n"
        },
        {
         "data": {
          "image/png": "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\n",
          "text/plain": "<Figure size 864x576 with 1 Axes>"
         },
         "metadata": {},
         "output_type": "display_data"
        }
       ]
      }
     },
     "49ca6835de7a4532a473d12ba5b0b6bd": {
      "model_module": "@jupyter-widgets/output",
      "model_module_version": "1.0.0",
      "model_name": "OutputModel",
      "state": {
       "layout": "IPY_MODEL_618f225dc7284e6b85fa9db32db7db78"
      }
     },
     "4a4a27141f384caca65a0921e5e9685b": {
      "model_module": "@jupyter-widgets/controls",
      "model_module_version": "1.5.0",
      "model_name": "DescriptionStyleModel",
      "state": {
       "description_width": ""
      }
     },
     "50cb1d3fd6804e44915459a124a80964": {
      "model_module": "@jupyter-widgets/base",
      "model_module_version": "1.2.0",
      "model_name": "LayoutModel",
      "state": {}
     },
     "516c4261678d4d0d97ce9854575fcd4c": {
      "model_module": "@jupyter-widgets/controls",
      "model_module_version": "1.5.0",
      "model_name": "HBoxModel",
      "state": {
       "children": [
        "IPY_MODEL_5a152bf512334157bb7cbe1cf6818925",
        "IPY_MODEL_d284c9752c2349f39a6e622f1f7153cc",
        "IPY_MODEL_efad9caff0404c3290600a2a96ad8e51"
       ],
       "layout": "IPY_MODEL_0e0b2ca241f84c2bb67c32afbb16a80d"
      }
     },
     "53ab649ad7774994a279759f3624f9d6": {
      "model_module": "@jupyter-widgets/base",
      "model_module_version": "1.2.0",
      "model_name": "LayoutModel",
      "state": {}
     },
     "58bb289e5e284c499173b659bf754bfc": {
      "model_module": "@jupyter-widgets/controls",
      "model_module_version": "1.5.0",
      "model_name": "DescriptionStyleModel",
      "state": {
       "description_width": ""
      }
     },
     "5a152bf512334157bb7cbe1cf6818925": {
      "model_module": "@jupyter-widgets/controls",
      "model_module_version": "1.5.0",
      "model_name": "HTMLModel",
      "state": {
       "layout": "IPY_MODEL_9013c2d5f9534e31b7d1a1ceb53b95ff",
       "style": "IPY_MODEL_6009a20c024743fba029b8b5c2dbd0c4",
       "value": "100%"
      }
     },
     "5b46b6e1fe544aa79694f8fa20e3bd6f": {
      "model_module": "@jupyter-widgets/controls",
      "model_module_version": "1.5.0",
      "model_name": "FloatProgressModel",
      "state": {
       "bar_style": "success",
       "layout": "IPY_MODEL_22d29ec32e29418c903fa19cd869e6c7",
       "max": 6,
       "style": "IPY_MODEL_e84ea0a534fd4868bdab9e3022ca0bc3",
       "value": 6
      }
     },
     "5cf0fdbe2a774eac984677f5fef2d1fd": {
      "model_module": "@jupyter-widgets/base",
      "model_module_version": "1.2.0",
      "model_name": "LayoutModel",
      "state": {}
     },
     "5e240c244edf450082ae8801161a9afe": {
      "model_module": "@jupyter-widgets/base",
      "model_module_version": "1.2.0",
      "model_name": "LayoutModel",
      "state": {}
     },
     "5f4d566dc0094d84b4c2313b0d6b84c1": {
      "model_module": "@jupyter-widgets/controls",
      "model_module_version": "1.5.0",
      "model_name": "HTMLModel",
      "state": {
       "layout": "IPY_MODEL_040196e0024349289147034fc57b0ce5",
       "style": "IPY_MODEL_c0caa5c656144938a50970c89a95af8a",
       "value": "100%"
      }
     },
     "5fa07544f4a047f4a963a55e1e47f37e": {
      "model_module": "@jupyter-widgets/controls",
      "model_module_version": "1.5.0",
      "model_name": "FloatProgressModel",
      "state": {
       "bar_style": "success",
       "layout": "IPY_MODEL_50cb1d3fd6804e44915459a124a80964",
       "max": 6,
       "style": "IPY_MODEL_9bff072d6a434129918075b9482df6ea",
       "value": 6
      }
     },
     "6009a20c024743fba029b8b5c2dbd0c4": {
      "model_module": "@jupyter-widgets/controls",
      "model_module_version": "1.5.0",
      "model_name": "DescriptionStyleModel",
      "state": {
       "description_width": ""
      }
     },
     "613c287149f94f8e85b141cfbedd36e0": {
      "model_module": "@jupyter-widgets/controls",
      "model_module_version": "1.5.0",
      "model_name": "DropdownModel",
      "state": {
       "_options_labels": [
        "InSampleMAE",
        "InSampleMAPE",
        "InSampleR2",
        "InSampleRMSE",
        "LevelTestSetMAE",
        "LevelTestSetMAPE",
        "LevelTestSetR2",
        "LevelTestSetRMSE",
        "TestSetMAE",
        "TestSetMAPE",
        "TestSetR2",
        "TestSetRMSE",
        "ValidationMetricValue"
       ],
       "description": "Order By",
       "index": 0,
       "layout": "IPY_MODEL_6a23b538a1c040e2a6796bd5245a5582",
       "style": "IPY_MODEL_80b093912e354c40b74bad620581db25"
      }
     },
     "618f225dc7284e6b85fa9db32db7db78": {
      "model_module": "@jupyter-widgets/base",
      "model_module_version": "1.2.0",
      "model_name": "LayoutModel",
      "state": {}
     },
     "62f3a24606a4411e9dbe45936fc91284": {
      "model_module": "@jupyter-widgets/controls",
      "model_module_version": "1.5.0",
      "model_name": "ProgressStyleModel",
      "state": {
       "description_width": ""
      }
     },
     "679ed238c16942508c27551e41d1f2d4": {
      "model_module": "@jupyter-widgets/controls",
      "model_module_version": "1.5.0",
      "model_name": "DescriptionStyleModel",
      "state": {
       "description_width": ""
      }
     },
     "684d768beaa84df7b7151bec394c9393": {
      "model_module": "@jupyter-widgets/controls",
      "model_module_version": "1.5.0",
      "model_name": "DescriptionStyleModel",
      "state": {
       "description_width": ""
      }
     },
     "6a23b538a1c040e2a6796bd5245a5582": {
      "model_module": "@jupyter-widgets/base",
      "model_module_version": "1.2.0",
      "model_name": "LayoutModel",
      "state": {}
     },
     "6b602a3a934f49218afac3827b033d25": {
      "model_module": "@jupyter-widgets/controls",
      "model_module_version": "1.5.0",
      "model_name": "DescriptionStyleModel",
      "state": {
       "description_width": ""
      }
     },
     "6d1bc36f701b427cb0db08825614c762": {
      "model_module": "@jupyter-widgets/base",
      "model_module_version": "1.2.0",
      "model_name": "LayoutModel",
      "state": {}
     },
     "6d9f74145fee4b078f310f97defcd9c5": {
      "model_module": "@jupyter-widgets/base",
      "model_module_version": "1.2.0",
      "model_name": "LayoutModel",
      "state": {}
     },
     "704967d110724e4d8405a3d47b36b755": {
      "model_module": "@jupyter-widgets/base",
      "model_module_version": "1.2.0",
      "model_name": "LayoutModel",
      "state": {}
     },
     "70fe69e590ba4dd6a103ab35f831568d": {
      "model_module": "@jupyter-widgets/base",
      "model_module_version": "1.2.0",
      "model_name": "LayoutModel",
      "state": {}
     },
     "71770f58e0cb427db1eebf20222132c2": {
      "model_module": "@jupyter-widgets/base",
      "model_module_version": "1.2.0",
      "model_name": "LayoutModel",
      "state": {}
     },
     "76269faa2ce64b24a6a9350aa235750a": {
      "model_module": "@jupyter-widgets/base",
      "model_module_version": "1.2.0",
      "model_name": "LayoutModel",
      "state": {}
     },
     "7ae3985db5964f7e8fdd2aa2db8fc3ea": {
      "model_module": "@jupyter-widgets/base",
      "model_module_version": "1.2.0",
      "model_name": "LayoutModel",
      "state": {}
     },
     "7b8aee353b19407eac5de3c3fed66a77": {
      "model_module": "@jupyter-widgets/controls",
      "model_module_version": "1.5.0",
      "model_name": "ButtonModel",
      "state": {
       "description": "Select Time Series",
       "layout": "IPY_MODEL_70fe69e590ba4dd6a103ab35f831568d",
       "style": "IPY_MODEL_db641861b8d6466fbaa9cbf09020bca5"
      }
     },
     "7bc6c08afa434507882cbde9b0d7f382": {
      "model_module": "@jupyter-widgets/controls",
      "model_module_version": "1.5.0",
      "model_name": "DescriptionStyleModel",
      "state": {
       "description_width": ""
      }
     },
     "7e6340916c8445a8b9ba2f8e243936ce": {
      "model_module": "@jupyter-widgets/controls",
      "model_module_version": "1.5.0",
      "model_name": "ButtonStyleModel",
      "state": {}
     },
     "80b093912e354c40b74bad620581db25": {
      "model_module": "@jupyter-widgets/controls",
      "model_module_version": "1.5.0",
      "model_name": "DescriptionStyleModel",
      "state": {
       "description_width": ""
      }
     },
     "8355bc8531bb4db1b5b7b23fd351956d": {
      "model_module": "@jupyter-widgets/controls",
      "model_module_version": "1.5.0",
      "model_name": "DescriptionStyleModel",
      "state": {
       "description_width": ""
      }
     },
     "83627fb7a71946209564e7cccf8f9cab": {
      "model_module": "@jupyter-widgets/controls",
      "model_module_version": "1.5.0",
      "model_name": "DropdownModel",
      "state": {
       "_options_labels": [
        "True",
        "False"
       ],
       "description": "View Level",
       "index": 1,
       "layout": "IPY_MODEL_1ab11fba52b34d6c8854010544de613b",
       "style": "IPY_MODEL_86bdfc22c95d4017b9bd13841f88f004"
      }
     },
     "84b3fc2fb74a4678b88e759e2e38f0e5": {
      "model_module": "@jupyter-widgets/base",
      "model_module_version": "1.2.0",
      "model_name": "LayoutModel",
      "state": {}
     },
     "86bdfc22c95d4017b9bd13841f88f004": {
      "model_module": "@jupyter-widgets/controls",
      "model_module_version": "1.5.0",
      "model_name": "DescriptionStyleModel",
      "state": {
       "description_width": ""
      }
     },
     "899101dfb886485e8c5f1ace331219a3": {
      "model_module": "@jupyter-widgets/base",
      "model_module_version": "1.2.0",
      "model_name": "LayoutModel",
      "state": {}
     },
     "8e92f6e69c194340bc517b619e7b1646": {
      "model_module": "@jupyter-widgets/base",
      "model_module_version": "1.2.0",
      "model_name": "LayoutModel",
      "state": {}
     },
     "8ed41a9314104091a5c7af55b58d5d5a": {
      "model_module": "@jupyter-widgets/controls",
      "model_module_version": "1.5.0",
      "model_name": "FloatProgressModel",
      "state": {
       "bar_style": "success",
       "layout": "IPY_MODEL_f2ec3bad97db442fb49f67b5efe3cbbe",
       "max": 6,
       "style": "IPY_MODEL_62f3a24606a4411e9dbe45936fc91284",
       "value": 6
      }
     },
     "9013c2d5f9534e31b7d1a1ceb53b95ff": {
      "model_module": "@jupyter-widgets/base",
      "model_module_version": "1.2.0",
      "model_name": "LayoutModel",
      "state": {}
     },
     "9357613768ca4faa9a41fc61f877982a": {
      "model_module": "@jupyter-widgets/controls",
      "model_module_version": "1.5.0",
      "model_name": "DescriptionStyleModel",
      "state": {
       "description_width": ""
      }
     },
     "9bff072d6a434129918075b9482df6ea": {
      "model_module": "@jupyter-widgets/controls",
      "model_module_version": "1.5.0",
      "model_name": "ProgressStyleModel",
      "state": {
       "description_width": ""
      }
     },
     "9cc112a8baf14ae69645120e9ad6159f": {
      "model_module": "@jupyter-widgets/controls",
      "model_module_version": "1.5.0",
      "model_name": "DropdownModel",
      "state": {
       "_options_labels": [
        "New York, NY",
        "Salt Lake City, UT",
        "Orlando, FL",
        "Los Angeles-Long Beach-Anaheim, CA",
        "Seattle, WA"
       ],
       "description": "Time Series:",
       "index": 0,
       "layout": "IPY_MODEL_ed5f47f895a94bbf8ca3a009980654d5",
       "style": "IPY_MODEL_e8aa746b5cf3428798e3093dc0dbef64"
      }
     },
     "9d517b58f0c14b44993a913429135da4": {
      "model_module": "@jupyter-widgets/controls",
      "model_module_version": "1.5.0",
      "model_name": "HTMLModel",
      "state": {
       "layout": "IPY_MODEL_76269faa2ce64b24a6a9350aa235750a",
       "style": "IPY_MODEL_35833e6646bf42c3b2e270cfb6110243",
       "value": "100%"
      }
     },
     "9e88916cd3f94b75b3352200fa454445": {
      "model_module": "@jupyter-widgets/base",
      "model_module_version": "1.2.0",
      "model_name": "LayoutModel",
      "state": {}
     },
     "9f479c80b205436ba43546ee111c3b6f": {
      "model_module": "@jupyter-widgets/base",
      "model_module_version": "1.2.0",
      "model_name": "LayoutModel",
      "state": {}
     },
     "a4aab137379e4385a971e6f8d75c46e5": {
      "model_module": "@jupyter-widgets/controls",
      "model_module_version": "1.5.0",
      "model_name": "DescriptionStyleModel",
      "state": {
       "description_width": ""
      }
     },
     "a6893af7ed0f4a798fb92ea633c9d2aa": {
      "model_module": "@jupyter-widgets/base",
      "model_module_version": "1.2.0",
      "model_name": "LayoutModel",
      "state": {}
     },
     "a9740c434ef84070a63935e3de5ca188": {
      "model_module": "@jupyter-widgets/controls",
      "model_module_version": "1.5.0",
      "model_name": "DropdownModel",
      "state": {
       "_options_labels": [
        "InSampleMAE",
        "InSampleMAPE",
        "InSampleR2",
        "InSampleRMSE",
        "LevelTestSetMAE",
        "LevelTestSetMAPE",
        "LevelTestSetR2",
        "LevelTestSetRMSE",
        "TestSetMAE",
        "TestSetMAPE",
        "TestSetR2",
        "TestSetRMSE",
        "ValidationMetricValue"
       ],
       "description": "Order By",
       "index": 0,
       "layout": "IPY_MODEL_9f479c80b205436ba43546ee111c3b6f",
       "style": "IPY_MODEL_0263c33b2d324ea6af8c4d72a259a0af"
      }
     },
     "ab4cf1fc64004f86ba3964c1c87cba1d": {
      "model_module": "@jupyter-widgets/controls",
      "model_module_version": "1.5.0",
      "model_name": "HTMLModel",
      "state": {
       "layout": "IPY_MODEL_b50bc6ccf79647619f304ec131e97dd9",
       "style": "IPY_MODEL_684d768beaa84df7b7151bec394c9393",
       "value": "100%"
      }
     },
     "ac0f7e0b9d18476a88ff3d702c67876a": {
      "model_module": "@jupyter-widgets/controls",
      "model_module_version": "1.5.0",
      "model_name": "FloatProgressModel",
      "state": {
       "bar_style": "success",
       "layout": "IPY_MODEL_9e88916cd3f94b75b3352200fa454445",
       "max": 6,
       "style": "IPY_MODEL_21e822af0d5449be8500fd3bc84c10fb",
       "value": 6
      }
     },
     "af861b1ec46f4b6a824ba6b0ff51f4cc": {
      "model_module": "@jupyter-widgets/controls",
      "model_module_version": "1.5.0",
      "model_name": "DescriptionStyleModel",
      "state": {
       "description_width": ""
      }
     },
     "b3cd26769d99483ea35a43b4f0312204": {
      "model_module": "@jupyter-widgets/base",
      "model_module_version": "1.2.0",
      "model_name": "LayoutModel",
      "state": {}
     },
     "b3cd945648774a07aa66143e3ec9fa46": {
      "model_module": "@jupyter-widgets/base",
      "model_module_version": "1.2.0",
      "model_name": "LayoutModel",
      "state": {}
     },
     "b50bc6ccf79647619f304ec131e97dd9": {
      "model_module": "@jupyter-widgets/base",
      "model_module_version": "1.2.0",
      "model_name": "LayoutModel",
      "state": {}
     },
     "ba6adf6b6b424d87abbe7b099301f7f8": {
      "model_module": "@jupyter-widgets/controls",
      "model_module_version": "1.5.0",
      "model_name": "DescriptionStyleModel",
      "state": {
       "description_width": ""
      }
     },
     "bf23b72573d54ce5a3acad2c117762c3": {
      "model_module": "@jupyter-widgets/controls",
      "model_module_version": "1.5.0",
      "model_name": "HBoxModel",
      "state": {
       "children": [
        "IPY_MODEL_ab4cf1fc64004f86ba3964c1c87cba1d",
        "IPY_MODEL_5b46b6e1fe544aa79694f8fa20e3bd6f",
        "IPY_MODEL_fc227fbe781d43e296180731a5580e28"
       ],
       "layout": "IPY_MODEL_c5e089ab8b134c96ad15c8928b8eb602"
      }
     },
     "c0caa5c656144938a50970c89a95af8a": {
      "model_module": "@jupyter-widgets/controls",
      "model_module_version": "1.5.0",
      "model_name": "DescriptionStyleModel",
      "state": {
       "description_width": ""
      }
     },
     "c5e089ab8b134c96ad15c8928b8eb602": {
      "model_module": "@jupyter-widgets/base",
      "model_module_version": "1.2.0",
      "model_name": "LayoutModel",
      "state": {}
     },
     "c7e20448a9c14691bb796cdcfd66bc90": {
      "model_module": "@jupyter-widgets/controls",
      "model_module_version": "1.5.0",
      "model_name": "DescriptionStyleModel",
      "state": {
       "description_width": ""
      }
     },
     "cf23a51b1d074840a7fa3e49d74f610b": {
      "model_module": "@jupyter-widgets/controls",
      "model_module_version": "1.5.0",
      "model_name": "HTMLModel",
      "state": {
       "layout": "IPY_MODEL_899101dfb886485e8c5f1ace331219a3",
       "style": "IPY_MODEL_9357613768ca4faa9a41fc61f877982a",
       "value": " 6/6 [00:21&lt;00:00,  5.14s/it]"
      }
     },
     "d070c47efa0c4376bac9f516a9223491": {
      "model_module": "@jupyter-widgets/controls",
      "model_module_version": "1.5.0",
      "model_name": "DescriptionStyleModel",
      "state": {
       "description_width": ""
      }
     },
     "d284c9752c2349f39a6e622f1f7153cc": {
      "model_module": "@jupyter-widgets/controls",
      "model_module_version": "1.5.0",
      "model_name": "FloatProgressModel",
      "state": {
       "bar_style": "success",
       "layout": "IPY_MODEL_b3cd26769d99483ea35a43b4f0312204",
       "max": 6,
       "style": "IPY_MODEL_4202951a3f544c40bf5099080fca37c5",
       "value": 6
      }
     },
     "d7f8d97a0f8d46078e66a5cc633e9048": {
      "model_module": "@jupyter-widgets/controls",
      "model_module_version": "1.5.0",
      "model_name": "DropdownModel",
      "state": {
       "_options_labels": [
        "True",
        "False"
       ],
       "description": "View Confidence Intervals",
       "index": 0,
       "layout": "IPY_MODEL_f68c3f2e09d04e73acee618ef9d7c4b9",
       "style": "IPY_MODEL_a4aab137379e4385a971e6f8d75c46e5"
      }
     },
     "d7fe88fff232461b857c9e15b31c9fe9": {
      "model_module": "@jupyter-widgets/controls",
      "model_module_version": "1.5.0",
      "model_name": "DescriptionStyleModel",
      "state": {
       "description_width": ""
      }
     },
     "d929f8ec12784b89b614f33b92a207aa": {
      "model_module": "@jupyter-widgets/controls",
      "model_module_version": "1.5.0",
      "model_name": "ProgressStyleModel",
      "state": {
       "description_width": ""
      }
     },
     "d9c6062b669440189ef5ff3964a5171a": {
      "model_module": "@jupyter-widgets/controls",
      "model_module_version": "1.5.0",
      "model_name": "DropdownModel",
      "state": {
       "_options_labels": [
        "1",
        "2",
        "3",
        "4",
        "5",
        "6",
        "7",
        "8"
       ],
       "description": "No. Models",
       "index": 7,
       "layout": "IPY_MODEL_30ce189168124beb8d32b9d52447d163",
       "style": "IPY_MODEL_d7fe88fff232461b857c9e15b31c9fe9"
      }
     },
     "db641861b8d6466fbaa9cbf09020bca5": {
      "model_module": "@jupyter-widgets/controls",
      "model_module_version": "1.5.0",
      "model_name": "ButtonStyleModel",
      "state": {}
     },
     "e3cd13646ab04870b6589451d8f97c72": {
      "model_module": "@jupyter-widgets/base",
      "model_module_version": "1.2.0",
      "model_name": "LayoutModel",
      "state": {}
     },
     "e84ea0a534fd4868bdab9e3022ca0bc3": {
      "model_module": "@jupyter-widgets/controls",
      "model_module_version": "1.5.0",
      "model_name": "ProgressStyleModel",
      "state": {
       "description_width": ""
      }
     },
     "e8aa746b5cf3428798e3093dc0dbef64": {
      "model_module": "@jupyter-widgets/controls",
      "model_module_version": "1.5.0",
      "model_name": "DescriptionStyleModel",
      "state": {
       "description_width": ""
      }
     },
     "e908d123804041f89f1999eb6f8e2877": {
      "model_module": "@jupyter-widgets/base",
      "model_module_version": "1.2.0",
      "model_name": "LayoutModel",
      "state": {}
     },
     "ea0ef6f51d854dccb8efd02e0bdf508c": {
      "model_module": "@jupyter-widgets/output",
      "model_module_version": "1.0.0",
      "model_name": "OutputModel",
      "state": {
       "layout": "IPY_MODEL_4997996f339b487fb0f111d25f24457a",
       "outputs": [
        {
         "name": "stdout",
         "output_type": "stream",
         "text": "Seattle, WA\ngbt Integration: 2\nprophet Integration: 2\nknn Integration: 2\nweighted Integration: 2\nelasticnet Integration: 2\navg Integration: 2\nsvr Integration: 2\nmlp Integration: 2\n"
        },
        {
         "data": {
          "image/png": "iVBORw0KGgoAAAANSUhEUgAAAtwAAAHwCAYAAACVL7i5AAAAOXRFWHRTb2Z0d2FyZQBNYXRwbG90bGliIHZlcnNpb24zLjQuMywgaHR0cHM6Ly9tYXRwbG90bGliLm9yZy/MnkTPAAAACXBIWXMAAAsTAAALEwEAmpwYAAB0f0lEQVR4nO3dZ2BUZdrG8f+U9E4avZfQQpcOoiDSRJogKFbsoqwNV1wRCxZWbGtjsaCiFJGiiIAIiiBFeu89pJNeppz3g6/ZZUEhkMnJJNfvi5mZM3PumduQK0+e8zwWwzAMRERERETEI6xmFyAiIiIiUp4pcIuIiIiIeJACt4iIiIiIBylwi4iIiIh4kAK3iIiIiIgHKXCLiIiIiHiQ3ewCRES8WaNGjWjYsCFW63/GL5o1a8YLL7xgYlXn9/bbbxMXF0fPnj3Peey/34fFYiEvL4/g4GAmTpxI8+bNS7yWRo0asXbtWnx8fLj//vuZMWNGiZ9DRKSsUOAWEblMn3zyCZUqVTK7jAtat24d9evX/9PH//d9TJ8+neeff55Zs2Z5rKaMjAy2b9/usdcXESkLFLhFRDxk48aNvPLKK+Tl5eHj48PDDz9Mt27dmDdvHnPnzi0aRf7000+ZM2cOX3zxBW63m/DwcJ5++mnq1atHTk4Ozz//PJs2bcJms9GzZ0/GjRvHkSNHmDRpErm5uSQlJREXF8frr7+On58fb775JsuWLcPHx4eIiAgmT57MsmXL2LFjB6+88go2m41evXr9Ze1Op5OEhATCwsKK7nv33XdZunQpbrebatWq8cwzzxAbG8vSpUt59913sVgs2Gw2Hn/8cdq1a8fNN9/MqFGjuPbaawHOuQ3w5JNPkp+fz8CBA5k3bx7/+te/zqk9JibGMw0SESklXh+4s7OzGTFiBO+99x7Vq1f/0+MOHTrEM888Q0ZGBtHR0bz22mtn/SAREblUt9xyy1lTSj788EOsVitjx47l3XffpUWLFuzfv5+bbrqJuXPnAnDgwAFWrFhBcHAw69evZ/78+Xz++ecEBASwevVqHnzwQRYvXsybb75JQUEBixcvxuVycfvtt7N+/XpWrlzJ9ddfz8CBA3E4HAwePJiVK1cSHx/PJ598wtq1a/H19eXDDz9k27ZtjBo1iiVLljBq1Kg/Ddu33HILFouFtLQ0/Pz86NGjB5MnTwZg/vz57Nu3jzlz5mC325k1axYTJkxg2rRpvPLKK0yZMoWWLVuyevVq1q1bR7t27S7qs5s8eTIDBgxgwYIFJCQknLf2802BERHxJl4duLdu3cqECRM4cuTIXx5nGAb33nsvTz31FN26dWPKlCl88MEHPPbYY6VTqIiUa+ebUrJq1Spq1qxJixYtAGjQoAGtW7dm/fr1WCwWGjVqRHBwMAArV67k6NGjjBgxouj5GRkZnDlzhjVr1vDkk09is9mw2Wx89tlnALRr145ffvmFadOmceTIEZKSksjNzSU2Npa4uDgGDRpEt27d6NatGx07dizW+9i1axdjxoyhVatWREZGAvDjjz+yfft2hgwZAoDb7SYvLw+Afv368cADD9C9e3c6d+7MmDFjLulzvJzaRUTKMq8O3LNnz+aZZ57h8ccfL7pv/vz5fPLJJ7jdbpo2bcozzzzD/v37CQwMpFu3bgDcc889ZGZmmlW2iFQAbrf7nPsMw8DpdOLj40NgYOBZxw4cOLBoEMDtdpOUlERYWBh2ux2LxVJ0bEJCAv7+/jz77LO4XC769OnDlVdeSUJCAoZhYLVa+eyzz9i+fTtr167lxRdfpH379kyYMOGia2/SpAlPPvkkEyZMoEWLFlSvXh23282dd97JyJEjASgsLCQjIwOAcePGMXToUFavXs28efP44IMPmDdvXtF7/oPD4fjL85ZE7SIiZZFXLwv4wgsv0LZt26Lb+/fvZ/bs2Xz55ZcsWLCAyMhIpk+fzrFjx4iKiuKJJ55gwIABPPPMM2f9sBMRKWktWrTg8OHDbNu2Dfj936cNGzZwxRVXnHNs586d+fbbb0lKSgLgiy++4JZbbgGgY8eOfP3117jdbgoLCxk7diwbNmxg9erV3H///fTt2xeLxcLWrVtxuVzs2bOH/v37U69ePe6++25uvfVW9u7dC4DNZsPpdF5U/f3796dly5a8+OKLAHTp0oW5c+eSnZ0NwBtvvMHjjz+O0+nkqquuIjc3lxtvvJFnnnmGgwcP4nQ6qVSpEjt27ADg2LFjRXX8N7vdjsvlwjCMv6xdRMSbefUI9/9at24dR48e5YYbbgB+H01p0qQJ1atXZ/369Xz22Wc0b96c119/nZdeeomXXnrJ5IpFpLyqVKkSb7zxBs899xz5+flYLBYmT55MnTp12Lx581nHdu3alTFjxnD77bdjsVgIDg7m7bffxmKx8MADD/DCCy8wcOBAXC4Xffv25ZprriE5OZn777+fsLAwAgICaNeuHceOHWPYsGH06dOHIUOGEBgYiL+/f9EIcY8ePXj55ZdxOBwMGjTogu/h6aef5rrrruPnn39m2LBhJCYmcsMNN2CxWKhSpQovvfQSdrudv//97zz66KNFo/Evvvgivr6+3HvvvYwfP55Vq1ZRt27dswZI/hAdHU2TJk3o06cPX3zxxZ/WLiLizSzGf/+9z0tdddVVzJgxgx9++IHjx48X/QOdk5ODy+Vi586dTJ48mYULFwK/X6w0duxYFi9ebGbZIiIiIlIBePWUkv/Vvn17li1bRmpqKoZhMHHiRD755BNatWpFWloae/bsAWDFihU0bdrU5GpFREREpCIoV1NK4uLieOCBB7jllltwu900btyYu+66Cz8/P/71r38xYcIE8vLyqFy5Mq+88orZ5YqIiIhIBVAuppSIiIiIiJRV5WpKiYiIiIhIWaPALSIiIiLiQV49hzs9PQe3u/gzYiIjg0lNzfZAReIJ6pf3Uc+8j3rmXdQv76OeeZ8/ema1WoiICLqs1/LqwO12G5cUuP94rngP9cv7qGfeRz3zLuqX91HPvE9J9czjU0qys7Pp378/J06cOOex3bt3M2TIEHr37s1TTz110TugiYiIiIh4C48G7q1bt3LjjTdy5MiR8z7+2GOP8fTTT/P9999jGAazZ8/2ZDkiIiIiIqXOo4F79uzZPPPMM8TExJzz2MmTJ8nPz6dly5YADB48mCVLlniyHBERERGRUufROdwvvPDCnz6WlJREdHR00e3o6GgSExOL9fqRkcHn3OdwODh+/Dh5efl/ce5inabCCwjwp0aNGvj4+JhWQ3R0iGnnlkujnnkf9cy7qF/eRz3zPiXVM9MumjzffjsWi6VYr5Gamn3OZPaUlAT8/QOJjo7609ez2604ne5inauiMgyDnJxMDhw4TFRUFVNqiI4OITk5y5Rzy6VRz7yPeuZd1C/vo555nz96ZrVazjvIWxymrcMdGxtLSkpK0e3k5OTzTj0pLqezkKCg0GKHdzk/i8VCUFAoTmeh2aWIiIiIeCXTAne1atXw8/Pjt99+A2D+/Pl069atRF5bYbtk6fMUERERuXSlHrjHjBnD9u3bAZgyZQqTJ0+mT58+5OXlMXr06NIuR0RERETEo0plDveKFSuKvp42bVrR13FxccydO7c0SijzVq/+iRMnjjFixE3Ffu6mTRv58MMPePvtDzxQmYiIiIhcDq/eabI82bt3t9kliIiIiIgHlOvA/cv2BFZvSzjnfosFzrNISrF0ia9C5+Z/vWqH0+nkn/98iUOHDpKWlkbNmrV48cVXmD//K+bP/wqbzUanTl3p06c/CxbMA6By5SqcPv17zXfccTcAQ4cO4K233ic0NJTJk58jOTmJlJRkWrZsxYQJk84655dffsZ3332L1WqhceOmPP74U5f3RkVERETksph20WRFsGPHNux2H95//yNmzfqagoJ85sz5kq+/nsu0aTP4+OMv2Lt3DwUFBQwcOJiBAwfTr991f/p6a9aspkGDhrz//kd8+eXX7Nixnb179xQ97nQ6+eyzj5k+/VOmT/8Mq9VKcrIWHRcRERExU7ke4e7c/Pyj0KW1DnfLlq0JDQ3jq69mc+zYEU6cOE5hYSGdO3clOPj39RzfeOMdAH755acLvl6vXteya9cOZs+eyZEjh8nIyCAvL7focbvdTrNm8dx552i6du3O4MHDiI6+/KUWRUREROTSaYTbg1avXsWkSU/j7+9P377X0aJFK4KDz96xKCUlmayssxfC/99l+JxOJwBz537JO++8SXh4BEOHDqdOnTrnbCA0efI/efTR8RiGwSOPjGXz5t888M5ERERE5GIpcHvQxo3rueqqnvTrdx2RkZFs3boZl8vFr7+uITc3F6fTycSJT7Fnzy5sNhsulwuAsLBwDh8+BMCuXTtITf19g6ANG9Zx3XWDueaaPoCF/fv34Xb/Z6Q+PT2dUaOGUrdufe688x7atWvPwYP7S/19i4iIiMh/lOspJWYbMGAQzz77FD/+uBwfH1+aNm1GVlYmgwffwD333IbbbdC9ew/atWuPj48PL7wwkUqVKtGr17WsWrWCm24aRqNGcTRo0AiAG24YyZQpk/nyy08JDAyiWbN4EhJOUa1adQAiIiIYOHAwY8aMxs/Pn9jYyvTtO8DMj0BERESkwrMY/zsnwYukpmbjdp9d/unTR6lcudZfPq+05nCXJxfzuXpKdHQIyclZFz5Qygz1zPuoZ95F/fI+6tnlsTjS8Tv9Ffk17iy1c/7RM6vVQmRk8GW9lqaUiIiIiEiZ5p/wJSF7/obFccbsUi6JAreIiIiIlGnWvGMY1gAMe5jZpVwSBW4RERERKdNs+Sdw+Vf/ffdCL6TALSIiIiJlmjX/GO6AGmaXcckUuEVERESkTLPlHcflX9PsMi6ZAreIiIiIlF2uPKyOFNz+1c2u5JIpcIuIiIhImWXLPwGAy19TSuQiJSScYujQ829GM336+2zdurmUKxIREREpu6z5xwBwB2hKiZSAzZt/K9reXURERETAluf9I9zlemt3v1Mz8T/12Tn3Wyxwuftr5le9iYKqIy943Hvvvc3KlT8QFhZOZGQUXbp0o7CwkKefHs+xY0epVq0648c/zS+//MTevbt5+eXnefHFKdSrV//yChQREREpB6z5xzCw4varYnYpl0wj3B60evVPbNu2hU8/nc2rr77B/v17AUhPT2Po0BF88skXVK9enY8/nkafPv1p1KgxTzwxQWFbRERE5P/Z8o/j9q8KVh+zS7lk5XqEu6DqyPOOQtvtVpxOt8fPv3HjOq66qic+Pj74+PjQtWt3AGrWrEWLFi0BuOaavrzwwjMer0VERETEG1nzT+D24ukkoBFuj7Jarbjd585dsdlsRV8bhoHdXq5/7xERERG5ZL+vwe29SwKCArdHtWvXnlWrVuBwOMjJyWbNmtWcPp3A0aNH2LdvDwDffruQtm3bA2Cz2XXRpIiIiMgfDBfWgpO4vXjTGyjnU0rM1rFjF7Zv38Ztt40iNDSUqKho/Pz8qFatOh999G9OnjxO3br1ueuu+wBo374jU6ZMZsKEZ2nevIXJ1YuIiIiYy1pwGovhxOXF27qDArdH7dixjRo1avLZZ7NxOp3cffdttG/fiVGjbjnv8SNH3szIkTeXcpUiIiIiZZM1/ziAV+8yCQrcHlWzZi0+/HAaX375OYbh5tpr+1O/fgOzyxIRERHxCra83ze9cWlKifyZ0NAwXnvtLbPLEBEREfFK1qJt3b17hFsXTYqIiIhImWTLP47bJwLswWaXclkUuEVERESkTLLmHfP66SSgwC0iIiIiZZQt/xjugFpml3HZFLhFREREpOwxDGwa4RazJCScYujQAcV6zvTp77N162YPVSQiIiJSsiyOFCzuPFwBCtziJTZv/k27WIqIiIjXsOUdBSgXU0q0LKCHbdq0kQ8//ACbzU5S0mmaNGnKLbfcwfjxjxAWFo6vrx9Tp77Nm2/+k40bN2CxQO/efbnpplvP+9wnnngagIKCAp555kkOHTpISEgokydPISwsnF9/XcP06e/hdDqpUqUaTzzxFGvWrGbv3t28/PLzvPjiFOrVq2/ypyIiIiLy1/4I3C4F7rKtcMEPOOYtPed+iwUM4/Je22fwNfgOvPqijt21aycff/w5NWrU4umnx7NmzWqOHTvKnDlvUaVKVebNm0NiYiKffPIFDoeDBx+8i7p16+Pv73/Oc+fNm0337ldx5kw6w4ePokmTZkyY8DjLly/lqqt68d57b/Pmm+8RGhrK/Plf8e67bzF+/NN8++1Cbr/9LoVtERER8QrW/9/0xu3v3du6QzkP3GVFy5atqFmzNgDXXtuXhQu/JiKiElWqVAVg06YN9O3bH5vNhs1mo1evPvz223o6d+523ud2734VUVHRNGnSDIA6deqRkXGGXbt2kJh4mrFj7wHA7XYRGhpW6u9XRERE5HLZ8o/h9qmEYQ8xu5TLVq4Dt+/Aq887Cm23W3E63aVWh81mK/ra7Taw2Wz4+fmddd/ZjKL51ud77v/eD2AYBm63i/j4Frz88lTg92knubm5JflWREREREqFLe9ouZhOArposlRs27aF5OQk3G43S5Z8S/v2nc56vE2btnz33be4XC7y8/NZunQJrVq1vajn/rcmTZqxc+d2jh37fc7Txx//m3feeQMAm82uiyZFRETEa1jzjuL2V+CWixQVFc3zzz/DTTcNIzo6mnbt2p/1+MCBQ4iJieHWW2/ktttG0qVLN7p373He5w4YcP2fnicyMorx4//BP/7xJKNHD2ffvr088MDDALRv35EpUyazfftWT71NERERkZJhGNjyj5eLJQGhnE8pKSsiIirxxhvvnnXf3LmLir622+08/PBjF/3cKlWqnvX8O+64u+jrLl260aVLt3NeZ+TImxk58uZLql9ERESkNFkKk7C488tN4NYIt4iIiIiUKUVrcJeTKSUa4faw1q3b0rp121J/roiIiIi3Kk9rcINGuEVERESkjLHm/74GtyvA+9fgBgVuERERESljbHnHcPtEgS3I7FJKhAK3iIiIiJQptvzyswY3eDhwL1q0iL59+9KrVy8+//zzcx5ftWoVAwYMYMCAATzyyCPk5OR4shwRERER8QLWcrTpDXgwcCcmJjJ16lRmzpzJggULmDVrFgcOHCh6PDMzk/HjxzN16lQWLVpEXFwcU6dO9VQ5IiIiIuINDBe2vOO4FbgvbM2aNXTo0IHw8HACAwPp3bs3S5YsKXr8yJEjVK1alfr16wPQo0cPli9f7qlyTLNp00YeeOAus8sQERER8QrW/BNYjEJcAXXNLqXEeGxZwKSkJKKjo4tux8TEsG3btqLbtWvX5vTp0+zZs4e4uDi+++47UlJSinWOyMjg85zXit1+4d8jLuaYkmCzWbFYLKV2Pk+xWq1ER4eYdn4zzy2XRj3zPuqZd1G/vI96dpFOnwYgpGpzQkz+zEqqZx4L3IZhnHOfxWIp+jo0NJSXX36Zp59+GrfbzQ033ICPj0+xzpGamo3bffZ53G43TqcbgFl+O/nCf8d56zhffcVxY34zhhc0veBxLpcbwzBwOt3Mnv0FP/30IwUF+bRq1YatW7dw5kw6Dz/8GB07duaFFyYSFBTM3r27SU5O4rbbxtCv33WXVWdJcbvdJCdnmXLu6OgQ084tl0Y98z7qmXdRv7yPenbx/E/tIARILayM28TP7I+eWa2W8w7yFofHhl1jY2PPGrFOSkoiJiam6LbL5aJy5crMmTOHr776imbNmlGjRvlYa/F8vv12IatWreDVV9/Az88fh8PJ++9/xIMP/o1p0/6zdXtSUiLvvPNvXn55Kv/61xsmViwiIiJS+mx5hzCsAbj9KptdSonx2Ah3p06deOutt0hLSyMgIIClS5fy3HPPFT1usVi4/fbbmTNnDjExMXz44Yf07du3RGsYXtD0vKPQdru1aBS8NBw+fJBXXnmBZ599kYCAAADat+8IQN269cjKyiw69oor2mOxWKhbtx6ZmRmlVqOIiIhIWWDLPYgrsA5YvHs67n/z6Aj3uHHjGD16NNdffz39+/cnPj6eMWPGsH37dqxWK5MmTeLOO+/k2muvJSQkhDvuuMNT5ZgqMDCIF154hX/9603y8vIA8PX1Bc6d3uLr61d0v4iIiEhFY8s9VK4umAQPjnADRWts/7dp06YVfX3llVdy5ZVXerKEMiE2tjJdunTnp59W8u9/v2d2OSIiIiJlk+HGlneYwqhrzK6kRHk0cMvZ7r//IW6+eTj5+flmlyIiIiJS5lgLTmFxF+AK1Ai3FEPr1m1p3botAGFh4Sxc+P1Zj1epUpW5cxcB8NRTE896bPXqjaVSo4iIiEhZYMs9BIArsJ7JlZSs8jMbXURERES8WlHgLmdzuBW4RURERKRMsOUexLD64favZnYpJUqBW0RERETKBFveIVwBtcvVkoCgwC0iIiIiZUR5XBIQFLhFREREpCwwjN8DdzlboQQUuEVERESkDLAWnMbizlPgFs9LSUnm0UfH/uUx06e/z/Tp759z/6lTJ5k8eVKxzvdnryUiIiJSmmy5BwEUuMXzoqKimTLlzUt67unTCZw8eaKEKxIRERHxPFvufgBcgQ1MrqTkaeMbDxo9ejiTJr1E7dp1ePbZCQQFBfHoo0+yY8d2Pv54Gi1atObHH5fhcrlp374D9947ltOnE3jwwbuZO3cRSUmJTJr0NFlZmdStW58tWzbx9deLAdi9eyf33HM7yclJ9O07gDvuuJs33pjCqVMn+ec/X+aRR57g008/Puf1LRYLM2fOYOHCrwkLCyckJITGjZua/EmJiIhIRWfLPYBh9cftX93sUkpcuQ7ce/bMZM+ez86532IBw7i8146Lu4m4uJF/eUzHjl347bf11K5dh4MH9xfdv27dGjp16sqmTRuZNm0GFouF5577B0uXfkd8fMui4954YwpXXdWLwYOHsWrVjyxbtqTosbS0NN5770Nyc3MZOrQ/N954Ew899CgffvgBjzzyBL/+uoa9e3ef8/q1atXm228X8uGHn2OxWLjnntsUuEVERMR0tpz9v+8wWc6WBIRyHrjN1qlTF7788nNat25HnTp1OXr0KOnpafz66y/UqVOPXbt2cMcdNwNQUJBPbGzlswL3hg3ri7Z77969B8HBIUWPdejQCV9fX3x9fQkLCyczM/Osc2/cuP68r5+amkqHDp0JDAwEoEePnrhcLg9+CiIiIiIXZsvdjyu4udlleES5DtxxcSPPOwptt1txOt0eP3+zZvEcOPAMGzeup1WrNkRERPLjjz/gcDgJDg7mhhtuZMSImwDIysrCZrORkXGm6PlWqxW3+/xD8Tabrehri8WC8T9D9m6367yvv2DBPAzDfdbrKHCLiIiIqdwObHlHKIgdZHYlHlH+xuzLEJvNRpMmTZk790tatWpLmzZtmTHjQzp27Ezr1u34/vvF5Obm4nQ6efLJR1i58oeznt+uXfuiaSRr1/5CdnbWBc5nLwrPf/b6bdu2Y82a1WRnZ1NQUMBPP/3omTcvIiIicpFseUewGC5cgfXNLsUjyvUId1nQsWMXtmzZRK1atalUKZL09DQ6depC8+YtOHBgH3fddStut4v27TvRp09/Tp9OKHruQw89wnPPPcPChfOoX7/hWVNKzqd27dpkZ2fx3HNP8/TTz5339S0WC8OG3cidd44mJCSE2Ngqnv4IRERERP6SLfcAQLkN3Bbjf+cieJHU1OxzplycPn2UypVr/eXzSmtKyeWaM+dL2ra9gjp16rJ37x5efvl5Pvzw3ItAS8PFfK6eEh0dQnLyX4/uS9minnkf9cy7qF/eRz37awFH3iR4/wRSrjyK4RNhdjnAf3pmtVqIjAy+rNfSCHcZVr16DSZOfAqr1YKvrx9PPDHB7JJERERESpwtdz9un6gyE7ZLmgJ3GdaxY2c6duxsdhkiIiIiHmXLOYArqHxOJwFdNCkiIiIiJrPn7sdZDneY/IMCt4iIiIiYxuLIwFqYVG4vmAQFbhERERExUdEKJUEa4RYRERERKXG23P0AuDSlRERERESk5Nly9mFYbLgCa5tdiscocJeyhIRTDB064JKe++CDdxd9feut525ZfzkWLJhXtKuliIiISGmxZ+38fXTb6md2KR6jwO1FNm/+rejrjz+eWaKvvWPHNhwOR4m+poiIiMiF2LN34QxuYnYZHlWu1+FOP7SftIP7zrnfYrFwuRtsVqrXkIi6F55r9OmnH/Pjj8twudy0b9+B668fWvTYoUMHmDr1VfLy8khPT2PEiJsYNmwEGzeu55133sRisRASEsLEiS/y8cfTABgz5hamTfuELl3asnr1RjIzM5g8+TmOHTuCj48vDz44jjZt2jFwYG+uvPJqtm3bgs1mZ9KkyVStWo3du3fy5puvUVCQT1hYOI899ndOnjzB6tU/8dtvG4iMjKJ9+46X9dmIiIiIXAyLMwtb/lHyq402uxSP0gi3B/366xr27t3NtGkz+Oijz0lOTmbp0u+KHl+0aAG33HIH//73DN588z0++OAdAD75ZDqPPfYk06d/SufO3di3bw8PP/wYANOmfXLWOaZNe4/q1Wvw+edzefrpSUWvkZqaSps2V/DRRzNp0aIVX301G4fDwUsvPc8zz7zAhx9+zogRN/Hyyy/Qrl17unTpxp133qOwLSIiIqXGlr0bQCPc3iyiboPzjkLb7VacTrfHz79x43p27drBHXfcDEBBQT5u93/O+8ADD7Nu3Vo+/fQjDhzYT15eLgBdunTj739/jK5du9O1a3fatevwp+fYsuU3nnnmBQDq1avP++9/VPTYH+G5bt16bN26mePHj3Lq1AnGj/9b0TE5OTkl94ZFREREisGevQtQ4JbL4Ha7uOGGGxkx4iYAsrKySE5O5PHHxwHwj3+MJyQklM6du3L11dfwww9LARg+fBSdO3djzZqfeeedN7nyyp3ccssd5z2H3X52C48ePUKNGjUB8PP7/eKDP6bQuFxuqlatVjT/2+VykZ6eVvJvXEREROQi2LJ3YtiCcAfUMrsUj9KUEg9q3bod33+/mNzcXJxOJ08++Qh79uwuenzDhvXceec9dO16JVu2bAJ+D8FjxtxCbm4ON9wwkhtuGMm+fXsAsNlsOJ3Os87RokXroqB+9OgRHnnkQSwWy3nrqVWrNpmZmWzduhmAb79dyMSJTxW9tsvlKtkPQEREROQv/H7BZGOwlO9IqhFuD+rSpRsHDuzjrrtuxe120b59J1q2bF30+O23j+Hee+8kJCSYGjVqUaVKVRISTnH33ffzwgvPYrPZ8PPz47HHnix6vVtvHcn06Z8WvcYdd9zNyy8/zy233IjNZuPppyf9aeD29fXluede4o03plBYWEhgYBATJjwLQNu2V/D+++8QHBxMjx49PfipiIiIiACGgT17JwUxl7ZcsjexGJe7XIeJUlOzcbvPLv/06aNUrvzXf5YorTnc5cnFfK6eEh0dQnJylinnlkujnnkf9cy7qF/eRz07l7XgNJE/NSS70cvk1bzX7HLO8UfPrFYLkZHBl/Va5Xv8XkRERETKJFsFuWASFLhFRERExAT/WaGkqcmVeJ4Ct4iIiIiUOnv2Tty+MRi+UWaX4nEK3CIiIiJS6mxZOyvE6DYocIuIiIhIaXMXYs/eiTO0hdmVlAoFbhEREREpVfbs3VgMB84QBW4RERERkRJnz9oKgCO0pbmFlBIFbhEREREpVfbMLbjtobgD6phdSqnQTpMe5HQ6+ec/X+LQoYOkpaVRs2YtatWqRVRUDCNH3gzAhAmP06vXtTRu3JRJk54mKyuTunXrs2XLJr7+erHJ70BERESk5NmztuAMiS/3W7r/oVwH7tOnT5KQcOKc+y0WuNz9NatUqU7lytX+8pgdO7Zht/vw/vsf4Xa7GTv2HqKjY1m+/HtGjryZ3Nwctm/fxj/+8TzPPvsUV13Vi8GDh7Fq1Y8sW7bk8goUERERKYvcTuxZO8irfofZlZSach24zdayZWtCQ8P46qvZHDt2hBMnjhMeHk5hYQEnThxn+/atdOrUFV9fXzZsWM9TT00EoHv3HgQHh5hbvIiIiIgH2HL3YXHnV5gVSsDDgXvRokW8++67OBwObr31VkaNGnXW4zt37uQf//gHDoeDKlWq8OqrrxIaGlpi569cudp5R6HtditOp7vEzvNnVq9exb///T7Dho2gb9/rOHPmDIZhcM01ffnhh6Xs2LGNUaNuAcBqteJ2X+awu4iIiEgZZ8/cAoAzpJW5hZQij02cSUxMZOrUqcycOZMFCxYwa9YsDhw4cNYxL7zwAmPHjmXhwoXUqVOH6dOne6ocU2zcuJ6rrupJv37XERkZydatm3G7XVxzzbWsWLGM48eP06LF7/+ztWvXvmgaydq1v5CdnWVm6SIiIiIeYc/aimENxBVU3+xSSo3HAveaNWvo0KED4eHhBAYG0rt3b5YsOXtestvtJicnB4C8vDz8/f09VY4pBgwYxPLl33PbbSP5+98fo2nTZpw6dYrY2MqEhYXTo8fVWCwWAB566BFWrlzBbbeNZMWKZZpSIiIiIuWSPXMrzpDmYLGZXUqp8diUkqSkJKKjo4tux8TEsG3btrOOGT9+PLfddhsvvvgiAQEBzJ49u1jniIwMPs95rdjtF/494mKOuVyNGjVk5sw5533snXc+OOv2qlUrePTRx6lTpy579uzm0KEDpVLjxbJarURHm/dLgJnnlkujnnkf9cy7qF/eRz0DDDdkb4O6t3rF51FSNXoscBvnWQbkj9FcgPz8fJ566ik++eQT4uPj+eijj3jiiSf44IMPznnen0lNzT5n3rPb7b7g/OzSmsNdHFWrVmfChCexWi34+vrx+OMTylSNbreb5GRzprlER4eYdm65NOqZ91HPvIv65X3Us9/ZsvdSyZlNpk9TCsr45/FHz6xWy3kHeYvDY4E7NjaWjRs3Ft1OSkoiJiam6Pa+ffvw8/MjPj4egOHDh/PGG294qpwyr2PHznTs2NnsMkREREQ8xp6xAQBnWDuTKyldHpuz0KlTJ9auXUtaWhp5eXksXbqUbt26FT1eq1YtTp8+zaFDhwD44YcfaN68uafKERERERGT+WRsxG0PwxVYcS6YBA+PcI8bN47Ro0fjcDgYOnQo8fHxjBkzhrFjx9K8eXMmT57Mww8/jGEYREZG8uKLL3qqHBERERExmU/GBpxhbSrMDpN/8Og63AMGDGDAgAFn3Tdt2rSir7t370737t09WYKIiIiIlAWuHGzZOymIftTsSkpdxfr1QkRERERM4ZOxGQtunGFtzS6l1Clwi4iIiIjH2TN/X0zDcQkXTDpxs92eWNIllRoFbhERERHxOJ+MDbgC6mD4Rhb7uS8H/ULP8M9wUXaWTC4OBW4RERER8SzDwH5mwyWNbidbcpkWsIlBBXHYvDS6evSiSbMdnLWP/V/sOed+i8Vy3o15iqPBjXHUG97wL49JSkpk0qSnycvLw2q10KlTV3bv3skrr7wOwFdfzeL48WM0bBjHd999Q0bGGTp37sbdd99/WbWJiIiIlCXWgpPYCk+Tewnzt98KXE8+Lh7N7eiBykpHuQ7cZvvmmwV06tSFkSNHs2nTRvbs2cXevXvIzMwkNDSU5cu/58EH/8aRI4dJTk7is8/mYLerJSIiIlK++JxZDxR/w5tEazYfB2xlWEET6uWFgK8nqvO8cp3u6g1veN5R6NLa2r1t2yt46qnH2bdvL506dWHIkOGcPp3AqlUraNeuPRkZGTRp0owjRw7TsGGcwraIiIiUSz7pP+O2BeMMaVGs570RsB4nbh78KJ2sKaMIWf0FFrvNQ1V6jhKeB8XHt+Szz2azZs1qfvhhKYsXL+LOO+/l3/9+l6ysTHr1urboWD8/PxMrFREREfEcn/TVOMI7gvXio+cxawafBGxlxJHKVH7mM+z9rvTKsA26aNKj3nnnDb7/fjF9+vRn3Lgn2LdvL82aNSclJYXvv1/MNdf0MbtEEREREY+yFCRhz9mLo1LXYj3v1aC12AwL9968mISr27LOEYHL4fRQlZ6lEW4PGjJkOM8+O4HFi7/BarXyyCPjAbj66l6sW7eWatWqm1yhiIiIiGf5pq8GwBHR5aKfs8eWwmy/ndw5KxNLQDibfqyGM9uFc7IDm4/3xVfvq9iLxMZW5p13/n3O/bfdNobbbhtTdLtv3wH07TugNEsTERERKRX/mb/d8qKfMzloNcH5cNM7x9l0rAOONINqE2Pw9fP3XKEepCklIiIiIuIxxZ2/vcrnKN/5HWTcq8fZldKBvOMGbQeFMnBzCBbn5S3rbBYFbhERERHxiOLO3y7ExXjbYprvyKP6ojiydxt0ujqIbj8WYstzgd3i4Yo9Q4FbRERERDyiuPO3381exim/XB56KIKMjRaubBdIp80uCq+sTsa7V4NFgVtEREREpIhP2k8XPX/7WMph3ozaxmvDfUlfYadnE3/aHnaTf11dMl/vAf7ee+mhAreIiIiIlDzDwDf1BxyVul9w/rY7K5tH0z5l4kN+5Mz35dp6/rRMgrwbG5H1Yhfw8e7I6r2/KoiIiIhImWXL3Y8t/yi5tR/+y+OMQgdfzptCz5NhWD72Z0ANPxpkQO6dzcgZ19prp5H8N+/+daGc6NKlrdkliIiIiJQo35RlABRG9fzTYwzD4NSUN0nJCCT4rUCGVPajQZ6F7EfbkPO3NuUibINGuEVERETEA3xTl+EMaog7oNafHpP/7ucsCMwl9pUYhkT6UdllIfOFzhQMql+KlXqeAreHbdq0kRkzPsQw4NSpE1x55dUEBQXx88+rMAyDKVPeKDp2+vT3OX78GCdPniAzM4OBAwczcuRoE6sXERERuQSuXHzSfyGv+p1/ekjh/OV8lbybmA9rMTTUl0irlczXulPY888Durcq14Hbb8FB/OftP+d+i8WCYVzewun5gxtQMLDeRR27a9dOPv10FmFh4QwY0Iv773+Y6dM/5cUXn2X58qVnHXv48EHeffdD3G43d9xxE23aXEGjRnGXVauIiIhIafJN+xmLu+BPp5M4Vq1n+Q/fEfJtI4YE+RLqayXzX1fj6FytlCstHZrDXQrq1q1HbGxl/P39CQsLp23bK4Dft37Pyso869iePXsTGBhIcHAwXbp047ffNphRsoiIiMgl801dhmENxBHe+ZzHnL/tZPXML7AsjuNGP1+CA21kfnxtuQ3bUM5HuAsG1jvvKLTdbsXpdJdaHXb72R+zzWb702P/+zG328Bu//NjRURERMocw41v8hIKK3UFm/9ZD7n2H+HX96Zh/NiUG3x9MCLsZH3SD1eDCJOKLR0a4S5jfvppJQ6Hg8zMTH755SfatetgdkkiIiIiF83nzK/Y8o9RUHnIWfe7E5JZ9883sa5qxhAfHxyV7eTOub7ch20o5yPc3sjPz4/77ruDnJwcbr75NurUqWt2SSIiIiIXzS/hCwxbEAUxA4ruM85k8csrrxC4sinX2Gyk1/LB+GIIRoT/X7xS+aHA7WGtW7eldev/rLM9d+6ioq/vuOPus/4LEB/f8qzbIiIiIl7DlYdf4nwKYq4DWxAARmY2P7z6AjHfx3G11U5iAx9sM4dhBPmYXGzp0ZQSERERESkRfsnfYXVmkF9lBABGdi7z//UiNb9uwNXYOdXYB+vs4RUqbINGuMsUjWyLiIiIN/NL+BKXXxUclbphFBTy6UcvcfWM+rS02Dje0h//T4aBT8Ub761471hERERESpylIAnf1GUUVBmO4YZPP3qJfu/UpqXFxpGuwfh/dkOFDNtQTgP35W5qI2fT5ykiIiIXEnBiOhbDRV6Vm/j041cY9EYN4iw29vcNJ+j9IWC1mF2iacpd4LbbfcnJyVRILCGGYZCTk4nd7mt2KSIiIlJWuQsIOPFvCqJ68/kXi7hhSmXqYGH34AjCpww0uzrTlbs53BER0aSnJ5OdfeZPj7Farbjdpbfxjbez232JiIg2uwwREREpo/xOz8VamMyM1W0Y8U4lIrGwY1QUlSf0N7u0MqHcBW6bzU5UVJW/PCY6OoTk5KxSqkhERESkHDMMAo69y8xNdzPso8oEWmDHfZWp+uC1ZldWZpS7wC0iIiIipcdacJLFqxrT7+Om+Flg5/gaVL/larPLKlPK3RxuERERESk9J49lc+XHnfEDtj4Sq7B9HhrhFhEREZFLZi20kBTmJmFUGI3v7GN2OWWSAreIiIiIFNuplBz2HT/Dla0awa+NCDe7oDJMU0pEREREpNi+XLGf7zccN7sMr6DALSIiIiLFkpaZz85DabSLizG7FK+gwC0iIiIixfLLjtMYQJfmlc0uxSsocIuIiIjIRTMMg1+2JRBXM5yYiECzy/EKCtwiIiIictH2HT9D0pk8Ojf/640G5T8UuEVERETkoq3eloC/r422jTR/+2IpcIuIiIjIRckrcLJhbxJXNI7Fz9dmdjlew6PrcC9atIh3330Xh8PBrbfeyqhRo4oe2717N+PHjy+6nZaWRlhYGN98840nSxIRERGRS7RhTxKFDjdd4jWdpDg8FrgTExOZOnUq8+bNw9fXlxEjRtC+fXvq168PQOPGjVmwYAEAeXl5DBs2jIkTJ3qqHBERERG5TKu3JVAlMpB6VUPNLsWreGxKyZo1a+jQoQPh4eEEBgbSu3dvlixZct5j33//fdq1a0fbtm09VY6IiIiIXIaE1BwOnMygS3wVLBaL2eV4FY+NcCclJREdHV10OyYmhm3btp1zXGZmJrNnz2bRokXFPkdkZPAl1xcdHXLJz5XSp355H/XM+6hn3kX98j7e3rNv1x3DarUwoFt9IkL9zS6nVJRUzzwWuA3DOOe+8/02tGjRInr27ElkZGSxz5Gamo3bfe55LiQ6OoTk5KxiP0/MoX55H/XM+6hn3kX98j7e3jOny83yDceIrxuJs8BBcrLD7JI87o+eWa2WyxrkBQ9OKYmNjSUlJaXodlJSEjEx5y4fs3z5cvr27eupMkRERETkMi3feIKM7EKualPN7FK8kscCd6dOnVi7di1paWnk5eWxdOlSunXrdtYxhmGwc+dOWrVq5akyREREROQyZOYUsmjNYZrXjaRZneLPSBAPj3CPGzeO0aNHc/3119O/f3/i4+MZM2YM27dvB35fCtDHxwc/Pz9PlSEiIiIil+Hrnw9R6HAz4ur6ZpfitTy6DveAAQMYMGDAWfdNmzat6OvIyEh++eUXT5YgIiIiIpfoeFI2P209xdVtqlMlMsjscryWdpoUERERkfOa//MhAnztDOxSx+xSvJoCt4iIiIic43BCJpv3p9D7ihoE+fuYXY5XU+AWERERkXMsWH2YIH87PdvWMLsUr6fALSIiIiJnOXgyg20HU7m2fU0C/Dx6yV+FoMAtIiIiImdZtvE4Qf52rm5T3exSygUFbhEREREpUuhwsfVAKu3iYvD31eh2SVDgFhEREZEiOw+nUeBw0abRuTuEy6VR4BYRERGRIhv3JhHkb6dRzXCzSyk3FLhFREREBACH082WA6m0ahCN3aaYWFL0SYqIiIgIALuPppFX4KRtXLTZpZQrCtwiIiIiAsDGvckE+NloXKuS2aWUKwrcIiIiIoLbbbBlfwot6kfhY1dELEn6NEVERESEo4lZZOc5iK8XaXYp5Y4Ct4iIiIiw41AqFqBpbU0nKWkK3CIiIiLCjsNp1KocQkigr9mllDsK3CIiIiIVXG6+k4MnM2lWV6PbnqDALSIiIlLB7T6ahtswaFZH87c9QYFbREREpILbcTgNf18bdauGml1KuaTALSIiIlKBGYbBjkNpNKldSbtLeog+VREREZEKLDE9j9TMfJrV0fxtT1HgFhEREanA9h5LB6BxrQiTKym/FLhFREREKrB9x88QGuRLTESA2aWUWwrcIiIiIhXYvuMZNKwehsViMbuUckuBW0RERKSCSs3IJzUzn4Y1ws0upVxT4BYRERGpoPadOAOgwO1hCtwiIiIiFdS+42cI8LNRPTrY7FLKNQVuERERkQpq3/EzNKgejtWq+duepMAtIiIiUgFl5haSkJpLg+phZpdS7ilwi4iIiFRA+49nAJq/XRoUuEVEREQqoE37kgnws1O7cqjZpZR7CtwiIiIiFUxBoYtN+5JpFxeNj11x0NP0CYuIiIhUMJv2J1PgcNGxaWWzS6kQLipwZ2dnA7Blyxbmz5+Pw+HwaFEiIiIi4jlrd5wmMtSPBpq/XSouGLjfeOMNnnnmGU6dOsV9993HvHnzmDhxYimUJiIiIiIlLSO7gJ1H0ujQtDJWbedeKi4YuFetWsXzzz/P0qVL6devHzNmzGDPnj2lUZuIiIiIlLB1uxIxDDSdpBRd1JSSgIAA1qxZQ4cOHQAoLCz0aFEiIiIiUvIMw2D19gRqVQ6halSQ2eVUGBcM3BEREUycOJEdO3bQqVMnpkyZQkxMTGnUJiIiIiIl6ODJTE4k59C9ZVWzS6lQLhi4X375ZWJiYnj//fcJCAjAYrHw8ssvl0ZtIiIiIlKCftx8An9fGx2axJpdSoVywcAdFRXF4MGDSUtLw+VyMXLkSKKiokqjNhEREREpIVm5hWzYk0SnZpXx97WbXU6FcsHAvXLlSkaMGMGzzz5Lamoqffv2Zfny5aVRm4iIiIiUkF+2n8bpMujRqprZpVQ4Fwzcb7/9NrNnzyY0NJSYmBhmzpzJm2++WRq1iYiIiEgJcLsNVm4+ScPqYVSLDja7nArngoHb7XafdZFk48aNsWjNRhERERGvsXFvEkln8ri6bQ2zS6mQLhi4AwICOHXqVFHI3rhxI35+fh4vTEREREQun2EYfLv2KJUrBdKmYbTZ5VRIF5wx/8gjj3D77beTnJzM8OHDOXLkCG+99VZp1CYiIiIil2nrwVSOJ2VzR7/GWK2apWCGCwbu1q1bM3v2bDZv3ozb7aZFixZUqlTpol580aJFvPvuuzgcDm699VZGjRp11uOHDh3imWeeISMjg+joaF577TXCwsIu7Z2IiIiIyFkMw+DbNUeICvOnvZYCNM0Fp5Ts3LmT48ePExUVRUxMDAkJCezcufOCL5yYmMjUqVOZOXMmCxYsYNasWRw4cKDoccMwuPfeexkzZgwLFy6kcePGfPDBB5f3bkRERESkyK6j6Rw8lUmf9jWx2y5qg3HxgAuOcD/44INFXzscDpKTk2nWrBlz5879y+f9sRV8eHg4AL1792bJkiU88MADwO9BPjAwkG7dugFwzz33kJmZeanvQ0RERET+i2EYfLXyIJVC/egSX8Xsciq0CwbuFStWnHV7y5YtFwzbAElJSURH/2difkxMDNu2bSu6fezYMaKionjiiSfYtWsXDRs25Omnny5O7URGXvqyNtHRIZf8XCl96pf3Uc+8j3rmXdQv71PaPftl6ymOnM7ioeGtqFolvFTPXV6UVM+Kvc1Qy5YtefbZZy94nGEY59z338sJOp1O1q9fz2effUbz5s15/fXXeemll3jppZcuupbU1Gzc7nPPcyHR0SEkJ2cV+3liDvXL+6hn3kc98y7ql/cp7Z653G4++mYnVaOCaF4rXP+/XII/ema1Wi5rkBcuInD/93xtwzDYsWMH+fn5F3zh2NhYNm7cWHQ7KSnprPW8o6OjqVWrFs2bNwegf//+jB07tljFi4iIiMi5ftx0ksS0XB4c3Fwrk5QBxZrDbbFYqFSpEhMnTrzgC3fq1Im33nqLtLQ0AgICWLp0Kc8991zR461atSItLY09e/YQFxfHihUraNq06aW9CxEREREBID2rgHk/HaJpnUq0bBBldjnCJczhvlixsbGMGzeO0aNH43A4GDp0KPHx8YwZM4axY8fSvHlz/vWvfzFhwgTy8vKoXLkyr7zyyiWdS0RERER+N3PZPlxug5uvaajdwcsIi3G+ydbA888//5dPnDBhgkcKKg7N4a4Y1C/vo555H/XMu6hf3qe0erZ5fzJvfbWdId3r0q9jbY+frzwrlTncfyznJyIiIiJlX36hk8+X7aNadBC9r6hpdjnyX/40cP+xXvb55ObmeqQYEREREbk0838+TFpmAX+/qZk2uSljLjiHe/ny5bz55pvk5uZiGAZut5szZ86wefPm0qhPRERERC7gyOlMlm08zpWtqlG/epjZ5cj/uGDgfuWVV3j44Yf54osvGDNmDMuXLycoKKg0ahMRERGRCzAMgxlL9hIS6MvQ7nXNLkfO44J/bwgICKBv3760bNkSPz8/Jk6cyK+//loatYmIiIjIBWw/lMaR01kM6V6XQH8fs8uR87hg4Pb19aWwsJCaNWuye/durFYrhYWFpVGbiIiIiFzAknVHiQjxo2PTymaXIn/iTwP3fffdx5o1a7j66qu566676Nq1Kx9//DEPPvigVjARERERKQMOJ2Sy59gZerWtoQsly7A/ncPdtm3bop0h+/fvT3BwMO+88w4bNmygf//+pVagiIiIiJzfknXHCPCz0b1lVbNLkb/wp78K3X777Xz33XdMmjSJw4cP06tXL2bPnk2nTp2IjIwszRpFRERE5H8kn8lj494krmxVjQC/C66DISa6YHfatWtHu3btOHPmDAsWLOCJJ54gODiYGTNmlEZ9IiIiInIeK7ecxIKFq1tXN7sUuYCLnuzj6+tLYGAgQUFBpKene7ImEREREfkLDqebn7cm0LJBFJVC/c0uRy7ggiPcv/32G3PnzmXFihV06tSJBx98kCuuuKI0ahMRERGR89i4N4nsPAc9WlUzuxS5CH8auD/44APmzZtHXl4ew4YN45tvviE6Oro0axMRERGR8/hx80liIgJoXDvC7FLkIvxp4F69ejXjxo2jZ8+e2Gy20qxJRERERP7EiaRsDpzIYPhV9bFaLGaXIxfhTwO3LooUERERKXuW/3YcH7uVzs2rmF2KXCStkC4iIiLiJTKyC1iz4zSdm1chOEDbuHsLBW4RERERL7H8txO4XAa9r6hhdilSDArcIiIiIl4gv9DJys0nad0omtiIQLPLkWJQ4BYRERHxAj9vTSAn38m17WuaXYoUkwK3iIiISBlXUOhi8bqjNKwRTr2qYWaXI8WkwC0iIiJSxn2//hgZ2YUMvbKe2aXIJVDgFhERESnDMrIL+G7dMdo0iqZ+NY1ueyMFbhEREZEyyjAMvv75EE6Xm6HdNbrtrf504xsRERER8TzDMFi64ThHE7PAAB+7lcgwfywWC7/uPE1Cai4921QntpJWJvFWCtwiIiIiJjEMg1krDrB0w3EiQ/2w2awUFLrIyCkEoH71MG7rE0fHZpVNrlQuhwK3iIiIiEm+WnWIpRuO07NNdW7s2QCLxQKAw+kir9BFaKCvyRVKSVDgFhERETHBr7tOs/jXo1zZsupZYRvAx27Dx24zsTopSbpoUkRERKSUpWTk8en3+6hXLZRR1zQ8K2xL+aPALSIiIlKK3G6Df3+zG8MwGDOgKTar4lh5pw6LiIiIlKLv1h1l3/EzjOrVkJjwALPLkVKgwC0iIiJSSo6czmT+z4dpGxdDJ608UmEocIuIiIiUggKHiw8W7iI0yJfRvRtp3nYFosAtIiIiUgq+WnmQxLRc7uzXmOAAH7PLkVKkwC0iIiLiYfuPp/PDphP0aF2NxrUrmV2OlDIFbhEREREPcrsN3pm7ldAgXwZ3q2d2OWICBW4RERERD1qx6QQHTmRw49UNCPTXnoMVkQK3iIiIiIecTMlh7qqDtG4UQ7u4GLPLEZMocIuIiIh4QH6hk3e+3o6/j42xw1tqVZIKTIFbREREpIQZhsGMJXs5nZbL3dc1JTJMG9xUZJpIJCIiIhWC0+XmZHIOhU4XTqebkyk5HE7IotDhIjo8gOiIAKLD/alSKYjIMP9LPk+hw8XH3+3h112JDOpaR6uSiAK3iIiIlF9Ol5vdR9PZsCeJzfuSycl3nvV4WJAvgf52th5MxelyF93frG4l+nWoRcMa4Rc9FcTtNth/4gyzVhzgyOksBnWrS/+OtUr0/Yh3UuAWERERr7PzSBr7j58hMT0PiwXqVAmlTuVQKoX6ERTgw95jv4fsLftTyMl34u9ro2WDKFrUiyIowI7NYiG2UiARIX5YLBbchkFGdiFJ6bnsO5HB8o3HeXnmZsKCfWlUI5xmdSJp3TD6nFVGsvMc7Dmazo7DqWw5kEpmTiH+vjYeHNycVg2jTfp0pKxR4BYRERGvkZVbyOfL9rF+dxIWIDLMH5fb4NedieccG+Bnp1WDKNo2iqFpnQh87LY/fV2rxUJEiB8RIX40qhlB73Y1WLcrkV1H09l7LJ31u5OY8f1e6lcLJcDv9/h0Ijmb5DP5/38uG03rRNK2UTTx9SLx91XEkv/Q/w0iIiLiFU6m5PDqF5vJyXNwfdc6XHtFTXx9fg/RaZn5HEvK5kxWAZk5hdSuEkLjWpXwsV/a+hC+Pja6tqhK1xZVMQyDQwmZrNuZyOGETLLz8nEbBrViQ+jWoioNa4RTt2ooNqvWopDz82jgXrRoEe+++y4Oh4Nbb72VUaNGnfX422+/zVdffUVoaCgAN9xwwznHiIiIiOTmO3n7q21gGPzj1nbUiAk+6/FKof5UCr30Cx3/isVioV7VMOpVDfPI60v557HAnZiYyNSpU5k3bx6+vr6MGDGC9u3bU79+/aJjduzYwWuvvUarVq08VYaIiIh4Obdh8O9vdpGSkc9jN7Y6J2yLlHUe+9vHmjVr6NChA+Hh4QQGBtK7d2+WLFly1jE7duxg2rRpDBgwgEmTJlFQUOCpckRERMRL/bDxBFsOpDD8qvo0rBFudjkixeaxEe6kpCSio/9zdW5MTAzbtm0rup2Tk0Pjxo154oknqFatGuPHj+edd95h3LhxF32OyMhL/w03Ojrkkp8rpU/98j7qmfdRz7xLRelXRnYBC385TOtGMYy4trFX79ZYUXpWnpRUzzwWuA3DOOe+//4mCQoKYtq0aUW3b7/9dv7+978XK3Cnpmbjdp97nguJjg4hOTmr2M8Tc6hf3kc98z7qmXepSP36bOle8gpcDOpah5SUbLPLuWQVqWflxR89s1otlzXICx6cUhIbG0tKSkrR7aSkJGJiYopunzp1irlz5xbdNgwDu12LpoiIiMjvTiZns3LzKa5sVZVqUUFmlyNyyTwWuDt16sTatWtJS0sjLy+PpUuX0q1bt6LH/f39efXVVzl+/DiGYfD555/Tq1cvT5UjIiIiXmbOyoP4+doY2KWO2aWIXBaPjnCPGzeO0aNHc/3119O/f3/i4+MZM2YM27dvp1KlSkyaNIl7772Xa6+9FsMwuO222zxVjoiIiHiRo6ez2HYwlWvb1yQk0NfsckQui8U432RrL6E53BWD+uV91DPvo555l4rQr399vZ1dR9J59d5O52yn7o0qQs/KG6+Ywy0iIiJyKU6m5LBpbzJXt6lWLsK2iAK3iIiIlCnfrj2Cj4+VXm1rmF2KSIlQ4BYREZEyY/eRNH7dmUjPNjU0d1vKDQVuERERKRMKCl189N0eYiICGNC5ttnliJQYBW4REREpE7766SApGfnc1icOPx+b2eWIlBgFbhERETHd7iNp/LDxBD1aV6NRzQizyxEpUQrcIiIiYqqM7ALeX7SLypGBDLuyntnliJQ4BW4RERExjdtt8MGiXeQXOLn3+mb4+2oZQCl/FLhFRETEFIZhMGvFAXYfTWdUr4ZUj768zUVEyioFbhERESl1hmEw76dDLNt4nJ5tqtMlvorZJYl4jAK3iIiIlLpFvxzh27VH6d6yKjf2bIDFYjG7JBGPUeAWERGRUrX416PMX32Yzs0qc3PvRgrbUu4pcIuIiEipWbrhOHNXHuSKxjHc1rcxVoVtqQB0KbCIiIh43B9ztr9de5Q2DaO5s38TrFaFbakYFLhFRETEo5wuNx8u3s2vOxPp1qIKN13TCLtNf2SXikOBW0RERDwmN9/B2/O2s+fYGQZ3q0u/jrU0Z1sqHAVuERER8YjUjHymztlKYlouYwY0oWPTymaXJGIKBW4REREpcelZBbzyxSay85z8bXhLGteKMLskEdMocIuIiEiJyswpZMqXm8nMdfDoiJbUqxpmdkkiptIVCyIiIlJisvMc/HPWFlIz8nl4aLzCtggK3CIiIlJC8gqcTJ29lYTUHB4cEk+jmppGIgIK3CIiIlICChwu3pizlWOJWdx7fTOa1qlkdkkiZYYCt4iIiFwWh9PF219tY//JDMYMaEKrBtFmlyRSpihwi4iIyCVzuty8O38nO4+kc3vfxlzRONbskkTKHAVuERERuWRf/LCfLQdSuOmahnRuXsXsckTKJAVuERERuSQ/bz3Fj5tO0qd9Ta5qXd3sckTKLAVuERERKbaDpzL4dOlemtaOYEj3emaXI1KmKXCLiIhIsSSdyeOtudsID/bj7oHNsFotZpckUqYpcIuIiMhFy8otZOqsLbjcBuNuaEFwgI/ZJYmUeQrcIiIiclFcbjdvz9tOamYBY4fGUyUyyOySRLyCAreIiIhclMVrj7L/RAa39Y2jQfVws8sR8RoK3CIiInJBhxMyWfjLEdo3iaVj08pmlyPiVRS4RURE5C/lFzqZtmgXoUG+3HRNQ7PLEfE6CtwiIiLypwzD4KPFe0hMz+XOfo0J8tdFkiLFpcAtIiIif2rZhuNs2JPEkO71aFy7ktnliHglBW4RERE5r91H05n940FaN4ymT/uaZpcj4rUUuEVEROQcCak5vPP1dipHBnJ738ZYLNrcRuRSKXCLiIjIWbLzHLwxZxtWq4WHhsYT6G83uyQRr6bALSIiIkWy8xz8c9YW0rIKeHBIPNHhAWaXJOL19CuriIiIAJCZU8iULzdzOi2P+wc1o361MLNLEikXFLhF5KK53Qb5hU4KHG78fKwEankwkXLBMAzW7UpkzsqD5OQ5eGhYPE21IolIiVHgFpHzOpmSw75j6eQWOMnJd3L0dBaHEjIpKHQBYLNaiK8XSdcWVWlRL1IXVIl4qYMnM/jyh/0cPJVJzdhg7h/UnLpVQ80uS6RcUeAWkSJuw2D1tgSWbTzOyeScovttVgvVo4Pp1KwyseEB+PraSErLY83O02zen0J8vUhu69uYsCBfE6sXkeJIy8xn7sqD/LorkbAgX27v25hOzStj1S/PIiVOgVtEADiVksPHS/Zw4EQGtSuHMLJnA1rWjyI0yBcfu/W8I9iDu9dl1ZZTzP7xAP+Yvo5RvRrSLi7GhOpF5GIVFLpY/OtRvl9/DAPo36k2fTvUxN9XkUDEUzz63bVo0SLeffddHA4Ht956K6NGjTrvcStXrmTSpEmsWLHCk+WIyJ/YfTSdN+duw26zcFvfOLo0r3JRU0TsNitXt6lOXK0I/r1oF+8t2MmqLae4f1hLAu0aJRMpaw4nZPL+gp0kncmjfZNYhnavR2SYv9lliZR7HgvciYmJTJ06lXnz5uHr68uIESNo37499evXP+u4lJQUXn75ZU+VISIXsP1QKm/P205MeAB/G96SiBC/Yr9Gtaggnr6lLSu3nGTeqkM8MOVHWtaPol/HWtTTKgcipnMbBkvXH+erVQcJC/bliZGtaFQzwuyyRCoMj63DvWbNGjp06EB4eDiBgYH07t2bJUuWnHPchAkTeOCBBzxVhoj8CcMwWLHpBG/O3UaVSoE8PrLVJYXtP1itFq5qXZ2X7unIiF6N2H/iDC98+hvTv9lFVm5hCVYuIsWRkVPI63O2MvvHA7SoH8XE265Q2BYpZR4b4U5KSiI6OrrodkxMDNu2bTvrmBkzZtCkSRNatGhxSeeIjAy+5Pqio0Mu+blS+tSvkpWelc/7X2/nl62naNs4lkdGtiY4sGQueIwG6tSsxOAe9Znzwz7m/XiAbYfSuHNgM3q0qa7VTMowfZ95l4vp185Dqbw0YwM5eQ7uGxLPtR1r63vQRPoe8z4l1TOPBW7DMM6577+/yfft28fSpUv5+OOPOX369CWdIzU1G7f73PNcSHR0CMnJWZd0Til96tflKXS4OHI6i+QzeWTlOjhwMoOtB1IwDBjWox69r6hJXk4BeTkFJXbO6OgQsjPz6NOuBs1rRfDJkj1M/WIT3689zK194ogK0851ZY2+z7zLxfTrx80nmblsH1Fh/vxtdFuqxwSTkpJdShXK/9L3mPf5o2dWq+WyBnnBg4E7NjaWjRs3Ft1OSkoiJuY/qxcsWbKE5ORkhgwZgsPhICkpiZEjRzJz5kxPlSRSYThdbtbvTmTl5lMcTsjE9V+/mIYG+tCrbQ26tqhClcggj9dSPSaYJ29uw8rNJ5m78iAvfPobjw5vSbXoy/vHS0T+3PyfD7HwlyM0q1uJe65rqk2qRExmMc43FF0CEhMTufHGG5k7dy4BAQGMGDGC5557jvj4+HOOPXHiBKNHjy72KiUa4a4Y1K/i2bQvmc+X7SM9q4CqUUG0rB9F/WphVIkMJDTIF39fm8f/pPxnPTuZnM2UWVtwOt38bXhL6lTR5hplhb7PvMtf9Wvl5pPM+H4vXeKrcOu1cVitmkJSFuh7zPt4zQj3uHHjGD16NA6Hg6FDhxIfH8+YMWMYO3YszZs399SpRSokh9PNnB8PsPy3E9SMDeaWaxvRvG7Z2gGyWnQwT97UhilfbOaVLzbz0JB44mrp4i2RkrJ5fzKfLt1LfL1Ibrm2kcK2SBnhsRHu0qAR7opB/bqwzNxC3vpqGwdPZtKzbXWGXVkfH7vHFiG6oAv1LD2rgH/O2kJSeh73DWpGy/pRpVidnI++z7zL+fp18GQGr36xmWrRQTx+Y2v8fG0mVSfno+8x71OSI9zm/UQWkRKRkJrDCzM2ciwxm/uub8bIng1NDdsXIyLEj/GjWlMjJoh/zdvOtoOpZpck4tVOp+XyxtxthAf78dDQFgrbImVM2f6pLCJ/6VhiFpM/20R+oYvHR7airRdtqx4c4MOjI1pRLTqId+Zv5+CpDLNLEvFKGTmFvDZrCxYLjBvegtCgklniU0RKjgK3iJc6npTNlC+34GO38veb21Cvqvft6BjgZ2fcDS0JD/Lj9dlbOZaoP7eKFEd+oZPX52wlM7eQh4a2IDYi0OySROQ8FLhFvFBCag6vfrEZH7uVJ0a28uofsmFBvvxtREt8fWxM/nyTppeIXCSH080783dwLDGLewY2o25VrfojUlYpcIt4mazcQt6Ysw2rBR4f2YoYLw7bf4gJD2DC6LbEhgfw5txt/LI9weySRMq09Kx8XvliEzsOpTG6dyNdeCxSxilwi3gRh9PN2/O2k55dwIND4r16ZPt/RYT48cSo1sTVCufDxbvZsj/F7JJEyqSjp7P42+s/cTwxm3uvb0b3ltXMLklELkCBW8RLGIbBR9/tZv+JDO7o15h61bxvzvaFBPjZeWBwc2rFhvDegh0cPKkLKUX+289bT/HCp7+BYfDkTW1o50UXSotUZArcIl5i0S9H+HVnIoO71eWKxrFml+Mx/r52Hh7WgvBgP96Yu42E1ByzSxIxncPp4uPvdvPRd3toWCOM1/92JbUqh5hdlohcJAVuES/w687TzF99mM7NKtOvYy2zy/G40CBf/ja8BVYLvDZrK2eyC8wuScQ0yWfyePHTTfy0NYH+nWrxtxtaEhbsZ3ZZIlIMCtwiZdz+E2f4cPFuGtUI55Y+cWVqq3ZPiokI5KFhLcjOczB19lbyCpxmlyRS6rYdTGXSxxtIOpPH2CHxDO5WT9u1i3ghBW6RMiwpPZe3vtpOZKg/9w9ujt1Wsb5l61QJ5f5BzTiVksPb87bjcLrNLkmkVLjdBvN/PsQbc7YSGerPM7e1o2UDrUQi4q0q1k9vES+SV+DkjbnbMAyDh4e1IDjAx+ySTNGsbiS39Y1j99F0pn+7C7dhmF2SiEdl5Rby+pytLPzlCJ2bV+HvN7chJjzA7LJE5DLYzS5ARM7v82X7OJ2Wy6MjWhFbqfws/3cpOjWrwpnsQuauPIi/r53RvRvpz+pSLh08lcF783eQkVPILdc2oluLqhVmGplIeabALVIGrd15mjU7TnNd59o0rhVhdjllQp/2NckvdPLNmqPkFzq5s3+TCjfFRsovl9vNt2uPsnD1ESJC/HjypjbUqaKdI0XKCwVukTLmVEoOn36/l/rVwxjQubbZ5ZQZFouFwd3qEeBnZ86PB3E43dx7fTOFbvF6e46mM2flAQ4nZNGhSSw3XdOQQP+KOYVMpLxS4BYpQxLTcnn1y834+ti4a0ATbFaFyf/Vp30tfO02Pl+2jw+/3c2d/Ztoeol4pcMJmcxbdZCdR9KJCPHjruua0KFJZbPLEhEPUOAWKSOSz+TxyhebcbkMnhjZiqgwXST1Z65uU50Ch4u5Kw/i62Nj9LWNsGqeq3iJlDN5zFpxgN/2JRMc4MPwq+pzVetq+NhtZpcmIh6iwC1SBmTlFvLarC0UOlw8dmMrqkUHm11Smde3Q62iOd0Op5vb+8XpLwJS5q3blciM7/fgNmBglzpc064GAX76USxS3um7XMRkBQ4Xb87dRlpWAY+NaEXNWG3XfLEGda2Lj93G1z8dIr/QyT0Dm+FjV+iWsudYYhaL1hzht73J1KsaypjrmmqpP5EKRIFbxESZOYW8v3Anh05lct+gZtSvHmZ2SV7FYrEwoFNtAv3sfL5sH//+Zhd3D2yq6SVSZqRnFTBz2T5+25eMv6+N67vUoW/HWrrYV6SCUeAWMcm+42d4b8EOsvOc3N6vMW0axZhdkte6uk11HE43s388QFiwLzde3UBrF4vp1u1K5LOleyl0uhnYpQ4921YnSKuPiFRICtwiJtiyP4V/fb2dqDB/Hh7WQtNISkDvK2qQnlXAso3H8fe1MahrXYVuMYXT5Wbmsn2s3HKKulVDuaNfY6pEBpldloiYSIFbpJRtO5jCO/O3UzM2mEeGt9R6uyXEYrEw/Or6/9kcp8DFiJ4NNL1ESlVGTiH/mredAycz6NOhJoO71dXFvCKiwC1SmnYeTuPtedupFhXM3xS2S5zVYuHWPnEE+NlZuuE4WGBkz4ZmlyUVxOm0XF6btYXM3ELuvb4Z7eI0TUxEfqfALVJK9h0/w1tfbaNypSAeGdFSczk9xGKxMPyq+rgNg+UbT9CoRrjmx4vH7T9xhre+2o7FAk+MbK1t2UXkLArcIqXgcEImr8/ZSqVQfx4d0ZLgAIVtT7JYLNzQoz4HTmTw0eI91K4cSmSYv9llSTnkNgy+X3eMr1YdIircn3E3tCA2ItDsskSkjNHEMhEPO56UzWuzthAc4MNjN7YiNMjX7JIqBLvNyt0Dm+IyDN5fuBOH02V2SVLOHE7I5J9fbmHOyoO0bhjFP25pp7AtIuelEW4RD0pIzeGfX27G18fGYze2IiLEz+ySKpTYiEBu79uYd+fv4L0FO7lvUDNdwCaXpaDQxdaDKazensCOQ2kE+du5uXcjrmxZVaviiMifUuAW8ZDMnN+3awd4dERLorWrnCnaxcVwpmcDvli+n0+/38st18YpGMkF5eY72Xkkjf3Hz3DgZAbp2QVYgJx8Jw6nm7AgX4Z0r8tVratra3YRuSD9KyHiAQ6nm7e/3k5WroMnRrXWGrwm69W2Bpk5hXy79ig2m5VRvRpquUA5r52H01j861H2HT+Dy23g62OlbpVQ4utGAhDgZ6dVgygaVA/HatX/QyJycRS4RUqYYRh8+v1eDpzI4J6BTbVaQRkxuFtdXC6DJeuP4XK5Gd07ToGpgnO53SSk5pKSkU9mTiEb9yax41AakaF+XHNFDVrWj6Ju1VBNQxKRy6bALVLCft2ZyOrtCfTvVJsrGseaXY78P4vFwrAe9fCxW1m05giHTmUxoHNt2jSK1mh3BZKWmc/63Uls2pfM0cQsHE530WOBfnZu6FGfq9tUx8eukC0iJUeBW6QEpWbk89myfdSvFsb1XeqYXY78D4vFwqBudakaFcTCXw7z7vwdVIkMpH/H2lzRJEYjmeWYy+3mq1WH+H7dMQygVmwIV7WuRs3YEGIjAgkN8iE82A+7Tf8PiEjJU+AWKSFuw2D6t7twuw3u7N9Y0xXKsPZNYmkXF8PGvUl8s+YI077ZxfzVh+jeshqdm1chTEs3lisZOYW8v2AHe46doVuLqvTpUFPL94lIqVLgFikh3/16lD3HznBrnzhi9MO8zLNaLVzROJa2cTFs2Z/C0g3HmbvyIPNWHaJ2lRDiakYQWymAQD87AX52Av3thAX5aWlHL3PgRAbvzN9Obr6TO/s3plOzKmaXJCIVkAK3SAnYfiiVeasOcUXjGLrG6we6N7FaLLRuGE3rhtEkpOawdudp9hw9w/frj+FyG+cc37ROJa5pV4NmdSppecEyzOV2s2zDCb5adZDIUH/GjW5JjZhgs8sSkQpKgVvkMiWl5/L+gp1Uiw7mtj6NFcK8WJXIIAZ3qwdAgcNFVk4huQVO8gqc5BY4OZ6UzY+bTzJ19laqRAbSq10NOjWtjK+PzeTK5b8dTshkxpK9HE3MolWDKO7o15hAfx+zyxKRCkyBW+Qy5Bc6eWvediwWeHBIc/x8FbzKCz8fG37/s1lRqwbR9O1Qi/W7E1m64Tgzluxl3qpDXNmqKk1qVSIzt5CM7EIycgrJznMQExFA7cohNKgeho9d/294WlJ6LvN/Psy6XYmEBvly7/XNaNsoWr8Ei4jpFLhFLpFhGHy4eA+nUnL42w3aSbKisNusdGpWhY5NK7Pv+BmWbjjOt2uO8s2ao0XH2KwWAv3tZOU6AIgK82dkr4a0rB9lVtnlWm6+k4W/HOaH305gs1ro06EWfTvU1Ki2iJQZCtwil+i7dcfYuCeJYT3q0bROJbPLkVJmsVhoVDOCRjUjSDqTR3J6HmHBvoQF+RIU4IPVYiE7z8G+42f4atVB3py7jbaNormjXxP9JaQEbdyTxGfL9pGVU0jXFlW4vmtdwoN1YauIlC0K3CKXYOWWk8xdeZArGsdw7RU1zS5HTBYTHkDMef7CERzgQ+uG0cTXi+T79ceY99MhUjM38dDQFoRq6cHL4nK7mbvyIN+vP07tyiE8NDReu7qKSJmlwC1STD9tPcWMJXuJrxfJHf2aaH6oXJDdZqVfx9pUjQri/QU7efHT33hwSHOqRWvVjEuRmVvIu1/vYO/xM1zVuhojrm6gDWtEpEzTv1AiF8kwDJasO8bH3+2hed1I7h/UXNs/S7G0ahDNYze2It/h4rkZG1m787TZJXmdY4lZPPfxBg4lZHJn/8bcdE0jhW0RKfM8+q/UokWL6Nu3L7169eLzzz8/5/Fly5YxYMAA+vXrx/jx4yksLPRkOSKXzOV289myfcz+8QBtG0XzwOBmCttySepVC2Pibe2oHRvCtEW7mLPyAIZx7nrfcq71uxN58dPfcBvw5E2ttYmNiHgNjyWGxMREpk6dysyZM1mwYAGzZs3iwIEDRY/n5uYyadIkPvroI7799lsKCgr4+uuvPVWOyCVLzyrgn19u4cdNJ7m2fU3uub6ZlniTyxIe7MdjI1txZatqfPfrMT5Zsgf3eTbZkd+53QZfrTrIewt2UrNyCP+4tR21K2u+toh4D4/N4V6zZg0dOnQgPDwcgN69e7NkyRIeeOABAAIDA1mxYgU+Pj7k5uaSmppKaKj+AZWyZdvBVKZ/u4sCh4s7+jWmc3ONqEnJsFmt3HxNQ4IDfPhmzRGych3cNaCpVjD5H7n5Tj5YtJNtB1Pp3rIqo3o11BQSEfE6HvtXKykpiejo6KLbMTExJCYmnnWMj48Pq1atokePHqSnp9OlSxdPlSNSLDn5DqZ/u4vX52wlNMiXp29pp7AtJc5isTC4W11G9mzAlgMpTP7sN9Iy880uq8w4nZbL8zM2svNwGjf3bsQt18YpbIuIV7IYHpo8+N5775GXl8e4ceMAmDNnDtu3b2fSpEnnPf61117j5MmT/POf//REOSIXbeehVF79bCPpWQUM6VGfEb0aaetu8biNuxN55dON+PnaeOymNsTXj77wk8qxIwmZTHjvFwDGj25Hs3raNEhEvJfHppTExsaycePGottJSUnExMQU3T5z5gw7duwoGtUeMGBAUTi/WKmp2Zc07zE6OoTk5KxiP0/MUVr9crndfLv2KAtWHyY6PIAJo9tQu3IoGWdyPX7u8kbfY8VXKyqQv9/chne+3s6E99ZwfZc69O1YC5u1dEZ0y1LPjiVmMeXLLfjYrTx+YytiQ/3KTG1lRVnql1wc9cz7/NEzq9VCZOTlLePqsX/JO3XqxNq1a0lLSyMvL4+lS5fSrVu3oscNw+Cxxx7j1KlTAHz33Xe0bt3aU+WI/KVjiVk8P+M35v98mPaNY3lGF2WJCapFBfH0LW1p3ziWr38+zIR/r2fdrkTcFWgVk8S0XF79YjN+PlaeGNmK2EqBZpckInLZPDrCPW7cOEaPHo3D4WDo0KHEx8czZswYxo4dS/PmzXnuuee4++67sVgs1K9fn2effdZT5YicV3aeg0W/HGHFphME+du59/pmtG0Urc1sxDT+vnbGDGhCu7gY5v18iPcX7mTeTwfpGl+Vbi2qlusdKrPzHLw+ZysWi4XHbmxFTITCtoiUDx6bw10aNKWkYvBEvwodLpb/doJv1x4lv9BJ1/iqDL2yHsEBPiV6nopK32Mlw+022Lg3iZWbT7Ln2Bn8fG307VCLa9rVwK+Eryswu2cOp5ups7dw4GQGj93YigbVw02rxRuY3S8pPvXM+5TklBJt7S4VitttsHbnaeb9dIj0rAJa1o9iyJX1qBYVZHZpIuewWi1c0TiWKxrHciolh3k/HeLrnw6xcvNJBnerS8dmlbGWg7/G5Bc6eXvedvYcO8OYAU0UtkWk3FHglgpjx6FUZv94kBPJ2dSpEsJdA5rQqGaE2WWJXJSqUUE8MLg5+46fYdaK/Uz/djfLNh7nwcHxRIb5m13eJcvJ/30ayaFTmdzRrzEdm1Y2uyQRkRKnwC3lXlJ6Ll8s38/Wg6lEh/tzz8CmtIuL0Txt8UoNa4Tz1Oi2rN+dyKff7+PVLzbzxKjWRIT4mV1asSWdyeONOVtJPpPHfdc3p02jir0UooiUXwrcUm4VOFwsXnuU79Ydw2azMKxHPXq2qYGPXRtniHezWix0aFKZ6PAApny5hVe/2MzjI1sRHuwdodswDLYcSOGjxXswDINHhrfUX5tEpFxT4JZyacv+FD5ftpfUzAI6NIllWI/6XjkCKPJX6lUNY9ywFrw2ewvPfryBe65rWqaDq2EYbNiTxDdrjnAiOYfKlQIZOzSeylr6T0TKOQVuKVccThdfrjjAj5tOUi06iCdGap62lG8Na4Tz1M1teWf+Dl75YjODu9WlT4daZe5iytSMfGZ8v5fth1KpGhXEnf0bc0XjWG3VLiIVggK3lBv7jp/h06V7OZmcQ+8rajCkez39MJcKoUZMMP+4pS2fLNnDV6sOsf9EBnf2b1Jmlrn8dedpPvl+LxhwY88GXN26OlZr2fqFQETEkxS4xeslpuey4OfD/LorkYgQPx4eFk98vSizyxIpVQF+du6+rikNa4Tz5Q/7+cf0dVzXuQ5d4quY9otngcPFlz/sZ9WWUzSoHsaY/k2ICg8wpRYRETMpcItXMgyD/ScyWP7bCX7bm4TNamVAp9r07VALP9+S3RBExFtYLBaual2dulVD+XzpPmZ8v5fFvx7lxp4NaNWg9FYAcbrc/LT1FIt+OUJGTiF9OtRkcLe62Kz6i5OIVEwK3OJVsvMcrNpykp+3JZCUnkeAn50+7WvRq211wrxkhQYRT6tdOZS/39yG7YfSmLPyAG99tZ32TWK5sWcDQgM9tzW8223w667TzP/5MCkZ+TSoHsa91zejYY1wj51TRMQbKHCLVzh6Oouft51i9fYECh1uGtUIZ0Cn2rRpFI2/r/43FvlfFouF+HqRNKkdweK1R1m05gjbD6YyqFtdrmxVtURHmw3DYNO+FL7++RCnUnKoGRvMuN4taFankta7FxFBgVvKKMMwOJWSw+b9KWw+kMLhU5nYbRbaN47lmitqUiMm2OwSRbyC3Wblui51aBsXw8zl+/h82T5WbDpB3w61aN/k8lcJOXo6ixnf7+FwQhaVKwVy7/XNaNMousytkiIiYiYFbikzElJ/D9gHTmRw+HQmGdmFADSsGc6oXg1p3yS2zKy6IOJtqkYF8cjwlmzal8yC1YeZ/u1u5v98mGvb16RLfJViv57T5S4aOQ8O9OG2vnF0alZZ87RFRM5DgVtM4zYMjiRksWlfMpv2JXM6LReAKpGBNKlViQbVw2hRP4qGdaNITs4yuVoR72exWGjTKIbWDaPZejCVxWuP8vmyfSz85TDdWlWnUbVQ4mpFXHDU++CpDGYs2cvxpGw6NIllZK+G+mVYROQvKHBLqXK63Ow7foZN+5LZvD+F9KwCbFYLDWuEc3Wb6rRqEEWlUH+zyxQp1ywWCy3rR9GiXiT7jp9h2cYTLFt/jG8dLiJC/BjQqfZ5lxNMSs/l27VHWb0tgbBgX+4f1Iw2jWJMehciIt5DgVs8zulys/toOut3JbLlQAo5+U587Vaa1Y1kSPcoWtSPIshfo2Mipc1isdCoZgSNakYQGh7IqvVHWfzrUWZ8v5dZPx4gNjyAyDB/fOxW8gtdbD+Uis1qoWfbGlzftQ4BfvoRIiJyMfSvpXiE2zDYf/wM63YnsXFPEtl5DgL87LRqEEXrhtE0rVMJPx+tly1SVvj52GjVMJqWDaLYfiiV7YfSSD6TR/KZPJwuAwPofUVNrmlXg3AtwSkiUiwK3FJi8gqcbD2YwrYDqew4nEZ2ngNfHyst60fRvkkszepE4mPXBVUiZdnvywlGabdWEZESpMAtl8TpcpOYlsvJlBxOpeRwLDGbnUfScDjdhAb5El8vkvh6kbSoF6WdH0VERKRCU+CW83K7DZIz8khIzSUhNYeElFwS0nLIyC4kv9BFbr4Tt2EAYLFATHgA3eKr0q5xDPWrh2kNXhEREZH/p8BdgTldbs5kF5CWWUBqRj6J6bmcSs3ldGoOp9PycLrcRceGBvlSNTKQBtXD8Pe1ExRgp0pkENWigqhcKRBfzccWEREROS8F7gqgoNDFoYRMDpzM4FRKDqkZ+aRm5nMmu4D/H6QGfh+pjg4PoEqlQJrVjaRKpUCqRAVRJTJQq4iIiIiIXCIF7nIoPauA/SfOcOBkBgdOZHAsMbto+kdUmD9RYf40qRVBpVB/IsP8iQz1p1KoH1Fh/vjYNVItIiIiUpIUuL2c221wIjmb/ScyOHgyg/0nMkjNzAfA126lbtVQ+nasSf1q4dSrFqqRahEREZFSpsDtZfIKnBw6lcn+E2c4eDKDg6cyyS90ARAe7Ev96uH0aleDBtXDqBETfMEtmkVERETEsxS4yzCny82RhCz2HEvnyOksTqbkkJSei2GABagWHUzHppWpXz2MBtXCiAzzx6LVQURERETKFAXuMqKg0MXx5GyOJWZxLDGLo4nZnEzOKVopJLZSINWjgmj//8vu1asapm2VRURERLyAEptJ8gqc7DycxtaDKRw8mUliWi5/LBgS5G+nZmwIPdtUp161UBrWCCck0NfUekVERETk0ihwl6KCQhdbDqSwblciOw6n4nQZBPnbaVgjnPZNYqkZG0yt2BAiQvw0NURERESknFDg9rA/RrJ/25fMlv0pFDhcRIT4cVXr6rRuGE29aqHYrLqwUURERKS8UuAuYYZhkJiex/aDqWw9mMLeY2dwuX8fye7QNJYOTWJpUCNcW5+LiIiIVBAK3JfBMAxSM/M5dCqTo6ezOHL69wsec/KdAFSJDKRXuxq0qBdJ/ephGskWERERqYAUuIvpVEoOOw6nceDk7xvNpGcVAGCzWqgeE0zbuBhqVQ6hca0IYiMCTa5WRERERMymwF0MTpebSR9voNDpJjLUj4Y1wqlfLYy6VUOpHh2Mj10j2CIiIiJyNgXuYrDbrPzj1nb4+9qoFOpvdjkiIiIi4gUUuIupalSQ2SWIiIiIiBfRHAgREREREQ9S4BYRERER8SAFbhERERERD1LgFhERERHxIAVuEREREREPUuAWEREREfEgBW4REREREQ9S4BYRERER8SCPBu5FixbRt29fevXqxeeff37O48uXL2fgwIFcd9113HfffWRkZHiyHBERERGRUuexwJ2YmMjUqVOZOXMmCxYsYNasWRw4cKDo8ezsbCZOnMgHH3zAwoULadSoEW+99ZanyhERERERMYXHAveaNWvo0KED4eHhBAYG0rt3b5YsWVL0uMPhYOLEicTGxgLQqFEjEhISPFWOiIiIiIgpPBa4k5KSiI6OLrodExNDYmJi0e2IiAh69uwJQH5+Ph988EHRbRERERGR8sLuqRc2DOOc+ywWyzn3ZWVlcd999xEXF8egQYOKdY7IyOBLri86OuSSnyulT/3yPuqZ91HPvIv65X3UM+9TUj3zWOCOjY1l48aNRbeTkpKIiYk565ikpCTuuOMOOnTowN///vdinyM1NRu3+9xgfyHR0SEkJ2cV+3liDvXL+6hn3kc98y7ql/dRz7zPHz2zWi2XNcgLHpxS0qlTJ9auXUtaWhp5eXksXbqUbt26FT3ucrm455576NOnD0899dR5R79FRERERLydR0e4x40bx+jRo3E4HAwdOpT4+HjGjBnD2LFjOX36NLt27cLlcvH9998D0KxZM1544QVPlSQiIiIiUuosxvkmW3uJ9PScS5pSEhkZTGpqtgcqEk9Qv7yPeuZ91DPvon55H/XM+/zRM6vVQkRE0GW9llcHbhERERGRsk5bu4uIiIiIeJACt4iIiIiIBylwi4iIiIh4kAK3iIiIiIgHKXCLiIiIiHiQAreIiIiIiAcpcIuIiIiIeJACt4iIiIiIBylwi4iIiIh4kAK3iIiIiIgHlZvA/fbbb9OvXz/69evHK6+8AsCaNWsYMGAA11xzDVOnTi06dvfu3QwZMoTevXvz1FNP4XQ6ATh16hSjRo3i2muv5d577yUnJ8eU91IRlES//rBr1y6aNWtWqvVXRCXRsxMnTjBq1CgGDhzIzTffzMmTJ015LxVFcXr2hyeeeIJ58+YV3f7tt98YMmQIAwcO5JZbblHPPKgk+pWUlMRdd93F9ddfz4gRIzhx4kSp1V8RFadny5cvZ+DAgVx33XXcd999ZGRkAMoepa0kevaHYuUPoxz45ZdfjOHDhxsFBQVGYWGhMXr0aGPRokVG9+7djWPHjhkOh8O4/fbbjZUrVxqGYRj9+vUzNm/ebBiGYTz55JPG559/bhiGYdx1113GN998YxiGYbz99tvGK6+8Ysr7Ke9Kql+GYRi5ubnG8OHDjYYNG5rxViqMkurZo48+WvT1jBkzjEceecSU91MRFLdnp0+fNu6++24jPj7e+Oqrr4pep0ePHsbu3bsNwzCMOXPmGPfcc48p76e8K6l+3XLLLcbMmTMNwzCMmTNnGg899JAZb6dCKE7PsrKyjM6dOxunT582DMMwXn/9deO5554zDEPZozSVVM8Mo/j5o1yMcEdHRzN+/Hh8fX3x8fGhXr16HDlyhFq1alGjRg3sdjsDBgxgyZIlnDx5kvz8fFq2bAnA4MGDWbJkCQ6Hgw0bNtC7d++z7peSVxL9+sNLL73Erbfeas4bqUBKqmdut5vs7GwA8vLy8Pf3N+stlXvF6RnAokWLuPrqq+nTp0/RaxQWFvLQQw8RFxcHQKNGjUhISDDl/ZR3JdGvtLQ09uzZw4gRIwAYMmQIDz/8sBlvp0IoTs8cDgcTJ04kNjYW+M/3krJH6SqJnv2huPmjXATuBg0aFP1wP3LkCIsXL8ZisRAdHV10TExMDImJiSQlJZ11f3R0NImJiaSnpxMcHIzdbj/rfil5JdEvgB9++IH8/HyuvfbaUq2/Iiqpnj300EN8/PHHdO3alQ8//JAxY8aU6vuoSIrTM4A777yTYcOGnfUavr6+DBw4EPj9l6W3336bnj17ls4bqGBKol/Hjx+natWqvPjii1x33XWMHTsWHx+fUnsPFU1xehYREVH0vZOfn88HH3xAz549lT1KWUn0DC4tf5SLwP2H/fv3c/vtt/PEE09Qs2bNcx63WCwYhlGs+8VzLqdfycnJvPvuuzz99NOlUar8v8vpGfw+33TSpEn8/PPPPPvsszzwwAPnPV5KzsX07EIKCwt59NFHcTqd3H333Z4oU/7f5fTL6XSya9cuOnXqxMKFC7n66qsZP368J8sVitezrKwsxowZQ1xcHIMGDVL2MMnl9OxS80e5Cdy//fYbt956K4888giDBg0iNjaWlJSUoseTkpKIiYk55/7k5GRiYmKoVKkS2dnZuFyus+4Xz7jcfq1cuZIzZ84UXYAHMHDgwKLpClLyLrdnaWlpHDp0qGiEoHfv3iQnJ5Oenl7q76WiuNie/ZWcnBzuvPNOnE4n7777rkZMPehy+xUdHU1QUBA9evQAoH///mzbts3jdVdkxelZUlISI0eOJC4ujhdeeAFA2cMEl9uzS84fJTwf3RSnTp0y2rdvb6xZs6bovvz8fKNbt27GkSNHDKfTadxxxx3G4sWLDcP4/YKujRs3GoZhGE899ZQxbdo0wzAMY8yYMcbChQsNwzCMd955x5g4cWIpv5OKoaT69d900aRnlUTP3G630bVrV2PDhg2GYRjGxo0bjauuuqr030wFUdye/eGJJ5446yK8e++915gwYYLhdrtLrfaKqKT61adPn6ILK7/99lvjxhtvLJ03UAEVp2dOp9MYNGiQ8a9//euc11H2KD0l1bP/drH5w2IY3v/33Oeff56vvvrqrD8LjBgxgtq1azN58mQKCgro3r07Tz75JBaLhT179jBhwgRycnJo0qQJkydPxtfXl5MnTzJ+/HhSU1OpUqUKr732GmFhYSa+s/KppPr13xo1asTevXtL+61UGCXVs23btvHcc8+Rn59PUFAQ//jHP2jSpImJ76z8Km7P/jB+/HiuuOIKBg8ezK5duxg0aBD169cvmmMaExPDtGnTSv39lHcl0S+AQ4cO8cwzzxTNDX7ppZeoXbt2ab+dCqE4PVu+fDkPPvggjRo1Kjq2WbNmvPDCC8oepaikevbfLjZ/lIvALSIiIiJSVpWbOdwiIiIiImWRAreIiIiIiAcpcIuIiIiIeJACt4iIiIiIBylwi4iIiIh4kN3sAkRE5NKdOHGCXr160bBhQ+D3Ldh9fHwYPXo0119//V8+9+233yYuLk7btYuIeJgCt4iIl/P392fBggVFt0+ePMmtt95KQEAAvXv3/tPnrVu3jvr165dGiSIiFZoCt4hIOVOtWjXGjh3L9OnTadiwIZMmTSI3N5ekpCTi4uJ4/fXXmTt3Ljt27OCVV17BZrPRvXt3pkyZwoYNG3C5XDRp0oQJEyYQHBxs9tsREfF6msMtIlIOxcXFsW/fPmbPns3111/PrFmzWLp0KSdOnGDlypWMGjWKZs2a8fjjj9OrVy8++OADbDYb8+bNY+HChcTExDBlyhSz34aISLmgEW4RkXLIYrHg7+/PY489xi+//MK0adM4cuQISUlJ5ObmnnP8ypUrycrKYs2aNQA4HA4iIyNLu2wRkXJJgVtEpBzavn07DRs25G9/+xsul4s+ffpw5ZVXkpCQgGEY5xzvdrv5+9//Tvfu3QHIycmhoKCgtMsWESmXNKVERKScOXz4MO+88w633347q1ev5v7776dv375YLBa2bt2Ky+UCwGaz4XQ6AejSpQuff/45hYWFuN1unn76aV577TUz34aISLmhEW4RES+Xn5/PwIEDAbBarfj5+fG3v/2NK6+8knHjxnH//fcTFhZGQEAA7dq149ixYwD06NGDl19+GYfDwX333cfLL7/MoEGDcLlcNG7cmPHjx5v5tkREyg2Lcb6/LYqIiIiISInQlBIREREREQ9S4BYRERER8SAFbhERERERD1LgFhERERHxIAVuEREREREPUuAWEREREfEgBW4REREREQ/6P1RIHjIlzr1qAAAAAElFTkSuQmCC\n",
          "text/plain": "<Figure size 864x576 with 1 Axes>"
         },
         "metadata": {},
         "output_type": "display_data"
        }
       ]
      }
     },
     "ed5f47f895a94bbf8ca3a009980654d5": {
      "model_module": "@jupyter-widgets/base",
      "model_module_version": "1.2.0",
      "model_name": "LayoutModel",
      "state": {}
     },
     "ef1abcff2bcd427d86befef85660bb20": {
      "model_module": "@jupyter-widgets/controls",
      "model_module_version": "1.5.0",
      "model_name": "ButtonModel",
      "state": {
       "description": "Select Time Series",
       "layout": "IPY_MODEL_191004bb005c407495f7f74f8942f99f",
       "style": "IPY_MODEL_f055016a7987488f95bef480eb8f4bc0"
      }
     },
     "ef5b12781877457f8325bd6242c16f6e": {
      "model_module": "@jupyter-widgets/controls",
      "model_module_version": "1.5.0",
      "model_name": "DropdownModel",
      "state": {
       "_options_labels": [
        "1",
        "2",
        "3",
        "4",
        "5",
        "6",
        "7",
        "8"
       ],
       "description": "No. Models",
       "index": 4,
       "layout": "IPY_MODEL_53ab649ad7774994a279759f3624f9d6",
       "style": "IPY_MODEL_d070c47efa0c4376bac9f516a9223491"
      }
     },
     "ef9c1ab9950c4b9c81b93667d77d4186": {
      "model_module": "@jupyter-widgets/controls",
      "model_module_version": "1.5.0",
      "model_name": "DropdownModel",
      "state": {
       "_options_labels": [
        "New York, NY",
        "Salt Lake City, UT",
        "Orlando, FL",
        "Los Angeles-Long Beach-Anaheim, CA",
        "Seattle, WA"
       ],
       "description": "Time Series:",
       "index": 0,
       "layout": "IPY_MODEL_e908d123804041f89f1999eb6f8e2877",
       "style": "IPY_MODEL_4a4a27141f384caca65a0921e5e9685b"
      }
     },
     "efad9caff0404c3290600a2a96ad8e51": {
      "model_module": "@jupyter-widgets/controls",
      "model_module_version": "1.5.0",
      "model_name": "HTMLModel",
      "state": {
       "layout": "IPY_MODEL_43b6f277082748628e9fc11f015c3a3f",
       "style": "IPY_MODEL_c7e20448a9c14691bb796cdcfd66bc90",
       "value": " 6/6 [00:20&lt;00:00,  5.03s/it]"
      }
     },
     "f055016a7987488f95bef480eb8f4bc0": {
      "model_module": "@jupyter-widgets/controls",
      "model_module_version": "1.5.0",
      "model_name": "ButtonStyleModel",
      "state": {}
     },
     "f227aa15360c4fb294187d3b85526026": {
      "model_module": "@jupyter-widgets/controls",
      "model_module_version": "1.5.0",
      "model_name": "FloatProgressModel",
      "state": {
       "bar_style": "success",
       "layout": "IPY_MODEL_6d1bc36f701b427cb0db08825614c762",
       "max": 5,
       "style": "IPY_MODEL_d929f8ec12784b89b614f33b92a207aa",
       "value": 5
      }
     },
     "f2ec3bad97db442fb49f67b5efe3cbbe": {
      "model_module": "@jupyter-widgets/base",
      "model_module_version": "1.2.0",
      "model_name": "LayoutModel",
      "state": {}
     },
     "f4d07900790b45cfb10060860cc63a26": {
      "model_module": "@jupyter-widgets/controls",
      "model_module_version": "1.5.0",
      "model_name": "HTMLModel",
      "state": {
       "layout": "IPY_MODEL_5e240c244edf450082ae8801161a9afe",
       "style": "IPY_MODEL_490241b38397425e993862fb2c8aec58",
       "value": "100%"
      }
     },
     "f4fc2774e4274a5da0f9bdb86d737c60": {
      "model_module": "@jupyter-widgets/controls",
      "model_module_version": "1.5.0",
      "model_name": "DescriptionStyleModel",
      "state": {
       "description_width": ""
      }
     },
     "f68c3f2e09d04e73acee618ef9d7c4b9": {
      "model_module": "@jupyter-widgets/base",
      "model_module_version": "1.2.0",
      "model_name": "LayoutModel",
      "state": {}
     },
     "fc227fbe781d43e296180731a5580e28": {
      "model_module": "@jupyter-widgets/controls",
      "model_module_version": "1.5.0",
      "model_name": "HTMLModel",
      "state": {
       "layout": "IPY_MODEL_6d9f74145fee4b078f310f97defcd9c5",
       "style": "IPY_MODEL_679ed238c16942508c27551e41d1f2d4",
       "value": " 6/6 [00:21&lt;00:00,  5.42s/it]"
      }
     }
    },
    "version_major": 2,
    "version_minor": 0
   }
  }
 },
 "nbformat": 4,
 "nbformat_minor": 5
}
