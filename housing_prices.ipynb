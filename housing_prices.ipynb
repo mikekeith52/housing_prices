{
 "cells": [
  {
   "cell_type": "markdown",
   "id": "27dda849-25df-41dd-a6e6-44e72e1d1157",
   "metadata": {},
   "source": [
    "# Predict Housing Prices\n",
    "- pass your own list of zip codes to predict future housing prices\n",
    "- data from: https://www.zillow.com/research/data/ (download new data for more recent results)"
   ]
  },
  {
   "cell_type": "code",
   "execution_count": 1,
   "id": "d53c89db-d914-4874-8fb8-aaeb2da41f0b",
   "metadata": {},
   "outputs": [],
   "source": [
    "import pandas as pd\n",
    "import numpy as np\n",
    "from tqdm.notebook import tqdm as log_progress\n",
    "from ipywidgets import widgets\n",
    "from IPython.display import display, clear_output\n",
    "import seaborn as sns\n",
    "import matplotlib\n",
    "import matplotlib.pyplot as plt\n",
    "from scalecast import GridGenerator\n",
    "from scalecast.Forecaster import Forecaster\n",
    "from scalecast.Forecaster import _determine_best_by_"
   ]
  },
  {
   "cell_type": "code",
   "execution_count": 2,
   "id": "22483f62-afa6-44e0-b920-a0a6b02d153e",
   "metadata": {},
   "outputs": [],
   "source": [
    "# add more/different models to this tuple\n",
    "models = ('knn','svr','elasticnet','mlp','gbt','prophet')\n",
    "sns.set(rc={'figure.figsize':(12,8)})"
   ]
  },
  {
   "cell_type": "code",
   "execution_count": 3,
   "id": "d1dd0084-b61a-4819-b949-2d0620a56bd3",
   "metadata": {},
   "outputs": [],
   "source": [
    "GridGenerator.get_example_grids() # use overwrite=True to overwrite an existing Grids file"
   ]
  },
  {
   "cell_type": "code",
   "execution_count": 4,
   "id": "1d32d6f7-93d3-4d3a-9587-80c6911577e4",
   "metadata": {},
   "outputs": [],
   "source": [
    "def results_vis(f_dict,plot_type='forecast'):\n",
    "    \"\"\" visualize the forecast results\n",
    "        leverages Jupyter widgets\n",
    "    \"\"\"\n",
    "    def display_user_selections(ts_selection,mo_selection,lv_selection,me_selection):\n",
    "        matplotlib.use('nbAgg')\n",
    "        %matplotlib inline\n",
    "        sns.set(rc={'figure.figsize':(16,8)})\n",
    "        selected_data = f_dict[ts_selection]\n",
    "        if plot_type == 'forecast':\n",
    "            print(ts_selection)\n",
    "            selected_data.plot(models=f'top_{mo_selection}',order_by=me_selection,level=lv_selection,\n",
    "                               print_attr=['TestSetRMSE','TestSetR2','LevelTestSetRMSE','TestSetMAPE','LevelTestSetR2',\n",
    "                                           'LevelTestSetMAPE','Scaler','HyperParams','Xvars','models','Integration'])\n",
    "        elif plot_type == 'test':\n",
    "            print(ts_selection)\n",
    "            selected_data.plot_test_set(models=f'top_{mo_selection}',order_by=me_selection,include_train=52,level=lv_selection)\n",
    "\n",
    "    def on_button_clicked(b):\n",
    "        mo_selection = mo_dd.value\n",
    "        ts_selection = ts_dd.value\n",
    "        lv_selection = lv_dd.value\n",
    "        me_selection = me_dd.value\n",
    "        with output:\n",
    "            clear_output()\n",
    "            display_user_selections(ts_selection,mo_selection,lv_selection,me_selection)\n",
    "    \n",
    "    all_models = models + ('weighted','avg')\n",
    "    ts_dd = widgets.Dropdown(options=f_dict.keys(), description = 'Time Series:')\n",
    "    mo_dd = widgets.Dropdown(options=range(1,len(all_models)+1), description = 'No. Models')\n",
    "    lv_dd = widgets.Dropdown(options=[True,False],description='View Level')\n",
    "    me_dd = widgets.Dropdown(options=sorted([e for e in _determine_best_by_ if e is not None]),description='Order By')\n",
    "\n",
    "    # never changes\n",
    "    button = widgets.Button(description=\"Select Time Series\")\n",
    "    output = widgets.Output()\n",
    "\n",
    "    display(ts_dd,mo_dd,lv_dd,me_dd)\n",
    "    display(button, output)\n",
    "    \n",
    "    button.on_click(on_button_clicked)"
   ]
  },
  {
   "cell_type": "code",
   "execution_count": 5,
   "id": "b76fe985-f759-47e6-9899-e7fd10c848e2",
   "metadata": {},
   "outputs": [],
   "source": [
    "df = pd.read_csv('Zip_zhvi_uc_sfrcondo_tier_0.33_0.67_sm_sa_mon.csv',dtype={'RegionName':str}).set_index('RegionName')"
   ]
  },
  {
   "cell_type": "code",
   "execution_count": 6,
   "id": "75f902ab-80ee-4c31-b1ec-3abd74c8c9a8",
   "metadata": {},
   "outputs": [
    {
     "data": {
      "text/html": [
       "<div>\n",
       "<style scoped>\n",
       "    .dataframe tbody tr th:only-of-type {\n",
       "        vertical-align: middle;\n",
       "    }\n",
       "\n",
       "    .dataframe tbody tr th {\n",
       "        vertical-align: top;\n",
       "    }\n",
       "\n",
       "    .dataframe thead th {\n",
       "        text-align: right;\n",
       "    }\n",
       "</style>\n",
       "<table border=\"1\" class=\"dataframe\">\n",
       "  <thead>\n",
       "    <tr style=\"text-align: right;\">\n",
       "      <th></th>\n",
       "      <th>RegionID</th>\n",
       "      <th>SizeRank</th>\n",
       "      <th>RegionType</th>\n",
       "      <th>StateName</th>\n",
       "      <th>State</th>\n",
       "      <th>City</th>\n",
       "      <th>Metro</th>\n",
       "      <th>CountyName</th>\n",
       "      <th>1996-01-31</th>\n",
       "      <th>1996-02-29</th>\n",
       "      <th>...</th>\n",
       "      <th>2020-08-31</th>\n",
       "      <th>2020-09-30</th>\n",
       "      <th>2020-10-31</th>\n",
       "      <th>2020-11-30</th>\n",
       "      <th>2020-12-31</th>\n",
       "      <th>2021-01-31</th>\n",
       "      <th>2021-02-28</th>\n",
       "      <th>2021-03-31</th>\n",
       "      <th>2021-04-30</th>\n",
       "      <th>2021-05-31</th>\n",
       "    </tr>\n",
       "    <tr>\n",
       "      <th>RegionName</th>\n",
       "      <th></th>\n",
       "      <th></th>\n",
       "      <th></th>\n",
       "      <th></th>\n",
       "      <th></th>\n",
       "      <th></th>\n",
       "      <th></th>\n",
       "      <th></th>\n",
       "      <th></th>\n",
       "      <th></th>\n",
       "      <th></th>\n",
       "      <th></th>\n",
       "      <th></th>\n",
       "      <th></th>\n",
       "      <th></th>\n",
       "      <th></th>\n",
       "      <th></th>\n",
       "      <th></th>\n",
       "      <th></th>\n",
       "      <th></th>\n",
       "      <th></th>\n",
       "    </tr>\n",
       "  </thead>\n",
       "  <tbody>\n",
       "    <tr>\n",
       "      <th>10025</th>\n",
       "      <td>61639</td>\n",
       "      <td>0</td>\n",
       "      <td>Zip</td>\n",
       "      <td>NY</td>\n",
       "      <td>NY</td>\n",
       "      <td>New York</td>\n",
       "      <td>New York-Newark-Jersey City</td>\n",
       "      <td>New York County</td>\n",
       "      <td>190326.0</td>\n",
       "      <td>189141.0</td>\n",
       "      <td>...</td>\n",
       "      <td>1005641.0</td>\n",
       "      <td>1012842.0</td>\n",
       "      <td>1014076.0</td>\n",
       "      <td>1015660.0</td>\n",
       "      <td>1027308.0</td>\n",
       "      <td>1028815.0</td>\n",
       "      <td>1040011.0</td>\n",
       "      <td>1053436.0</td>\n",
       "      <td>1071606.0</td>\n",
       "      <td>1089141.0</td>\n",
       "    </tr>\n",
       "    <tr>\n",
       "      <th>60657</th>\n",
       "      <td>84654</td>\n",
       "      <td>1</td>\n",
       "      <td>Zip</td>\n",
       "      <td>IL</td>\n",
       "      <td>IL</td>\n",
       "      <td>Chicago</td>\n",
       "      <td>Chicago-Naperville-Elgin</td>\n",
       "      <td>Cook County</td>\n",
       "      <td>265417.0</td>\n",
       "      <td>264722.0</td>\n",
       "      <td>...</td>\n",
       "      <td>498313.0</td>\n",
       "      <td>501107.0</td>\n",
       "      <td>503788.0</td>\n",
       "      <td>506264.0</td>\n",
       "      <td>508612.0</td>\n",
       "      <td>510663.0</td>\n",
       "      <td>512798.0</td>\n",
       "      <td>514068.0</td>\n",
       "      <td>515876.0</td>\n",
       "      <td>517752.0</td>\n",
       "    </tr>\n",
       "    <tr>\n",
       "      <th>10023</th>\n",
       "      <td>61637</td>\n",
       "      <td>2</td>\n",
       "      <td>Zip</td>\n",
       "      <td>NY</td>\n",
       "      <td>NY</td>\n",
       "      <td>New York</td>\n",
       "      <td>New York-Newark-Jersey City</td>\n",
       "      <td>New York County</td>\n",
       "      <td>264983.0</td>\n",
       "      <td>265039.0</td>\n",
       "      <td>...</td>\n",
       "      <td>1107935.0</td>\n",
       "      <td>1117926.0</td>\n",
       "      <td>1118244.0</td>\n",
       "      <td>1113869.0</td>\n",
       "      <td>1105069.0</td>\n",
       "      <td>1096776.0</td>\n",
       "      <td>1097381.0</td>\n",
       "      <td>1096338.0</td>\n",
       "      <td>1100727.0</td>\n",
       "      <td>1104368.0</td>\n",
       "    </tr>\n",
       "    <tr>\n",
       "      <th>77494</th>\n",
       "      <td>91982</td>\n",
       "      <td>3</td>\n",
       "      <td>Zip</td>\n",
       "      <td>TX</td>\n",
       "      <td>TX</td>\n",
       "      <td>Katy</td>\n",
       "      <td>Houston-The Woodlands-Sugar Land</td>\n",
       "      <td>Harris County</td>\n",
       "      <td>202246.0</td>\n",
       "      <td>202496.0</td>\n",
       "      <td>...</td>\n",
       "      <td>343597.0</td>\n",
       "      <td>345154.0</td>\n",
       "      <td>347658.0</td>\n",
       "      <td>350766.0</td>\n",
       "      <td>355204.0</td>\n",
       "      <td>359560.0</td>\n",
       "      <td>364683.0</td>\n",
       "      <td>370188.0</td>\n",
       "      <td>376591.0</td>\n",
       "      <td>383493.0</td>\n",
       "    </tr>\n",
       "    <tr>\n",
       "      <th>60614</th>\n",
       "      <td>84616</td>\n",
       "      <td>4</td>\n",
       "      <td>Zip</td>\n",
       "      <td>IL</td>\n",
       "      <td>IL</td>\n",
       "      <td>Chicago</td>\n",
       "      <td>Chicago-Naperville-Elgin</td>\n",
       "      <td>Cook County</td>\n",
       "      <td>358228.0</td>\n",
       "      <td>357217.0</td>\n",
       "      <td>...</td>\n",
       "      <td>639022.0</td>\n",
       "      <td>641924.0</td>\n",
       "      <td>644626.0</td>\n",
       "      <td>647452.0</td>\n",
       "      <td>650068.0</td>\n",
       "      <td>652220.0</td>\n",
       "      <td>654997.0</td>\n",
       "      <td>656960.0</td>\n",
       "      <td>659558.0</td>\n",
       "      <td>661174.0</td>\n",
       "    </tr>\n",
       "  </tbody>\n",
       "</table>\n",
       "<p>5 rows × 313 columns</p>\n",
       "</div>"
      ],
      "text/plain": [
       "            RegionID  SizeRank RegionType StateName State      City  \\\n",
       "RegionName                                                            \n",
       "10025          61639         0        Zip        NY    NY  New York   \n",
       "60657          84654         1        Zip        IL    IL   Chicago   \n",
       "10023          61637         2        Zip        NY    NY  New York   \n",
       "77494          91982         3        Zip        TX    TX      Katy   \n",
       "60614          84616         4        Zip        IL    IL   Chicago   \n",
       "\n",
       "                                       Metro       CountyName  1996-01-31  \\\n",
       "RegionName                                                                  \n",
       "10025            New York-Newark-Jersey City  New York County    190326.0   \n",
       "60657               Chicago-Naperville-Elgin      Cook County    265417.0   \n",
       "10023            New York-Newark-Jersey City  New York County    264983.0   \n",
       "77494       Houston-The Woodlands-Sugar Land    Harris County    202246.0   \n",
       "60614               Chicago-Naperville-Elgin      Cook County    358228.0   \n",
       "\n",
       "            1996-02-29  ...  2020-08-31  2020-09-30  2020-10-31  2020-11-30  \\\n",
       "RegionName              ...                                                   \n",
       "10025         189141.0  ...   1005641.0   1012842.0   1014076.0   1015660.0   \n",
       "60657         264722.0  ...    498313.0    501107.0    503788.0    506264.0   \n",
       "10023         265039.0  ...   1107935.0   1117926.0   1118244.0   1113869.0   \n",
       "77494         202496.0  ...    343597.0    345154.0    347658.0    350766.0   \n",
       "60614         357217.0  ...    639022.0    641924.0    644626.0    647452.0   \n",
       "\n",
       "            2020-12-31  2021-01-31  2021-02-28  2021-03-31  2021-04-30  \\\n",
       "RegionName                                                               \n",
       "10025        1027308.0   1028815.0   1040011.0   1053436.0   1071606.0   \n",
       "60657         508612.0    510663.0    512798.0    514068.0    515876.0   \n",
       "10023        1105069.0   1096776.0   1097381.0   1096338.0   1100727.0   \n",
       "77494         355204.0    359560.0    364683.0    370188.0    376591.0   \n",
       "60614         650068.0    652220.0    654997.0    656960.0    659558.0   \n",
       "\n",
       "            2021-05-31  \n",
       "RegionName              \n",
       "10025        1089141.0  \n",
       "60657         517752.0  \n",
       "10023        1104368.0  \n",
       "77494         383493.0  \n",
       "60614         661174.0  \n",
       "\n",
       "[5 rows x 313 columns]"
      ]
     },
     "execution_count": 6,
     "metadata": {},
     "output_type": "execute_result"
    }
   ],
   "source": [
    "df.head()"
   ]
  },
  {
   "cell_type": "markdown",
   "id": "6f278d75-92dc-4341-880c-c0f0a751f36e",
   "metadata": {},
   "source": [
    "## Select Zip Codes"
   ]
  },
  {
   "cell_type": "code",
   "execution_count": 7,
   "id": "e66d6ece-2e7c-4cb5-879d-1f8f9e8ef5be",
   "metadata": {},
   "outputs": [
    {
     "data": {
      "text/plain": [
       "['84009', '84095', '34746', '32303', '30328']"
      ]
     },
     "execution_count": 7,
     "metadata": {},
     "output_type": "execute_result"
    }
   ],
   "source": [
    "# overwrite these zips with a list of your own zips (str types)\n",
    "zips = ['84009', '84095', '34746', '32303', '30328']\n",
    "zips"
   ]
  },
  {
   "cell_type": "code",
   "execution_count": 8,
   "id": "4709d570-b19d-447e-a537-49f68b71f4d8",
   "metadata": {},
   "outputs": [],
   "source": [
    "# loads sliced dataframe into forecaster objects stored in a dict\n",
    "preds = {}\n",
    "for z in zips:\n",
    "    data_load = df.loc[z].transpose()\n",
    "    f = Forecaster(y=data_load.values[8:],current_dates=data_load.index[8:],name=z)\n",
    "    f.set_test_length(6)\n",
    "    preds[str(z)] = f"
   ]
  },
  {
   "cell_type": "markdown",
   "id": "0c45804b-3218-4a83-8ad5-f46d08d6d0f1",
   "metadata": {},
   "source": [
    "## EDA\n",
    "- last series only\n",
    "- use only training set to avoid leakage"
   ]
  },
  {
   "cell_type": "code",
   "execution_count": 9,
   "id": "9c7defc0-6e07-4b63-86b9-4cd60c6fe628",
   "metadata": {},
   "outputs": [
    {
     "data": {
      "image/png": "[encoded data removed]",
      "text/plain": [
       "<Figure size 864x576 with 1 Axes>"
      ]
     },
     "metadata": {},
     "output_type": "display_data"
    }
   ],
   "source": [
    "f.plot_acf(diffy=2,train_only=True)\n",
    "plt.show()"
   ]
  },
  {
   "cell_type": "code",
   "execution_count": 10,
   "id": "8d8f525b-c3df-49aa-88e5-f7c0fe8c1f93",
   "metadata": {},
   "outputs": [
    {
     "data": {
      "image/png": "[encoded data removed]",
      "text/plain": [
       "<Figure size 864x576 with 1 Axes>"
      ]
     },
     "metadata": {},
     "output_type": "display_data"
    }
   ],
   "source": [
    "f.plot_pacf(diffy=2,train_only=True)\n",
    "plt.show()"
   ]
  },
  {
   "cell_type": "code",
   "execution_count": 11,
   "id": "02c7350e-bb98-465d-a8fa-b98a158ceb02",
   "metadata": {},
   "outputs": [
    {
     "data": {
      "image/png": "[encoded data removed]",
      "text/plain": [
       "<Figure size 864x576 with 4 Axes>"
      ]
     },
     "metadata": {},
     "output_type": "display_data"
    }
   ],
   "source": [
    "f.seasonal_decompose(diffy=2,train_only=True).plot()\n",
    "plt.show()"
   ]
  },
  {
   "cell_type": "markdown",
   "id": "0b264a1b-57ba-4744-9ca9-a513e6d72619",
   "metadata": {},
   "source": [
    "## Predict future values\n",
    "- using second differenced data for stationarity"
   ]
  },
  {
   "cell_type": "code",
   "execution_count": 12,
   "id": "6fea796f-3499-4498-b555-1f273cfe3529",
   "metadata": {},
   "outputs": [
    {
     "data": {
      "application/vnd.jupyter.widget-view+json": {
       "model_id": "80f537d0084d4c87b9c3715be21e09b0",
       "version_major": 2,
       "version_minor": 0
      },
      "text/plain": [
       "  0%|          | 0/5 [00:00<?, ?it/s]"
      ]
     },
     "metadata": {},
     "output_type": "display_data"
    },
    {
     "name": "stdout",
     "output_type": "stream",
     "text": [
      "84009\n"
     ]
    },
    {
     "data": {
      "application/vnd.jupyter.widget-view+json": {
       "model_id": "45e0967bf45640c4b676c30d5f24219c",
       "version_major": 2,
       "version_minor": 0
      },
      "text/plain": [
       "  0%|          | 0/6 [00:00<?, ?it/s]"
      ]
     },
     "metadata": {},
     "output_type": "display_data"
    },
    {
     "name": "stdout",
     "output_type": "stream",
     "text": [
      "84095\n"
     ]
    },
    {
     "data": {
      "application/vnd.jupyter.widget-view+json": {
       "model_id": "b6a97aeeae0f4fada371bc6a17997678",
       "version_major": 2,
       "version_minor": 0
      },
      "text/plain": [
       "  0%|          | 0/6 [00:00<?, ?it/s]"
      ]
     },
     "metadata": {},
     "output_type": "display_data"
    },
    {
     "name": "stdout",
     "output_type": "stream",
     "text": [
      "34746\n"
     ]
    },
    {
     "data": {
      "application/vnd.jupyter.widget-view+json": {
       "model_id": "611b5381f8824ffc8db27f666e4ad193",
       "version_major": 2,
       "version_minor": 0
      },
      "text/plain": [
       "  0%|          | 0/6 [00:00<?, ?it/s]"
      ]
     },
     "metadata": {},
     "output_type": "display_data"
    },
    {
     "name": "stdout",
     "output_type": "stream",
     "text": [
      "32303\n"
     ]
    },
    {
     "data": {
      "application/vnd.jupyter.widget-view+json": {
       "model_id": "c763d5b5282f40e6bc19cd2e6251e87b",
       "version_major": 2,
       "version_minor": 0
      },
      "text/plain": [
       "  0%|          | 0/6 [00:00<?, ?it/s]"
      ]
     },
     "metadata": {},
     "output_type": "display_data"
    },
    {
     "name": "stdout",
     "output_type": "stream",
     "text": [
      "30328\n"
     ]
    },
    {
     "data": {
      "application/vnd.jupyter.widget-view+json": {
       "model_id": "59fad6bb053c4e728ae57297a785f460",
       "version_major": 2,
       "version_minor": 0
      },
      "text/plain": [
       "  0%|          | 0/6 [00:00<?, ?it/s]"
      ]
     },
     "metadata": {},
     "output_type": "display_data"
    }
   ],
   "source": [
    "# full forecast process\n",
    "for k, f in log_progress(preds.items()):\n",
    "    print(k)\n",
    "    f.generate_future_dates(12)\n",
    "    f.set_validation_length(6)\n",
    "    f.add_ar_terms(3)\n",
    "    f.add_AR_terms((4,3))\n",
    "    f.add_AR_terms((2,12))\n",
    "    f.integrate()\n",
    "    f.add_seasonal_regressors('month','quarter',raw=False,dummy=True)\n",
    "    f.add_seasonal_regressors('year')\n",
    "    f.add_other_regressor(called='2008_recession',start='2007-10-01',end='2009-06-30')\n",
    "    f.add_time_trend(called='t')\n",
    "    f.add_poly_terms('t',pwr=3)\n",
    "    \n",
    "    for m in log_progress(models):\n",
    "        f.set_estimator(m)\n",
    "        f.tune()\n",
    "        f.auto_forecast()\n",
    "        \n",
    "    f.set_estimator('combo')\n",
    "    # top based on performance of each model in tuning process\n",
    "    f.manual_forecast(how='simple',models='top_3',call_me='avg')\n",
    "    f.manual_forecast(how='weighted',models='top_5',call_me='weighted')"
   ]
  },
  {
   "cell_type": "markdown",
   "id": "9b713b4b-6b66-43fb-8fb9-fac0ed52f8a5",
   "metadata": {},
   "source": [
    "## Write out model stats"
   ]
  },
  {
   "cell_type": "code",
   "execution_count": 13,
   "id": "909ca61c-33ea-44c9-b207-0e40c8ec46ec",
   "metadata": {},
   "outputs": [],
   "source": [
    "# writes model summaries to a csv file\n",
    "model_summaries = pd.DataFrame()\n",
    "for k, f in preds.items():\n",
    "    df = f.export(dfs='model_summaries',determine_best_by='LevelTestSetMAPE')\n",
    "    df['Name'] = k\n",
    "    model_summaries = pd.concat([model_summaries,df],ignore_index=True)\n",
    "    \n",
    "model_summaries.to_csv('model_summaries.csv',index=False)"
   ]
  },
  {
   "cell_type": "markdown",
   "id": "f7db0ae5-5c00-43c9-9179-f6c44eda0113",
   "metadata": {},
   "source": [
    "## Visualize results"
   ]
  },
  {
   "cell_type": "code",
   "execution_count": 14,
   "id": "538660d7-7719-4388-a384-64338cf72432",
   "metadata": {},
   "outputs": [
    {
     "data": {
      "application/vnd.jupyter.widget-view+json": {
       "model_id": "a7e03fcbf50e4a8a9903752c06f911e2",
       "version_major": 2,
       "version_minor": 0
      },
      "text/plain": [
       "Dropdown(description='Time Series:', options=('84009', '84095', '34746', '32303', '30328'), value='84009')"
      ]
     },
     "metadata": {},
     "output_type": "display_data"
    },
    {
     "data": {
      "application/vnd.jupyter.widget-view+json": {
       "model_id": "3145b4eec5b34bb997b83eded32df104",
       "version_major": 2,
       "version_minor": 0
      },
      "text/plain": [
       "Dropdown(description='No. Models', options=(1, 2, 3, 4, 5, 6, 7, 8), value=1)"
      ]
     },
     "metadata": {},
     "output_type": "display_data"
    },
    {
     "data": {
      "application/vnd.jupyter.widget-view+json": {
       "model_id": "b8cffb7521b94395a736a1da0f4cacef",
       "version_major": 2,
       "version_minor": 0
      },
      "text/plain": [
       "Dropdown(description='View Level', options=(True, False), value=True)"
      ]
     },
     "metadata": {},
     "output_type": "display_data"
    },
    {
     "data": {
      "application/vnd.jupyter.widget-view+json": {
       "model_id": "cc2d89614dca4100b78ba27e323aae2b",
       "version_major": 2,
       "version_minor": 0
      },
      "text/plain": [
       "Dropdown(description='Order By', options=('InSampleMAE', 'InSampleMAPE', 'InSampleR2', 'InSampleRMSE', 'LevelT…"
      ]
     },
     "metadata": {},
     "output_type": "display_data"
    },
    {
     "data": {
      "application/vnd.jupyter.widget-view+json": {
       "model_id": "a386ace1744d4f628c55bcc9c522f67a",
       "version_major": 2,
       "version_minor": 0
      },
      "text/plain": [
       "Button(description='Select Time Series', style=ButtonStyle())"
      ]
     },
     "metadata": {},
     "output_type": "display_data"
    },
    {
     "data": {
      "application/vnd.jupyter.widget-view+json": {
       "model_id": "c0b61bfc3a0c440184a015c940364f33",
       "version_major": 2,
       "version_minor": 0
      },
      "text/plain": [
       "Output()"
      ]
     },
     "metadata": {},
     "output_type": "display_data"
    }
   ],
   "source": [
    "results_vis(preds,'forecast')"
   ]
  },
  {
   "cell_type": "code",
   "execution_count": 15,
   "id": "f700173c-361f-4888-8edb-dd1e738434d3",
   "metadata": {},
   "outputs": [
    {
     "data": {
      "application/vnd.jupyter.widget-view+json": {
       "model_id": "4f552553794846c0bdc54e35e2edc888",
       "version_major": 2,
       "version_minor": 0
      },
      "text/plain": [
       "Dropdown(description='Time Series:', options=('84009', '84095', '34746', '32303', '30328'), value='84009')"
      ]
     },
     "metadata": {},
     "output_type": "display_data"
    },
    {
     "data": {
      "application/vnd.jupyter.widget-view+json": {
       "model_id": "72eb1abf4a0a46ec840fb380e35a0846",
       "version_major": 2,
       "version_minor": 0
      },
      "text/plain": [
       "Dropdown(description='No. Models', options=(1, 2, 3, 4, 5, 6, 7, 8), value=1)"
      ]
     },
     "metadata": {},
     "output_type": "display_data"
    },
    {
     "data": {
      "application/vnd.jupyter.widget-view+json": {
       "model_id": "f2eeed61b345424ca45b85f36b385038",
       "version_major": 2,
       "version_minor": 0
      },
      "text/plain": [
       "Dropdown(description='View Level', options=(True, False), value=True)"
      ]
     },
     "metadata": {},
     "output_type": "display_data"
    },
    {
     "data": {
      "application/vnd.jupyter.widget-view+json": {
       "model_id": "a357981fbac142f3aca0dde72d198cc1",
       "version_major": 2,
       "version_minor": 0
      },
      "text/plain": [
       "Dropdown(description='Order By', options=('InSampleMAE', 'InSampleMAPE', 'InSampleR2', 'InSampleRMSE', 'LevelT…"
      ]
     },
     "metadata": {},
     "output_type": "display_data"
    },
    {
     "data": {
      "application/vnd.jupyter.widget-view+json": {
       "model_id": "fb8bd72607d947ecbafc5010e9aecede",
       "version_major": 2,
       "version_minor": 0
      },
      "text/plain": [
       "Button(description='Select Time Series', style=ButtonStyle())"
      ]
     },
     "metadata": {},
     "output_type": "display_data"
    },
    {
     "data": {
      "application/vnd.jupyter.widget-view+json": {
       "model_id": "8ab1d6047351406595b466f3554eb231",
       "version_major": 2,
       "version_minor": 0
      },
      "text/plain": [
       "Output()"
      ]
     },
     "metadata": {},
     "output_type": "display_data"
    }
   ],
   "source": [
    "results_vis(preds,'test')"
   ]
  },
  {
   "cell_type": "code",
   "execution_count": null,
   "id": "07877186-a4da-4687-9130-143e4fb7ec25",
   "metadata": {},
   "outputs": [],
   "source": []
  }
 ],
 "metadata": {
  "kernelspec": {
   "display_name": "Python 3",
   "language": "python",
   "name": "python3"
  },
  "language_info": {
   "codemirror_mode": {
    "name": "ipython",
    "version": 3
   },
   "file_extension": ".py",
   "mimetype": "text/x-python",
   "name": "python",
   "nbconvert_exporter": "python",
   "pygments_lexer": "ipython3",
   "version": "3.8.8"
  },
  "widgets": {
   "application/vnd.jupyter.widget-state+json": {
    "state": {
     "01b4aa9037374ee489300e828bb57637": {
      "model_module": "@jupyter-widgets/base",
      "model_module_version": "1.2.0",
      "model_name": "LayoutModel",
      "state": {}
     },
     "02755f7b15c7476286cdadb36302dd6f": {
      "model_module": "@jupyter-widgets/controls",
      "model_module_version": "1.5.0",
      "model_name": "ProgressStyleModel",
      "state": {
       "description_width": ""
      }
     },
     "0681b568181f410aa51f79e31e22d531": {
      "model_module": "@jupyter-widgets/controls",
      "model_module_version": "1.5.0",
      "model_name": "DescriptionStyleModel",
      "state": {
       "description_width": ""
      }
     },
     "06d85b6a87b6491b948782a43ebcc239": {
      "model_module": "@jupyter-widgets/base",
      "model_module_version": "1.2.0",
      "model_name": "LayoutModel",
      "state": {}
     },
     "0a8e81c9b3d349fdb9261d46f242cd17": {
      "model_module": "@jupyter-widgets/controls",
      "model_module_version": "1.5.0",
      "model_name": "DescriptionStyleModel",
      "state": {
       "description_width": ""
      }
     },
     "0b44372e1a4049eabc16eec42f2def47": {
      "model_module": "@jupyter-widgets/controls",
      "model_module_version": "1.5.0",
      "model_name": "FloatProgressModel",
      "state": {
       "bar_style": "success",
       "layout": "IPY_MODEL_ea557e55e7ca4b14aaa070b519b58148",
       "max": 5,
       "style": "IPY_MODEL_2121625f3b2d429bbe10601b8c5d2405",
       "value": 5
      }
     },
     "0c670cf8833b4cb9956f32df70616fe3": {
      "model_module": "@jupyter-widgets/base",
      "model_module_version": "1.2.0",
      "model_name": "LayoutModel",
      "state": {}
     },
     "0e8d269250ac497a91c9281e2809444c": {
      "model_module": "@jupyter-widgets/base",
      "model_module_version": "1.2.0",
      "model_name": "LayoutModel",
      "state": {}
     },
     "15635eafcbb64fb3a3942762debdd12f": {
      "model_module": "@jupyter-widgets/base",
      "model_module_version": "1.2.0",
      "model_name": "LayoutModel",
      "state": {}
     },
     "1642b046ea314b6d9c7e9d1b1fcd61f0": {
      "model_module": "@jupyter-widgets/controls",
      "model_module_version": "1.5.0",
      "model_name": "DescriptionStyleModel",
      "state": {
       "description_width": ""
      }
     },
     "169b8b4d4cd0487692fb13247d0cb6b4": {
      "model_module": "@jupyter-widgets/base",
      "model_module_version": "1.2.0",
      "model_name": "LayoutModel",
      "state": {}
     },
     "2121625f3b2d429bbe10601b8c5d2405": {
      "model_module": "@jupyter-widgets/controls",
      "model_module_version": "1.5.0",
      "model_name": "ProgressStyleModel",
      "state": {
       "description_width": ""
      }
     },
     "21eecd6d0fd6420f8c8d47de42f94a19": {
      "model_module": "@jupyter-widgets/controls",
      "model_module_version": "1.5.0",
      "model_name": "DescriptionStyleModel",
      "state": {
       "description_width": ""
      }
     },
     "26512b375773486ca5e40ee070bedc1d": {
      "model_module": "@jupyter-widgets/base",
      "model_module_version": "1.2.0",
      "model_name": "LayoutModel",
      "state": {}
     },
     "273029d985c8475fbbbcc15a7de0b0ac": {
      "model_module": "@jupyter-widgets/controls",
      "model_module_version": "1.5.0",
      "model_name": "ButtonStyleModel",
      "state": {}
     },
     "2ad4453a17994c1c9a5933f6efba9c49": {
      "model_module": "@jupyter-widgets/base",
      "model_module_version": "1.2.0",
      "model_name": "LayoutModel",
      "state": {}
     },
     "3145b4eec5b34bb997b83eded32df104": {
      "model_module": "@jupyter-widgets/controls",
      "model_module_version": "1.5.0",
      "model_name": "DropdownModel",
      "state": {
       "_options_labels": [
        "1",
        "2",
        "3",
        "4",
        "5",
        "6",
        "7",
        "8"
       ],
       "description": "No. Models",
       "index": 0,
       "layout": "IPY_MODEL_f66297c09e644391b00844535127090b",
       "style": "IPY_MODEL_0a8e81c9b3d349fdb9261d46f242cd17"
      }
     },
     "3687166e92be43d7bafb17008ce45f4a": {
      "model_module": "@jupyter-widgets/base",
      "model_module_version": "1.2.0",
      "model_name": "LayoutModel",
      "state": {}
     },
     "37e7dce88fe84a2fb12ad676dea0805a": {
      "model_module": "@jupyter-widgets/controls",
      "model_module_version": "1.5.0",
      "model_name": "HTMLModel",
      "state": {
       "layout": "IPY_MODEL_f9e20e5e7ba74d19baf8faa1bd755865",
       "style": "IPY_MODEL_45afeb7c930d4742bbf70f1c40a7bb85",
       "value": "100%"
      }
     },
     "3ca768bae3f74ddea6cba6b00bd3ee87": {
      "model_module": "@jupyter-widgets/controls",
      "model_module_version": "1.5.0",
      "model_name": "FloatProgressModel",
      "state": {
       "bar_style": "success",
       "layout": "IPY_MODEL_9c7b6fa6894a4b19a59bad43fef0b7b4",
       "max": 6,
       "style": "IPY_MODEL_bc195766c4d545dbb3e09e8d2acccd98",
       "value": 6
      }
     },
     "4118c20d8bad42f9b0b1abb695c1ecfa": {
      "model_module": "@jupyter-widgets/base",
      "model_module_version": "1.2.0",
      "model_name": "LayoutModel",
      "state": {}
     },
     "45afeb7c930d4742bbf70f1c40a7bb85": {
      "model_module": "@jupyter-widgets/controls",
      "model_module_version": "1.5.0",
      "model_name": "DescriptionStyleModel",
      "state": {
       "description_width": ""
      }
     },
     "45e0967bf45640c4b676c30d5f24219c": {
      "model_module": "@jupyter-widgets/controls",
      "model_module_version": "1.5.0",
      "model_name": "HBoxModel",
      "state": {
       "children": [
        "IPY_MODEL_4d3e051cfdd04812805e016020b665d3",
        "IPY_MODEL_9aaad7bea4d74c6295f84eec47306c46",
        "IPY_MODEL_56cf8ca573094b8fb589b0781577ddf3"
       ],
       "layout": "IPY_MODEL_b124a83e016b4537bd1b34c7bb033fcc"
      }
     },
     "45f1f03ccd344fbb8571d086df213aa0": {
      "model_module": "@jupyter-widgets/controls",
      "model_module_version": "1.5.0",
      "model_name": "DescriptionStyleModel",
      "state": {
       "description_width": ""
      }
     },
     "4762fb9411834748b5c066c5300c7f86": {
      "model_module": "@jupyter-widgets/base",
      "model_module_version": "1.2.0",
      "model_name": "LayoutModel",
      "state": {}
     },
     "4b519dea29c94347aeaa0d7cac2464d8": {
      "model_module": "@jupyter-widgets/controls",
      "model_module_version": "1.5.0",
      "model_name": "DescriptionStyleModel",
      "state": {
       "description_width": ""
      }
     },
     "4d3e051cfdd04812805e016020b665d3": {
      "model_module": "@jupyter-widgets/controls",
      "model_module_version": "1.5.0",
      "model_name": "HTMLModel",
      "state": {
       "layout": "IPY_MODEL_15635eafcbb64fb3a3942762debdd12f",
       "style": "IPY_MODEL_45f1f03ccd344fbb8571d086df213aa0",
       "value": "100%"
      }
     },
     "4f552553794846c0bdc54e35e2edc888": {
      "model_module": "@jupyter-widgets/controls",
      "model_module_version": "1.5.0",
      "model_name": "DropdownModel",
      "state": {
       "_options_labels": [
        "84009",
        "84095",
        "34746",
        "32303",
        "30328"
       ],
       "description": "Time Series:",
       "index": 0,
       "layout": "IPY_MODEL_ef33b7ffa9524802b4fc97621cf90aa7",
       "style": "IPY_MODEL_4b519dea29c94347aeaa0d7cac2464d8"
      }
     },
     "502ab4363629435b9c1634d70697d74a": {
      "model_module": "@jupyter-widgets/base",
      "model_module_version": "1.2.0",
      "model_name": "LayoutModel",
      "state": {}
     },
     "56cf8ca573094b8fb589b0781577ddf3": {
      "model_module": "@jupyter-widgets/controls",
      "model_module_version": "1.5.0",
      "model_name": "HTMLModel",
      "state": {
       "layout": "IPY_MODEL_b488407bfe384cb5ad196fe4bfc0237c",
       "style": "IPY_MODEL_b6c7ef074ea94903ab2bda62308d6b9b",
       "value": " 6/6 [01:10&lt;00:00, 13.09s/it]"
      }
     },
     "57a58aa333124376983940bc8ac58121": {
      "model_module": "@jupyter-widgets/controls",
      "model_module_version": "1.5.0",
      "model_name": "ButtonStyleModel",
      "state": {}
     },
     "5866890899c848fba3562ba5edc76f58": {
      "model_module": "@jupyter-widgets/controls",
      "model_module_version": "1.5.0",
      "model_name": "DescriptionStyleModel",
      "state": {
       "description_width": ""
      }
     },
     "59fad6bb053c4e728ae57297a785f460": {
      "model_module": "@jupyter-widgets/controls",
      "model_module_version": "1.5.0",
      "model_name": "HBoxModel",
      "state": {
       "children": [
        "IPY_MODEL_b18c0a8f9e8f492589643b7194e384b1",
        "IPY_MODEL_94f2e31a5637474bb1e7bb371cd7b8de",
        "IPY_MODEL_a7bbe84f4100404181cdbc6761b779dc"
       ],
       "layout": "IPY_MODEL_4762fb9411834748b5c066c5300c7f86"
      }
     },
     "5c3e6d3923fd42f5b48e178d967c4edb": {
      "model_module": "@jupyter-widgets/controls",
      "model_module_version": "1.5.0",
      "model_name": "DescriptionStyleModel",
      "state": {
       "description_width": ""
      }
     },
     "609f2e85bd7c4602b2eecc9a6e1badec": {
      "model_module": "@jupyter-widgets/base",
      "model_module_version": "1.2.0",
      "model_name": "LayoutModel",
      "state": {}
     },
     "611b5381f8824ffc8db27f666e4ad193": {
      "model_module": "@jupyter-widgets/controls",
      "model_module_version": "1.5.0",
      "model_name": "HBoxModel",
      "state": {
       "children": [
        "IPY_MODEL_a589c667cb8b4251b7a72cbfc50113ce",
        "IPY_MODEL_f9bc6cffbbfa437d8f2700799aba0838",
        "IPY_MODEL_ef16b762987e428c979b68dcdf4f70bc"
       ],
       "layout": "IPY_MODEL_2ad4453a17994c1c9a5933f6efba9c49"
      }
     },
     "63ec6c561d2e4b0d85f315ca3e11bd23": {
      "model_module": "@jupyter-widgets/base",
      "model_module_version": "1.2.0",
      "model_name": "LayoutModel",
      "state": {}
     },
     "649b1e28f51d4b4ea5ce43146afb8672": {
      "model_module": "@jupyter-widgets/controls",
      "model_module_version": "1.5.0",
      "model_name": "DescriptionStyleModel",
      "state": {
       "description_width": ""
      }
     },
     "673dae7b445b499ca36e04c8e91f3bc5": {
      "model_module": "@jupyter-widgets/base",
      "model_module_version": "1.2.0",
      "model_name": "LayoutModel",
      "state": {}
     },
     "677b5fde69dc4d398c23629f37a4d9e2": {
      "model_module": "@jupyter-widgets/controls",
      "model_module_version": "1.5.0",
      "model_name": "HTMLModel",
      "state": {
       "layout": "IPY_MODEL_68e89bfa27e94ce6b085520f7507bf05",
       "style": "IPY_MODEL_dfb4a6ff0be446f99911d7ccb72982a2",
       "value": " 5/5 [06:47&lt;00:00, 94.79s/it]"
      }
     },
     "6808923ff18c48c49ba5248c0d41632c": {
      "model_module": "@jupyter-widgets/controls",
      "model_module_version": "1.5.0",
      "model_name": "DescriptionStyleModel",
      "state": {
       "description_width": ""
      }
     },
     "68e89bfa27e94ce6b085520f7507bf05": {
      "model_module": "@jupyter-widgets/base",
      "model_module_version": "1.2.0",
      "model_name": "LayoutModel",
      "state": {}
     },
     "6b2817820e5b44ac94aa7be52b21466e": {
      "model_module": "@jupyter-widgets/base",
      "model_module_version": "1.2.0",
      "model_name": "LayoutModel",
      "state": {}
     },
     "71d8ba0351924b50aca226929bd4956e": {
      "model_module": "@jupyter-widgets/controls",
      "model_module_version": "1.5.0",
      "model_name": "DescriptionStyleModel",
      "state": {
       "description_width": ""
      }
     },
     "72eb1abf4a0a46ec840fb380e35a0846": {
      "model_module": "@jupyter-widgets/controls",
      "model_module_version": "1.5.0",
      "model_name": "DropdownModel",
      "state": {
       "_options_labels": [
        "1",
        "2",
        "3",
        "4",
        "5",
        "6",
        "7",
        "8"
       ],
       "description": "No. Models",
       "index": 0,
       "layout": "IPY_MODEL_169b8b4d4cd0487692fb13247d0cb6b4",
       "style": "IPY_MODEL_6808923ff18c48c49ba5248c0d41632c"
      }
     },
     "73bb4a9b5baf4f859cf0a25cd1c9fa40": {
      "model_module": "@jupyter-widgets/controls",
      "model_module_version": "1.5.0",
      "model_name": "HTMLModel",
      "state": {
       "layout": "IPY_MODEL_e887c700700b4a32b883211da5358712",
       "style": "IPY_MODEL_8bf2b9eb6a34437ab79b9afc1aa4add5",
       "value": " 6/6 [01:02&lt;00:00, 10.06s/it]"
      }
     },
     "753bd2ba882941a1a74893376b716e02": {
      "model_module": "@jupyter-widgets/controls",
      "model_module_version": "1.5.0",
      "model_name": "DescriptionStyleModel",
      "state": {
       "description_width": ""
      }
     },
     "7b096443ab6d489cb480cbda87bd013c": {
      "model_module": "@jupyter-widgets/base",
      "model_module_version": "1.2.0",
      "model_name": "LayoutModel",
      "state": {}
     },
     "8074f7ccb959445ab1f9f04071c5b2d0": {
      "model_module": "@jupyter-widgets/base",
      "model_module_version": "1.2.0",
      "model_name": "LayoutModel",
      "state": {}
     },
     "80f537d0084d4c87b9c3715be21e09b0": {
      "model_module": "@jupyter-widgets/controls",
      "model_module_version": "1.5.0",
      "model_name": "HBoxModel",
      "state": {
       "children": [
        "IPY_MODEL_ac180059edbf4986877e6261dbc93426",
        "IPY_MODEL_0b44372e1a4049eabc16eec42f2def47",
        "IPY_MODEL_677b5fde69dc4d398c23629f37a4d9e2"
       ],
       "layout": "IPY_MODEL_0c670cf8833b4cb9956f32df70616fe3"
      }
     },
     "857b088390bf4e1ca4770e42d9ec561a": {
      "model_module": "@jupyter-widgets/controls",
      "model_module_version": "1.5.0",
      "model_name": "DescriptionStyleModel",
      "state": {
       "description_width": ""
      }
     },
     "8880472631544b279bdbce5c8452c5e4": {
      "model_module": "@jupyter-widgets/base",
      "model_module_version": "1.2.0",
      "model_name": "LayoutModel",
      "state": {}
     },
     "8ab1d6047351406595b466f3554eb231": {
      "model_module": "@jupyter-widgets/output",
      "model_module_version": "1.0.0",
      "model_name": "OutputModel",
      "state": {
       "layout": "IPY_MODEL_3687166e92be43d7bafb17008ce45f4a"
      }
     },
     "8bf2b9eb6a34437ab79b9afc1aa4add5": {
      "model_module": "@jupyter-widgets/controls",
      "model_module_version": "1.5.0",
      "model_name": "DescriptionStyleModel",
      "state": {
       "description_width": ""
      }
     },
     "94f2e31a5637474bb1e7bb371cd7b8de": {
      "model_module": "@jupyter-widgets/controls",
      "model_module_version": "1.5.0",
      "model_name": "FloatProgressModel",
      "state": {
       "bar_style": "success",
       "layout": "IPY_MODEL_673dae7b445b499ca36e04c8e91f3bc5",
       "max": 6,
       "style": "IPY_MODEL_d7f0aaa8d6294da8974d1bc2ea889cbb",
       "value": 6
      }
     },
     "96bb2575b39442b1a8e20f3416b9a6e7": {
      "model_module": "@jupyter-widgets/controls",
      "model_module_version": "1.5.0",
      "model_name": "ProgressStyleModel",
      "state": {
       "description_width": ""
      }
     },
     "9aaad7bea4d74c6295f84eec47306c46": {
      "model_module": "@jupyter-widgets/controls",
      "model_module_version": "1.5.0",
      "model_name": "FloatProgressModel",
      "state": {
       "bar_style": "success",
       "layout": "IPY_MODEL_9b0aaef7eed643299cf6e6b6044be992",
       "max": 6,
       "style": "IPY_MODEL_96bb2575b39442b1a8e20f3416b9a6e7",
       "value": 6
      }
     },
     "9b0aaef7eed643299cf6e6b6044be992": {
      "model_module": "@jupyter-widgets/base",
      "model_module_version": "1.2.0",
      "model_name": "LayoutModel",
      "state": {}
     },
     "9bf3c718ffaa4f5fa666d11fc63ff669": {
      "model_module": "@jupyter-widgets/controls",
      "model_module_version": "1.5.0",
      "model_name": "HTMLModel",
      "state": {
       "layout": "IPY_MODEL_ccd2693c79ec40c487c69e441d5ff3d7",
       "style": "IPY_MODEL_857b088390bf4e1ca4770e42d9ec561a",
       "value": "100%"
      }
     },
     "9c7b6fa6894a4b19a59bad43fef0b7b4": {
      "model_module": "@jupyter-widgets/base",
      "model_module_version": "1.2.0",
      "model_name": "LayoutModel",
      "state": {}
     },
     "a1486d1d56b84f409ada9fa1efe98857": {
      "model_module": "@jupyter-widgets/controls",
      "model_module_version": "1.5.0",
      "model_name": "FloatProgressModel",
      "state": {
       "bar_style": "success",
       "layout": "IPY_MODEL_7b096443ab6d489cb480cbda87bd013c",
       "max": 6,
       "style": "IPY_MODEL_02755f7b15c7476286cdadb36302dd6f",
       "value": 6
      }
     },
     "a357981fbac142f3aca0dde72d198cc1": {
      "model_module": "@jupyter-widgets/controls",
      "model_module_version": "1.5.0",
      "model_name": "DropdownModel",
      "state": {
       "_options_labels": [
        "InSampleMAE",
        "InSampleMAPE",
        "InSampleR2",
        "InSampleRMSE",
        "LevelTestSetMAE",
        "LevelTestSetMAPE",
        "LevelTestSetR2",
        "LevelTestSetRMSE",
        "TestSetMAE",
        "TestSetMAPE",
        "TestSetR2",
        "TestSetRMSE",
        "ValidationMetricValue"
       ],
       "description": "Order By",
       "index": 0,
       "layout": "IPY_MODEL_ca878c8b09e64ff1bc295051515b19c5",
       "style": "IPY_MODEL_1642b046ea314b6d9c7e9d1b1fcd61f0"
      }
     },
     "a386ace1744d4f628c55bcc9c522f67a": {
      "model_module": "@jupyter-widgets/controls",
      "model_module_version": "1.5.0",
      "model_name": "ButtonModel",
      "state": {
       "description": "Select Time Series",
       "layout": "IPY_MODEL_06d85b6a87b6491b948782a43ebcc239",
       "style": "IPY_MODEL_273029d985c8475fbbbcc15a7de0b0ac"
      }
     },
     "a589c667cb8b4251b7a72cbfc50113ce": {
      "model_module": "@jupyter-widgets/controls",
      "model_module_version": "1.5.0",
      "model_name": "HTMLModel",
      "state": {
       "layout": "IPY_MODEL_8074f7ccb959445ab1f9f04071c5b2d0",
       "style": "IPY_MODEL_753bd2ba882941a1a74893376b716e02",
       "value": "100%"
      }
     },
     "a7bbe84f4100404181cdbc6761b779dc": {
      "model_module": "@jupyter-widgets/controls",
      "model_module_version": "1.5.0",
      "model_name": "HTMLModel",
      "state": {
       "layout": "IPY_MODEL_502ab4363629435b9c1634d70697d74a",
       "style": "IPY_MODEL_e94593f01bb3454f817bedb0d2c9a26b",
       "value": " 6/6 [02:29&lt;00:00, 39.82s/it]"
      }
     },
     "a7e03fcbf50e4a8a9903752c06f911e2": {
      "model_module": "@jupyter-widgets/controls",
      "model_module_version": "1.5.0",
      "model_name": "DropdownModel",
      "state": {
       "_options_labels": [
        "84009",
        "84095",
        "34746",
        "32303",
        "30328"
       ],
       "description": "Time Series:",
       "index": 0,
       "layout": "IPY_MODEL_26512b375773486ca5e40ee070bedc1d",
       "style": "IPY_MODEL_b0a2401efde541d1aa5e33d2604e74ef"
      }
     },
     "ac180059edbf4986877e6261dbc93426": {
      "model_module": "@jupyter-widgets/controls",
      "model_module_version": "1.5.0",
      "model_name": "HTMLModel",
      "state": {
       "layout": "IPY_MODEL_4118c20d8bad42f9b0b1abb695c1ecfa",
       "style": "IPY_MODEL_649b1e28f51d4b4ea5ce43146afb8672",
       "value": "100%"
      }
     },
     "b0a2401efde541d1aa5e33d2604e74ef": {
      "model_module": "@jupyter-widgets/controls",
      "model_module_version": "1.5.0",
      "model_name": "DescriptionStyleModel",
      "state": {
       "description_width": ""
      }
     },
     "b124a83e016b4537bd1b34c7bb033fcc": {
      "model_module": "@jupyter-widgets/base",
      "model_module_version": "1.2.0",
      "model_name": "LayoutModel",
      "state": {}
     },
     "b18c0a8f9e8f492589643b7194e384b1": {
      "model_module": "@jupyter-widgets/controls",
      "model_module_version": "1.5.0",
      "model_name": "HTMLModel",
      "state": {
       "layout": "IPY_MODEL_e3facb40b19d43259b0cfebb53eaf990",
       "style": "IPY_MODEL_5866890899c848fba3562ba5edc76f58",
       "value": "100%"
      }
     },
     "b2bd6631add54ac199fe6de01f6c4407": {
      "model_module": "@jupyter-widgets/controls",
      "model_module_version": "1.5.0",
      "model_name": "HTMLModel",
      "state": {
       "layout": "IPY_MODEL_8880472631544b279bdbce5c8452c5e4",
       "style": "IPY_MODEL_5c3e6d3923fd42f5b48e178d967c4edb",
       "value": " 6/6 [01:02&lt;00:00, 10.20s/it]"
      }
     },
     "b447cfa1ebe54c958fd3d9f2cd558733": {
      "model_module": "@jupyter-widgets/base",
      "model_module_version": "1.2.0",
      "model_name": "LayoutModel",
      "state": {}
     },
     "b488407bfe384cb5ad196fe4bfc0237c": {
      "model_module": "@jupyter-widgets/base",
      "model_module_version": "1.2.0",
      "model_name": "LayoutModel",
      "state": {}
     },
     "b6a97aeeae0f4fada371bc6a17997678": {
      "model_module": "@jupyter-widgets/controls",
      "model_module_version": "1.5.0",
      "model_name": "HBoxModel",
      "state": {
       "children": [
        "IPY_MODEL_37e7dce88fe84a2fb12ad676dea0805a",
        "IPY_MODEL_a1486d1d56b84f409ada9fa1efe98857",
        "IPY_MODEL_73bb4a9b5baf4f859cf0a25cd1c9fa40"
       ],
       "layout": "IPY_MODEL_01b4aa9037374ee489300e828bb57637"
      }
     },
     "b6c7ef074ea94903ab2bda62308d6b9b": {
      "model_module": "@jupyter-widgets/controls",
      "model_module_version": "1.5.0",
      "model_name": "DescriptionStyleModel",
      "state": {
       "description_width": ""
      }
     },
     "b784301fb6074a9d8b6acac90d835365": {
      "model_module": "@jupyter-widgets/base",
      "model_module_version": "1.2.0",
      "model_name": "LayoutModel",
      "state": {}
     },
     "b82162fc16e440c28b1ab8056e2752d8": {
      "model_module": "@jupyter-widgets/base",
      "model_module_version": "1.2.0",
      "model_name": "LayoutModel",
      "state": {}
     },
     "b8cffb7521b94395a736a1da0f4cacef": {
      "model_module": "@jupyter-widgets/controls",
      "model_module_version": "1.5.0",
      "model_name": "DropdownModel",
      "state": {
       "_options_labels": [
        "True",
        "False"
       ],
       "description": "View Level",
       "index": 0,
       "layout": "IPY_MODEL_0e8d269250ac497a91c9281e2809444c",
       "style": "IPY_MODEL_21eecd6d0fd6420f8c8d47de42f94a19"
      }
     },
     "bbb46d59b19648c8bf78d83a2ecb900a": {
      "model_module": "@jupyter-widgets/base",
      "model_module_version": "1.2.0",
      "model_name": "LayoutModel",
      "state": {}
     },
     "bc195766c4d545dbb3e09e8d2acccd98": {
      "model_module": "@jupyter-widgets/controls",
      "model_module_version": "1.5.0",
      "model_name": "ProgressStyleModel",
      "state": {
       "description_width": ""
      }
     },
     "c0b61bfc3a0c440184a015c940364f33": {
      "model_module": "@jupyter-widgets/output",
      "model_module_version": "1.0.0",
      "model_name": "OutputModel",
      "state": {
       "layout": "IPY_MODEL_b784301fb6074a9d8b6acac90d835365",
       "outputs": [
        {
         "name": "stdout",
         "output_type": "stream",
         "text": "84009\nelasticnet TestSetRMSE: 1667.7482796113388\nelasticnet TestSetR2: -0.3312238061613295\nelasticnet LevelTestSetRMSE: 6325.924055621027\nelasticnet TestSetMAPE: 0.984393159590998\nelasticnet LevelTestSetR2: 0.9010733874443224\nelasticnet LevelTestSetMAPE: 0.011887069828508678\nelasticnet Scaler: scale\nelasticnet HyperParams: {'alpha': 0.8, 'l1_ratio': 0.25}\nelasticnet Xvars: ['AR1', 'AR2', 'AR3', 'AR6', 'AR9', 'AR12', 'AR24', 'month_1', 'month_10', 'month_11', 'month_12', 'month_2', 'month_3', 'month_4', 'month_5', 'month_6', 'month_7', 'month_8', 'month_9', 'quarter_1', 'quarter_2', 'quarter_3', 'quarter_4', 'year', '2008_recession', 't', 't^2', 't^3']\nelasticnet Integration: 2\n"
        },
        {
         "data": {
          "image/png": "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\n",
          "text/plain": "<Figure size 1152x576 with 1 Axes>"
         },
         "metadata": {},
         "output_type": "display_data"
        }
       ]
      }
     },
     "c763d5b5282f40e6bc19cd2e6251e87b": {
      "model_module": "@jupyter-widgets/controls",
      "model_module_version": "1.5.0",
      "model_name": "HBoxModel",
      "state": {
       "children": [
        "IPY_MODEL_9bf3c718ffaa4f5fa666d11fc63ff669",
        "IPY_MODEL_3ca768bae3f74ddea6cba6b00bd3ee87",
        "IPY_MODEL_b2bd6631add54ac199fe6de01f6c4407"
       ],
       "layout": "IPY_MODEL_bbb46d59b19648c8bf78d83a2ecb900a"
      }
     },
     "ca878c8b09e64ff1bc295051515b19c5": {
      "model_module": "@jupyter-widgets/base",
      "model_module_version": "1.2.0",
      "model_name": "LayoutModel",
      "state": {}
     },
     "cc2d89614dca4100b78ba27e323aae2b": {
      "model_module": "@jupyter-widgets/controls",
      "model_module_version": "1.5.0",
      "model_name": "DropdownModel",
      "state": {
       "_options_labels": [
        "InSampleMAE",
        "InSampleMAPE",
        "InSampleR2",
        "InSampleRMSE",
        "LevelTestSetMAE",
        "LevelTestSetMAPE",
        "LevelTestSetR2",
        "LevelTestSetRMSE",
        "TestSetMAE",
        "TestSetMAPE",
        "TestSetR2",
        "TestSetRMSE",
        "ValidationMetricValue"
       ],
       "description": "Order By",
       "index": 5,
       "layout": "IPY_MODEL_63ec6c561d2e4b0d85f315ca3e11bd23",
       "style": "IPY_MODEL_71d8ba0351924b50aca226929bd4956e"
      }
     },
     "ccd2693c79ec40c487c69e441d5ff3d7": {
      "model_module": "@jupyter-widgets/base",
      "model_module_version": "1.2.0",
      "model_name": "LayoutModel",
      "state": {}
     },
     "d1c6d709242448cc9435592914200d2b": {
      "model_module": "@jupyter-widgets/controls",
      "model_module_version": "1.5.0",
      "model_name": "ProgressStyleModel",
      "state": {
       "description_width": ""
      }
     },
     "d7f0aaa8d6294da8974d1bc2ea889cbb": {
      "model_module": "@jupyter-widgets/controls",
      "model_module_version": "1.5.0",
      "model_name": "ProgressStyleModel",
      "state": {
       "description_width": ""
      }
     },
     "dfb4a6ff0be446f99911d7ccb72982a2": {
      "model_module": "@jupyter-widgets/controls",
      "model_module_version": "1.5.0",
      "model_name": "DescriptionStyleModel",
      "state": {
       "description_width": ""
      }
     },
     "e3facb40b19d43259b0cfebb53eaf990": {
      "model_module": "@jupyter-widgets/base",
      "model_module_version": "1.2.0",
      "model_name": "LayoutModel",
      "state": {}
     },
     "e441ce9da73840a6a4a3cabae6145f16": {
      "model_module": "@jupyter-widgets/controls",
      "model_module_version": "1.5.0",
      "model_name": "DescriptionStyleModel",
      "state": {
       "description_width": ""
      }
     },
     "e887c700700b4a32b883211da5358712": {
      "model_module": "@jupyter-widgets/base",
      "model_module_version": "1.2.0",
      "model_name": "LayoutModel",
      "state": {}
     },
     "e94593f01bb3454f817bedb0d2c9a26b": {
      "model_module": "@jupyter-widgets/controls",
      "model_module_version": "1.5.0",
      "model_name": "DescriptionStyleModel",
      "state": {
       "description_width": ""
      }
     },
     "ea557e55e7ca4b14aaa070b519b58148": {
      "model_module": "@jupyter-widgets/base",
      "model_module_version": "1.2.0",
      "model_name": "LayoutModel",
      "state": {}
     },
     "ef16b762987e428c979b68dcdf4f70bc": {
      "model_module": "@jupyter-widgets/controls",
      "model_module_version": "1.5.0",
      "model_name": "HTMLModel",
      "state": {
       "layout": "IPY_MODEL_b82162fc16e440c28b1ab8056e2752d8",
       "style": "IPY_MODEL_0681b568181f410aa51f79e31e22d531",
       "value": " 6/6 [01:02&lt;00:00, 10.16s/it]"
      }
     },
     "ef33b7ffa9524802b4fc97621cf90aa7": {
      "model_module": "@jupyter-widgets/base",
      "model_module_version": "1.2.0",
      "model_name": "LayoutModel",
      "state": {}
     },
     "f2eeed61b345424ca45b85f36b385038": {
      "model_module": "@jupyter-widgets/controls",
      "model_module_version": "1.5.0",
      "model_name": "DropdownModel",
      "state": {
       "_options_labels": [
        "True",
        "False"
       ],
       "description": "View Level",
       "index": 0,
       "layout": "IPY_MODEL_b447cfa1ebe54c958fd3d9f2cd558733",
       "style": "IPY_MODEL_e441ce9da73840a6a4a3cabae6145f16"
      }
     },
     "f66297c09e644391b00844535127090b": {
      "model_module": "@jupyter-widgets/base",
      "model_module_version": "1.2.0",
      "model_name": "LayoutModel",
      "state": {}
     },
     "f9bc6cffbbfa437d8f2700799aba0838": {
      "model_module": "@jupyter-widgets/controls",
      "model_module_version": "1.5.0",
      "model_name": "FloatProgressModel",
      "state": {
       "bar_style": "success",
       "layout": "IPY_MODEL_609f2e85bd7c4602b2eecc9a6e1badec",
       "max": 6,
       "style": "IPY_MODEL_d1c6d709242448cc9435592914200d2b",
       "value": 6
      }
     },
     "f9e20e5e7ba74d19baf8faa1bd755865": {
      "model_module": "@jupyter-widgets/base",
      "model_module_version": "1.2.0",
      "model_name": "LayoutModel",
      "state": {}
     },
     "fb8bd72607d947ecbafc5010e9aecede": {
      "model_module": "@jupyter-widgets/controls",
      "model_module_version": "1.5.0",
      "model_name": "ButtonModel",
      "state": {
       "description": "Select Time Series",
       "layout": "IPY_MODEL_6b2817820e5b44ac94aa7be52b21466e",
       "style": "IPY_MODEL_57a58aa333124376983940bc8ac58121"
      }
     }
    },
    "version_major": 2,
    "version_minor": 0
   }
  }
 },
 "nbformat": 4,
 "nbformat_minor": 5
}
