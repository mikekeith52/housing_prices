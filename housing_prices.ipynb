{
 "cells": [
  {
   "cell_type": "code",
   "execution_count": 1,
   "id": "d53c89db-d914-4874-8fb8-aaeb2da41f0b",
   "metadata": {},
   "outputs": [],
   "source": [
    "import pandas as pd\n",
    "import numpy as np\n",
    "from tqdm.notebook import tqdm as log_progress\n",
    "from ipywidgets import widgets # for buttons and dropdown menus\n",
    "from IPython.display import display, clear_output # for buttons and dropdown menus\n",
    "import seaborn as sns\n",
    "import matplotlib\n",
    "import matplotlib.pyplot as plt\n",
    "from scalecast import GridGenerator\n",
    "from scalecast.Forecaster import Forecaster\n",
    "from scalecast.Forecaster import _determine_best_by_"
   ]
  },
  {
   "cell_type": "code",
   "execution_count": 2,
   "id": "22483f62-afa6-44e0-b920-a0a6b02d153e",
   "metadata": {},
   "outputs": [],
   "source": [
    "models = ('knn','svr','elasticnet','mlp','gbt','prophet')\n",
    "sns.set(rc={'figure.figsize':(12,8)})"
   ]
  },
  {
   "cell_type": "code",
   "execution_count": 3,
   "id": "d1dd0084-b61a-4819-b949-2d0620a56bd3",
   "metadata": {},
   "outputs": [],
   "source": [
    "GridGenerator.get_example_grids()"
   ]
  },
  {
   "cell_type": "code",
   "execution_count": 4,
   "id": "1d32d6f7-93d3-4d3a-9587-80c6911577e4",
   "metadata": {},
   "outputs": [],
   "source": [
    "def find_integration(f):\n",
    "    \"\"\" uses augmented dickey fuller to guess that series is stationary at 0, 1, or 2 differences\n",
    "    \"\"\"\n",
    "    if f.adf_test():\n",
    "        return 0\n",
    "    f.diff()\n",
    "    if f.adf_test():\n",
    "        f.undiff()\n",
    "        return 1\n",
    "    f.undiff()\n",
    "    return 2\n",
    "\n",
    "def results_vis(f_dict,plot_type='forecast'):\n",
    "    \"\"\" visualize the forecast results\n",
    "        leverages Jupyter widgets\n",
    "    \"\"\"\n",
    "    def display_user_selections(ts_selection,mo_selection,lv_selection,me_selection):\n",
    "        matplotlib.use('nbAgg')\n",
    "        %matplotlib inline\n",
    "        sns.set(rc={'figure.figsize':(16,8)})\n",
    "        selected_data = f_dict[ts_selection]\n",
    "        if plot_type == 'forecast':\n",
    "            print(ts_selection)\n",
    "            selected_data.plot(models=f'top_{mo_selection}',order_by=me_selection,level=lv_selection,\n",
    "                               print_attr=['TestSetRMSE','TestSetR2','LevelTestSetRMSE','TestSetMAPE','LevelTestSetR2',\n",
    "                                           'LevelTestSetMAPE','Scaler','HyperParams','Xvars','models','Integration'])\n",
    "        elif plot_type == 'test':\n",
    "            print(ts_selection)\n",
    "            selected_data.plot_test_set(models=f'top_{mo_selection}',order_by=me_selection,include_train=52,level=lv_selection)\n",
    "\n",
    "    def on_button_clicked(b):\n",
    "        mo_selection = mo_dd.value\n",
    "        ts_selection = ts_dd.value\n",
    "        lv_selection = lv_dd.value\n",
    "        me_selection = me_dd.value\n",
    "        with output:\n",
    "            clear_output()\n",
    "            display_user_selections(ts_selection,mo_selection,lv_selection,me_selection)\n",
    "    \n",
    "    all_models = models + ('weighted','avg')\n",
    "    ts_dd = widgets.Dropdown(options=f_dict.keys(), description = 'Time Series:')\n",
    "    mo_dd = widgets.Dropdown(options=range(1,len(all_models)+1), description = 'No. Models')\n",
    "    lv_dd = widgets.Dropdown(options=[True,False],description='View Level')\n",
    "    me_dd = widgets.Dropdown(options=sorted([e for e in _determine_best_by_ if e is not None]),description='Order By')\n",
    "\n",
    "    # never changes\n",
    "    button = widgets.Button(description=\"Select Time Series\")\n",
    "    output = widgets.Output()\n",
    "\n",
    "    display(ts_dd,mo_dd,lv_dd,me_dd)\n",
    "    display(button, output)\n",
    "    \n",
    "    button.on_click(on_button_clicked)"
   ]
  },
  {
   "cell_type": "code",
   "execution_count": 5,
   "id": "b76fe985-f759-47e6-9899-e7fd10c848e2",
   "metadata": {},
   "outputs": [],
   "source": [
    "df = pd.read_csv('Zip_zhvi_uc_sfrcondo_tier_0.33_0.67_sm_sa_mon.csv',dtype={'RegionName':str}).set_index('RegionName')"
   ]
  },
  {
   "cell_type": "code",
   "execution_count": 6,
   "id": "75f902ab-80ee-4c31-b1ec-3abd74c8c9a8",
   "metadata": {},
   "outputs": [
    {
     "data": {
      "text/html": [
       "<div>\n",
       "<style scoped>\n",
       "    .dataframe tbody tr th:only-of-type {\n",
       "        vertical-align: middle;\n",
       "    }\n",
       "\n",
       "    .dataframe tbody tr th {\n",
       "        vertical-align: top;\n",
       "    }\n",
       "\n",
       "    .dataframe thead th {\n",
       "        text-align: right;\n",
       "    }\n",
       "</style>\n",
       "<table border=\"1\" class=\"dataframe\">\n",
       "  <thead>\n",
       "    <tr style=\"text-align: right;\">\n",
       "      <th></th>\n",
       "      <th>RegionID</th>\n",
       "      <th>SizeRank</th>\n",
       "      <th>RegionType</th>\n",
       "      <th>StateName</th>\n",
       "      <th>State</th>\n",
       "      <th>City</th>\n",
       "      <th>Metro</th>\n",
       "      <th>CountyName</th>\n",
       "      <th>1996-01-31</th>\n",
       "      <th>1996-02-29</th>\n",
       "      <th>...</th>\n",
       "      <th>2020-08-31</th>\n",
       "      <th>2020-09-30</th>\n",
       "      <th>2020-10-31</th>\n",
       "      <th>2020-11-30</th>\n",
       "      <th>2020-12-31</th>\n",
       "      <th>2021-01-31</th>\n",
       "      <th>2021-02-28</th>\n",
       "      <th>2021-03-31</th>\n",
       "      <th>2021-04-30</th>\n",
       "      <th>2021-05-31</th>\n",
       "    </tr>\n",
       "    <tr>\n",
       "      <th>RegionName</th>\n",
       "      <th></th>\n",
       "      <th></th>\n",
       "      <th></th>\n",
       "      <th></th>\n",
       "      <th></th>\n",
       "      <th></th>\n",
       "      <th></th>\n",
       "      <th></th>\n",
       "      <th></th>\n",
       "      <th></th>\n",
       "      <th></th>\n",
       "      <th></th>\n",
       "      <th></th>\n",
       "      <th></th>\n",
       "      <th></th>\n",
       "      <th></th>\n",
       "      <th></th>\n",
       "      <th></th>\n",
       "      <th></th>\n",
       "      <th></th>\n",
       "      <th></th>\n",
       "    </tr>\n",
       "  </thead>\n",
       "  <tbody>\n",
       "    <tr>\n",
       "      <th>10025</th>\n",
       "      <td>61639</td>\n",
       "      <td>0</td>\n",
       "      <td>Zip</td>\n",
       "      <td>NY</td>\n",
       "      <td>NY</td>\n",
       "      <td>New York</td>\n",
       "      <td>New York-Newark-Jersey City</td>\n",
       "      <td>New York County</td>\n",
       "      <td>190326.0</td>\n",
       "      <td>189141.0</td>\n",
       "      <td>...</td>\n",
       "      <td>1005641.0</td>\n",
       "      <td>1012842.0</td>\n",
       "      <td>1014076.0</td>\n",
       "      <td>1015660.0</td>\n",
       "      <td>1027308.0</td>\n",
       "      <td>1028815.0</td>\n",
       "      <td>1040011.0</td>\n",
       "      <td>1053436.0</td>\n",
       "      <td>1071606.0</td>\n",
       "      <td>1089141.0</td>\n",
       "    </tr>\n",
       "    <tr>\n",
       "      <th>60657</th>\n",
       "      <td>84654</td>\n",
       "      <td>1</td>\n",
       "      <td>Zip</td>\n",
       "      <td>IL</td>\n",
       "      <td>IL</td>\n",
       "      <td>Chicago</td>\n",
       "      <td>Chicago-Naperville-Elgin</td>\n",
       "      <td>Cook County</td>\n",
       "      <td>265417.0</td>\n",
       "      <td>264722.0</td>\n",
       "      <td>...</td>\n",
       "      <td>498313.0</td>\n",
       "      <td>501107.0</td>\n",
       "      <td>503788.0</td>\n",
       "      <td>506264.0</td>\n",
       "      <td>508612.0</td>\n",
       "      <td>510663.0</td>\n",
       "      <td>512798.0</td>\n",
       "      <td>514068.0</td>\n",
       "      <td>515876.0</td>\n",
       "      <td>517752.0</td>\n",
       "    </tr>\n",
       "    <tr>\n",
       "      <th>10023</th>\n",
       "      <td>61637</td>\n",
       "      <td>2</td>\n",
       "      <td>Zip</td>\n",
       "      <td>NY</td>\n",
       "      <td>NY</td>\n",
       "      <td>New York</td>\n",
       "      <td>New York-Newark-Jersey City</td>\n",
       "      <td>New York County</td>\n",
       "      <td>264983.0</td>\n",
       "      <td>265039.0</td>\n",
       "      <td>...</td>\n",
       "      <td>1107935.0</td>\n",
       "      <td>1117926.0</td>\n",
       "      <td>1118244.0</td>\n",
       "      <td>1113869.0</td>\n",
       "      <td>1105069.0</td>\n",
       "      <td>1096776.0</td>\n",
       "      <td>1097381.0</td>\n",
       "      <td>1096338.0</td>\n",
       "      <td>1100727.0</td>\n",
       "      <td>1104368.0</td>\n",
       "    </tr>\n",
       "    <tr>\n",
       "      <th>77494</th>\n",
       "      <td>91982</td>\n",
       "      <td>3</td>\n",
       "      <td>Zip</td>\n",
       "      <td>TX</td>\n",
       "      <td>TX</td>\n",
       "      <td>Katy</td>\n",
       "      <td>Houston-The Woodlands-Sugar Land</td>\n",
       "      <td>Harris County</td>\n",
       "      <td>202246.0</td>\n",
       "      <td>202496.0</td>\n",
       "      <td>...</td>\n",
       "      <td>343597.0</td>\n",
       "      <td>345154.0</td>\n",
       "      <td>347658.0</td>\n",
       "      <td>350766.0</td>\n",
       "      <td>355204.0</td>\n",
       "      <td>359560.0</td>\n",
       "      <td>364683.0</td>\n",
       "      <td>370188.0</td>\n",
       "      <td>376591.0</td>\n",
       "      <td>383493.0</td>\n",
       "    </tr>\n",
       "    <tr>\n",
       "      <th>60614</th>\n",
       "      <td>84616</td>\n",
       "      <td>4</td>\n",
       "      <td>Zip</td>\n",
       "      <td>IL</td>\n",
       "      <td>IL</td>\n",
       "      <td>Chicago</td>\n",
       "      <td>Chicago-Naperville-Elgin</td>\n",
       "      <td>Cook County</td>\n",
       "      <td>358228.0</td>\n",
       "      <td>357217.0</td>\n",
       "      <td>...</td>\n",
       "      <td>639022.0</td>\n",
       "      <td>641924.0</td>\n",
       "      <td>644626.0</td>\n",
       "      <td>647452.0</td>\n",
       "      <td>650068.0</td>\n",
       "      <td>652220.0</td>\n",
       "      <td>654997.0</td>\n",
       "      <td>656960.0</td>\n",
       "      <td>659558.0</td>\n",
       "      <td>661174.0</td>\n",
       "    </tr>\n",
       "  </tbody>\n",
       "</table>\n",
       "<p>5 rows × 313 columns</p>\n",
       "</div>"
      ],
      "text/plain": [
       "            RegionID  SizeRank RegionType StateName State      City  \\\n",
       "RegionName                                                            \n",
       "10025          61639         0        Zip        NY    NY  New York   \n",
       "60657          84654         1        Zip        IL    IL   Chicago   \n",
       "10023          61637         2        Zip        NY    NY  New York   \n",
       "77494          91982         3        Zip        TX    TX      Katy   \n",
       "60614          84616         4        Zip        IL    IL   Chicago   \n",
       "\n",
       "                                       Metro       CountyName  1996-01-31  \\\n",
       "RegionName                                                                  \n",
       "10025            New York-Newark-Jersey City  New York County    190326.0   \n",
       "60657               Chicago-Naperville-Elgin      Cook County    265417.0   \n",
       "10023            New York-Newark-Jersey City  New York County    264983.0   \n",
       "77494       Houston-The Woodlands-Sugar Land    Harris County    202246.0   \n",
       "60614               Chicago-Naperville-Elgin      Cook County    358228.0   \n",
       "\n",
       "            1996-02-29  ...  2020-08-31  2020-09-30  2020-10-31  2020-11-30  \\\n",
       "RegionName              ...                                                   \n",
       "10025         189141.0  ...   1005641.0   1012842.0   1014076.0   1015660.0   \n",
       "60657         264722.0  ...    498313.0    501107.0    503788.0    506264.0   \n",
       "10023         265039.0  ...   1107935.0   1117926.0   1118244.0   1113869.0   \n",
       "77494         202496.0  ...    343597.0    345154.0    347658.0    350766.0   \n",
       "60614         357217.0  ...    639022.0    641924.0    644626.0    647452.0   \n",
       "\n",
       "            2020-12-31  2021-01-31  2021-02-28  2021-03-31  2021-04-30  \\\n",
       "RegionName                                                               \n",
       "10025        1027308.0   1028815.0   1040011.0   1053436.0   1071606.0   \n",
       "60657         508612.0    510663.0    512798.0    514068.0    515876.0   \n",
       "10023        1105069.0   1096776.0   1097381.0   1096338.0   1100727.0   \n",
       "77494         355204.0    359560.0    364683.0    370188.0    376591.0   \n",
       "60614         650068.0    652220.0    654997.0    656960.0    659558.0   \n",
       "\n",
       "            2021-05-31  \n",
       "RegionName              \n",
       "10025        1089141.0  \n",
       "60657         517752.0  \n",
       "10023        1104368.0  \n",
       "77494         383493.0  \n",
       "60614         661174.0  \n",
       "\n",
       "[5 rows x 313 columns]"
      ]
     },
     "execution_count": 6,
     "metadata": {},
     "output_type": "execute_result"
    }
   ],
   "source": [
    "df.head()"
   ]
  },
  {
   "cell_type": "code",
   "execution_count": 7,
   "id": "e66d6ece-2e7c-4cb5-879d-1f8f9e8ef5be",
   "metadata": {},
   "outputs": [
    {
     "data": {
      "text/plain": [
       "['84009', '84095', '34746', '32303', '30328']"
      ]
     },
     "execution_count": 7,
     "metadata": {},
     "output_type": "execute_result"
    }
   ],
   "source": [
    "zips = open('./zips.txt','r').read().split('\\n')\n",
    "zips"
   ]
  },
  {
   "cell_type": "code",
   "execution_count": 8,
   "id": "4709d570-b19d-447e-a537-49f68b71f4d8",
   "metadata": {},
   "outputs": [],
   "source": [
    "preds = {}\n",
    "for z in zips:\n",
    "    data_load = df.loc[z].transpose()\n",
    "    f = Forecaster(y=data_load.values[8:],current_dates=data_load.index[8:],name=z)\n",
    "    preds[str(z)] = f"
   ]
  },
  {
   "cell_type": "code",
   "execution_count": 9,
   "id": "9c7defc0-6e07-4b63-86b9-4cd60c6fe628",
   "metadata": {},
   "outputs": [
    {
     "data": {
      "image/png": "[encoded data removed]",
      "text/plain": [
       "<Figure size 864x576 with 1 Axes>"
      ]
     },
     "metadata": {},
     "output_type": "display_data"
    }
   ],
   "source": [
    "f.plot_acf(diffy=2)\n",
    "plt.show()"
   ]
  },
  {
   "cell_type": "code",
   "execution_count": 10,
   "id": "8d8f525b-c3df-49aa-88e5-f7c0fe8c1f93",
   "metadata": {},
   "outputs": [
    {
     "data": {
      "image/png": "[encoded data removed]",
      "text/plain": [
       "<Figure size 864x576 with 1 Axes>"
      ]
     },
     "metadata": {},
     "output_type": "display_data"
    }
   ],
   "source": [
    "f.plot_pacf(diffy=2)\n",
    "plt.show()"
   ]
  },
  {
   "cell_type": "code",
   "execution_count": 11,
   "id": "02c7350e-bb98-465d-a8fa-b98a158ceb02",
   "metadata": {},
   "outputs": [
    {
     "data": {
      "image/png": "[encoded data removed]",
      "text/plain": [
       "<Figure size 864x576 with 4 Axes>"
      ]
     },
     "metadata": {},
     "output_type": "display_data"
    }
   ],
   "source": [
    "f.seasonal_decompose(diffy=2).plot()\n",
    "plt.show()"
   ]
  },
  {
   "cell_type": "code",
   "execution_count": null,
   "id": "6fea796f-3499-4498-b555-1f273cfe3529",
   "metadata": {},
   "outputs": [
    {
     "data": {
      "application/vnd.jupyter.widget-view+json": {
       "model_id": "e44e4acde8fe4672b8eacf66ea4f67af",
       "version_major": 2,
       "version_minor": 0
      },
      "text/plain": [
       "  0%|          | 0/5 [00:00<?, ?it/s]"
      ]
     },
     "metadata": {},
     "output_type": "display_data"
    },
    {
     "name": "stdout",
     "output_type": "stream",
     "text": [
      "84009\n"
     ]
    },
    {
     "data": {
      "application/vnd.jupyter.widget-view+json": {
       "model_id": "c9179ac146734685a9289a6249b6e420",
       "version_major": 2,
       "version_minor": 0
      },
      "text/plain": [
       "  0%|          | 0/6 [00:00<?, ?it/s]"
      ]
     },
     "metadata": {},
     "output_type": "display_data"
    },
    {
     "name": "stdout",
     "output_type": "stream",
     "text": [
      "84095\n"
     ]
    },
    {
     "data": {
      "application/vnd.jupyter.widget-view+json": {
       "model_id": "b85b0dac4cd141a3a88600b4dee989cf",
       "version_major": 2,
       "version_minor": 0
      },
      "text/plain": [
       "  0%|          | 0/6 [00:00<?, ?it/s]"
      ]
     },
     "metadata": {},
     "output_type": "display_data"
    },
    {
     "name": "stdout",
     "output_type": "stream",
     "text": [
      "34746\n"
     ]
    },
    {
     "data": {
      "application/vnd.jupyter.widget-view+json": {
       "model_id": "e3fba35781ed431389f7ef11bfb333c0",
       "version_major": 2,
       "version_minor": 0
      },
      "text/plain": [
       "  0%|          | 0/6 [00:00<?, ?it/s]"
      ]
     },
     "metadata": {},
     "output_type": "display_data"
    },
    {
     "name": "stdout",
     "output_type": "stream",
     "text": [
      "32303\n"
     ]
    },
    {
     "data": {
      "application/vnd.jupyter.widget-view+json": {
       "model_id": "129fa13d8a684a5eaed67f4b6403bc6b",
       "version_major": 2,
       "version_minor": 0
      },
      "text/plain": [
       "  0%|          | 0/6 [00:00<?, ?it/s]"
      ]
     },
     "metadata": {},
     "output_type": "display_data"
    },
    {
     "name": "stdout",
     "output_type": "stream",
     "text": [
      "30328\n"
     ]
    },
    {
     "data": {
      "application/vnd.jupyter.widget-view+json": {
       "model_id": "99f9118cdac54f7090ed8e03adad0f2c",
       "version_major": 2,
       "version_minor": 0
      },
      "text/plain": [
       "  0%|          | 0/6 [00:00<?, ?it/s]"
      ]
     },
     "metadata": {},
     "output_type": "display_data"
    }
   ],
   "source": [
    "for k, f in log_progress(preds.items()):\n",
    "    print(k)\n",
    "    i = find_integration(f)\n",
    "    f.generate_future_dates(12)\n",
    "    f.set_test_length(9)\n",
    "    f.set_validation_length(6)\n",
    "    f.add_ar_terms(3)\n",
    "    f.add_AR_terms((4,3))\n",
    "    f.add_AR_terms((2,12))\n",
    "    f.diff(i)\n",
    "    f.add_seasonal_regressors('quarter',raw=False,dummy=True)\n",
    "    f.add_seasonal_regressors('month',raw=False,dummy=True)\n",
    "    f.add_seasonal_regressors('year')\n",
    "    f.add_covid19_regressor(called='COVID19',end='2021-12-01')\n",
    "    f.add_other_regressor(called='2008_recession',start='2007-10-01',end='2009-06-30')\n",
    "    f.add_time_trend(called='t')\n",
    "    f.add_combo_regressors('t','COVID19',sep='_')\n",
    "    f.add_poly_terms('t_COVID19')\n",
    "    \n",
    "    for m in log_progress(models):\n",
    "        f.set_estimator(m)\n",
    "        f.tune()\n",
    "        f.auto_forecast()\n",
    "        \n",
    "    f.set_estimator('combo')\n",
    "    f.manual_forecast(how='simple',models='top_3',call_me='avg')\n",
    "    f.manual_forecast(how='weighted',models='top_5',call_me='weighted')"
   ]
  },
  {
   "cell_type": "code",
   "execution_count": null,
   "id": "909ca61c-33ea-44c9-b207-0e40c8ec46ec",
   "metadata": {},
   "outputs": [],
   "source": [
    "model_summaries = pd.DataFrame()\n",
    "for k, f in preds.items():\n",
    "    df = f.export(dfs='model_summaries',determine_best_by='LevelTestSetMAPE')\n",
    "    df['Name'] = k\n",
    "    model_summaries = pd.concat([model_summaries,df],ignore_index=True)\n",
    "    \n",
    "model_summaries.to_csv('model_summaries.csv',index=False)"
   ]
  },
  {
   "cell_type": "code",
   "execution_count": null,
   "id": "538660d7-7719-4388-a384-64338cf72432",
   "metadata": {},
   "outputs": [],
   "source": [
    "results_vis(preds,'forecast')"
   ]
  },
  {
   "cell_type": "code",
   "execution_count": null,
   "id": "f700173c-361f-4888-8edb-dd1e738434d3",
   "metadata": {},
   "outputs": [],
   "source": [
    "results_vis(preds,'test')"
   ]
  },
  {
   "cell_type": "code",
   "execution_count": null,
   "id": "07877186-a4da-4687-9130-143e4fb7ec25",
   "metadata": {},
   "outputs": [],
   "source": []
  }
 ],
 "metadata": {
  "kernelspec": {
   "display_name": "Python 3",
   "language": "python",
   "name": "python3"
  },
  "language_info": {
   "codemirror_mode": {
    "name": "ipython",
    "version": 3
   },
   "file_extension": ".py",
   "mimetype": "text/x-python",
   "name": "python",
   "nbconvert_exporter": "python",
   "pygments_lexer": "ipython3",
   "version": "3.8.5"
  },
  "widgets": {
   "application/vnd.jupyter.widget-state+json": {
    "state": {
     "00fae6771b524c67ae2e435d411327b2": {
      "model_module": "@jupyter-widgets/base",
      "model_module_version": "1.2.0",
      "model_name": "LayoutModel",
      "state": {}
     },
     "0a119e1e5616453c8a75c6d2ba84cb04": {
      "model_module": "@jupyter-widgets/base",
      "model_module_version": "1.2.0",
      "model_name": "LayoutModel",
      "state": {}
     },
     "0a2abea026a84218bf4f20fc9154e5ab": {
      "model_module": "@jupyter-widgets/controls",
      "model_module_version": "1.5.0",
      "model_name": "DescriptionStyleModel",
      "state": {
       "description_width": ""
      }
     },
     "0a2dd0ff39e34afeba458198f68809b2": {
      "model_module": "@jupyter-widgets/controls",
      "model_module_version": "1.5.0",
      "model_name": "DescriptionStyleModel",
      "state": {
       "description_width": ""
      }
     },
     "0f5361fdedff42ea804d901073640cb1": {
      "model_module": "@jupyter-widgets/controls",
      "model_module_version": "1.5.0",
      "model_name": "FloatProgressModel",
      "state": {
       "bar_style": "success",
       "layout": "IPY_MODEL_38267db971a340c7b6d6dcb242b0fa3d",
       "max": 6,
       "style": "IPY_MODEL_704c8d0d82444b6abab18a59e39d6815",
       "value": 6
      }
     },
     "0f8fe16ac72844ce8dcff143c9b92940": {
      "model_module": "@jupyter-widgets/controls",
      "model_module_version": "1.5.0",
      "model_name": "DescriptionStyleModel",
      "state": {
       "description_width": ""
      }
     },
     "1259a08ac3e34188aaee86b73aa9d360": {
      "model_module": "@jupyter-widgets/controls",
      "model_module_version": "1.5.0",
      "model_name": "HTMLModel",
      "state": {
       "layout": "IPY_MODEL_5a6858f1251e4aa6a8dd9e4feb7a280c",
       "style": "IPY_MODEL_96d37d8826474c8b96843314e47c8d02",
       "value": "100%"
      }
     },
     "129fa13d8a684a5eaed67f4b6403bc6b": {
      "model_module": "@jupyter-widgets/controls",
      "model_module_version": "1.5.0",
      "model_name": "HBoxModel",
      "state": {
       "children": [
        "IPY_MODEL_e9b5436ec4c14e31a2683a7efa90d925",
        "IPY_MODEL_916439478f3f49929e908007a4ece205",
        "IPY_MODEL_f1fdbaf47ecb47b58ee5c58311b2fefe"
       ],
       "layout": "IPY_MODEL_00fae6771b524c67ae2e435d411327b2"
      }
     },
     "13bff0581619417284e3532534220a88": {
      "model_module": "@jupyter-widgets/base",
      "model_module_version": "1.2.0",
      "model_name": "LayoutModel",
      "state": {}
     },
     "18950a6cbfae45f3b1381eb5e5cc460a": {
      "model_module": "@jupyter-widgets/controls",
      "model_module_version": "1.5.0",
      "model_name": "DescriptionStyleModel",
      "state": {
       "description_width": ""
      }
     },
     "1a6684b4d84248bba63d565398ab1656": {
      "model_module": "@jupyter-widgets/controls",
      "model_module_version": "1.5.0",
      "model_name": "HTMLModel",
      "state": {
       "layout": "IPY_MODEL_871af3c90b49484cad8f3029adbe45fa",
       "style": "IPY_MODEL_0f8fe16ac72844ce8dcff143c9b92940",
       "value": " 33%"
      }
     },
     "1b4bee6d0cef4a5696ffe9a12ffb207e": {
      "model_module": "@jupyter-widgets/controls",
      "model_module_version": "1.5.0",
      "model_name": "ProgressStyleModel",
      "state": {
       "description_width": ""
      }
     },
     "1c711f4f87724ae3baa23c1717851864": {
      "model_module": "@jupyter-widgets/controls",
      "model_module_version": "1.5.0",
      "model_name": "HTMLModel",
      "state": {
       "layout": "IPY_MODEL_50ec6c6616f4473a86710ae1bcd74720",
       "style": "IPY_MODEL_ef9924956e814934a92458a1d400235e",
       "value": " 6/6 [01:00&lt;00:00, 10.14s/it]"
      }
     },
     "1f926e98ef7240ec8e9d81f2920dce93": {
      "model_module": "@jupyter-widgets/base",
      "model_module_version": "1.2.0",
      "model_name": "LayoutModel",
      "state": {}
     },
     "291799de8dae4097aed7199e5965a912": {
      "model_module": "@jupyter-widgets/base",
      "model_module_version": "1.2.0",
      "model_name": "LayoutModel",
      "state": {}
     },
     "29ed35bf720a4fa8ab0604184208c248": {
      "model_module": "@jupyter-widgets/base",
      "model_module_version": "1.2.0",
      "model_name": "LayoutModel",
      "state": {}
     },
     "2a8db045748249a996816246180438c1": {
      "model_module": "@jupyter-widgets/controls",
      "model_module_version": "1.5.0",
      "model_name": "HTMLModel",
      "state": {
       "layout": "IPY_MODEL_65839c47467348a3bd93be7aa2d03545",
       "style": "IPY_MODEL_7f53ea29f914474b88d967c3de3f52be",
       "value": "100%"
      }
     },
     "2c30e72305fb4f69850b87f14f563ae5": {
      "model_module": "@jupyter-widgets/controls",
      "model_module_version": "1.5.0",
      "model_name": "ProgressStyleModel",
      "state": {
       "description_width": ""
      }
     },
     "2da3b4611938479aadb786aa72371c14": {
      "model_module": "@jupyter-widgets/controls",
      "model_module_version": "1.5.0",
      "model_name": "HTMLModel",
      "state": {
       "layout": "IPY_MODEL_13bff0581619417284e3532534220a88",
       "style": "IPY_MODEL_0a2dd0ff39e34afeba458198f68809b2",
       "value": " 4/5 [04:17&lt;01:05, 65.69s/it]"
      }
     },
     "2de0c2ef4459453caa54f607eb50bdfa": {
      "model_module": "@jupyter-widgets/base",
      "model_module_version": "1.2.0",
      "model_name": "LayoutModel",
      "state": {}
     },
     "38267db971a340c7b6d6dcb242b0fa3d": {
      "model_module": "@jupyter-widgets/base",
      "model_module_version": "1.2.0",
      "model_name": "LayoutModel",
      "state": {}
     },
     "50ec6c6616f4473a86710ae1bcd74720": {
      "model_module": "@jupyter-widgets/base",
      "model_module_version": "1.2.0",
      "model_name": "LayoutModel",
      "state": {}
     },
     "538512cc2c67463c9a71ea48c6b2033a": {
      "model_module": "@jupyter-widgets/controls",
      "model_module_version": "1.5.0",
      "model_name": "ProgressStyleModel",
      "state": {
       "description_width": ""
      }
     },
     "56f5a1ace3164788915817d5795a0ccf": {
      "model_module": "@jupyter-widgets/base",
      "model_module_version": "1.2.0",
      "model_name": "LayoutModel",
      "state": {}
     },
     "5a6858f1251e4aa6a8dd9e4feb7a280c": {
      "model_module": "@jupyter-widgets/base",
      "model_module_version": "1.2.0",
      "model_name": "LayoutModel",
      "state": {}
     },
     "5a8732a85e3f4549a6410a445715a112": {
      "model_module": "@jupyter-widgets/base",
      "model_module_version": "1.2.0",
      "model_name": "LayoutModel",
      "state": {}
     },
     "65839c47467348a3bd93be7aa2d03545": {
      "model_module": "@jupyter-widgets/base",
      "model_module_version": "1.2.0",
      "model_name": "LayoutModel",
      "state": {}
     },
     "6abca81dd8c3401bb28ebca22f59eec7": {
      "model_module": "@jupyter-widgets/base",
      "model_module_version": "1.2.0",
      "model_name": "LayoutModel",
      "state": {}
     },
     "704c8d0d82444b6abab18a59e39d6815": {
      "model_module": "@jupyter-widgets/controls",
      "model_module_version": "1.5.0",
      "model_name": "ProgressStyleModel",
      "state": {
       "description_width": ""
      }
     },
     "74f229c733f045e3b218538f33b9f572": {
      "model_module": "@jupyter-widgets/controls",
      "model_module_version": "1.5.0",
      "model_name": "HTMLModel",
      "state": {
       "layout": "IPY_MODEL_56f5a1ace3164788915817d5795a0ccf",
       "style": "IPY_MODEL_18950a6cbfae45f3b1381eb5e5cc460a",
       "value": " 6/6 [01:04&lt;00:00, 11.45s/it]"
      }
     },
     "7c836055283f44f6a231f0f038715193": {
      "model_module": "@jupyter-widgets/controls",
      "model_module_version": "1.5.0",
      "model_name": "HTMLModel",
      "state": {
       "layout": "IPY_MODEL_b1e1289a20634aa3aaffc81d77b87c9c",
       "style": "IPY_MODEL_0a2abea026a84218bf4f20fc9154e5ab",
       "value": "100%"
      }
     },
     "7f53ea29f914474b88d967c3de3f52be": {
      "model_module": "@jupyter-widgets/controls",
      "model_module_version": "1.5.0",
      "model_name": "DescriptionStyleModel",
      "state": {
       "description_width": ""
      }
     },
     "7f5bfce970e04090a98189e6a5281fc9": {
      "model_module": "@jupyter-widgets/base",
      "model_module_version": "1.2.0",
      "model_name": "LayoutModel",
      "state": {}
     },
     "871af3c90b49484cad8f3029adbe45fa": {
      "model_module": "@jupyter-widgets/base",
      "model_module_version": "1.2.0",
      "model_name": "LayoutModel",
      "state": {}
     },
     "8a668c1fb88d46b5b9bb012c64b75dd1": {
      "model_module": "@jupyter-widgets/controls",
      "model_module_version": "1.5.0",
      "model_name": "FloatProgressModel",
      "state": {
       "bar_style": "success",
       "layout": "IPY_MODEL_7f5bfce970e04090a98189e6a5281fc9",
       "max": 6,
       "style": "IPY_MODEL_538512cc2c67463c9a71ea48c6b2033a",
       "value": 6
      }
     },
     "8c09008222d648b299a2628b3c47ea04": {
      "model_module": "@jupyter-widgets/controls",
      "model_module_version": "1.5.0",
      "model_name": "DescriptionStyleModel",
      "state": {
       "description_width": ""
      }
     },
     "916439478f3f49929e908007a4ece205": {
      "model_module": "@jupyter-widgets/controls",
      "model_module_version": "1.5.0",
      "model_name": "FloatProgressModel",
      "state": {
       "bar_style": "success",
       "layout": "IPY_MODEL_ee64717f08874ec39f90e7e16b7b75f4",
       "max": 6,
       "style": "IPY_MODEL_2c30e72305fb4f69850b87f14f563ae5",
       "value": 6
      }
     },
     "932173d08f1b41d485a83df3a627197f": {
      "model_module": "@jupyter-widgets/controls",
      "model_module_version": "1.5.0",
      "model_name": "HTMLModel",
      "state": {
       "layout": "IPY_MODEL_b111a0019c8848e2b8bfbe71ba1ebc82",
       "style": "IPY_MODEL_f2f8170761e34477aba947d6a7d4bbfb",
       "value": " 80%"
      }
     },
     "96d37d8826474c8b96843314e47c8d02": {
      "model_module": "@jupyter-widgets/controls",
      "model_module_version": "1.5.0",
      "model_name": "DescriptionStyleModel",
      "state": {
       "description_width": ""
      }
     },
     "99f9118cdac54f7090ed8e03adad0f2c": {
      "model_module": "@jupyter-widgets/controls",
      "model_module_version": "1.5.0",
      "model_name": "HBoxModel",
      "state": {
       "children": [
        "IPY_MODEL_1a6684b4d84248bba63d565398ab1656",
        "IPY_MODEL_d426f96a2e724c54b02ee20b75147ae5",
        "IPY_MODEL_b7928d4a4df04777b245af41c3c567e3"
       ],
       "layout": "IPY_MODEL_a48543ac9e2142e8823ce497c8d4acc8"
      }
     },
     "a48543ac9e2142e8823ce497c8d4acc8": {
      "model_module": "@jupyter-widgets/base",
      "model_module_version": "1.2.0",
      "model_name": "LayoutModel",
      "state": {}
     },
     "ab885ac5191f46ed9a3f3ba255287e2d": {
      "model_module": "@jupyter-widgets/controls",
      "model_module_version": "1.5.0",
      "model_name": "DescriptionStyleModel",
      "state": {
       "description_width": ""
      }
     },
     "adabde8cb78d433e8ae37db97a263c36": {
      "model_module": "@jupyter-widgets/base",
      "model_module_version": "1.2.0",
      "model_name": "LayoutModel",
      "state": {}
     },
     "b111a0019c8848e2b8bfbe71ba1ebc82": {
      "model_module": "@jupyter-widgets/base",
      "model_module_version": "1.2.0",
      "model_name": "LayoutModel",
      "state": {}
     },
     "b1e1289a20634aa3aaffc81d77b87c9c": {
      "model_module": "@jupyter-widgets/base",
      "model_module_version": "1.2.0",
      "model_name": "LayoutModel",
      "state": {}
     },
     "b7928d4a4df04777b245af41c3c567e3": {
      "model_module": "@jupyter-widgets/controls",
      "model_module_version": "1.5.0",
      "model_name": "HTMLModel",
      "state": {
       "layout": "IPY_MODEL_291799de8dae4097aed7199e5965a912",
       "style": "IPY_MODEL_eeffc69b01af422583e0b025fdca9b7b",
       "value": " 2/6 [00:01&lt;00:02,  1.50it/s]"
      }
     },
     "b85b0dac4cd141a3a88600b4dee989cf": {
      "model_module": "@jupyter-widgets/controls",
      "model_module_version": "1.5.0",
      "model_name": "HBoxModel",
      "state": {
       "children": [
        "IPY_MODEL_7c836055283f44f6a231f0f038715193",
        "IPY_MODEL_0f5361fdedff42ea804d901073640cb1",
        "IPY_MODEL_bf522fa230ed443994b37fa78b01dc8e"
       ],
       "layout": "IPY_MODEL_1f926e98ef7240ec8e9d81f2920dce93"
      }
     },
     "bda50e87f4624db9863cb61c27cb0c66": {
      "model_module": "@jupyter-widgets/controls",
      "model_module_version": "1.5.0",
      "model_name": "ProgressStyleModel",
      "state": {
       "description_width": ""
      }
     },
     "bf522fa230ed443994b37fa78b01dc8e": {
      "model_module": "@jupyter-widgets/controls",
      "model_module_version": "1.5.0",
      "model_name": "HTMLModel",
      "state": {
       "layout": "IPY_MODEL_cfd23b34e31041bb94d480e1c15be804",
       "style": "IPY_MODEL_e1ae47063961464b9750fdc0988eae62",
       "value": " 6/6 [00:59&lt;00:00,  9.70s/it]"
      }
     },
     "c2861d0314cd4d798a74979706ce0126": {
      "model_module": "@jupyter-widgets/controls",
      "model_module_version": "1.5.0",
      "model_name": "FloatProgressModel",
      "state": {
       "layout": "IPY_MODEL_2de0c2ef4459453caa54f607eb50bdfa",
       "max": 5,
       "style": "IPY_MODEL_d6f23deadc664436a9cbce601ca3d0eb",
       "value": 4
      }
     },
     "c441e150ae2d439b88c9ca1ee2078d46": {
      "model_module": "@jupyter-widgets/controls",
      "model_module_version": "1.5.0",
      "model_name": "FloatProgressModel",
      "state": {
       "bar_style": "success",
       "layout": "IPY_MODEL_0a119e1e5616453c8a75c6d2ba84cb04",
       "max": 6,
       "style": "IPY_MODEL_1b4bee6d0cef4a5696ffe9a12ffb207e",
       "value": 6
      }
     },
     "c5a572b77c4844f2b7552b29d0e78b62": {
      "model_module": "@jupyter-widgets/base",
      "model_module_version": "1.2.0",
      "model_name": "LayoutModel",
      "state": {}
     },
     "c9179ac146734685a9289a6249b6e420": {
      "model_module": "@jupyter-widgets/controls",
      "model_module_version": "1.5.0",
      "model_name": "HBoxModel",
      "state": {
       "children": [
        "IPY_MODEL_2a8db045748249a996816246180438c1",
        "IPY_MODEL_8a668c1fb88d46b5b9bb012c64b75dd1",
        "IPY_MODEL_74f229c733f045e3b218538f33b9f572"
       ],
       "layout": "IPY_MODEL_edff9241e39041f29a126c3075c059e2"
      }
     },
     "cfd23b34e31041bb94d480e1c15be804": {
      "model_module": "@jupyter-widgets/base",
      "model_module_version": "1.2.0",
      "model_name": "LayoutModel",
      "state": {}
     },
     "d426f96a2e724c54b02ee20b75147ae5": {
      "model_module": "@jupyter-widgets/controls",
      "model_module_version": "1.5.0",
      "model_name": "FloatProgressModel",
      "state": {
       "layout": "IPY_MODEL_adabde8cb78d433e8ae37db97a263c36",
       "max": 6,
       "style": "IPY_MODEL_bda50e87f4624db9863cb61c27cb0c66",
       "value": 2
      }
     },
     "d6f23deadc664436a9cbce601ca3d0eb": {
      "model_module": "@jupyter-widgets/controls",
      "model_module_version": "1.5.0",
      "model_name": "ProgressStyleModel",
      "state": {
       "description_width": ""
      }
     },
     "e1ae47063961464b9750fdc0988eae62": {
      "model_module": "@jupyter-widgets/controls",
      "model_module_version": "1.5.0",
      "model_name": "DescriptionStyleModel",
      "state": {
       "description_width": ""
      }
     },
     "e3fba35781ed431389f7ef11bfb333c0": {
      "model_module": "@jupyter-widgets/controls",
      "model_module_version": "1.5.0",
      "model_name": "HBoxModel",
      "state": {
       "children": [
        "IPY_MODEL_1259a08ac3e34188aaee86b73aa9d360",
        "IPY_MODEL_c441e150ae2d439b88c9ca1ee2078d46",
        "IPY_MODEL_1c711f4f87724ae3baa23c1717851864"
       ],
       "layout": "IPY_MODEL_5a8732a85e3f4549a6410a445715a112"
      }
     },
     "e44e4acde8fe4672b8eacf66ea4f67af": {
      "model_module": "@jupyter-widgets/controls",
      "model_module_version": "1.5.0",
      "model_name": "HBoxModel",
      "state": {
       "children": [
        "IPY_MODEL_932173d08f1b41d485a83df3a627197f",
        "IPY_MODEL_c2861d0314cd4d798a74979706ce0126",
        "IPY_MODEL_2da3b4611938479aadb786aa72371c14"
       ],
       "layout": "IPY_MODEL_c5a572b77c4844f2b7552b29d0e78b62"
      }
     },
     "e9b5436ec4c14e31a2683a7efa90d925": {
      "model_module": "@jupyter-widgets/controls",
      "model_module_version": "1.5.0",
      "model_name": "HTMLModel",
      "state": {
       "layout": "IPY_MODEL_6abca81dd8c3401bb28ebca22f59eec7",
       "style": "IPY_MODEL_8c09008222d648b299a2628b3c47ea04",
       "value": "100%"
      }
     },
     "edff9241e39041f29a126c3075c059e2": {
      "model_module": "@jupyter-widgets/base",
      "model_module_version": "1.2.0",
      "model_name": "LayoutModel",
      "state": {}
     },
     "ee64717f08874ec39f90e7e16b7b75f4": {
      "model_module": "@jupyter-widgets/base",
      "model_module_version": "1.2.0",
      "model_name": "LayoutModel",
      "state": {}
     },
     "eeffc69b01af422583e0b025fdca9b7b": {
      "model_module": "@jupyter-widgets/controls",
      "model_module_version": "1.5.0",
      "model_name": "DescriptionStyleModel",
      "state": {
       "description_width": ""
      }
     },
     "ef9924956e814934a92458a1d400235e": {
      "model_module": "@jupyter-widgets/controls",
      "model_module_version": "1.5.0",
      "model_name": "DescriptionStyleModel",
      "state": {
       "description_width": ""
      }
     },
     "f1fdbaf47ecb47b58ee5c58311b2fefe": {
      "model_module": "@jupyter-widgets/controls",
      "model_module_version": "1.5.0",
      "model_name": "HTMLModel",
      "state": {
       "layout": "IPY_MODEL_29ed35bf720a4fa8ab0604184208c248",
       "style": "IPY_MODEL_ab885ac5191f46ed9a3f3ba255287e2d",
       "value": " 6/6 [01:12&lt;00:00, 11.72s/it]"
      }
     },
     "f2f8170761e34477aba947d6a7d4bbfb": {
      "model_module": "@jupyter-widgets/controls",
      "model_module_version": "1.5.0",
      "model_name": "DescriptionStyleModel",
      "state": {
       "description_width": ""
      }
     }
    },
    "version_major": 2,
    "version_minor": 0
   }
  }
 },
 "nbformat": 4,
 "nbformat_minor": 5
}
