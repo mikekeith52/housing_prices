{
 "cells": [
  {
   "cell_type": "code",
   "execution_count": 1,
   "id": "d53c89db-d914-4874-8fb8-aaeb2da41f0b",
   "metadata": {},
   "outputs": [],
   "source": [
    "import pandas as pd\n",
    "import numpy as np\n",
    "from tqdm.notebook import tqdm as log_progress\n",
    "from ipywidgets import widgets # for buttons and dropdown menus\n",
    "from IPython.display import display, clear_output # for buttons and dropdown menus\n",
    "import seaborn as sns\n",
    "import matplotlib\n",
    "import matplotlib.pyplot as plt\n",
    "from scalecast import GridGenerator\n",
    "from scalecast.Forecaster import Forecaster\n",
    "from scalecast.Forecaster import _determine_best_by_"
   ]
  },
  {
   "cell_type": "code",
   "execution_count": 2,
   "id": "22483f62-afa6-44e0-b920-a0a6b02d153e",
   "metadata": {},
   "outputs": [],
   "source": [
    "models = ('knn','svr','elasticnet','mlp','lightgbm','xgboost','prophet','silverkite')\n",
    "sns.set(rc={'figure.figsize':(12,8)})"
   ]
  },
  {
   "cell_type": "code",
   "execution_count": 3,
   "id": "d1dd0084-b61a-4819-b949-2d0620a56bd3",
   "metadata": {},
   "outputs": [],
   "source": [
    "GridGenerator.get_example_grids()"
   ]
  },
  {
   "cell_type": "code",
   "execution_count": 4,
   "id": "1d32d6f7-93d3-4d3a-9587-80c6911577e4",
   "metadata": {},
   "outputs": [
    {
     "ename": "SyntaxError",
     "evalue": "invalid syntax (<ipython-input-4-04b5e66fdeaf>, line 11)",
     "output_type": "error",
     "traceback": [
      "\u001b[1;36m  File \u001b[1;32m\"<ipython-input-4-04b5e66fdeaf>\"\u001b[1;36m, line \u001b[1;32m11\u001b[0m\n\u001b[1;33m    f.diff(2):\u001b[0m\n\u001b[1;37m              ^\u001b[0m\n\u001b[1;31mSyntaxError\u001b[0m\u001b[1;31m:\u001b[0m invalid syntax\n"
     ]
    }
   ],
   "source": [
    "def find_integration(f):\n",
    "    \"\"\" uses augmented dickey fuller to guess that series is stationary at 0, 1, or 2 differences\n",
    "    \"\"\"\n",
    "    if f.adf_test():\n",
    "        return 0\n",
    "    f.diff()\n",
    "    if f.adf_test():\n",
    "        f.undiff()\n",
    "        return 1\n",
    "    f.undiff()\n",
    "    return 2\n",
    "\n",
    "def results_vis(f_dict,plot_type='forecast'):\n",
    "    \"\"\" visualize the forecast results\n",
    "        leverages Jupyter widgets\n",
    "    \"\"\"\n",
    "    def display_user_selections(ts_selection,mo_selection,lv_selection,me_selection):\n",
    "        matplotlib.use('nbAgg')\n",
    "        %matplotlib inline\n",
    "        sns.set(rc={'figure.figsize':(16,8)})\n",
    "        selected_data = f_dict[ts_selection]\n",
    "        if plot_type == 'forecast':\n",
    "            print(ts_selection)\n",
    "            selected_data.plot(models=f'top_{mo_selection}',order_by=me_selection,level=lv_selection,\n",
    "                               print_attr=['TestSetRMSE','TestSetR2','LevelTestSetRMSE','TestSetMAPE','LevelTestSetR2','LevelTestSetMAPE','Scaler','HyperParams','Xvars','models','Integration'])\n",
    "        elif plot_type == 'test':\n",
    "            print(ts_selection)\n",
    "            selected_data.plot_test_set(models=f'top_{mo_selection}',order_by=me_selection,include_train=52,level=lv_selection)\n",
    "\n",
    "    def on_button_clicked(b):\n",
    "        mo_selection = mo_dd.value\n",
    "        ts_selection = ts_dd.value\n",
    "        lv_selection = lv_dd.value\n",
    "        me_selection = me_dd.value\n",
    "        with output:\n",
    "            clear_output()\n",
    "            display_user_selections(ts_selection,mo_selection,lv_selection,me_selection)\n",
    "    \n",
    "    all_models = models + ('weighted','avg')\n",
    "    ts_dd = widgets.Dropdown(options=f_dict.keys(), description = 'Time Series:')\n",
    "    mo_dd = widgets.Dropdown(options=range(1,len(all_models)+1), description = 'No. Models')\n",
    "    lv_dd = widgets.Dropdown(options=[True,False],description='View Level')\n",
    "    me_dd = widgets.Dropdown(options=sorted([e for e in _determine_best_by_ if e is not None]),description='Order By')\n",
    "\n",
    "    # never changes\n",
    "    button = widgets.Button(description=\"Select Time Series\")\n",
    "    output = widgets.Output()\n",
    "\n",
    "    display(ts_dd,mo_dd,lv_dd,me_dd)\n",
    "    display(button, output)\n",
    "    \n",
    "    button.on_click(on_button_clicked)"
   ]
  },
  {
   "cell_type": "code",
   "execution_count": null,
   "id": "b76fe985-f759-47e6-9899-e7fd10c848e2",
   "metadata": {},
   "outputs": [],
   "source": [
    "df = pd.read_csv('Zip_zhvi_uc_sfrcondo_tier_0.33_0.67_sm_sa_mon.csv',dtype={'RegionName':str}).set_index('RegionName')"
   ]
  },
  {
   "cell_type": "code",
   "execution_count": null,
   "id": "75f902ab-80ee-4c31-b1ec-3abd74c8c9a8",
   "metadata": {},
   "outputs": [],
   "source": [
    "df.head()"
   ]
  },
  {
   "cell_type": "code",
   "execution_count": null,
   "id": "e66d6ece-2e7c-4cb5-879d-1f8f9e8ef5be",
   "metadata": {},
   "outputs": [],
   "source": [
    "zips = open('./zips.txt','r').read().split('\\n')\n",
    "zips"
   ]
  },
  {
   "cell_type": "code",
   "execution_count": null,
   "id": "4709d570-b19d-447e-a537-49f68b71f4d8",
   "metadata": {},
   "outputs": [],
   "source": [
    "preds = {}\n",
    "for z in zips:\n",
    "    data_load = df.loc[z].transpose()\n",
    "    f = Forecaster(y=data_load.values[8:],current_dates=data_load.index[8:],name=z)\n",
    "    preds[str(z)] = f"
   ]
  },
  {
   "cell_type": "code",
   "execution_count": null,
   "id": "9c7defc0-6e07-4b63-86b9-4cd60c6fe628",
   "metadata": {},
   "outputs": [],
   "source": [
    "f.plot_acf(diffy=2)\n",
    "plt.show()"
   ]
  },
  {
   "cell_type": "code",
   "execution_count": null,
   "id": "8d8f525b-c3df-49aa-88e5-f7c0fe8c1f93",
   "metadata": {},
   "outputs": [],
   "source": [
    "f.plot_pacf(diffy=2)\n",
    "plt.show()"
   ]
  },
  {
   "cell_type": "code",
   "execution_count": null,
   "id": "02c7350e-bb98-465d-a8fa-b98a158ceb02",
   "metadata": {},
   "outputs": [],
   "source": [
    "f.seasonal_decompose(diffy=2).plot()\n",
    "plt.show()"
   ]
  },
  {
   "cell_type": "code",
   "execution_count": null,
   "id": "6fea796f-3499-4498-b555-1f273cfe3529",
   "metadata": {},
   "outputs": [],
   "source": [
    "for k, f in log_progress(preds.items()):\n",
    "    print(k)\n",
    "    i = find_integration(f)\n",
    "    f.generate_future_dates(12)\n",
    "    f.set_test_length(9)\n",
    "    f.set_validation_length(6)\n",
    "    f.add_ar_terms(3)\n",
    "    f.add_AR_terms((4,3))\n",
    "    f.add_AR_terms((2,12))\n",
    "    f.diff(i)\n",
    "    f.adf_test(quiet=False)\n",
    "    f.add_seasonal_regressors('quarter',raw=False,dummy=True)\n",
    "    f.add_seasonal_regressors('month',raw=False,dummy=True)\n",
    "    f.add_seasonal_regressors('year')\n",
    "    f.add_covid19_regressor(called='COVID19',end='2021-12-01')\n",
    "    f.add_other_regressor(called='2008_recession',start='2007-10-01',end='2009-06-30')\n",
    "    f.add_time_trend(called='t')\n",
    "    f.add_combo_regressors('t','COVID19',sep='_')\n",
    "    f.add_poly_terms('t_COVID19')\n",
    "    \n",
    "    for m in log_progress(models):\n",
    "        f.set_estimator(m)\n",
    "        f.tune()\n",
    "        f.auto_forecast()\n",
    "        \n",
    "    f.set_estimator('combo')\n",
    "    f.manual_forecast(how='simple',models='top_3',call_me='avg')\n",
    "    f.manual_forecast(how='weighted',models='top_3',call_me='weighted')"
   ]
  },
  {
   "cell_type": "code",
   "execution_count": null,
   "id": "909ca61c-33ea-44c9-b207-0e40c8ec46ec",
   "metadata": {},
   "outputs": [],
   "source": [
    "model_summaries = pd.DataFrame()\n",
    "for k, f in preds.items():\n",
    "    df = f.export(dfs='model_summaries',determine_best_by='LevelTestSetMAPE')\n",
    "    df['Name'] = k\n",
    "    model_summaries = pd.concat([model_summaries,df],ignore_index=True)\n",
    "    \n",
    "model_summaries.to_csv('model_summaries.csv',index=False)"
   ]
  },
  {
   "cell_type": "code",
   "execution_count": null,
   "id": "f700173c-361f-4888-8edb-dd1e738434d3",
   "metadata": {},
   "outputs": [],
   "source": [
    "results_vis(preds,'test')"
   ]
  },
  {
   "cell_type": "code",
   "execution_count": null,
   "id": "538660d7-7719-4388-a384-64338cf72432",
   "metadata": {},
   "outputs": [],
   "source": [
    "results_vis(preds,'forecast')"
   ]
  },
  {
   "cell_type": "code",
   "execution_count": null,
   "id": "07877186-a4da-4687-9130-143e4fb7ec25",
   "metadata": {},
   "outputs": [],
   "source": []
  }
 ],
 "metadata": {
  "kernelspec": {
   "display_name": "Python 3",
   "language": "python",
   "name": "python3"
  },
  "language_info": {
   "codemirror_mode": {
    "name": "ipython",
    "version": 3
   },
   "file_extension": ".py",
   "mimetype": "text/x-python",
   "name": "python",
   "nbconvert_exporter": "python",
   "pygments_lexer": "ipython3",
   "version": "3.8.5"
  },
  "widgets": {
   "application/vnd.jupyter.widget-state+json": {
    "state": {},
    "version_major": 2,
    "version_minor": 0
   }
  }
 },
 "nbformat": 4,
 "nbformat_minor": 5
}
